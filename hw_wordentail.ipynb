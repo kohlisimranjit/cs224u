{
 "cells": [
  {
   "cell_type": "markdown",
   "metadata": {},
   "source": [
    "# Homework and bake-off: word-level entailment with neural networks"
   ]
  },
  {
   "cell_type": "code",
   "execution_count": 1,
   "metadata": {},
   "outputs": [],
   "source": [
    "__author__ = \"Christopher Potts\"\n",
    "__version__ = \"CS224u, Stanford, Spring 2020\""
   ]
  },
  {
   "cell_type": "markdown",
   "metadata": {},
   "source": [
    "## Contents\n",
    "\n",
    "1. [Overview](#Overview)\n",
    "1. [Set-up](#Set-up)\n",
    "1. [Data](#Data)\n",
    "  1. [Edge disjoint](#Edge-disjoint)\n",
    "  1. [Word disjoint](#Word-disjoint)\n",
    "1. [Baseline](#Baseline)\n",
    "  1. [Representing words: vector_func](#Representing-words:-vector_func)\n",
    "  1. [Combining words into inputs: vector_combo_func](#Combining-words-into-inputs:-vector_combo_func)\n",
    "  1. [Classifier model](#Classifier-model)\n",
    "  1. [Baseline results](#Baseline-results)\n",
    "1. [Homework questions](#Homework-questions)\n",
    "  1. [Hypothesis-only baseline [2 points]](#Hypothesis-only-baseline-[2-points])\n",
    "  1. [Alternatives to concatenation [2 points]](#Alternatives-to-concatenation-[2-points])\n",
    "  1. [A deeper network [2 points]](#A-deeper-network-[2-points])\n",
    "  1. [Your original system [3 points]](#Your-original-system-[3-points])\n",
    "1. [Bake-off [1 point]](#Bake-off-[1-point])"
   ]
  },
  {
   "cell_type": "markdown",
   "metadata": {},
   "source": [
    "## Overview"
   ]
  },
  {
   "cell_type": "markdown",
   "metadata": {},
   "source": [
    "The general problem is word-level natural language inference.\n",
    "\n",
    "Training examples are pairs of words $(w_{L}, w_{R}), y$ with $y = 1$ if $w_{L}$ entails $w_{R}$, otherwise $0$.\n",
    "\n",
    "The homework questions below ask you to define baseline models for this and develop your own system for entry in the bake-off, which will take place on a held-out test-set distributed at the start of the bake-off. (Thus, all the data you have available for development is available for training your final system before the bake-off begins.)\n",
    "\n",
    "<img src=\"fig/wordentail-diagram.png\" width=600 alt=\"wordentail-diagram.png\" />"
   ]
  },
  {
   "cell_type": "markdown",
   "metadata": {},
   "source": [
    "## Set-up"
   ]
  },
  {
   "cell_type": "markdown",
   "metadata": {},
   "source": [
    "See [the first notebook in this unit](nli_01_task_and_data.ipynb) for set-up instructions."
   ]
  },
  {
   "cell_type": "code",
   "execution_count": 2,
   "metadata": {},
   "outputs": [],
   "source": [
    "from collections import defaultdict\n",
    "import json\n",
    "import numpy as np\n",
    "import os\n",
    "import pandas as pd\n",
    "from torch_shallow_neural_classifier import TorchShallowNeuralClassifier\n",
    "import nli\n",
    "import utils\n",
    "import io"
   ]
  },
  {
   "cell_type": "code",
   "execution_count": 3,
   "metadata": {},
   "outputs": [],
   "source": [
    "DATA_HOME = 'data'\n",
    "\n",
    "NLIDATA_HOME = os.path.join(DATA_HOME, 'nlidata')\n",
    "\n",
    "wordentail_filename = os.path.join(\n",
    "    NLIDATA_HOME, 'nli_wordentail_bakeoff_data.json')\n",
    "\n",
    "GLOVE_HOME = os.path.join(DATA_HOME, 'glove.6B')"
   ]
  },
  {
   "cell_type": "markdown",
   "metadata": {},
   "source": [
    "## Data\n",
    "\n",
    "I've processed the data into two different train/test splits, in an effort to put some pressure on our models to actually learn these semantic relations, as opposed to exploiting regularities in the sample.\n",
    "\n",
    "* `edge_disjoint`: The `train` and `dev` __edge__ sets are disjoint, but many __words__ appear in both `train` and `dev`.\n",
    "* `word_disjoint`: The `train` and `dev` __vocabularies are disjoint__, and thus the edges are disjoint as well.\n",
    "\n",
    "These are very different problems. For `word_disjoint`, there is real pressure on the model to learn abstract relationships, as opposed to memorizing properties of individual words."
   ]
  },
  {
   "cell_type": "code",
   "execution_count": 4,
   "metadata": {},
   "outputs": [],
   "source": [
    "with open(wordentail_filename) as f:\n",
    "    wordentail_data = json.load(f)"
   ]
  },
  {
   "cell_type": "markdown",
   "metadata": {},
   "source": [
    "The outer keys are the  splits plus a list giving the vocabulary for the entire dataset:"
   ]
  },
  {
   "cell_type": "code",
   "execution_count": 5,
   "metadata": {},
   "outputs": [
    {
     "data": {
      "text/plain": [
       "dict_keys(['edge_disjoint', 'vocab', 'word_disjoint'])"
      ]
     },
     "execution_count": 5,
     "metadata": {},
     "output_type": "execute_result"
    }
   ],
   "source": [
    "wordentail_data.keys()"
   ]
  },
  {
   "cell_type": "markdown",
   "metadata": {},
   "source": [
    "### Edge disjoint"
   ]
  },
  {
   "cell_type": "code",
   "execution_count": 6,
   "metadata": {},
   "outputs": [
    {
     "data": {
      "text/plain": [
       "dict_keys(['dev', 'train'])"
      ]
     },
     "execution_count": 6,
     "metadata": {},
     "output_type": "execute_result"
    }
   ],
   "source": [
    "wordentail_data['edge_disjoint'].keys()"
   ]
  },
  {
   "cell_type": "markdown",
   "metadata": {},
   "source": [
    "This is what the split looks like; all three have this same format:"
   ]
  },
  {
   "cell_type": "code",
   "execution_count": 7,
   "metadata": {},
   "outputs": [
    {
     "data": {
      "text/plain": [
       "[[['sweater', 'stroke'], 0],\n",
       " [['constipation', 'hypovolemia'], 0],\n",
       " [['disease', 'inflammation'], 0],\n",
       " [['herring', 'animal'], 1],\n",
       " [['cauliflower', 'outlook'], 0]]"
      ]
     },
     "execution_count": 7,
     "metadata": {},
     "output_type": "execute_result"
    }
   ],
   "source": [
    "wordentail_data['edge_disjoint']['dev'][: 5]"
   ]
  },
  {
   "cell_type": "markdown",
   "metadata": {},
   "source": [
    "Let's test to make sure no edges are shared between `train` and `dev`:"
   ]
  },
  {
   "cell_type": "code",
   "execution_count": 8,
   "metadata": {},
   "outputs": [
    {
     "data": {
      "text/plain": [
       "0"
      ]
     },
     "execution_count": 8,
     "metadata": {},
     "output_type": "execute_result"
    }
   ],
   "source": [
    "nli.get_edge_overlap_size(wordentail_data, 'edge_disjoint')"
   ]
  },
  {
   "cell_type": "markdown",
   "metadata": {},
   "source": [
    "As we expect, a *lot* of vocabulary items are shared between `train` and `dev`:"
   ]
  },
  {
   "cell_type": "code",
   "execution_count": 9,
   "metadata": {},
   "outputs": [
    {
     "data": {
      "text/plain": [
       "2916"
      ]
     },
     "execution_count": 9,
     "metadata": {},
     "output_type": "execute_result"
    }
   ],
   "source": [
    "nli.get_vocab_overlap_size(wordentail_data, 'edge_disjoint')"
   ]
  },
  {
   "cell_type": "markdown",
   "metadata": {},
   "source": [
    "This is a large percentage of the entire vocab:"
   ]
  },
  {
   "cell_type": "code",
   "execution_count": 10,
   "metadata": {},
   "outputs": [
    {
     "data": {
      "text/plain": [
       "8470"
      ]
     },
     "execution_count": 10,
     "metadata": {},
     "output_type": "execute_result"
    }
   ],
   "source": [
    "len(wordentail_data['vocab'])"
   ]
  },
  {
   "cell_type": "markdown",
   "metadata": {},
   "source": [
    "Here's the distribution of labels in the `train` set. It's highly imbalanced, which will pose a challenge for learning. (I'll go ahead and reveal that the `dev` set is similarly distributed.)"
   ]
  },
  {
   "cell_type": "code",
   "execution_count": 11,
   "metadata": {},
   "outputs": [],
   "source": [
    "def label_distribution(split):\n",
    "    return pd.DataFrame(wordentail_data[split]['train'])[1].value_counts()"
   ]
  },
  {
   "cell_type": "code",
   "execution_count": 12,
   "metadata": {},
   "outputs": [
    {
     "data": {
      "text/plain": [
       "0    14650\n",
       "1     2745\n",
       "Name: 1, dtype: int64"
      ]
     },
     "execution_count": 12,
     "metadata": {},
     "output_type": "execute_result"
    }
   ],
   "source": [
    "label_distribution('edge_disjoint')"
   ]
  },
  {
   "cell_type": "markdown",
   "metadata": {},
   "source": [
    "### Word disjoint"
   ]
  },
  {
   "cell_type": "code",
   "execution_count": 13,
   "metadata": {},
   "outputs": [
    {
     "data": {
      "text/plain": [
       "dict_keys(['dev', 'train'])"
      ]
     },
     "execution_count": 13,
     "metadata": {},
     "output_type": "execute_result"
    }
   ],
   "source": [
    "wordentail_data['word_disjoint'].keys()"
   ]
  },
  {
   "cell_type": "markdown",
   "metadata": {},
   "source": [
    "In the `word_disjoint` split, no __words__ are shared between `train` and `dev`:"
   ]
  },
  {
   "cell_type": "code",
   "execution_count": 14,
   "metadata": {},
   "outputs": [
    {
     "data": {
      "text/plain": [
       "0"
      ]
     },
     "execution_count": 14,
     "metadata": {},
     "output_type": "execute_result"
    }
   ],
   "source": [
    "nli.get_vocab_overlap_size(wordentail_data, 'word_disjoint')"
   ]
  },
  {
   "cell_type": "markdown",
   "metadata": {},
   "source": [
    "Because no words are shared between `train` and `dev`, no edges are either:"
   ]
  },
  {
   "cell_type": "code",
   "execution_count": 15,
   "metadata": {},
   "outputs": [
    {
     "data": {
      "text/plain": [
       "0"
      ]
     },
     "execution_count": 15,
     "metadata": {},
     "output_type": "execute_result"
    }
   ],
   "source": [
    "nli.get_edge_overlap_size(wordentail_data, 'word_disjoint')"
   ]
  },
  {
   "cell_type": "markdown",
   "metadata": {},
   "source": [
    "The label distribution is similar to that of `edge_disjoint`, though the overall number of examples is a bit smaller:"
   ]
  },
  {
   "cell_type": "code",
   "execution_count": 16,
   "metadata": {},
   "outputs": [
    {
     "data": {
      "text/plain": [
       "0    7199\n",
       "1    1349\n",
       "Name: 1, dtype: int64"
      ]
     },
     "execution_count": 16,
     "metadata": {},
     "output_type": "execute_result"
    }
   ],
   "source": [
    "label_distribution('word_disjoint')"
   ]
  },
  {
   "cell_type": "markdown",
   "metadata": {},
   "source": [
    "## Baseline"
   ]
  },
  {
   "cell_type": "markdown",
   "metadata": {},
   "source": [
    "Even in deep learning, __feature representation is vital and requires care!__ For our task, feature representation has two parts: representing the individual words and combining those representations into a single network input."
   ]
  },
  {
   "cell_type": "markdown",
   "metadata": {},
   "source": [
    "### Representing words: vector_func"
   ]
  },
  {
   "cell_type": "markdown",
   "metadata": {},
   "source": [
    "Let's consider two baseline word representations methods:\n",
    "\n",
    "1. Random vectors (as returned by `utils.randvec`).\n",
    "1. 50-dimensional GloVe representations."
   ]
  },
  {
   "cell_type": "code",
   "execution_count": 17,
   "metadata": {},
   "outputs": [],
   "source": [
    "def randvec(w, n=50, lower=-1.0, upper=1.0):\n",
    "    \"\"\"Returns a random vector of length `n`. `w` is ignored.\"\"\"\n",
    "    return utils.randvec(n=n, lower=lower, upper=upper)"
   ]
  },
  {
   "cell_type": "code",
   "execution_count": 18,
   "metadata": {},
   "outputs": [],
   "source": [
    "# Any of the files in glove.6B will work here:\n",
    "\n",
    "glove_dim = 50\n",
    "\n",
    "glove_src = os.path.join(GLOVE_HOME, 'glove.6B.{}d.txt'.format(glove_dim))\n",
    "\n",
    "# Creates a dict mapping strings (words) to GloVe vectors:\n",
    "GLOVE = utils.glove2dict(glove_src)\n",
    "\n",
    "def glove_vec(w):    \n",
    "    \"\"\"Return `w`'s GloVe representation if available, else return \n",
    "    a random vector.\"\"\"\n",
    "    #if w not in GLOVE:\n",
    "    #    print(w)\n",
    "    return GLOVE.get(w, randvec(w, n=glove_dim))"
   ]
  },
  {
   "cell_type": "markdown",
   "metadata": {},
   "source": [
    "### Combining words into inputs: vector_combo_func"
   ]
  },
  {
   "cell_type": "markdown",
   "metadata": {},
   "source": [
    "Here we decide how to combine the two word vectors into a single representation. In more detail, where `u` is a vector representation of the left word and `v` is a vector representation of the right word, we need a function `vector_combo_func` such that `vector_combo_func(u, v)` returns a new input vector `z` of dimension `m`. A simple example is concatenation:"
   ]
  },
  {
   "cell_type": "code",
   "execution_count": 19,
   "metadata": {},
   "outputs": [],
   "source": [
    "def vec_concatenate(u, v):\n",
    "    \"\"\"Concatenate np.array instances `u` and `v` into a new np.array\"\"\"\n",
    "    return np.concatenate((u, v))"
   ]
  },
  {
   "cell_type": "markdown",
   "metadata": {},
   "source": [
    "`vector_combo_func` could instead be vector average, vector difference, etc. (even combinations of those) – there's lots of space for experimentation here; [homework question 2](#Alternatives-to-concatenation-[1-point]) below pushes you to do some exploration."
   ]
  },
  {
   "cell_type": "markdown",
   "metadata": {},
   "source": [
    "### Classifier model\n",
    "\n",
    "For a baseline model, I chose `TorchShallowNeuralClassifier`:"
   ]
  },
  {
   "cell_type": "code",
   "execution_count": 20,
   "metadata": {},
   "outputs": [],
   "source": [
    "net = TorchShallowNeuralClassifier(hidden_dim=50, max_iter=100)"
   ]
  },
  {
   "cell_type": "markdown",
   "metadata": {},
   "source": [
    "### Baseline results\n",
    "\n",
    "The following puts the above pieces together, using `vector_func=glove_vec`, since `vector_func=randvec` seems so hopelessly misguided for `word_disjoint`!"
   ]
  },
  {
   "cell_type": "code",
   "execution_count": 21,
   "metadata": {},
   "outputs": [
    {
     "name": "stderr",
     "output_type": "stream",
     "text": [
      "Finished epoch 100 of 100; error is 0.02446776209399104"
     ]
    },
    {
     "name": "stdout",
     "output_type": "stream",
     "text": [
      "              precision    recall  f1-score   support\n",
      "\n",
      "           0      0.930     0.934     0.932      1910\n",
      "           1      0.455     0.439     0.447       239\n",
      "\n",
      "    accuracy                          0.879      2149\n",
      "   macro avg      0.692     0.687     0.689      2149\n",
      "weighted avg      0.877     0.879     0.878      2149\n",
      "\n"
     ]
    }
   ],
   "source": [
    "word_disjoint_experiment = nli.wordentail_experiment(\n",
    "    train_data=wordentail_data['word_disjoint']['train'],\n",
    "    assess_data=wordentail_data['word_disjoint']['dev'], \n",
    "    model=net, \n",
    "    vector_func=glove_vec,\n",
    "    vector_combo_func=vec_concatenate)"
   ]
  },
  {
   "cell_type": "code",
   "execution_count": 22,
   "metadata": {},
   "outputs": [
    {
     "data": {
      "text/plain": [
       "''"
      ]
     },
     "execution_count": 22,
     "metadata": {},
     "output_type": "execute_result"
    }
   ],
   "source": [
    "GLOVE.get(\"\", \"\")"
   ]
  },
  {
   "cell_type": "markdown",
   "metadata": {},
   "source": [
    "## Homework questions\n",
    "\n",
    "Please embed your homework responses in this notebook, and do not delete any cells from the notebook. (You are free to add as many cells as you like as part of your responses.)"
   ]
  },
  {
   "cell_type": "markdown",
   "metadata": {},
   "source": [
    "### Hypothesis-only baseline [2 points]\n",
    "\n",
    "During our discussion of SNLI and MultiNLI, we noted that a number of research teams have shown that hypothesis-only baselines for NLI tasks can be remarkably robust. This question asks you to explore briefly how this baseline effects the 'edge_disjoint' and 'word_disjoint' versions of our task.\n",
    "\n",
    "For this problem, submit two functions:\n",
    "\n",
    "1. A `vector_combo_func` function called `hypothesis_only` that simply throws away the premise, using the unmodified hypothesis (second) vector as its representation of the example.\n",
    "\n",
    "1. A function called `run_hypothesis_only_evaluation` that does the following:\n",
    "    1. Loops over the two conditions 'word_disjoint' and 'edge_disjoint' and the two `vector_combo_func` values `vec_concatenate` and `hypothesis_only`, calling `nli.wordentail_experiment` to train on the conditions 'train' portion and assess on its 'dev' portion, with `glove_vec` as the `vector_func`. So that the results are consistent, use an `sklearn.linear_model.LogisticRegression` with default parameters as the model.\n",
    "    1. Returns a `dict` mapping `(condition_name, function_name)` pairs to the 'macro-F1' score for that pair, as returned by the call to `nli.wordentail_experiment`. (Tip: you can get the `str` name of your function `hypothesis_only` with `hypothesis_only.__name__`.)\n",
    "    \n",
    "The test functions `test_hypothesis_only` and `test_run_hypothesis_only_evaluation` will help ensure that your functions have the desired logic."
   ]
  },
  {
   "cell_type": "code",
   "execution_count": 23,
   "metadata": {},
   "outputs": [],
   "source": [
    "##### YOUR CODE HERE\n",
    "from sklearn.linear_model import LogisticRegression\n",
    "\n",
    "\n",
    "    ##### YOUR CODE HERE\n",
    "\n",
    "def hypothesis_only(premise, hypothesis):\n",
    "    #wordentail_data\n",
    "    return hypothesis\n",
    "    \n",
    "#dict_keys(['edge_disjoint', 'vocab', 'word_disjoint'])\n",
    "\n",
    "\n",
    "\n",
    "def run_hypothesis_only_evaluation():\n",
    "    ##### YOUR CODE HERE\n",
    "    condition_func_result = {}\n",
    "    dataset_keys = ['word_disjoint', 'edge_disjoint']\n",
    "    model_factory = lambda: LogisticRegression(fit_intercept=True, solver='liblinear')\n",
    "    function_handles = [vec_concatenate, hypothesis_only]\n",
    "    for dataset_key in dataset_keys:\n",
    "        for vector_func in function_handles:\n",
    "            splits = wordentail_data[dataset_key]\n",
    "            \n",
    "            result = nli.wordentail_experiment(\n",
    "                    train_data=splits['train'],\n",
    "                    assess_data=splits['dev'], \n",
    "                    model=LogisticRegression(), \n",
    "                    vector_func=glove_vec,\n",
    "                    vector_combo_func=vec_concatenate)\n",
    "            #print(result.keys())\n",
    "            \n",
    "            condition_func_result[(dataset_key,vector_func.__name__)] = result['macro-F1']\n",
    "\n",
    "    \n",
    "    return condition_func_result\n",
    "\n"
   ]
  },
  {
   "cell_type": "code",
   "execution_count": 24,
   "metadata": {},
   "outputs": [],
   "source": [
    "def test_hypothesis_only(hypothesis_only):\n",
    "    v = hypothesis_only(1, 2)\n",
    "    assert v == 2   "
   ]
  },
  {
   "cell_type": "code",
   "execution_count": 25,
   "metadata": {},
   "outputs": [],
   "source": [
    "test_hypothesis_only(hypothesis_only)"
   ]
  },
  {
   "cell_type": "code",
   "execution_count": 26,
   "metadata": {},
   "outputs": [],
   "source": [
    "def test_run_hypothesis_only_evaluation(run_hypothesis_only_evaluation):\n",
    "    results = run_hypothesis_only_evaluation()\n",
    "    assert ('word_disjoint', 'vec_concatenate') in results, \\\n",
    "        \"The return value of `run_hypothesis_only_evaluation` does not have the intended kind of keys\"\n",
    "    assert isinstance(results[('word_disjoint', 'vec_concatenate')], float), \\\n",
    "        \"The values of the `run_hypothesis_only_evaluation` result should be floats\""
   ]
  },
  {
   "cell_type": "code",
   "execution_count": 27,
   "metadata": {},
   "outputs": [
    {
     "name": "stdout",
     "output_type": "stream",
     "text": [
      "              precision    recall  f1-score   support\n",
      "\n",
      "           0      0.901     0.980     0.939      1910\n",
      "           1      0.466     0.142     0.218       239\n",
      "\n",
      "    accuracy                          0.886      2149\n",
      "   macro avg      0.684     0.561     0.578      2149\n",
      "weighted avg      0.853     0.886     0.859      2149\n",
      "\n",
      "              precision    recall  f1-score   support\n",
      "\n",
      "           0      0.900     0.980     0.939      1910\n",
      "           1      0.457     0.134     0.207       239\n",
      "\n",
      "    accuracy                          0.886      2149\n",
      "   macro avg      0.679     0.557     0.573      2149\n",
      "weighted avg      0.851     0.886     0.857      2149\n",
      "\n",
      "              precision    recall  f1-score   support\n",
      "\n",
      "           0      0.875     0.969     0.920      7376\n",
      "           1      0.574     0.229     0.328      1321\n",
      "\n",
      "    accuracy                          0.857      8697\n",
      "   macro avg      0.725     0.599     0.624      8697\n",
      "weighted avg      0.830     0.857     0.830      8697\n",
      "\n",
      "              precision    recall  f1-score   support\n",
      "\n",
      "           0      0.875     0.970     0.920      7376\n",
      "           1      0.573     0.224     0.322      1321\n",
      "\n",
      "    accuracy                          0.857      8697\n",
      "   macro avg      0.724     0.597     0.621      8697\n",
      "weighted avg      0.829     0.857     0.829      8697\n",
      "\n"
     ]
    }
   ],
   "source": [
    "test_run_hypothesis_only_evaluation(run_hypothesis_only_evaluation)"
   ]
  },
  {
   "cell_type": "markdown",
   "metadata": {},
   "source": [
    "### Alternatives to concatenation [2 points]\n",
    "\n",
    "We've so far just used vector concatenation to represent the premise and hypothesis words. This question asks you to explore two simple alternative:\n",
    "\n",
    "1. Write a function `vec_diff` that, for a given pair of vector inputs `u` and `v`, returns the element-wise difference between `u` and `v`.\n",
    "\n",
    "1. Write a function `vec_max` that, for a given pair of vector inputs `u` and `v`, returns the element-wise max values between `u` and `v`.\n",
    "\n",
    "You needn't include your uses of `nli.wordentail_experiment` with these functions, but we assume you'll be curious to see how they do!"
   ]
  },
  {
   "cell_type": "code",
   "execution_count": 28,
   "metadata": {},
   "outputs": [],
   "source": [
    "def vec_diff(u, v):\n",
    "    ##### YOUR CODE HERE\n",
    "    return u - v\n",
    "\n",
    "\n",
    "\n",
    "    \n",
    "def vec_max(u, v):\n",
    "    ##### YOUR CODE HERE\n",
    "    pass\n",
    "    return np.maximum(u, v)\n",
    "\n",
    "\n"
   ]
  },
  {
   "cell_type": "code",
   "execution_count": 29,
   "metadata": {},
   "outputs": [],
   "source": [
    "def test_vec_diff(vec_diff):\n",
    "    u = np.array([10.2, 8.1])\n",
    "    v = np.array([1.2, -7.1])\n",
    "    result = vec_diff(u, v)\n",
    "    expected = np.array([9.0, 15.2])\n",
    "    assert np.array_equal(result, expected), \\\n",
    "        \"Expected {}; got {}\".format(expected, result)"
   ]
  },
  {
   "cell_type": "code",
   "execution_count": 30,
   "metadata": {},
   "outputs": [],
   "source": [
    "test_vec_diff(vec_diff)"
   ]
  },
  {
   "cell_type": "code",
   "execution_count": 31,
   "metadata": {},
   "outputs": [],
   "source": [
    "def test_vec_max(vec_max):\n",
    "    u = np.array([1.2,  8.1])\n",
    "    v = np.array([10.2, -7.1])\n",
    "    result = vec_max(u, v)\n",
    "    expected = np.array([10.2, 8.1])\n",
    "    assert np.array_equal(result, expected), \\\n",
    "        \"Expected {}; got {}\".format(expected, result)"
   ]
  },
  {
   "cell_type": "code",
   "execution_count": 32,
   "metadata": {},
   "outputs": [],
   "source": [
    "test_vec_max(vec_max)"
   ]
  },
  {
   "cell_type": "markdown",
   "metadata": {},
   "source": [
    "### A deeper network [2 points]\n",
    "\n",
    "It is very easy to subclass `TorchShallowNeuralClassifier` if all you want to do is change the network graph: all you have to do is write a new `define_graph`. If your graph has new arguments that the user might want to set, then you should also redefine `__init__` so that these values are accepted and set as attributes.\n",
    "\n",
    "For this question, please subclass `TorchShallowNeuralClassifier` so that it defines the following graph:\n",
    "\n",
    "$$\\begin{align}\n",
    "h_{1} &= xW_{1} + b_{1} \\\\\n",
    "r_{1} &= \\textbf{Bernoulli}(1 - \\textbf{dropout\\_prob}, n) \\\\\n",
    "d_{1} &= r_1 * h_{1} \\\\\n",
    "h_{2} &= f(d_{1}) \\\\\n",
    "h_{3} &= h_{2}W_{2} + b_{2}\n",
    "\\end{align}$$\n",
    "\n",
    "Here, $r_{1}$ and $d_{1}$ define a dropout layer: $r_{1}$ is a random binary vector of dimension $n$, where the probability of a value being $1$ is given by $1 - \\textbf{dropout_prob}$. $r_{1}$ is multiplied element-wise by our first hidden representation, thereby zeroing out some of the values. The result is fed to the user's activation function $f$, and the result of that is fed through another linear layer to produce $h_{3}$. (Inside `TorchShallowNeuralClassifier`, $h_{3}$ is the basis for a softmax classifier, so no activation function is applied to it.)\n",
    "\n",
    "For your implementation, please use `nn.Sequential`, `nn.Linear`, and `nn.Dropout` to define the required layers.\n",
    "\n",
    "For comparison, using this notation, `TorchShallowNeuralClassifier` defines the following graph:\n",
    "\n",
    "$$\\begin{align}\n",
    "h_{1} &= xW_{1} + b_{1} \\\\\n",
    "h_{2} &= f(h_{1}) \\\\\n",
    "h_{3} &= h_{2}W_{2} + b_{2}\n",
    "\\end{align}$$\n",
    "\n",
    "The following code starts this sub-class for you, so that you can concentrate on `define_graph`. Be sure to make use of `self.dropout_prob`\n",
    "\n",
    "For this problem, submit just your completed  `TorchDeepNeuralClassifier`. You needn't evaluate it, though we assume you will be keen to do that!\n",
    "\n",
    "You can use `test_TorchDeepNeuralClassifier` to ensure that your network has the intended structure."
   ]
  },
  {
   "cell_type": "code",
   "execution_count": 33,
   "metadata": {},
   "outputs": [
    {
     "name": "stderr",
     "output_type": "stream",
     "text": [
      "Finished epoch 100 of 100; error is 2.4060109853744507"
     ]
    },
    {
     "name": "stdout",
     "output_type": "stream",
     "text": [
      "              precision    recall  f1-score   support\n",
      "\n",
      "           0      0.900     0.995     0.945      1910\n",
      "           1      0.737     0.117     0.202       239\n",
      "\n",
      "    accuracy                          0.897      2149\n",
      "   macro avg      0.818     0.556     0.574      2149\n",
      "weighted avg      0.882     0.897     0.862      2149\n",
      "\n"
     ]
    }
   ],
   "source": [
    "import torch.nn as nn\n",
    "\n",
    "class TorchDeepNeuralClassifier(TorchShallowNeuralClassifier):\n",
    "    def __init__(self, dropout_prob=0.7, **kwargs):\n",
    "        self.dropout_prob = dropout_prob\n",
    "        super().__init__(**kwargs)\n",
    "    \n",
    "    def define_graph(self):\n",
    "        \"\"\"Complete this method!\n",
    "        \n",
    "        Returns\n",
    "        -------\n",
    "        an `nn.Module` instance, which can be a free-standing class you \n",
    "        write yourself, as in `torch_rnn_classifier`, or the outpiut of \n",
    "        `nn.Sequential`, as in `torch_shallow_neural_classifier`.\n",
    "        \n",
    "        \"\"\"\n",
    "        ##### YOUR CODE HERE\n",
    "        return nn.Sequential(\n",
    "            nn.Linear(self.input_dim, self.hidden_dim),\n",
    "            nn.Dropout(p=self.dropout_prob),\n",
    "            self.hidden_activation,\n",
    "            nn.Linear(self.hidden_dim, self.n_classes_))\n",
    "\n",
    "\n",
    "\n",
    "    \n",
    "\n",
    "##### YOUR CODE HERE    \n",
    "\n",
    "net = TorchDeepNeuralClassifier(hidden_dim=50, max_iter=100)\n",
    "word_disjoint_experiment = nli.wordentail_experiment(\n",
    "    train_data=wordentail_data['word_disjoint']['train'],\n",
    "    assess_data=wordentail_data['word_disjoint']['dev'], \n",
    "    model=net, \n",
    "    vector_func=glove_vec,\n",
    "    vector_combo_func=vec_concatenate)\n",
    "\n",
    "\n"
   ]
  },
  {
   "cell_type": "code",
   "execution_count": 34,
   "metadata": {},
   "outputs": [],
   "source": [
    "def test_TorchDeepNeuralClassifier(TorchDeepNeuralClassifier):\n",
    "    dropout_prob = 0.55\n",
    "    assert hasattr(TorchDeepNeuralClassifier(), \"dropout_prob\"), \\\n",
    "        \"TorchDeepNeuralClassifier must have an attribute `dropout_prob`.\"\n",
    "    try:\n",
    "        inst = TorchDeepNeuralClassifier(dropout_prob=dropout_prob)\n",
    "    except TypeError:\n",
    "        raise TypeError(\"TorchDeepNeuralClassifier must allow the user \"\n",
    "                        \"to set `dropout_prob` on initialization\")\n",
    "    inst.input_dim = 10\n",
    "    inst.n_classes_ = 5\n",
    "    graph = inst.define_graph()\n",
    "    assert len(graph) == 4, \\\n",
    "        \"The graph should have 4 layers; yours has {}\".format(len(graph))    \n",
    "    expected = {\n",
    "        0: 'Linear',\n",
    "        1: 'Dropout',\n",
    "        2: 'Tanh',\n",
    "        3: 'Linear'}\n",
    "    for i, label in expected.items():\n",
    "        name = graph[i].__class__.__name__\n",
    "        assert label in name, \\\n",
    "            \"The {} layer of the graph should be a {} layer; yours is {}\".format(i, label, name)\n",
    "    assert graph[1].p == dropout_prob, \\\n",
    "        \"The user's value for `dropout_prob` should be the value of `p` for the Dropout layer.\""
   ]
  },
  {
   "cell_type": "code",
   "execution_count": 35,
   "metadata": {},
   "outputs": [],
   "source": [
    "test_TorchDeepNeuralClassifier(TorchDeepNeuralClassifier)"
   ]
  },
  {
   "cell_type": "markdown",
   "metadata": {},
   "source": [
    "### Your original system [3 points]\n",
    "\n",
    "This is a simple dataset, but our focus on the 'word_disjoint' condition ensures that it's a challenging one, and there are lots of modeling strategies one might adopt. \n",
    "\n",
    "You are free to do whatever you like. We require only that your system differ in some way from those defined in the preceding questions. They don't have to be completely different, though. For example, you might want to stick with the model but represent examples differently, or the reverse.\n",
    "\n",
    "Keep in mind that, for the bake-off evaluation, the 'edge_disjoint' portions of the data are off limits. You can, though, train on the combination of the 'word_disjoint' 'train' and 'dev' portions. You are free to use different pretrained word vectors and the like. Please do not introduce additional entailment datasets into your training data, though.\n",
    "\n",
    "Please embed your code in this notebook so that we can rerun it.\n",
    "\n",
    "In the cell below, please provide a brief technical description of your original system, so that the teaching team can gain an understanding of what it does. This will help us to understand your code and analyze all the submissions to identify patterns and strategies."
   ]
  },
  {
   "cell_type": "code",
   "execution_count": 36,
   "metadata": {},
   "outputs": [],
   "source": [
    "# Enter your system description in this cell.\n",
    "\"\"\"Baseline for quick lookup\n",
    "              precision    recall  f1-score   support\n",
    "\n",
    "           0      0.924     0.938     0.931      1910\n",
    "           1      0.435     0.381     0.406       239\n",
    "\n",
    "    accuracy                          0.876      2149\n",
    "   macro avg      0.680     0.659     0.669      2149\n",
    "weighted avg      0.869     0.876     0.873      2149\n",
    "\n",
    "\n",
    "#https://github.com/facebookresearch/fastText/issues/458\n",
    "#https://radimrehurek.com/gensim/models/fasttext.html\n",
    "#https://radimrehurek.com/gensim/models/fasttext.html#gensim.models.fasttext.load_facebook_model\n",
    "#Enriching Word Vectors with Subword Information https://arxiv.org/abs/1607.04606\n",
    "\n",
    "\n",
    "The baseline does well to begin with. \n",
    "But it has a flaw that  OOV (out of vocabulary)  words are assigned random vectors.\n",
    "I thought Facebook fasttext+genism would alleviate the issue because they are trained on word morphology as well.\n",
    "By using embeddings from above the performance still slightly fell short of baselines even after a \n",
    "grid search for best hidden layer size.\n",
    "\n",
    "Next thing I tried was Glove-300 with retrofitting. Retrofitting does 0 iterations which means we might already \n",
    "have high quality vectors. However inorder to solve the problem of out of vocabulary words \n",
    "I used the approach in the paper `Enriching Word Vectors with Subword Information`. \n",
    "i.e. take n-grams of length 3-6 from words use their embeddings for enrichment.\n",
    "SO for a OOV word I do a mean of the ngrams of the above specified length.\n",
    "If no n-gram is found I just return a random vector \n",
    "\n",
    "Since the system didn't beat the baseline, I tried to get better embeddings. I used glove 840B common crawl \n",
    "with 300 dimensions. This approach again uses similar logic as above to handle OOV words.\n",
    "Further when running a hyperparameter search I realized that the system doesn't improve much beyond 100 iterations.\n",
    "\n",
    "\n",
    "I also tried multiple network depths but finally only selected to add an additional linear layer and activation i.e.\n",
    "DeepClassifier class defined below. So this makes the final pipeline as a Deepclassifier using concatenate function.\n",
    "Using ngram decomposition to get representation for missing words. \n",
    "\n",
    "My peak score was: 0.63  \n",
    "\n",
    " \"\"\"\n",
    "\n",
    "\n",
    "\n",
    "# Please do not remove this comment.\n",
    "\n",
    "if 'IS_GRADESCOPE_ENV' not in os.environ:\n",
    "    from gensim.test.utils import datapath\n",
    "    from gensim.models.fasttext import load_facebook_model\n",
    "    from matplotlib.pyplot import plot\n",
    "    from collections import defaultdict\n",
    "    from nltk.corpus import wordnet as wn\n",
    "    import numpy as np\n",
    "    import os\n",
    "    import pandas as pd\n",
    "    import retrofitting\n",
    "    from retrofitting import Retrofitter\n",
    "    import utils\n",
    "    \n",
    "    \n",
    "    def load_fast_text_vectors(fname):\n",
    "        fin = io.open(fname, 'r', encoding='utf-8', newline='\\n', errors='ignore')\n",
    "        n, d = map(int, fin.readline().split())\n",
    "        data = {}\n",
    "        for line in fin:\n",
    "            tokens = line.rstrip().split(' ')\n",
    "            data[tokens[0]] = map(float, tokens[1:])\n",
    "        return data\n",
    "\n",
    "    #def load_vie_gen(bin_path=\"/Users/simranjit/Neuron/repos/cs22u_fork/data/nlidata/crawl-300d-2M-subword/crawl-300d-2M-subword.bin\"):\n",
    "    def load_vie_gen(bin_path=os.path.join(DATA_HOME, \"crawl-300d-2M-subword/crawl-300d-2M-subword.bin\")):\n",
    "        #if not bin_path:\n",
    "        #    bin_path = \n",
    "        cap_path = datapath(bin_path)\n",
    "        fb_model = load_facebook_model(cap_path)\n",
    "        return fb_model\n",
    "\n",
    "    #ftt_model = load_vie_gen()\n",
    "    def ftt_vec(word):\n",
    "        return ftt_model[word]\n",
    "\n",
    "    def load_glove_any(my_dims, tokens):\n",
    "        GLOVE_HOME_HERE = os.path.join(DATA_HOME, 'glove.{}B'.format(tokens))\n",
    "        glove_src_mine = os.path.join(GLOVE_HOME_HERE, 'glove.{}B.{}d.txt'.format(tokens, my_dims))\n",
    "        GLOVE_mine = utils.glove2dict(glove_src_mine)\n",
    "        return GLOVE_mine\n",
    "\n",
    "\n",
    "\n",
    "    # Creates a dict mapping strings (words) to GloVe vectors:\n",
    "    my_glove_dim = 300\n",
    "    token_count = 6\n",
    "    #GLOVE_mine = load_glove_any(my_glove_dim, token_count)\n",
    "    token_count = 840\n",
    "    GLOVE_mine = load_glove_any(my_glove_dim, 840)\n",
    "   ############### \n",
    "    def extract_ngrams(word):\n",
    "        #print(word)\n",
    "        if (len(word)<=2 ):\n",
    "            return []\n",
    "        n = len(word)\n",
    "        ngrams = []\n",
    "        for i in range (3, 7):\n",
    "            for j in range(0, n-i):\n",
    "                gram = word[j:j+i]\n",
    "                ngrams.append(gram)   \n",
    "        return ngrams\n",
    "\n",
    "    def get_unknown_grams(word, embedding_dict):\n",
    "        ngrams = extract_ngrams(word)\n",
    "        if ngrams is None:\n",
    "            print(word)\n",
    "        embeddings = []\n",
    "        #print(ngrams)\n",
    "        for gram in ngrams:\n",
    "            if gram in embedding_dict:\n",
    "                embeddings.append(embedding_dict[gram])\n",
    "        #print(embeddings)\n",
    "        return embeddings\n",
    "\n",
    "    def glove_vec_mine(w):    \n",
    "        \"\"\"Return `w`'s GloVe representation if available, else return \n",
    "        a random vector.\"\"\"\n",
    "        #if w not in GLOVE:\n",
    "        #print(w)\n",
    "        if w in GLOVE_mine:\n",
    "            return GLOVE_mine[w]\n",
    "\n",
    "        ngram_embeddings = get_unknown_grams(w, GLOVE_mine)\n",
    "\n",
    "        if len(ngram_embeddings)==0:\n",
    "            return randvec(w, n=my_glove_dim)\n",
    "        fin = np.mean(ngram_embeddings, axis=0)\n",
    "        #print(fin)\n",
    "        return fin\n",
    "\n",
    "    \n",
    "    ####################\n",
    "    def get_wordnet_edges():\n",
    "        edges = defaultdict(set)\n",
    "        for ss in wn.all_synsets():\n",
    "            lem_names = {lem.name() for lem in ss.lemmas()}\n",
    "            for lem in lem_names:\n",
    "                edges[lem] |= lem_names\n",
    "        return edges\n",
    "\n",
    "    def convert_edges_to_indices(edges, Q):\n",
    "        lookup = dict(zip(Q.index, range(Q.shape[0])))\n",
    "        index_edges = defaultdict(set)\n",
    "        for start, finish_nodes in edges.items():\n",
    "            s = lookup.get(start)\n",
    "            if s:\n",
    "                f = {lookup[n] for n in finish_nodes if n in lookup}\n",
    "                if f:\n",
    "                    index_edges[s] = f\n",
    "        return index_edges\n",
    "    \n",
    "    #wn_edges = get_wordnet_edges()\n",
    "    \n",
    "    \"\"\"\n",
    "    def run_hyper_param_search(vector_func, vector_combo_func):\n",
    "        metric_key = \"macro-F1\"\n",
    "        dim_list = []\n",
    "        score_list = []\n",
    "        #base_score = word_disjoint_experiment[metric_key]\n",
    "        base_score = 0.67\n",
    "        for dims in range(1,26):\n",
    "            final_dims = 50+dims*10\n",
    "            net = TorchShallowNeuralClassifier(hidden_dim=final_dims, max_iter=100)\n",
    "            word_disjoint_experiment = nli.wordentail_experiment(\n",
    "                train_data=wordentail_data['word_disjoint']['train'],\n",
    "                assess_data=wordentail_data['word_disjoint']['dev'], \n",
    "                model=net, \n",
    "                vector_func=vector_func,\n",
    "                vector_combo_func=vector_combo_func)\n",
    "            score = word_disjoint_experiment[metric_key]\n",
    "            if score > base_score:\n",
    "                (\"following pair beat it\")\n",
    "            print(final_dims, score)\n",
    "            dim_list.append(final_dims)\n",
    "            score_list.append(score)\n",
    "        plot(dim_list, score_list)\n",
    "        return dim_list, score_list\n",
    "        \"\"\"\n",
    "    \n",
    "    def retrofit_for_dict(embedding_dict):\n",
    "        embedding_df = pd.DataFrame(list(embedding_dict.values()))\n",
    "        # print(embedding_df)\n",
    "        wn_index_edges = convert_edges_to_indices(wn_edges, embedding_df)\n",
    "        fitter = Retrofitter(verbose=True)\n",
    "        wn_retro = fitter.fit(embedding_df, wn_index_edges)\n",
    "        return wn_retro.to_numpy()\n",
    "    \n",
    "    #retrofitted = retrofit_for_dict(GLOVE_mine)\n"
   ]
  },
  {
   "cell_type": "code",
   "execution_count": null,
   "metadata": {},
   "outputs": [],
   "source": []
  },
  {
   "cell_type": "code",
   "execution_count": 37,
   "metadata": {},
   "outputs": [
    {
     "name": "stderr",
     "output_type": "stream",
     "text": [
      "Finished epoch 120 of 120; error is 9.706250875751721e-058"
     ]
    },
    {
     "name": "stdout",
     "output_type": "stream",
     "text": [
      "              precision    recall  f1-score   support\n",
      "\n",
      "           0      0.918     0.921     0.919      1910\n",
      "           1      0.349     0.339     0.344       239\n",
      "\n",
      "    accuracy                          0.856      2149\n",
      "   macro avg      0.633     0.630     0.632      2149\n",
      "weighted avg      0.854     0.856     0.855      2149\n",
      "\n",
      "80 0.6316034744748593\n"
     ]
    },
    {
     "data": {
      "image/png": "[encoded data removed]",
      "text/plain": [
       "<Figure size 432x288 with 1 Axes>"
      ]
     },
     "metadata": {
      "needs_background": "light"
     },
     "output_type": "display_data"
    }
   ],
   "source": [
    "if 'IS_GRADESCOPE_ENV' not in os.environ:\n",
    "\n",
    "    import torch\n",
    "    import torch.nn as nn\n",
    "\n",
    "\n",
    "    class DeepClassifier(TorchShallowNeuralClassifier):\n",
    "        def __init__(self, **kwargs):\n",
    "            super(DeepClassifier, self).__init__(**kwargs)\n",
    "\n",
    "        def define_graph(self):\n",
    "            return nn.Sequential(\n",
    "                nn.Linear(self.input_dim, self.hidden_dim),\n",
    "                self.hidden_activation,\n",
    "\n",
    "                #nn.Linear(self.hidden_dim, self.hidden_dim),\n",
    "                #self.hidden_activation,\n",
    "\n",
    "                nn.Linear(self.hidden_dim, self.hidden_dim),\n",
    "                self.hidden_activation,\n",
    "\n",
    "\n",
    "\n",
    "                nn.Linear(self.hidden_dim, self.n_classes_))\n",
    "\n",
    "\n",
    "    def run_hyper_param_search(vector_func, vector_combo_func):\n",
    "            metric_key = \"macro-F1\"\n",
    "            dim_list = []\n",
    "            score_list = []\n",
    "            iters_list = []\n",
    "            #base_score = word_disjoint_experiment[metric_key]\n",
    "            base_score = 0.67\n",
    "\n",
    "            start_iters = 120\n",
    "\n",
    "            iters = start_iters\n",
    "            dims = 80\n",
    "\n",
    "            if True:\n",
    "            #for iters in range(start_iters, 201, 10):\n",
    "            #for dims in range(1,26):\n",
    "            #for dims in range(50, 150, 10):\n",
    "                #final_dims = 50+dims*10\n",
    "                #final_dims = 150\n",
    "                #net = TorchShallowNeuralClassifier(hidden_dim=final_dims, max_iter=iters)\n",
    "                final_dims = dims\n",
    "                net = DeepClassifier(hidden_dim=final_dims, max_iter=iters)\n",
    "                word_disjoint_experiment = nli.wordentail_experiment(\n",
    "                    train_data=wordentail_data['word_disjoint']['train'],\n",
    "                    assess_data=wordentail_data['word_disjoint']['dev'], \n",
    "                    model=net, \n",
    "                    vector_func=vector_func,\n",
    "                    vector_combo_func=vector_combo_func)\n",
    "                score = word_disjoint_experiment[metric_key]\n",
    "                if score > base_score:\n",
    "                    (\"following pair beat it\")\n",
    "                print(final_dims, score)\n",
    "                dim_list.append(final_dims)\n",
    "                score_list.append(score)\n",
    "                iters_list.append(iters)\n",
    "\n",
    "            list_to_plot = dim_list\n",
    "            if (dim_list[0] == dim_list[-1]):\n",
    "                list_to_plot = iters_list\n",
    "\n",
    "\n",
    "            plot(list_to_plot, score_list)\n",
    "            return list_to_plot, score_list\n",
    "\n",
    "\n",
    "    run_hyper_param_search(glove_vec_mine, vec_concatenate)\n",
    "    \"\"\"\n",
    "    net = TorchDeepNeuralClassifier(hidden_dim=300, max_iter=100)\n",
    "    word_disjoint_experiment = nli.wordentail_experiment(\n",
    "        train_data=wordentail_data['word_disjoint']['train'],\n",
    "        assess_data=wordentail_data['word_disjoint']['dev'], \n",
    "        model=net, \n",
    "        vector_func=glove_vec_mine,\n",
    "        vector_combo_func=vec_concatenate)\n",
    "\n",
    "    \"\"\""
   ]
  },
  {
   "cell_type": "code",
   "execution_count": null,
   "metadata": {},
   "outputs": [],
   "source": []
  },
  {
   "cell_type": "markdown",
   "metadata": {},
   "source": [
    "## Bake-off [1 point]\n",
    "\n",
    "The goal of the bake-off is to achieve the highest macro-average F1 score on __word_disjoint__, on a test set that we will make available at the start of the bake-off. The announcement will go out on the discussion forum. To enter, you'll be asked to run `nli.bake_off_evaluation` on the output of your chosen `nli.wordentail_experiment` run. \n",
    "\n",
    "The cells below this one constitute your bake-off entry.\n",
    "\n",
    "The rules described in the [Your original system](#Your-original-system-[3-points]) homework question are also in effect for the bake-off.\n",
    "\n",
    "Systems that enter will receive the additional homework point, and systems that achieve the top score will receive an additional 0.5 points. We will test the top-performing systems ourselves, and only systems for which we can reproduce the reported results will win the extra 0.5 points.\n",
    "\n",
    "Late entries will be accepted, but they cannot earn the extra 0.5 points. Similarly, you cannot win the bake-off unless your homework is submitted on time.\n",
    "\n",
    "The announcement will include the details on where to submit your entry."
   ]
  },
  {
   "cell_type": "code",
   "execution_count": 48,
   "metadata": {},
   "outputs": [
    {
     "name": "stderr",
     "output_type": "stream",
     "text": [
      "Finished epoch 120 of 120; error is 0.00010514869154576445"
     ]
    },
    {
     "name": "stdout",
     "output_type": "stream",
     "text": [
      "              precision    recall  f1-score   support\n",
      "\n",
      "           0      0.920     0.924     0.922      1910\n",
      "           1      0.372     0.360     0.366       239\n",
      "\n",
      "    accuracy                          0.861      2149\n",
      "   macro avg      0.646     0.642     0.644      2149\n",
      "weighted avg      0.859     0.861     0.860      2149\n",
      "\n",
      "              precision    recall  f1-score   support\n",
      "\n",
      "           0      0.870     0.896     0.883      1767\n",
      "           1      0.533     0.471     0.500       446\n",
      "\n",
      "    accuracy                          0.810      2213\n",
      "   macro avg      0.702     0.683     0.691      2213\n",
      "weighted avg      0.802     0.810     0.806      2213\n",
      "\n"
     ]
    }
   ],
   "source": [
    "# Enter your bake-off assessment code into this cell. \n",
    "# Please do not remove this comment.\n",
    "##### YOUR CODE HERE\n",
    "#print(net)\n",
    "final_dims = 80\n",
    "iters = 120\n",
    "entailment_model = DeepClassifier(hidden_dim=final_dims, max_iter=iters)\n",
    "bakeoff_model = nli.wordentail_experiment(\n",
    "    train_data=wordentail_data['word_disjoint']['train'],\n",
    "    assess_data=wordentail_data['word_disjoint']['dev'], \n",
    "    model=entailment_model, \n",
    "    vector_func=glove_vec_mine,\n",
    "    vector_combo_func=vec_concatenate)\n",
    "    \n",
    "test_data_filename = os.path.join(\n",
    "    NLIDATA_HOME,\n",
    "    \"bakeoff-wordentail-data\",\n",
    "    \"nli_wordentail_bakeoff_data-test.json\")\n",
    "\n",
    "nli.bake_off_evaluation(\n",
    "    bakeoff_model,\n",
    "    test_data_filename)\n"
   ]
  },
  {
   "cell_type": "code",
   "execution_count": null,
   "metadata": {},
   "outputs": [],
   "source": [
    "# On an otherwise blank line in this cell, please enter\n",
    "# your macro-avg f1 value as reported by the code above. \n",
    "# Please enter only a number between 0 and 1 inclusive.\n",
    "# Please do not remove this comment.\n",
    "\n",
    "##### YOUR CODE HERE\n",
    "0.691\n",
    "\n"
   ]
  }
 ],
 "metadata": {
  "kernelspec": {
   "display_name": "nlu",
   "language": "python",
   "name": "nlu"
  },
  "language_info": {
   "codemirror_mode": {
    "name": "ipython",
    "version": 3
   },
   "file_extension": ".py",
   "mimetype": "text/x-python",
   "name": "python",
   "nbconvert_exporter": "python",
   "pygments_lexer": "ipython3",
   "version": "3.7.7"
  }
 },
 "nbformat": 4,
 "nbformat_minor": 1
}
