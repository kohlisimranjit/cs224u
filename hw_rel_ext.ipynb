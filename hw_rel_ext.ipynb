{
 "cells": [
  {
   "cell_type": "markdown",
   "metadata": {},
   "source": [
    "# Homework and bake-off: Relation extraction using distant supervision"
   ]
  },
  {
   "cell_type": "code",
   "execution_count": 1,
   "metadata": {},
   "outputs": [],
   "source": [
    "__author__ = \"Bill MacCartney and Christopher Potts\"\n",
    "__version__ = \"CS224u, Stanford, Spring 2020\""
   ]
  },
  {
   "cell_type": "markdown",
   "metadata": {},
   "source": [
    "## Contents\n",
    "\n",
    "1. [Overview](#Overview)\n",
    "1. [Set-up](#Set-up)\n",
    "1. [Baselines](#Baselines)\n",
    "  1. [Hand-build feature functions](#Hand-build-feature-functions)\n",
    "  1. [Distributed representations](#Distributed-representations)\n",
    "1. [Homework questions](#Homework-questions)\n",
    "  1. [Different model factory [1 points]](#Different-model-factory-[1-points])\n",
    "  1. [Directional unigram features [1.5 points]](#Directional-unigram-features-[1.5-points])\n",
    "  1. [The part-of-speech tags of the \"middle\" words [1.5 points]](#The-part-of-speech-tags-of-the-\"middle\"-words-[1.5-points])\n",
    "  1. [Bag of Synsets [2 points]](#Bag-of-Synsets-[2-points])\n",
    "  1. [Your original system [3 points]](#Your-original-system-[3-points])\n",
    "1. [Bake-off [1 point]](#Bake-off-[1-point])"
   ]
  },
  {
   "cell_type": "markdown",
   "metadata": {},
   "source": [
    "## Overview\n",
    "\n",
    "This homework and associated bake-off are devoted to developing really effective relation extraction systems using distant supervision. \n",
    "\n",
    "As with the previous assignments, this notebook first establishes a baseline system. The initial homework questions ask you to create additional baselines and suggest areas for innovation, and the final homework question asks you to develop an original system for you to enter into the bake-off."
   ]
  },
  {
   "cell_type": "markdown",
   "metadata": {},
   "source": [
    "## Set-up\n",
    "\n",
    "See [the first notebook in this unit](rel_ext_01_task.ipynb#Set-up) for set-up instructions."
   ]
  },
  {
   "cell_type": "code",
   "execution_count": 2,
   "metadata": {},
   "outputs": [],
   "source": [
    "import numpy as np\n",
    "import os\n",
    "import rel_ext\n",
    "from sklearn.linear_model import LogisticRegression\n",
    "import utils"
   ]
  },
  {
   "cell_type": "markdown",
   "metadata": {},
   "source": [
    "As usual, we unite our corpus and KB into a dataset, and create some splits for experimentation:"
   ]
  },
  {
   "cell_type": "code",
   "execution_count": 3,
   "metadata": {},
   "outputs": [],
   "source": [
    "rel_ext_data_home = os.path.join('data', 'rel_ext_data')"
   ]
  },
  {
   "cell_type": "code",
   "execution_count": 4,
   "metadata": {},
   "outputs": [],
   "source": [
    "corpus = rel_ext.Corpus(os.path.join(rel_ext_data_home, 'corpus.tsv.gz'))"
   ]
  },
  {
   "cell_type": "code",
   "execution_count": 5,
   "metadata": {},
   "outputs": [],
   "source": [
    "kb = rel_ext.KB(os.path.join(rel_ext_data_home, 'kb.tsv.gz'))"
   ]
  },
  {
   "cell_type": "code",
   "execution_count": 6,
   "metadata": {},
   "outputs": [],
   "source": [
    "dataset = rel_ext.Dataset(corpus, kb)"
   ]
  },
  {
   "cell_type": "markdown",
   "metadata": {},
   "source": [
    "You are not wedded to this set-up for splits. The bake-off will be conducted on a previously unseen test-set, so all of the data in `dataset` is fair game:"
   ]
  },
  {
   "cell_type": "code",
   "execution_count": 7,
   "metadata": {},
   "outputs": [],
   "source": [
    "splits = dataset.build_splits(\n",
    "    split_names=['tiny', 'train', 'dev'],\n",
    "    split_fracs=[0.01, 0.79, 0.20],\n",
    "    seed=1)"
   ]
  },
  {
   "cell_type": "code",
   "execution_count": 8,
   "metadata": {},
   "outputs": [
    {
     "data": {
      "text/plain": [
       "{'tiny': Corpus with 3,474 examples; KB with 445 triples,\n",
       " 'train': Corpus with 263,285 examples; KB with 36,191 triples,\n",
       " 'dev': Corpus with 64,937 examples; KB with 9,248 triples,\n",
       " 'all': Corpus with 331,696 examples; KB with 45,884 triples}"
      ]
     },
     "execution_count": 8,
     "metadata": {},
     "output_type": "execute_result"
    }
   ],
   "source": [
    "splits"
   ]
  },
  {
   "cell_type": "markdown",
   "metadata": {},
   "source": [
    "## Baselines"
   ]
  },
  {
   "cell_type": "markdown",
   "metadata": {},
   "source": [
    "### Hand-build feature functions"
   ]
  },
  {
   "cell_type": "code",
   "execution_count": 9,
   "metadata": {},
   "outputs": [],
   "source": [
    "def simple_bag_of_words_featurizer(kbt, corpus, feature_counter):\n",
    "    for ex in corpus.get_examples_for_entities(kbt.sbj, kbt.obj):\n",
    "        for word in ex.middle.split(' '):\n",
    "            feature_counter[word] += 1\n",
    "    for ex in corpus.get_examples_for_entities(kbt.obj, kbt.sbj):\n",
    "        for word in ex.middle.split(' '):\n",
    "            feature_counter[word] += 1\n",
    "    return feature_counter"
   ]
  },
  {
   "cell_type": "code",
   "execution_count": 10,
   "metadata": {},
   "outputs": [],
   "source": [
    "featurizers = [simple_bag_of_words_featurizer]"
   ]
  },
  {
   "cell_type": "code",
   "execution_count": 11,
   "metadata": {},
   "outputs": [],
   "source": [
    "model_factory = lambda: LogisticRegression(fit_intercept=True, solver='liblinear')"
   ]
  },
  {
   "cell_type": "code",
   "execution_count": 12,
   "metadata": {},
   "outputs": [
    {
     "name": "stdout",
     "output_type": "stream",
     "text": [
      "relation              precision     recall    f-score    support       size\n",
      "------------------    ---------  ---------  ---------  ---------  ---------\n",
      "adjoins                   0.876      0.374      0.690        340       5716\n",
      "author                    0.763      0.532      0.702        509       5885\n",
      "capital                   0.596      0.295      0.495         95       5471\n",
      "contains                  0.798      0.594      0.747       3904       9280\n",
      "film_performance          0.777      0.563      0.722        766       6142\n",
      "founders                  0.791      0.397      0.660        380       5756\n",
      "genre                     0.588      0.176      0.401        170       5546\n",
      "has_sibling               0.867      0.234      0.563        499       5875\n",
      "has_spouse                0.870      0.327      0.653        594       5970\n",
      "is_a                      0.679      0.217      0.477        497       5873\n",
      "nationality               0.600      0.189      0.419        301       5677\n",
      "parents                   0.852      0.535      0.762        312       5688\n",
      "place_of_birth            0.635      0.202      0.444        233       5609\n",
      "place_of_death            0.500      0.107      0.288        159       5535\n",
      "profession                0.560      0.190      0.403        247       5623\n",
      "worked_at                 0.685      0.252      0.510        242       5618\n",
      "------------------    ---------  ---------  ---------  ---------  ---------\n",
      "macro-average             0.715      0.324      0.558       9248      95264\n"
     ]
    }
   ],
   "source": [
    "baseline_results = rel_ext.experiment(\n",
    "    splits,\n",
    "    train_split='train',\n",
    "    test_split='dev',\n",
    "    featurizers=featurizers,\n",
    "    model_factory=model_factory,\n",
    "    verbose=True)"
   ]
  },
  {
   "cell_type": "markdown",
   "metadata": {},
   "source": [
    "Studying model weights might yield insights:"
   ]
  },
  {
   "cell_type": "code",
   "execution_count": 13,
   "metadata": {},
   "outputs": [
    {
     "name": "stdout",
     "output_type": "stream",
     "text": [
      "Highest and lowest feature weights for relation adjoins:\n",
      "\n",
      "     2.555 Taluks\n",
      "     2.533 Córdoba\n",
      "     2.496 Valais\n",
      "     ..... .....\n",
      "    -1.397 Lancashire\n",
      "    -1.423 he\n",
      "    -1.446 who\n",
      "\n",
      "Highest and lowest feature weights for relation author:\n",
      "\n",
      "     2.966 books\n",
      "     2.775 author\n",
      "     2.392 by\n",
      "     ..... .....\n",
      "    -2.868 Daisy\n",
      "    -3.534 infamous\n",
      "    -3.546 17th\n",
      "\n",
      "Highest and lowest feature weights for relation capital:\n",
      "\n",
      "     3.529 capital\n",
      "     1.905 city\n",
      "     1.620 posted\n",
      "     ..... .....\n",
      "    -1.097 Roman\n",
      "    -1.179 and\n",
      "    -1.778 includes\n",
      "\n",
      "Highest and lowest feature weights for relation contains:\n",
      "\n",
      "     2.313 bordered\n",
      "     2.057 Turks\n",
      "     2.017 third-largest\n",
      "     ..... .....\n",
      "    -2.688 Mile\n",
      "    -3.169 Lancashire\n",
      "    -3.814 Ceylon\n",
      "\n",
      "Highest and lowest feature weights for relation film_performance:\n",
      "\n",
      "     4.157 starring\n",
      "     3.528 opposite\n",
      "     3.435 co-starring\n",
      "     ..... .....\n",
      "    -1.863 Gandolfini\n",
      "    -2.008 fully\n",
      "    -2.025 compatible\n",
      "\n",
      "Highest and lowest feature weights for relation founders:\n",
      "\n",
      "     3.892 founded\n",
      "     3.780 founder\n",
      "     3.588 co-founder\n",
      "     ..... .....\n",
      "    -1.691 Bauhaus\n",
      "    -1.822 design\n",
      "    -2.155 band\n",
      "\n",
      "Highest and lowest feature weights for relation genre:\n",
      "\n",
      "     2.850 series\n",
      "     2.573 \n",
      "     2.566 game\n",
      "     ..... .....\n",
      "    -1.444 and\n",
      "    -1.923 at\n",
      "    -2.305 follows\n",
      "\n",
      "Highest and lowest feature weights for relation has_sibling:\n",
      "\n",
      "     5.104 brother\n",
      "     4.177 sister\n",
      "     3.049 nephew\n",
      "     ..... .....\n",
      "    -1.430 alongside\n",
      "    -1.519 Her\n",
      "    -1.723 singer-songwriter\n",
      "\n",
      "Highest and lowest feature weights for relation has_spouse:\n",
      "\n",
      "     5.276 wife\n",
      "     4.418 widow\n",
      "     4.200 husband\n",
      "     ..... .....\n",
      "    -1.355 on\n",
      "    -1.728 grandson\n",
      "    -1.864 44\n",
      "\n",
      "Highest and lowest feature weights for relation is_a:\n",
      "\n",
      "     3.274 \n",
      "     2.625 genus\n",
      "     2.556 family\n",
      "     ..... .....\n",
      "    -1.698 at\n",
      "    -1.800 emperor\n",
      "    -3.967 cat\n",
      "\n",
      "Highest and lowest feature weights for relation nationality:\n",
      "\n",
      "     2.654 born\n",
      "     1.885 caliph\n",
      "     1.866 Pinky\n",
      "     ..... .....\n",
      "    -1.443 or\n",
      "    -1.710 American\n",
      "    -1.831 2010\n",
      "\n",
      "Highest and lowest feature weights for relation parents:\n",
      "\n",
      "     5.084 son\n",
      "     4.746 daughter\n",
      "     4.271 father\n",
      "     ..... .....\n",
      "    -1.924 congenitally\n",
      "    -1.974 Jahangir\n",
      "    -2.904 Indian\n",
      "\n",
      "Highest and lowest feature weights for relation place_of_birth:\n",
      "\n",
      "     3.712 born\n",
      "     2.803 birthplace\n",
      "     2.721 mayor\n",
      "     ..... .....\n",
      "    -1.341 or\n",
      "    -1.486 and\n",
      "    -1.783 Indian\n",
      "\n",
      "Highest and lowest feature weights for relation place_of_death:\n",
      "\n",
      "     2.388 died\n",
      "     1.972 rebuilt\n",
      "     1.864 executed\n",
      "     ..... .....\n",
      "    -1.278 and\n",
      "    -1.347 Siege\n",
      "    -1.419 ”\n",
      "\n",
      "Highest and lowest feature weights for relation profession:\n",
      "\n",
      "     3.803 \n",
      "     2.402 American\n",
      "     2.274 feminist\n",
      "     ..... .....\n",
      "    -1.358 emperor\n",
      "    -1.436 at\n",
      "    -2.145 on\n",
      "\n",
      "Highest and lowest feature weights for relation worked_at:\n",
      "\n",
      "     3.232 professor\n",
      "     3.231 CEO\n",
      "     2.985 head\n",
      "     ..... .....\n",
      "    -1.480 family\n",
      "    -1.567 father\n",
      "    -1.667 or\n",
      "\n"
     ]
    }
   ],
   "source": [
    "rel_ext.examine_model_weights(baseline_results)"
   ]
  },
  {
   "cell_type": "markdown",
   "metadata": {},
   "source": [
    "### Distributed representations\n",
    "\n",
    "This simple baseline sums the GloVe vector representations for all of the words in the \"middle\" span and feeds those representations into the standard `LogisticRegression`-based `model_factory`. The crucial parameter that enables this is `vectorize=False`. This essentially says to `rel_ext.experiment` that your featurizer or your model will do the work of turning examples into vectors; in that case, `rel_ext.experiment` just organizes these representations by relation type."
   ]
  },
  {
   "cell_type": "code",
   "execution_count": 12,
   "metadata": {},
   "outputs": [],
   "source": [
    "GLOVE_HOME = os.path.join('data', 'glove.6B')"
   ]
  },
  {
   "cell_type": "code",
   "execution_count": 13,
   "metadata": {},
   "outputs": [],
   "source": [
    "glove_lookup = utils.glove2dict(\n",
    "    os.path.join(GLOVE_HOME, 'glove.6B.300d.txt'))"
   ]
  },
  {
   "cell_type": "code",
   "execution_count": 14,
   "metadata": {},
   "outputs": [],
   "source": [
    "def glove_middle_featurizer(kbt, corpus, np_func=np.sum):\n",
    "    reps = []\n",
    "    for ex in corpus.get_examples_for_entities(kbt.sbj, kbt.obj):\n",
    "        for word in ex.middle.split():\n",
    "            rep = glove_lookup.get(word)\n",
    "            if rep is not None:\n",
    "                reps.append(rep)\n",
    "    # A random representation of the right dimensionality if the\n",
    "    # example happens not to overlap with GloVe's vocabulary:\n",
    "    if len(reps) == 0:\n",
    "        dim = len(next(iter(glove_lookup.values())))                \n",
    "        return utils.randvec(n=dim)\n",
    "    else:\n",
    "        return np_func(reps, axis=0)"
   ]
  },
  {
   "cell_type": "code",
   "execution_count": 17,
   "metadata": {},
   "outputs": [
    {
     "name": "stdout",
     "output_type": "stream",
     "text": [
      "relation              precision     recall    f-score    support       size\n",
      "------------------    ---------  ---------  ---------  ---------  ---------\n",
      "adjoins                   0.831      0.462      0.716        340       5716\n",
      "author                    0.839      0.440      0.710        509       5885\n",
      "capital                   0.594      0.200      0.426         95       5471\n",
      "contains                  0.656      0.402      0.582       3904       9280\n",
      "film_performance          0.806      0.326      0.623        766       6142\n",
      "founders                  0.798      0.229      0.533        380       5756\n",
      "genre                     0.412      0.041      0.147        170       5546\n",
      "has_sibling               0.866      0.246      0.576        499       5875\n",
      "has_spouse                0.879      0.343      0.670        594       5970\n",
      "is_a                      0.740      0.149      0.412        497       5873\n",
      "nationality               0.750      0.179      0.458        301       5677\n",
      "parents                   0.915      0.413      0.736        312       5688\n",
      "place_of_birth            0.676      0.215      0.473        233       5609\n",
      "place_of_death            0.395      0.107      0.257        159       5535\n",
      "profession                0.686      0.142      0.388        247       5623\n",
      "worked_at                 0.721      0.256      0.529        242       5618\n",
      "------------------    ---------  ---------  ---------  ---------  ---------\n",
      "macro-average             0.723      0.259      0.515       9248      95264\n"
     ]
    }
   ],
   "source": [
    "glove_results = rel_ext.experiment(\n",
    "    splits,\n",
    "    train_split='train',\n",
    "    test_split='dev',\n",
    "    featurizers=[glove_middle_featurizer],    \n",
    "    vectorize=False, # Crucial for this featurizer!\n",
    "    verbose=True)"
   ]
  },
  {
   "cell_type": "markdown",
   "metadata": {},
   "source": [
    "With the same basic code design, one can also use the PyTorch models included in the course repo, or write new ones that are better aligned with the task. For those models, it's likely that the featurizer will just return a list of tokens (or perhaps a list of lists of tokens), and the model will map those into vectors using an embedding."
   ]
  },
  {
   "cell_type": "markdown",
   "metadata": {},
   "source": [
    "## Homework questions\n",
    "\n",
    "Please embed your homework responses in this notebook, and do not delete any cells from the notebook. (You are free to add as many cells as you like as part of your responses.)"
   ]
  },
  {
   "cell_type": "markdown",
   "metadata": {},
   "source": [
    "### Different model factory [1 points]\n",
    "\n",
    "The code in `rel_ext` makes it very easy to experiment with other classifier models: one need only redefine the `model_factory` argument. This question asks you to assess a [Support Vector Classifier](https://scikit-learn.org/stable/modules/generated/sklearn.svm.SVC.html).\n",
    "\n",
    "__To submit:__ A wrapper function `run_svm_model_factory` that does the following: \n",
    "\n",
    "1. Uses `rel_ext.experiment` with the model factory set to one based in an `SVC` with `kernel='linear'` and all other arguments left with default values. \n",
    "1. Trains on the 'train' part of `splits`.\n",
    "1. Assesses on the `dev` part of `splits`.\n",
    "1. Uses `featurizers` as defined above. \n",
    "1. Returns the return value of `rel_ext.experiment` for this set-up.\n",
    "\n",
    "The function `test_run_svm_model_factory` will check that your function conforms to these general specifications."
   ]
  },
  {
   "cell_type": "code",
   "execution_count": 15,
   "metadata": {},
   "outputs": [],
   "source": [
    "def run_svm_model_factory():\n",
    "    \n",
    "    ##### YOUR CODE HERE\n",
    "    from sklearn.svm import SVC\n",
    "    model_factory = lambda: SVC(kernel='linear')\n",
    "    print(splits)\n",
    "    results = rel_ext.experiment(\n",
    "    splits,\n",
    "    train_split='train',\n",
    "    test_split='dev',\n",
    "    featurizers=featurizers,\n",
    "    model_factory=model_factory,\n",
    "    verbose=True)\n",
    "    return results\n",
    "\n",
    "\n"
   ]
  },
  {
   "cell_type": "code",
   "execution_count": 16,
   "metadata": {},
   "outputs": [],
   "source": [
    "def test_run_svm_model_factory(run_svm_model_factory):\n",
    "    results = run_svm_model_factory()\n",
    "    assert 'featurizers' in results, \\\n",
    "        \"The return value of `run_svm_model_factory` seems not to be correct\"\n",
    "    # Check one of the models to make sure it's an SVC:\n",
    "    assert 'SVC' in results['models']['adjoins'].__class__.__name__, \\\n",
    "        \"It looks like the model factor wasn't set to use an SVC.\"    "
   ]
  },
  {
   "cell_type": "code",
   "execution_count": 64,
   "metadata": {},
   "outputs": [
    {
     "name": "stdout",
     "output_type": "stream",
     "text": [
      "{'tiny': Corpus with 3,474 examples; KB with 445 triples, 'train': Corpus with 263,285 examples; KB with 36,191 triples, 'dev': Corpus with 64,937 examples; KB with 9,248 triples, 'all': Corpus with 331,696 examples; KB with 45,884 triples}\n",
      "relation              precision     recall    f-score    support       size\n",
      "------------------    ---------  ---------  ---------  ---------  ---------\n",
      "adjoins                   0.722      0.359      0.600        340       5716\n",
      "author                    0.745      0.613      0.714        509       5885\n",
      "capital                   0.667      0.295      0.532         95       5471\n",
      "contains                  0.785      0.602      0.740       3904       9280\n",
      "film_performance          0.760      0.625      0.729        766       6142\n",
      "founders                  0.730      0.434      0.643        380       5756\n",
      "genre                     0.595      0.294      0.494        170       5546\n",
      "has_sibling               0.815      0.238      0.549        499       5875\n",
      "has_spouse                0.835      0.342      0.648        594       5970\n",
      "is_a                      0.597      0.278      0.486        497       5873\n",
      "nationality               0.573      0.196      0.414        301       5677\n",
      "parents                   0.826      0.580      0.762        312       5688\n",
      "place_of_birth            0.617      0.215      0.449        233       5609\n",
      "place_of_death            0.404      0.119      0.274        159       5535\n",
      "profession                0.529      0.255      0.436        247       5623\n",
      "worked_at                 0.590      0.298      0.493        242       5618\n",
      "------------------    ---------  ---------  ---------  ---------  ---------\n",
      "macro-average             0.675      0.359      0.560       9248      95264\n"
     ]
    }
   ],
   "source": [
    "if 'IS_GRADESCOPE_ENV' not in os.environ:\n",
    "    test_run_svm_model_factory(run_svm_model_factory)"
   ]
  },
  {
   "cell_type": "markdown",
   "metadata": {},
   "source": [
    "### Directional unigram features [1.5 points]\n",
    "\n",
    "The current bag-of-words representation makes no distinction between \"forward\" and \"reverse\" examples. But, intuitively, there is big difference between _X and his son Y_ and _Y and his son X_. This question asks you to modify `simple_bag_of_words_featurizer` to capture these differences. \n",
    "\n",
    "__To submit:__\n",
    "\n",
    "1. A feature function `directional_bag_of_words_featurizer` that is just like `simple_bag_of_words_featurizer` except that it distinguishes \"forward\" and \"reverse\". To do this, you just need to mark each word feature for whether it is derived from a subject–object example or from an object–subject example.  The included function `test_directional_bag_of_words_featurizer` should help verify that you've done this correctly.\n",
    "\n",
    "2. A call to `rel_ext.experiment` with `directional_bag_of_words_featurizer` as the only featurizer. (Aside from this, use all the default values for `rel_ext.experiment` as exemplified above in this notebook.)\n",
    "\n",
    "3. `rel_ext.experiment` returns some of the core objects used in the experiment. How many feature names does the `vectorizer` have for the experiment run in the previous step? Include the code needed for getting this value. (Note: we're partly asking you to figure out how to get this value by using the sklearn documentation, so please don't ask how to do it!)"
   ]
  },
  {
   "cell_type": "code",
   "execution_count": 14,
   "metadata": {},
   "outputs": [
    {
     "name": "stdout",
     "output_type": "stream",
     "text": [
      "relation              precision     recall    f-score    support       size\n",
      "------------------    ---------  ---------  ---------  ---------  ---------\n",
      "adjoins                   0.836      0.406      0.690        340       5716\n",
      "author                    0.837      0.583      0.770        509       5885\n",
      "capital                   0.639      0.242      0.481         95       5471\n",
      "contains                  0.814      0.663      0.779       3904       9280\n",
      "film_performance          0.834      0.658      0.792        766       6142\n",
      "founders                  0.813      0.413      0.681        380       5756\n",
      "genre                     0.714      0.265      0.533        170       5546\n",
      "has_sibling               0.851      0.253      0.577        499       5875\n",
      "has_spouse                0.878      0.350      0.674        594       5970\n",
      "is_a                      0.739      0.233      0.516        497       5873\n",
      "nationality               0.667      0.213      0.467        301       5677\n",
      "parents                   0.913      0.503      0.785        312       5688\n",
      "place_of_birth            0.671      0.210      0.467        233       5609\n",
      "place_of_death            0.605      0.145      0.370        159       5535\n",
      "profession                0.756      0.239      0.528        247       5623\n",
      "worked_at                 0.786      0.273      0.571        242       5618\n",
      "------------------    ---------  ---------  ---------  ---------  ---------\n",
      "macro-average             0.772      0.353      0.605       9248      95264\n",
      "done\n",
      "40455\n"
     ]
    }
   ],
   "source": [
    "def directional_bag_of_words_featurizer(kbt, corpus, feature_counter): \n",
    "    # Append these to the end of the keys you add/access in \n",
    "    # `feature_counter` to distinguish the two orders. You'll\n",
    "    # need to use exactly these strings in order to pass \n",
    "    # `test_directional_bag_of_words_featurizer`.\n",
    "    subject_object_suffix = \"_SO\"\n",
    "    object_subject_suffix = \"_OS\"\n",
    "    \n",
    "    ##### YOUR CODE HERE\n",
    "    for ex in corpus.get_examples_for_entities(kbt.sbj, kbt.obj):\n",
    "        for word in ex.middle.split(' '):\n",
    "            feature_counter[word+subject_object_suffix] += 1\n",
    "    for ex in corpus.get_examples_for_entities(kbt.obj, kbt.sbj):\n",
    "        for word in ex.middle.split(' '):\n",
    "            feature_counter[word+object_subject_suffix] += 1\n",
    "    #print(feature_counter)\n",
    "    return feature_counter\n",
    "\n",
    "\n",
    "# Call to `rel_ext.experiment`:\n",
    "##### YOUR CODE HERE    \n",
    "results = rel_ext.experiment(\n",
    "    splits,\n",
    "    train_split='train',\n",
    "    test_split='dev',\n",
    "    featurizers=[directional_bag_of_words_featurizer],\n",
    "    model_factory=lambda: LogisticRegression(fit_intercept=True, solver='liblinear'),\n",
    "    verbose=True)\n",
    "\n",
    "\n",
    "print(\"done\")\n",
    "vectorizer = results['vectorizer']\n",
    "feature_names = vectorizer.get_feature_names()\n",
    "feature_counts = len(feature_names)\n",
    "print(feature_counts)"
   ]
  },
  {
   "cell_type": "code",
   "execution_count": 17,
   "metadata": {},
   "outputs": [],
   "source": [
    "def test_directional_bag_of_words_featurizer(corpus):\n",
    "    from collections import defaultdict\n",
    "    kbt = rel_ext.KBTriple(rel='worked_at', sbj='Randall_Munroe', obj='xkcd')\n",
    "    feature_counter = defaultdict(int)\n",
    "    # Make sure `feature_counter` is being updated, not reinitialized:\n",
    "    feature_counter['is_OS'] += 5\n",
    "    feature_counter = directional_bag_of_words_featurizer(kbt, corpus, feature_counter)\n",
    "    expected = defaultdict(\n",
    "        int, {'is_OS':6,'a_OS':1,'webcomic_OS':1,'created_OS':1,'by_OS':1})\n",
    "    assert feature_counter == expected, \\\n",
    "        \"Expected:\\n{}\\nGot:\\n{}\".format(expected, feature_counter)"
   ]
  },
  {
   "cell_type": "code",
   "execution_count": 18,
   "metadata": {},
   "outputs": [
    {
     "ename": "NameError",
     "evalue": "name 'directional_bag_of_words_featurizer' is not defined",
     "output_type": "error",
     "traceback": [
      "\u001b[0;31m---------------------------------------------------------------------------\u001b[0m",
      "\u001b[0;31mNameError\u001b[0m                                 Traceback (most recent call last)",
      "\u001b[0;32m<ipython-input-18-27739c89aad3>\u001b[0m in \u001b[0;36m<module>\u001b[0;34m\u001b[0m\n\u001b[1;32m      1\u001b[0m \u001b[0;32mif\u001b[0m \u001b[0;34m'IS_GRADESCOPE_ENV'\u001b[0m \u001b[0;32mnot\u001b[0m \u001b[0;32min\u001b[0m \u001b[0mos\u001b[0m\u001b[0;34m.\u001b[0m\u001b[0menviron\u001b[0m\u001b[0;34m:\u001b[0m\u001b[0;34m\u001b[0m\u001b[0;34m\u001b[0m\u001b[0m\n\u001b[0;32m----> 2\u001b[0;31m     \u001b[0mtest_directional_bag_of_words_featurizer\u001b[0m\u001b[0;34m(\u001b[0m\u001b[0mcorpus\u001b[0m\u001b[0;34m)\u001b[0m\u001b[0;34m\u001b[0m\u001b[0;34m\u001b[0m\u001b[0m\n\u001b[0m",
      "\u001b[0;32m<ipython-input-17-a198bce85e24>\u001b[0m in \u001b[0;36mtest_directional_bag_of_words_featurizer\u001b[0;34m(corpus)\u001b[0m\n\u001b[1;32m      5\u001b[0m     \u001b[0;31m# Make sure `feature_counter` is being updated, not reinitialized:\u001b[0m\u001b[0;34m\u001b[0m\u001b[0;34m\u001b[0m\u001b[0;34m\u001b[0m\u001b[0m\n\u001b[1;32m      6\u001b[0m     \u001b[0mfeature_counter\u001b[0m\u001b[0;34m[\u001b[0m\u001b[0;34m'is_OS'\u001b[0m\u001b[0;34m]\u001b[0m \u001b[0;34m+=\u001b[0m \u001b[0;36m5\u001b[0m\u001b[0;34m\u001b[0m\u001b[0;34m\u001b[0m\u001b[0m\n\u001b[0;32m----> 7\u001b[0;31m     \u001b[0mfeature_counter\u001b[0m \u001b[0;34m=\u001b[0m \u001b[0mdirectional_bag_of_words_featurizer\u001b[0m\u001b[0;34m(\u001b[0m\u001b[0mkbt\u001b[0m\u001b[0;34m,\u001b[0m \u001b[0mcorpus\u001b[0m\u001b[0;34m,\u001b[0m \u001b[0mfeature_counter\u001b[0m\u001b[0;34m)\u001b[0m\u001b[0;34m\u001b[0m\u001b[0;34m\u001b[0m\u001b[0m\n\u001b[0m\u001b[1;32m      8\u001b[0m     expected = defaultdict(\n\u001b[1;32m      9\u001b[0m         int, {'is_OS':6,'a_OS':1,'webcomic_OS':1,'created_OS':1,'by_OS':1})\n",
      "\u001b[0;31mNameError\u001b[0m: name 'directional_bag_of_words_featurizer' is not defined"
     ]
    }
   ],
   "source": [
    "if 'IS_GRADESCOPE_ENV' not in os.environ:\n",
    "    test_directional_bag_of_words_featurizer(corpus)"
   ]
  },
  {
   "cell_type": "markdown",
   "metadata": {},
   "source": [
    "### The part-of-speech tags of the \"middle\" words [1.5 points]\n",
    "\n",
    "Our corpus distribution contains part-of-speech (POS) tagged versions of the core text spans. Let's begin to explore whether there is information in these sequences, focusing on `middle_POS`.\n",
    "\n",
    "__To submit:__\n",
    "\n",
    "1. A feature function `middle_bigram_pos_tag_featurizer` that is just like `simple_bag_of_words_featurizer` except that it creates a feature for bigram POS sequences. For example, given \n",
    "\n",
    "  `The/DT dog/N napped/V`\n",
    "  \n",
    "   we obtain the list of bigram POS sequences\n",
    "  \n",
    "   `b = ['<s> DT', 'DT N', 'N V', 'V </s>']`. \n",
    "   \n",
    "   Of course, `middle_bigram_pos_tag_featurizer` should return count dictionaries defined in terms of such bigram POS lists, on the model of `simple_bag_of_words_featurizer`.  Don't forget the start and end tags, to model those environments properly! The included function `test_middle_bigram_pos_tag_featurizer` should help verify that you've done this correctly.\n",
    "\n",
    "2. A call to `rel_ext.experiment` with `middle_bigram_pos_tag_featurizer` as the only featurizer. (Aside from this, use all the default values for `rel_ext.experiment` as exemplified above in this notebook.)"
   ]
  },
  {
   "cell_type": "code",
   "execution_count": 19,
   "metadata": {},
   "outputs": [
    {
     "name": "stdout",
     "output_type": "stream",
     "text": [
      "relation              precision     recall    f-score    support       size\n",
      "------------------    ---------  ---------  ---------  ---------  ---------\n",
      "adjoins                   0.914      0.344      0.687        340       5716\n",
      "author                    0.728      0.332      0.588        509       5885\n",
      "capital                   0.467      0.147      0.326         95       5471\n",
      "contains                  0.758      0.586      0.716       3904       9280\n",
      "film_performance          0.707      0.441      0.631        766       6142\n",
      "founders                  0.536      0.158      0.362        380       5756\n",
      "genre                     0.569      0.171      0.388        170       5546\n",
      "has_sibling               0.639      0.170      0.412        499       5875\n",
      "has_spouse                0.757      0.263      0.550        594       5970\n",
      "is_a                      0.561      0.167      0.381        497       5873\n",
      "nationality               0.386      0.073      0.208        301       5677\n",
      "parents                   0.650      0.292      0.522        312       5688\n",
      "place_of_birth            0.519      0.180      0.377        233       5609\n",
      "place_of_death            0.364      0.075      0.206        159       5535\n",
      "profession                0.532      0.166      0.369        247       5623\n",
      "worked_at                 0.460      0.120      0.294        242       5618\n",
      "------------------    ---------  ---------  ---------  ---------  ---------\n",
      "macro-average             0.597      0.230      0.439       9248      95264\n",
      "done\n"
     ]
    }
   ],
   "source": [
    "def middle_bigram_pos_tag_featurizer(kbt, corpus, feature_counter):\n",
    "    \n",
    "    ##### YOUR CODE HERE\n",
    "    #print(kbt)\n",
    "    \n",
    "    #print(kbt.sbj+\" \"+ kbt.obj)\n",
    "    s = []\n",
    "    for ex in corpus.get_examples_for_entities(kbt.sbj, kbt.obj):\n",
    "        #print(ex.middle_POS)\n",
    "        s.append(ex.middle_POS)\n",
    "    for ex in corpus.get_examples_for_entities(kbt.obj, kbt.sbj):\n",
    "        #print(ex.middle_POS)\n",
    "        s.append(ex.middle_POS)\n",
    "    #print(kbt.middle())\n",
    "    #s = \"The/DT dog/N napped/V\"\n",
    "    if len(s)==0:\n",
    "        return feature_counter\n",
    "    for item in s:\n",
    "        tag_bigrams = get_tag_bigrams(item)\n",
    "        for pair in tag_bigrams:\n",
    "            feature_counter[pair] +=1\n",
    "\n",
    "    return feature_counter\n",
    "\n",
    "def get_tag_bigrams(s):\n",
    "    \"\"\"Suggested helper method for `middle_bigram_pos_tag_featurizer`.\n",
    "    This should be defined so that it returns a list of str, where each \n",
    "    element is a POS bigram.\"\"\"\n",
    "    # The values of `start_symbol` and `end_symbol` are defined\n",
    "    # here so that you can use `test_middle_bigram_pos_tag_featurizer`.\n",
    "    start_symbol = \"<s>\"\n",
    "    end_symbol = \"</s>\"\n",
    "    \n",
    "    ##### YOUR CODE HERE\n",
    "    \n",
    "    tags = get_tags(s)\n",
    "    tags.insert(0, start_symbol)\n",
    "    tags.append(end_symbol)\n",
    "    tag_bigrams = []\n",
    "    for i in range(len(tags)-1):\n",
    "        pair = tags[i]+\" \"+tags[i+1]\n",
    "        tag_bigrams.append(pair)\n",
    "        \n",
    "    return tag_bigrams\n",
    "        \n",
    "    \n",
    "\n",
    "\n",
    "    \n",
    "def get_tags(s): \n",
    "    \"\"\"Given a sequence of word/POS elements (lemmas), this function\n",
    "    returns a list containing just the POS elements, in order.    \n",
    "    \"\"\"\n",
    "    return [parse_lem(lem)[1] for lem in s.strip().split(' ') if lem]\n",
    "\n",
    "\n",
    "def parse_lem(lem):\n",
    "    \"\"\"Helper method for parsing word/POS elements. It just splits\n",
    "    on the rightmost / and returns (word, POS) as a tuple of str.\"\"\"\n",
    "    return lem.strip().rsplit('/', 1)  \n",
    "\n",
    "# Call to `rel_ext.experiment`:\n",
    "##### YOUR CODE HERE\n",
    "results = rel_ext.experiment(\n",
    "    splits,\n",
    "    train_split='train',\n",
    "    test_split='dev',\n",
    "    featurizers=[middle_bigram_pos_tag_featurizer],\n",
    "    model_factory=lambda: LogisticRegression(fit_intercept=True, solver='liblinear'),\n",
    "    verbose=True)\n",
    "print(\"done\")\n",
    "\n"
   ]
  },
  {
   "cell_type": "code",
   "execution_count": 20,
   "metadata": {},
   "outputs": [],
   "source": [
    "def test_middle_bigram_pos_tag_featurizer(corpus):\n",
    "    from collections import defaultdict\n",
    "    kbt = rel_ext.KBTriple(rel='worked_at', sbj='Randall_Munroe', obj='xkcd')\n",
    "    feature_counter = defaultdict(int)\n",
    "    # Make sure `feature_counter` is being updated, not reinitialized:\n",
    "    feature_counter['<s> VBZ'] += 5\n",
    "    feature_counter = middle_bigram_pos_tag_featurizer(kbt, corpus, feature_counter)\n",
    "    expected = defaultdict(\n",
    "        int, {'<s> VBZ':6,'VBZ DT':1,'DT JJ':1,'JJ VBN':1,'VBN IN':1,'IN </s>':1})\n",
    "    assert feature_counter == expected, \\\n",
    "        \"Expected:\\n{}\\nGot:\\n{}\".format(expected, feature_counter)"
   ]
  },
  {
   "cell_type": "code",
   "execution_count": 20,
   "metadata": {},
   "outputs": [],
   "source": [
    "if 'IS_GRADESCOPE_ENV' not in os.environ:\n",
    "    test_middle_bigram_pos_tag_featurizer(corpus)"
   ]
  },
  {
   "cell_type": "markdown",
   "metadata": {},
   "source": [
    "### Bag of Synsets [2 points]\n",
    "\n",
    "The following allows you to use NLTK's WordNet API to get the synsets compatible with _dog_ as used as a noun:\n",
    "\n",
    "```\n",
    "from nltk.corpus import wordnet as wn\n",
    "dog = wn.synsets('dog', pos='n')\n",
    "dog\n",
    "[Synset('dog.n.01'),\n",
    " Synset('frump.n.01'),\n",
    " Synset('dog.n.03'),\n",
    " Synset('cad.n.01'),\n",
    " Synset('frank.n.02'),\n",
    " Synset('pawl.n.01'),\n",
    " Synset('andiron.n.01')]\n",
    "```\n",
    "\n",
    "This question asks you to create synset-based features from the word/tag pairs in `middle_POS`.\n",
    "\n",
    "__To submit:__\n",
    "\n",
    "1. A feature function `synset_featurizer` that is just like `simple_bag_of_words_featurizer` except that it returns a list of synsets derived from `middle_POS`. Stringify these objects with `str` so that they can be `dict` keys. Use `convert_tag` (included below) to convert tags to `pos` arguments usable by `wn.synsets`. The included function `test_synset_featurizer` should help verify that you've done this correctly.\n",
    "\n",
    "2. A call to `rel_ext.experiment` with `synset_featurizer` as the only featurizer. (Aside from this, use all the default values for `rel_ext.experiment`.)"
   ]
  },
  {
   "cell_type": "code",
   "execution_count": 21,
   "metadata": {},
   "outputs": [
    {
     "name": "stderr",
     "output_type": "stream",
     "text": [
      "//anaconda3/envs/nlu/lib/python3.7/site-packages/sklearn/svm/_base.py:947: ConvergenceWarning: Liblinear failed to converge, increase the number of iterations.\n",
      "  \"the number of iterations.\", ConvergenceWarning)\n"
     ]
    },
    {
     "name": "stdout",
     "output_type": "stream",
     "text": [
      "relation              precision     recall    f-score    support       size\n",
      "------------------    ---------  ---------  ---------  ---------  ---------\n",
      "adjoins                   0.804      0.338      0.630        340       5716\n",
      "author                    0.748      0.438      0.655        509       5885\n",
      "capital                   0.571      0.295      0.481         95       5471\n",
      "contains                  0.767      0.582      0.721       3904       9280\n",
      "film_performance          0.790      0.559      0.729        766       6142\n",
      "founders                  0.711      0.382      0.606        380       5756\n",
      "genre                     0.508      0.176      0.369        170       5546\n",
      "has_sibling               0.825      0.226      0.540        499       5875\n",
      "has_spouse                0.904      0.300      0.644        594       5970\n",
      "is_a                      0.616      0.213      0.447        497       5873\n",
      "nationality               0.454      0.146      0.319        301       5677\n",
      "parents                   0.812      0.542      0.739        312       5688\n",
      "place_of_birth            0.500      0.202      0.386        233       5609\n",
      "place_of_death            0.340      0.113      0.243        159       5535\n",
      "profession                0.476      0.158      0.339        247       5623\n",
      "worked_at                 0.633      0.236      0.473        242       5618\n",
      "------------------    ---------  ---------  ---------  ---------  ---------\n",
      "macro-average             0.654      0.307      0.520       9248      95264\n",
      "done\n"
     ]
    }
   ],
   "source": [
    "from nltk.corpus import wordnet as wn\n",
    "\n",
    "def synset_featurizer(kbt, corpus, feature_counter):\n",
    "    \n",
    "    ##### YOUR CODE HERE\n",
    "    s = []\n",
    "    for ex in corpus.get_examples_for_entities(kbt.sbj, kbt.obj):\n",
    "        #print(ex.middle_POS)\n",
    "        s.append(ex.middle_POS)\n",
    "    for ex in corpus.get_examples_for_entities(kbt.obj, kbt.sbj):\n",
    "        #print(ex.middle_POS)\n",
    "        s.append(ex.middle_POS)\n",
    "    if len(s)==0:\n",
    "        return feature_counter\n",
    "    \n",
    "    for item in s:\n",
    "        res = get_synsets(item)\n",
    "        for pair in res:\n",
    "            feature_counter[pair] +=1\n",
    "    \n",
    "    #print(feature_counter)    \n",
    "    return feature_counter\n",
    "\n",
    "\n",
    "def get_synsets(s):\n",
    "    \"\"\"Suggested helper method for `synset_featurizer`. This should\n",
    "    be completed so that it returns a list of stringified Synsets \n",
    "    associated with elements of `s`.\n",
    "    \"\"\"   \n",
    "    # Use `parse_lem` from the previous question to get a list of\n",
    "    # (word, POS) pairs. Remember to convert the POS strings.\n",
    "    wt = [parse_lem(lem) for lem in s.strip().split(' ') if lem]\n",
    "    \n",
    "    ##### YOUR CODE HERE\n",
    "    #print(s)\n",
    "    #print(wt)\n",
    "    synsets = []\n",
    "    for pair in wt:\n",
    "        pos = convert_tag(pair[1])\n",
    "        synlist = wn.synsets(pair[0], pos=pos)\n",
    "        for item in synlist:\n",
    "            res = str(item)\n",
    "            synsets.append(res)\n",
    "            #print(res)\n",
    "    return synsets \n",
    "    \n",
    "    \n",
    "def convert_tag(t):\n",
    "    \"\"\"Converts tags so that they can be used by WordNet:\n",
    "    \n",
    "    | Tag begins with | WordNet tag |\n",
    "    |-----------------|-------------|\n",
    "    | `N`             | `n`         |\n",
    "    | `V`             | `v`         |\n",
    "    | `J`             | `a`         |\n",
    "    | `R`             | `r`         |\n",
    "    | Otherwise       | `None`      |\n",
    "    \"\"\"        \n",
    "    if t[0].lower() in {'n', 'v', 'r'}:\n",
    "        return t[0].lower()\n",
    "    elif t[0].lower() == 'j':\n",
    "        return 'a'\n",
    "    else:\n",
    "        return None    \n",
    "\n",
    "\n",
    "# Call to `rel_ext.experiment`:\n",
    "##### YOUR CODE HERE    \n",
    "results = rel_ext.experiment(\n",
    "    splits,\n",
    "    train_split='train',\n",
    "    test_split='dev',\n",
    "    featurizers=[synset_featurizer],\n",
    "    model_factory=lambda: LogisticRegression(fit_intercept=True, solver='liblinear'),\n",
    "    verbose=True)\n",
    "print(\"done\")\n",
    "\n"
   ]
  },
  {
   "cell_type": "code",
   "execution_count": 21,
   "metadata": {},
   "outputs": [],
   "source": [
    "def test_synset_featurizer(corpus):\n",
    "    from collections import defaultdict\n",
    "    kbt = rel_ext.KBTriple(rel='worked_at', sbj='Randall_Munroe', obj='xkcd')\n",
    "    feature_counter = defaultdict(int)\n",
    "    # Make sure `feature_counter` is being updated, not reinitialized:\n",
    "    feature_counter[\"Synset('be.v.01')\"] += 5\n",
    "    feature_counter = synset_featurizer(kbt, corpus, feature_counter)\n",
    "    # The full return values for this tend to be long, so we just\n",
    "    # test a few examples to avoid cluttering up this notebook.\n",
    "    test_cases = {\n",
    "        \"Synset('be.v.01')\": 6,\n",
    "        \"Synset('embody.v.02')\": 1\n",
    "    }\n",
    "    for ss, expected in test_cases.items():   \n",
    "        result = feature_counter[ss]\n",
    "        assert result == expected, \\\n",
    "            \"Incorrect count for {}: Expected {}; Got {}\".format(ss, expected, result)"
   ]
  },
  {
   "cell_type": "code",
   "execution_count": 23,
   "metadata": {},
   "outputs": [],
   "source": [
    "if 'IS_GRADESCOPE_ENV' not in os.environ:\n",
    "    test_synset_featurizer(corpus)"
   ]
  },
  {
   "cell_type": "markdown",
   "metadata": {},
   "source": [
    "### Your original system [3 points]\n",
    "\n",
    "There are many options, and this could easily grow into a project. Here are a few ideas:\n",
    "\n",
    "- Try out different classifier models, from `sklearn` and elsewhere.\n",
    "- Add a feature that indicates the length of the middle.\n",
    "- Augment the bag-of-words representation to include bigrams or trigrams (not just unigrams).\n",
    "- Introduce features based on the entity mentions themselves. <!-- \\[SPOILER: it helps a lot, maybe 4% in F-score. And combines nicely with the directional features.\\] -->\n",
    "- Experiment with features based on the context outside (rather than between) the two entity mentions — that is, the words before the first mention, or after the second.\n",
    "- Try adding features which capture syntactic information, such as the dependency-path features used by Mintz et al. 2009. The [NLTK](https://www.nltk.org/) toolkit contains a variety of [parsing algorithms](http://www.nltk.org/api/nltk.parse.html) that may help.\n",
    "- The bag-of-words representation does not permit generalization across word categories such as names of people, places, or companies. Can we do better using word embeddings such as [GloVe](https://nlp.stanford.edu/projects/glove/)?\n",
    "\n",
    "In the cell below, please provide a brief technical description of your original system, so that the teaching team can gain an understanding of what it does. This will help us to understand your code and analyze all the submissions to identify patterns and strategies."
   ]
  },
  {
   "cell_type": "code",
   "execution_count": 28,
   "metadata": {},
   "outputs": [],
   "source": [
    "# Enter your system description in this cell.\n",
    "# Please do not remove this comment.\n",
    "\"\"\"\n",
    "Some observations about f-score:\n",
    "baseline bow featurizer = 0.558 \n",
    "GloVe = 0.515 \n",
    "svm = 0.560\n",
    "directional_uni = 0.605\n",
    "middle_bigram_pos_tag_featurizer = 0.434 \n",
    "synset_featurizer = 0.526\n",
    "\n",
    "I ran experiment with directional glove logisitc:\n",
    "Glove_directional=0.547\n",
    "From directional_bag_of_words & glove directional with logistic\n",
    "Seems that directional features improved performace.\n",
    "This makes sense because not all relations are symetric\n",
    "I tried multiple attempts with glove-SVM directional but it did not suceed and my system crashed\n",
    "So I evolved my system with gloves to a directional_glove with (sum,min,max) features concataned\n",
    "relation              precision     recall    f-score    support       size\n",
    "------------------    ---------  ---------  ---------  ---------  ---------\n",
    "adjoins                   0.571      0.447      0.541        340       5716\n",
    "author                    0.743      0.660      0.725        509       5885\n",
    "capital                   0.341      0.326      0.338         95       5471\n",
    "contains                  0.766      0.726      0.758       3904       9280\n",
    "film_performance          0.740      0.685      0.729        766       6142\n",
    "founders                  0.519      0.503      0.516        380       5756\n",
    "genre                     0.496      0.341      0.455        170       5546\n",
    "has_sibling               0.540      0.335      0.481        499       5875\n",
    "has_spouse                0.605      0.448      0.565        594       5970\n",
    "is_a                      0.486      0.318      0.440        497       5873\n",
    "nationality               0.372      0.339      0.365        301       5677\n",
    "parents                   0.612      0.542      0.597        312       5688\n",
    "place_of_birth            0.322      0.330      0.324        233       5609\n",
    "place_of_death            0.188      0.245      0.198        159       5535\n",
    "profession                0.335      0.263      0.318        247       5623\n",
    "worked_at                 0.405      0.360      0.395        242       5618\n",
    "------------------    ---------  ---------  ---------  ---------  ---------\n",
    "macro-average             0.503      0.429      0.484       9248      95264\n",
    "\n",
    "The score went down. \n",
    "\n",
    "\"\"\"\n"
   ]
  },
  {
   "cell_type": "markdown",
   "metadata": {},
   "source": [
    "## Bake-off [1 point]\n",
    "\n",
    "For the bake-off, we will release a test set. The announcement will go out on the discussion forum. You will evaluate your custom model from the previous question on these new datasets using the function `rel_ext.bake_off_experiment`. Rules:\n",
    "\n",
    "1. Only one evaluation is permitted.\n",
    "1. No additional system tuning is permitted once the bake-off has started.\n",
    "\n",
    "The cells below this one constitute your bake-off entry.\n",
    "\n",
    "People who enter will receive the additional homework point, and people whose systems achieve the top score will receive an additional 0.5 points. We will test the top-performing systems ourselves, and only systems for which we can reproduce the reported results will win the extra 0.5 points.\n",
    "\n",
    "Late entries will be accepted, but they cannot earn the extra 0.5 points. Similarly, you cannot win the bake-off unless your homework is submitted on time.\n",
    "\n",
    "The announcement will include the details on where to submit your entry."
   ]
  },
  {
   "cell_type": "code",
   "execution_count": 23,
   "metadata": {},
   "outputs": [
    {
     "name": "stdout",
     "output_type": "stream",
     "text": [
      "Executing experiment\n"
     ]
    },
    {
     "name": "stderr",
     "output_type": "stream",
     "text": [
      "//anaconda3/envs/nlu/lib/python3.7/site-packages/sklearn/svm/_base.py:947: ConvergenceWarning: Liblinear failed to converge, increase the number of iterations.\n",
      "  \"the number of iterations.\", ConvergenceWarning)\n",
      "//anaconda3/envs/nlu/lib/python3.7/site-packages/sklearn/svm/_base.py:947: ConvergenceWarning: Liblinear failed to converge, increase the number of iterations.\n",
      "  \"the number of iterations.\", ConvergenceWarning)\n",
      "//anaconda3/envs/nlu/lib/python3.7/site-packages/sklearn/svm/_base.py:947: ConvergenceWarning: Liblinear failed to converge, increase the number of iterations.\n",
      "  \"the number of iterations.\", ConvergenceWarning)\n",
      "//anaconda3/envs/nlu/lib/python3.7/site-packages/sklearn/svm/_base.py:947: ConvergenceWarning: Liblinear failed to converge, increase the number of iterations.\n",
      "  \"the number of iterations.\", ConvergenceWarning)\n"
     ]
    },
    {
     "name": "stdout",
     "output_type": "stream",
     "text": [
      "relation              precision     recall    f-score    support       size\n",
      "------------------    ---------  ---------  ---------  ---------  ---------\n",
      "adjoins                   0.571      0.447      0.541        340       5716\n",
      "author                    0.743      0.660      0.725        509       5885\n",
      "capital                   0.341      0.326      0.338         95       5471\n",
      "contains                  0.766      0.726      0.758       3904       9280\n",
      "film_performance          0.740      0.685      0.729        766       6142\n",
      "founders                  0.519      0.503      0.516        380       5756\n",
      "genre                     0.496      0.341      0.455        170       5546\n",
      "has_sibling               0.540      0.335      0.481        499       5875\n",
      "has_spouse                0.605      0.448      0.565        594       5970\n",
      "is_a                      0.486      0.318      0.440        497       5873\n",
      "nationality               0.372      0.339      0.365        301       5677\n",
      "parents                   0.612      0.542      0.597        312       5688\n",
      "place_of_birth            0.322      0.330      0.324        233       5609\n",
      "place_of_death            0.188      0.245      0.198        159       5535\n",
      "profession                0.335      0.263      0.318        247       5623\n",
      "worked_at                 0.405      0.360      0.395        242       5618\n",
      "------------------    ---------  ---------  ---------  ---------  ---------\n",
      "macro-average             0.503      0.429      0.484       9248      95264\n",
      "Done!\n"
     ]
    }
   ],
   "source": [
    "# Enter your bake-off assessment code in this cell. \n",
    "# Please do not remove this comment.\n",
    "if 'IS_GRADESCOPE_ENV' not in os.environ:\n",
    "    pass\n",
    "    # Please enter your code in the scope of the above conditional.\n",
    "    ##### YOUR CODE HERE\n",
    "    from sklearn.svm import SVC\n",
    "    def glove_bi_di_middle_featurizer(kbt, corpus, np_func=[np.sum, np.min, np.max]):\n",
    "        final_reps = []\n",
    "        for func in np_func:\n",
    "            #reps_so = []\n",
    "            #reps_os = []\n",
    "            so_feature = glove_middle_featurizer(kbt, corpus, func)\n",
    "            final_reps.append(so_feature)\n",
    "            if directional:\n",
    "                kbt_os = rel_ext.KBTriple(rel=kbt.rel, sbj=kbt.obj, obj=kbt.sbj)\n",
    "                os_feature = glove_middle_featurizer(kbt_os, corpus, func)\n",
    "\n",
    "                #final_reps.append(np.concatenate((so_feature, os_feature), axis=None))\n",
    "                final_reps.append( os_feature) \n",
    "            \n",
    "        final_rep = np.concatenate(final_reps, axis=None)\n",
    "        return final_rep\n",
    "        \n",
    "    \"\"\"\n",
    "        for ex in corpus.get_examples_for_entities(kbt.sbj, kbt.obj):\n",
    "            for word in ex.middle.split():\n",
    "                rep = glove_lookup.get(word)\n",
    "                if rep is not None:\n",
    "                    reps_so.append(rep)\n",
    "        \n",
    "        for ex in corpus.get_examples_for_entities(kbt.obj, kbt.sbj):\n",
    "            for word in ex.middle.split():\n",
    "                rep = glove_lookup.get(word)\n",
    "                if rep is not None:\n",
    "                    reps_os.append(rep)\n",
    "                    #reps_so.append(rep)\n",
    "\n",
    "        # A random representation of the right dimensionality if the\n",
    "        # example happens not to overlap with GloVe's vocabulary:\n",
    "        reps = [reps_so, reps_os]\n",
    "        #print(len(reps_so), len(reps_os))\n",
    "        summed_glove = []\n",
    "        for rep in reps:\n",
    "            if len(rep) == 0:\n",
    "                dim = len(next(iter(glove_lookup.values())))                \n",
    "                curr_rep = utils.randvec(n=dim)\n",
    "            else:\n",
    "                curr_rep = np_func(reps_so, axis=0)\n",
    "            summed_glove.append(curr_rep)\n",
    "            \n",
    "        #final_rep = np.concat\n",
    "        \n",
    "        #print(len(reps_so, len(reps_os))\n",
    "        try:\n",
    "            \n",
    "            print(\"summed_glove[0]\", len(summed_glove[0]))\n",
    "            print(\"summed_glove[1]\", len(summed_glove[1]))\n",
    "            final_rep = np.concatenate((summed_glove[0], summed_glove[1]), axis=None)\n",
    "        except:\n",
    "            print(\"An exception occurred\")\n",
    "            import pdb;\n",
    "            pdb.set_trace()\n",
    "        \n",
    "            \n",
    "        #print(final_rep.shape)\n",
    "        #return final_rep\n",
    "        \n",
    "        for ex in corpus.get_examples_for_entities(kbt.sbj, kbt.obj):\n",
    "            for word in ex.middle.split(' '):\n",
    "                feature_counter[word+subject_object_suffix] += 1\n",
    "        for ex in corpus.get_examples_for_entities(kbt.obj, kbt.sbj):\n",
    "            for word in ex.middle.split(' '):\n",
    "                feature_counter[word+object_subject_suffix] += 1\n",
    "        \"\"\"\n",
    "    print(\"Executing experiment\")    \n",
    "    \n",
    "    model_factory_logistic = lambda: LogisticRegression(fit_intercept=True, solver='liblinear')\n",
    "    model_factory_svc = lambda: SVC(kernel='linear')\n",
    "    #factories = [model_factory_logistic, model_factory_svc]\n",
    "    factories = [model_factory_logistic]\n",
    "    for model_factory in factories:\n",
    "        results = rel_ext.experiment(\n",
    "        splits,\n",
    "        train_split='train',\n",
    "        test_split='dev',\n",
    "        featurizers=[glove_bi_di_middle_featurizer],\n",
    "        model_factory=model_factory,\n",
    "        vectorize=False,\n",
    "        verbose=True)\n",
    "    print(\"Done!\")    \n",
    "\n",
    "\n",
    "\n"
   ]
  },
  {
   "cell_type": "code",
   "execution_count": null,
   "metadata": {},
   "outputs": [],
   "source": [
    "# On an otherwise blank line in this cell, please enter\n",
    "# your macro-average f-score (an F_0.5 score) as reported \n",
    "# by the code above. Please enter only a number between \n",
    "# 0 and 1 inclusive. Please do not remove this comment.\n",
    "if 'IS_GRADESCOPE_ENV' not in os.environ:\n",
    "    pass\n",
    "    # Please enter your score in the scope of the above conditional.\n",
    "    ##### YOUR CODE HERE\n",
    "\n",
    "\n"
   ]
  }
 ],
 "metadata": {
  "kernelspec": {
   "display_name": "nlu",
   "language": "python",
   "name": "nlu"
  },
  "language_info": {
   "codemirror_mode": {
    "name": "ipython",
    "version": 3
   },
   "file_extension": ".py",
   "mimetype": "text/x-python",
   "name": "python",
   "nbconvert_exporter": "python",
   "pygments_lexer": "ipython3",
   "version": "3.7.7"
  },
  "widgets": {
   "state": {},
   "version": "1.1.2"
  }
 },
 "nbformat": 4,
 "nbformat_minor": 2
}
