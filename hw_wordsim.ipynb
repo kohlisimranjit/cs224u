{
 "cells": [
  {
   "cell_type": "markdown",
   "metadata": {},
   "source": [
    "# Homework and bake-off: Word similarity"
   ]
  },
  {
   "cell_type": "code",
   "execution_count": 1,
   "metadata": {},
   "outputs": [],
   "source": [
    "__author__ = \"Christopher Potts\"\n",
    "__version__ = \"CS224u, Stanford, Spring 2020\""
   ]
  },
  {
   "cell_type": "markdown",
   "metadata": {},
   "source": [
    "## Contents\n",
    "\n",
    "1. [Overview](#Overview)\n",
    "1. [Set-up](#Set-up)\n",
    "1. [Dataset readers](#Dataset-readers)\n",
    "1. [Dataset comparisons](#Dataset-comparisons)\n",
    "  1. [Vocab overlap](#Vocab-overlap)\n",
    "  1. [Pair overlap and score correlations](#Pair-overlap-and-score-correlations)\n",
    "1. [Evaluation](#Evaluation)\n",
    "  1. [Dataset evaluation](#Dataset-evaluation)\n",
    "  1. [Dataset error analysis](#Dataset-error-analysis)\n",
    "  1. [Full evaluation](#Full-evaluation)\n",
    "1. [Homework questions](#Homework-questions)\n",
    "  1. [PPMI as a baseline [0.5 points]](#PPMI-as-a-baseline-[0.5-points])\n",
    "  1. [Gigaword with LSA at different dimensions [0.5 points]](#Gigaword-with-LSA-at-different-dimensions-[0.5-points])\n",
    "  1. [Gigaword with GloVe for a small number of iterations [0.5 points]](#Gigaword-with-GloVe-for-a-small-number-of-iterations-[0.5-points])\n",
    "  1. [Dice coefficient [0.5 points]](#Dice-coefficient-[0.5-points])\n",
    "  1. [t-test reweighting [2 points]](#t-test-reweighting-[2-points])\n",
    "  1. [Enriching a VSM with subword information [2 points]](#Enriching-a-VSM-with-subword-information-[2-points])\n",
    "  1. [Your original system [3 points]](#Your-original-system-[3-points])\n",
    "1. [Bake-off [1 point]](#Bake-off-[1-point])"
   ]
  },
  {
   "cell_type": "markdown",
   "metadata": {},
   "source": [
    "## Overview\n",
    "\n",
    "Word similarity datasets have long been used to evaluate distributed representations. This notebook provides basic code for conducting such analyses with a number of datasets:\n",
    "\n",
    "| Dataset | Pairs | Task-type | Current best Spearman $\\rho$ | Best $\\rho$ paper |   |\n",
    "|---------|-------|-----------|------------------------------|-------------------|---|\n",
    "| [WordSim-353](http://www.cs.technion.ac.il/~gabr/resources/data/wordsim353/) | 353 | Relatedness | 82.8 | [Speer et al. 2017](https://arxiv.org/abs/1612.03975) |\n",
    "| [MTurk-771](http://www2.mta.ac.il/~gideon/mturk771.html) | 771 | Relatedness | 81.0 | [Speer et al. 2017](https://arxiv.org/abs/1612.03975) |\n",
    "| [The MEN Test Collection](http://clic.cimec.unitn.it/~elia.bruni/MEN) | 3,000 | Relatedness | 86.6 | [Speer et al. 2017](https://arxiv.org/abs/1612.03975)  | \n",
    "| [SimVerb-3500-dev](http://people.ds.cam.ac.uk/dsg40/simverb.html) | 500 | Similarity | 61.1 | [Mrki&scaron;&cacute; et al. 2016](https://arxiv.org/pdf/1603.00892.pdf) |\n",
    "| [SimVerb-3500-test](http://people.ds.cam.ac.uk/dsg40/simverb.html) | 3,000 | Similarity | 62.4 | [Mrki&scaron;&cacute; et al. 2016](https://arxiv.org/pdf/1603.00892.pdf) |\n",
    "\n",
    "Each of the similarity datasets contains word pairs with an associated human-annotated similarity score. (We convert these to distances to align intuitively with our distance measure functions.) The evaluation code measures the distance between the word pairs in your chosen VSM (which should be a `pd.DataFrame`).\n",
    "\n",
    "The evaluation metric for each dataset is the [Spearman correlation coefficient $\\rho$](https://en.wikipedia.org/wiki/Spearman%27s_rank_correlation_coefficient) between the annotated scores and your distances, as is standard in the literature. We also macro-average these correlations across the datasets for an overall summary. (In using the macro-average, we are saying that we care about all the datasets equally, even though they vary in size.)\n",
    "\n",
    "This homework ([questions at the bottom of this notebook](#Homework-questions)) asks you to write code that uses the count matrices in `data/vsmdata` to create and evaluate some baseline models as well as an original model $M$ that you design. This accounts for 9 of the 10 points for this assignment.\n",
    "\n",
    "For the associated bake-off, we will distribute two new word similarity or relatedness datasets and associated reader code, and you will evaluate $M$ (no additional training or tuning allowed!) on those new datasets. Systems that enter will receive the additional homework point, and systems that achieve the top score will receive an additional 0.5 points."
   ]
  },
  {
   "cell_type": "markdown",
   "metadata": {},
   "source": [
    "## Set-up"
   ]
  },
  {
   "cell_type": "code",
   "execution_count": 2,
   "metadata": {},
   "outputs": [],
   "source": [
    "from collections import defaultdict\n",
    "import csv\n",
    "import itertools\n",
    "import numpy as np\n",
    "import os\n",
    "import pandas as pd\n",
    "from scipy.stats import spearmanr\n",
    "import vsm\n",
    "from IPython.display import display"
   ]
  },
  {
   "cell_type": "code",
   "execution_count": 3,
   "metadata": {},
   "outputs": [],
   "source": [
    "VSM_HOME = os.path.join('data', 'vsmdata')\n",
    "\n",
    "WORDSIM_HOME = os.path.join('data', 'wordsim')"
   ]
  },
  {
   "cell_type": "markdown",
   "metadata": {},
   "source": [
    "## Dataset readers"
   ]
  },
  {
   "cell_type": "code",
   "execution_count": 4,
   "metadata": {},
   "outputs": [],
   "source": [
    "def wordsim_dataset_reader(\n",
    "        src_filename, \n",
    "        header=False, \n",
    "        delimiter=',', \n",
    "        score_col_index=2):\n",
    "    \"\"\"Basic reader that works for all similarity datasets. They are \n",
    "    all tabular-style releases where the first two columns give the \n",
    "    word and a later column (`score_col_index`) gives the score.\n",
    "\n",
    "    Parameters\n",
    "    ----------\n",
    "    src_filename : str\n",
    "        Full path to the source file.\n",
    "    header : bool\n",
    "        Whether `src_filename` has a header. Default: False\n",
    "    delimiter : str\n",
    "        Field delimiter in `src_filename`. Default: ','\n",
    "    score_col_index : int\n",
    "        Column containing the similarity scores Default: 2\n",
    "\n",
    "    Yields\n",
    "    ------\n",
    "    (str, str, float)\n",
    "       (w1, w2, score) where `score` is the negative of the similarity\n",
    "       score in the file so that we are intuitively aligned with our\n",
    "       distance-based code. To align with our VSMs, all the words are \n",
    "       downcased.\n",
    "\n",
    "    \"\"\"\n",
    "    with open(src_filename) as f:\n",
    "        reader = csv.reader(f, delimiter=delimiter)\n",
    "        if header:\n",
    "            next(reader)\n",
    "        for row in reader:\n",
    "            w1 = row[0].strip().lower()\n",
    "            w2 = row[1].strip().lower()\n",
    "            score = row[score_col_index]\n",
    "            # Negative of scores to align intuitively with distance functions:\n",
    "            score = -float(score)\n",
    "            yield (w1, w2, score)\n",
    "\n",
    "def wordsim353_reader():\n",
    "    \"\"\"WordSim-353: http://www.cs.technion.ac.il/~gabr/resources/data/wordsim353/\"\"\"\n",
    "    src_filename = os.path.join(\n",
    "        WORDSIM_HOME, 'wordsim353', 'combined.csv')\n",
    "    return wordsim_dataset_reader(\n",
    "        src_filename, header=True)\n",
    "\n",
    "def mturk771_reader():\n",
    "    \"\"\"MTURK-771: http://www2.mta.ac.il/~gideon/mturk771.html\"\"\"\n",
    "    src_filename = os.path.join(\n",
    "        WORDSIM_HOME, 'MTURK-771.csv')\n",
    "    return wordsim_dataset_reader(\n",
    "        src_filename, header=False)\n",
    "\n",
    "def simverb3500dev_reader():\n",
    "    \"\"\"SimVerb-3500: http://people.ds.cam.ac.uk/dsg40/simverb.html\"\"\"\n",
    "    src_filename = os.path.join(\n",
    "        WORDSIM_HOME, 'SimVerb-3500', 'SimVerb-500-dev.txt')\n",
    "    return wordsim_dataset_reader(\n",
    "        src_filename, delimiter=\"\\t\", header=False, score_col_index=3)\n",
    "\n",
    "def simverb3500test_reader():\n",
    "    \"\"\"SimVerb-3500: http://people.ds.cam.ac.uk/dsg40/simverb.html\"\"\"\n",
    "    src_filename = os.path.join(\n",
    "        WORDSIM_HOME, 'SimVerb-3500', 'SimVerb-3000-test.txt')\n",
    "    return wordsim_dataset_reader(\n",
    "        src_filename, delimiter=\"\\t\", header=False, score_col_index=3)\n",
    "\n",
    "def men_reader():\n",
    "    \"\"\"MEN: http://clic.cimec.unitn.it/~elia.bruni/MEN\"\"\"\n",
    "    src_filename = os.path.join(\n",
    "        WORDSIM_HOME, 'MEN', 'MEN_dataset_natural_form_full')\n",
    "    return wordsim_dataset_reader(\n",
    "        src_filename, header=False, delimiter=' ') "
   ]
  },
  {
   "cell_type": "markdown",
   "metadata": {},
   "source": [
    "This collection of readers will be useful for flexible evaluations:"
   ]
  },
  {
   "cell_type": "code",
   "execution_count": 5,
   "metadata": {},
   "outputs": [],
   "source": [
    "READERS = (wordsim353_reader, mturk771_reader, simverb3500dev_reader, \n",
    "           simverb3500test_reader, men_reader)"
   ]
  },
  {
   "cell_type": "markdown",
   "metadata": {},
   "source": [
    "## Dataset comparisons\n",
    "\n",
    "This section does some basic analysis of the datasets. The goal is to obtain a deeper understanding of what problem we're solving – what strengths and weaknesses the datasets have and how they relate to each other. For a full-fledged project, we would want to continue work like this and report on it in the paper, to provide context for the results."
   ]
  },
  {
   "cell_type": "code",
   "execution_count": 6,
   "metadata": {},
   "outputs": [],
   "source": [
    "def get_reader_name(reader):\n",
    "    \"\"\"Return a cleaned-up name for the similarity dataset \n",
    "    iterator `reader`\n",
    "    \"\"\"\n",
    "    return reader.__name__.replace(\"_reader\", \"\")"
   ]
  },
  {
   "cell_type": "markdown",
   "metadata": {},
   "source": [
    "### Vocab overlap\n",
    "\n",
    "How many vocabulary items are shared across the datasets?"
   ]
  },
  {
   "cell_type": "code",
   "execution_count": 7,
   "metadata": {},
   "outputs": [],
   "source": [
    "def get_reader_vocab(reader):\n",
    "    \"\"\"Return the set of words (str) in `reader`.\"\"\"\n",
    "    vocab = set()\n",
    "    for w1, w2, _ in reader():\n",
    "        vocab.add(w1)\n",
    "        vocab.add(w2)\n",
    "    return vocab"
   ]
  },
  {
   "cell_type": "code",
   "execution_count": 8,
   "metadata": {},
   "outputs": [],
   "source": [
    "def get_reader_vocab_overlap(readers=READERS):\n",
    "    \"\"\"Get data on the vocab-level relationships between pairs of \n",
    "    readers. Returns a a pd.DataFrame containing this information.\n",
    "    \"\"\"\n",
    "    data = []\n",
    "    for r1, r2 in itertools.product(readers, repeat=2):       \n",
    "        v1 = get_reader_vocab(r1)\n",
    "        v2 = get_reader_vocab(r2)\n",
    "        d = {\n",
    "            'd1': get_reader_name(r1),\n",
    "            'd2': get_reader_name(r2),\n",
    "            'overlap': len(v1 & v2), \n",
    "            'union': len(v1 | v2),\n",
    "            'd1_size': len(v1),\n",
    "            'd2_size': len(v2)}\n",
    "        data.append(d)\n",
    "    return pd.DataFrame(data)"
   ]
  },
  {
   "cell_type": "code",
   "execution_count": 9,
   "metadata": {},
   "outputs": [],
   "source": [
    "vocab_overlap = get_reader_vocab_overlap()"
   ]
  },
  {
   "cell_type": "code",
   "execution_count": 10,
   "metadata": {},
   "outputs": [],
   "source": [
    "def vocab_overlap_crosstab(vocab_overlap):\n",
    "    \"\"\"Return an intuitively formatted `pd.DataFrame` giving \n",
    "    vocab-overlap counts for all the datasets represented in \n",
    "    `vocab_overlap`, the output of `get_reader_vocab_overlap`.\n",
    "    \"\"\"        \n",
    "    xtab = pd.crosstab(\n",
    "        vocab_overlap['d1'], \n",
    "        vocab_overlap['d2'], \n",
    "        values=vocab_overlap['overlap'], \n",
    "        aggfunc=np.mean)\n",
    "    # Blank out the upper right to reduce visual clutter:\n",
    "    for i in range(0, xtab.shape[0]):\n",
    "        for j in range(i+1, xtab.shape[1]):\n",
    "            xtab.iloc[i, j] = ''        \n",
    "    return xtab        "
   ]
  },
  {
   "cell_type": "code",
   "execution_count": 11,
   "metadata": {},
   "outputs": [
    {
     "data": {
      "text/html": [
       "<div>\n",
       "<style scoped>\n",
       "    .dataframe tbody tr th:only-of-type {\n",
       "        vertical-align: middle;\n",
       "    }\n",
       "\n",
       "    .dataframe tbody tr th {\n",
       "        vertical-align: top;\n",
       "    }\n",
       "\n",
       "    .dataframe thead th {\n",
       "        text-align: right;\n",
       "    }\n",
       "</style>\n",
       "<table border=\"1\" class=\"dataframe\">\n",
       "  <thead>\n",
       "    <tr style=\"text-align: right;\">\n",
       "      <th>d2</th>\n",
       "      <th>men</th>\n",
       "      <th>mturk771</th>\n",
       "      <th>simverb3500dev</th>\n",
       "      <th>simverb3500test</th>\n",
       "      <th>wordsim353</th>\n",
       "    </tr>\n",
       "    <tr>\n",
       "      <th>d1</th>\n",
       "      <th></th>\n",
       "      <th></th>\n",
       "      <th></th>\n",
       "      <th></th>\n",
       "      <th></th>\n",
       "    </tr>\n",
       "  </thead>\n",
       "  <tbody>\n",
       "    <tr>\n",
       "      <th>men</th>\n",
       "      <td>751</td>\n",
       "      <td></td>\n",
       "      <td></td>\n",
       "      <td></td>\n",
       "      <td></td>\n",
       "    </tr>\n",
       "    <tr>\n",
       "      <th>mturk771</th>\n",
       "      <td>230</td>\n",
       "      <td>1113</td>\n",
       "      <td></td>\n",
       "      <td></td>\n",
       "      <td></td>\n",
       "    </tr>\n",
       "    <tr>\n",
       "      <th>simverb3500dev</th>\n",
       "      <td>23</td>\n",
       "      <td>67</td>\n",
       "      <td>536</td>\n",
       "      <td></td>\n",
       "      <td></td>\n",
       "    </tr>\n",
       "    <tr>\n",
       "      <th>simverb3500test</th>\n",
       "      <td>30</td>\n",
       "      <td>94</td>\n",
       "      <td>532</td>\n",
       "      <td>823</td>\n",
       "      <td></td>\n",
       "    </tr>\n",
       "    <tr>\n",
       "      <th>wordsim353</th>\n",
       "      <td>86</td>\n",
       "      <td>158</td>\n",
       "      <td>13</td>\n",
       "      <td>17</td>\n",
       "      <td>437</td>\n",
       "    </tr>\n",
       "  </tbody>\n",
       "</table>\n",
       "</div>"
      ],
      "text/plain": [
       "d2               men mturk771 simverb3500dev simverb3500test wordsim353\n",
       "d1                                                                     \n",
       "men              751                                                   \n",
       "mturk771         230     1113                                          \n",
       "simverb3500dev    23       67            536                           \n",
       "simverb3500test   30       94            532             823           \n",
       "wordsim353        86      158             13              17        437"
      ]
     },
     "execution_count": 11,
     "metadata": {},
     "output_type": "execute_result"
    }
   ],
   "source": [
    "vocab_overlap_crosstab(vocab_overlap)"
   ]
  },
  {
   "cell_type": "markdown",
   "metadata": {},
   "source": [
    "This looks reasonable. By design, the SimVerb dev and test sets have a lot of overlap. The other overlap numbers are pretty small, even adjusting for dataset size."
   ]
  },
  {
   "cell_type": "markdown",
   "metadata": {},
   "source": [
    "### Pair overlap and score correlations\n",
    "\n",
    "How many word pairs are shared across datasets and, for shared pairs, what is the correlation between their scores? That is, do the datasets agree?"
   ]
  },
  {
   "cell_type": "code",
   "execution_count": 12,
   "metadata": {},
   "outputs": [],
   "source": [
    "def get_reader_pairs(reader):\n",
    "    \"\"\"Return the set of alphabetically-sorted word (str) tuples \n",
    "    in `reader`\n",
    "    \"\"\"\n",
    "    return {tuple(sorted([w1, w2])): score for w1, w2, score in reader()}"
   ]
  },
  {
   "cell_type": "code",
   "execution_count": 13,
   "metadata": {},
   "outputs": [],
   "source": [
    "def get_reader_pair_overlap(readers=READERS):\n",
    "    \"\"\"Return a `pd.DataFrame` giving the number of overlapping \n",
    "    word-pairs in pairs of readers, along with the Spearman \n",
    "    correlations.\n",
    "    \"\"\"    \n",
    "    data = []\n",
    "    for r1, r2 in itertools.product(READERS, repeat=2):\n",
    "        if r1.__name__ != r2.__name__:\n",
    "            d1 = get_reader_pairs(r1)\n",
    "            d2 = get_reader_pairs(r2)\n",
    "            overlap = []\n",
    "            for p, s in d1.items():\n",
    "                if p in d2:\n",
    "                    overlap.append([s, d2[p]])\n",
    "            if overlap:\n",
    "                s1, s2 = zip(*overlap)\n",
    "                rho = spearmanr(s1, s2)[0]\n",
    "            else:\n",
    "                rho = None\n",
    "            # Canonical order for the pair:\n",
    "            n1, n2 = sorted([get_reader_name(r1), get_reader_name(r2)])\n",
    "            d = {\n",
    "                'd1': n1,\n",
    "                'd2': n2,\n",
    "                'pair_overlap': len(overlap),\n",
    "                'rho': rho}\n",
    "            data.append(d)\n",
    "    df = pd.DataFrame(data)\n",
    "    df = df.sort_values(['pair_overlap','d1','d2'], ascending=False)\n",
    "    # Return only every other row to avoid repeats:\n",
    "    return df[::2].reset_index(drop=True)"
   ]
  },
  {
   "cell_type": "code",
   "execution_count": 14,
   "metadata": {},
   "outputs": [
    {
     "data": {
      "text/html": [
       "<div>\n",
       "<style scoped>\n",
       "    .dataframe tbody tr th:only-of-type {\n",
       "        vertical-align: middle;\n",
       "    }\n",
       "\n",
       "    .dataframe tbody tr th {\n",
       "        vertical-align: top;\n",
       "    }\n",
       "\n",
       "    .dataframe thead th {\n",
       "        text-align: right;\n",
       "    }\n",
       "</style>\n",
       "<table border=\"1\" class=\"dataframe\">\n",
       "  <thead>\n",
       "    <tr style=\"text-align: right;\">\n",
       "      <th></th>\n",
       "      <th>d1</th>\n",
       "      <th>d2</th>\n",
       "      <th>pair_overlap</th>\n",
       "      <th>rho</th>\n",
       "    </tr>\n",
       "  </thead>\n",
       "  <tbody>\n",
       "    <tr>\n",
       "      <th>0</th>\n",
       "      <td>men</td>\n",
       "      <td>mturk771</td>\n",
       "      <td>11</td>\n",
       "      <td>0.592191</td>\n",
       "    </tr>\n",
       "    <tr>\n",
       "      <th>1</th>\n",
       "      <td>men</td>\n",
       "      <td>wordsim353</td>\n",
       "      <td>5</td>\n",
       "      <td>0.700000</td>\n",
       "    </tr>\n",
       "    <tr>\n",
       "      <th>2</th>\n",
       "      <td>mturk771</td>\n",
       "      <td>simverb3500test</td>\n",
       "      <td>4</td>\n",
       "      <td>0.400000</td>\n",
       "    </tr>\n",
       "    <tr>\n",
       "      <th>3</th>\n",
       "      <td>men</td>\n",
       "      <td>simverb3500test</td>\n",
       "      <td>2</td>\n",
       "      <td>1.000000</td>\n",
       "    </tr>\n",
       "    <tr>\n",
       "      <th>4</th>\n",
       "      <td>simverb3500dev</td>\n",
       "      <td>simverb3500test</td>\n",
       "      <td>1</td>\n",
       "      <td>NaN</td>\n",
       "    </tr>\n",
       "    <tr>\n",
       "      <th>5</th>\n",
       "      <td>simverb3500test</td>\n",
       "      <td>wordsim353</td>\n",
       "      <td>0</td>\n",
       "      <td>NaN</td>\n",
       "    </tr>\n",
       "    <tr>\n",
       "      <th>6</th>\n",
       "      <td>simverb3500dev</td>\n",
       "      <td>wordsim353</td>\n",
       "      <td>0</td>\n",
       "      <td>NaN</td>\n",
       "    </tr>\n",
       "    <tr>\n",
       "      <th>7</th>\n",
       "      <td>mturk771</td>\n",
       "      <td>wordsim353</td>\n",
       "      <td>0</td>\n",
       "      <td>NaN</td>\n",
       "    </tr>\n",
       "    <tr>\n",
       "      <th>8</th>\n",
       "      <td>mturk771</td>\n",
       "      <td>simverb3500dev</td>\n",
       "      <td>0</td>\n",
       "      <td>NaN</td>\n",
       "    </tr>\n",
       "    <tr>\n",
       "      <th>9</th>\n",
       "      <td>men</td>\n",
       "      <td>simverb3500dev</td>\n",
       "      <td>0</td>\n",
       "      <td>NaN</td>\n",
       "    </tr>\n",
       "  </tbody>\n",
       "</table>\n",
       "</div>"
      ],
      "text/plain": [
       "                d1               d2  pair_overlap       rho\n",
       "0              men         mturk771            11  0.592191\n",
       "1              men       wordsim353             5  0.700000\n",
       "2         mturk771  simverb3500test             4  0.400000\n",
       "3              men  simverb3500test             2  1.000000\n",
       "4   simverb3500dev  simverb3500test             1       NaN\n",
       "5  simverb3500test       wordsim353             0       NaN\n",
       "6   simverb3500dev       wordsim353             0       NaN\n",
       "7         mturk771       wordsim353             0       NaN\n",
       "8         mturk771   simverb3500dev             0       NaN\n",
       "9              men   simverb3500dev             0       NaN"
      ]
     },
     "metadata": {},
     "output_type": "display_data"
    }
   ],
   "source": [
    "if 'IS_GRADESCOPE_ENV' not in os.environ:\n",
    "    display(get_reader_pair_overlap())"
   ]
  },
  {
   "cell_type": "markdown",
   "metadata": {},
   "source": [
    "This looks reasonable: none of the datasets have a lot of overlapping pairs, so we don't have to worry too much about places where they give conflicting scores."
   ]
  },
  {
   "cell_type": "markdown",
   "metadata": {
    "collapsed": true
   },
   "source": [
    "## Evaluation\n",
    "\n",
    "This section builds up the evaluation code that you'll use for the homework and bake-off. For illustrations, I'll read in a VSM created from `data/vsmdata/giga_window5-scaled.csv.gz`:"
   ]
  },
  {
   "cell_type": "code",
   "execution_count": 15,
   "metadata": {},
   "outputs": [],
   "source": [
    "giga5 = pd.read_csv(\n",
    "    os.path.join(VSM_HOME, \"giga_window5-scaled.csv.gz\"), index_col=0)"
   ]
  },
  {
   "cell_type": "markdown",
   "metadata": {},
   "source": [
    "### Dataset evaluation"
   ]
  },
  {
   "cell_type": "code",
   "execution_count": 16,
   "metadata": {},
   "outputs": [],
   "source": [
    "def word_similarity_evaluation(reader, df, distfunc=vsm.cosine):\n",
    "    \"\"\"Word-similarity evalution framework.\n",
    "    \n",
    "    Parameters\n",
    "    ----------\n",
    "    reader : iterator\n",
    "        A reader for a word-similarity dataset. Just has to yield\n",
    "        tuples (word1, word2, score).    \n",
    "    df : pd.DataFrame\n",
    "        The VSM being evaluated.        \n",
    "    distfunc : function mapping vector pairs to floats.\n",
    "        The measure of distance between vectors. Can also be \n",
    "        `vsm.euclidean`, `vsm.matching`, `vsm.jaccard`, as well as \n",
    "        any other float-valued function on pairs of vectors.    \n",
    "        \n",
    "    Raises\n",
    "    ------\n",
    "    ValueError\n",
    "        If `df.index` is not a subset of the words in `reader`.\n",
    "    \n",
    "    Returns\n",
    "    -------\n",
    "    float, data\n",
    "        `float` is the Spearman rank correlation coefficient between \n",
    "        the dataset scores and the similarity values obtained from \n",
    "        `df` using  `distfunc`. This evaluation is sensitive only to \n",
    "        rankings, not to absolute values.  `data` is a `pd.DataFrame` \n",
    "        with columns['word1', 'word2', 'score', 'distance'].\n",
    "        \n",
    "    \"\"\"\n",
    "    data = []\n",
    "    for w1, w2, score in reader():\n",
    "        d = {'word1': w1, 'word2': w2, 'score': score}\n",
    "        for w in [w1, w2]:\n",
    "            if w not in df.index:\n",
    "                raise ValueError(\n",
    "                    \"Word '{}' is in the similarity dataset {} but not in the \"\n",
    "                    \"DataFrame, making this evaluation ill-defined. Please \"\n",
    "                    \"switch to a DataFrame with an appropriate vocabulary.\".\n",
    "                    format(w, get_reader_name(reader))) \n",
    "        d['distance'] = distfunc(df.loc[w1], df.loc[w2])\n",
    "        data.append(d)\n",
    "    data = pd.DataFrame(data)\n",
    "    rho, pvalue = spearmanr(data['score'].values, data['distance'].values)\n",
    "    return rho, data"
   ]
  },
  {
   "cell_type": "code",
   "execution_count": 17,
   "metadata": {},
   "outputs": [],
   "source": [
    "rho, eval_df = word_similarity_evaluation(men_reader, giga5)"
   ]
  },
  {
   "cell_type": "code",
   "execution_count": 18,
   "metadata": {},
   "outputs": [
    {
     "data": {
      "text/plain": [
       "0.40375964105441753"
      ]
     },
     "execution_count": 18,
     "metadata": {},
     "output_type": "execute_result"
    }
   ],
   "source": [
    "rho"
   ]
  },
  {
   "cell_type": "code",
   "execution_count": 19,
   "metadata": {},
   "outputs": [
    {
     "data": {
      "text/html": [
       "<div>\n",
       "<style scoped>\n",
       "    .dataframe tbody tr th:only-of-type {\n",
       "        vertical-align: middle;\n",
       "    }\n",
       "\n",
       "    .dataframe tbody tr th {\n",
       "        vertical-align: top;\n",
       "    }\n",
       "\n",
       "    .dataframe thead th {\n",
       "        text-align: right;\n",
       "    }\n",
       "</style>\n",
       "<table border=\"1\" class=\"dataframe\">\n",
       "  <thead>\n",
       "    <tr style=\"text-align: right;\">\n",
       "      <th></th>\n",
       "      <th>word1</th>\n",
       "      <th>word2</th>\n",
       "      <th>score</th>\n",
       "      <th>distance</th>\n",
       "    </tr>\n",
       "  </thead>\n",
       "  <tbody>\n",
       "    <tr>\n",
       "      <th>0</th>\n",
       "      <td>sun</td>\n",
       "      <td>sunlight</td>\n",
       "      <td>-50.0</td>\n",
       "      <td>0.956828</td>\n",
       "    </tr>\n",
       "    <tr>\n",
       "      <th>1</th>\n",
       "      <td>automobile</td>\n",
       "      <td>car</td>\n",
       "      <td>-50.0</td>\n",
       "      <td>0.979143</td>\n",
       "    </tr>\n",
       "    <tr>\n",
       "      <th>2</th>\n",
       "      <td>river</td>\n",
       "      <td>water</td>\n",
       "      <td>-49.0</td>\n",
       "      <td>0.970105</td>\n",
       "    </tr>\n",
       "    <tr>\n",
       "      <th>3</th>\n",
       "      <td>stairs</td>\n",
       "      <td>staircase</td>\n",
       "      <td>-49.0</td>\n",
       "      <td>0.980475</td>\n",
       "    </tr>\n",
       "    <tr>\n",
       "      <th>4</th>\n",
       "      <td>morning</td>\n",
       "      <td>sunrise</td>\n",
       "      <td>-49.0</td>\n",
       "      <td>0.963624</td>\n",
       "    </tr>\n",
       "  </tbody>\n",
       "</table>\n",
       "</div>"
      ],
      "text/plain": [
       "        word1      word2  score  distance\n",
       "0         sun   sunlight  -50.0  0.956828\n",
       "1  automobile        car  -50.0  0.979143\n",
       "2       river      water  -49.0  0.970105\n",
       "3      stairs  staircase  -49.0  0.980475\n",
       "4     morning    sunrise  -49.0  0.963624"
      ]
     },
     "execution_count": 19,
     "metadata": {},
     "output_type": "execute_result"
    }
   ],
   "source": [
    "eval_df.head()"
   ]
  },
  {
   "cell_type": "markdown",
   "metadata": {},
   "source": [
    "### Dataset error analysis\n",
    "\n",
    "For error analysis, we can look at the words with the largest delta between the gold score and the distance value in our VSM. We do these comparisons based on ranks, just as with our primary metric (Spearman $\\rho$), and we normalize both rankings so that they have a comparable number of levels."
   ]
  },
  {
   "cell_type": "code",
   "execution_count": 20,
   "metadata": {},
   "outputs": [],
   "source": [
    "def word_similarity_error_analysis(eval_df):    \n",
    "    eval_df['distance_rank'] = _normalized_ranking(eval_df['distance'])\n",
    "    eval_df['score_rank'] = _normalized_ranking(eval_df['score'])\n",
    "    eval_df['error'] =  abs(eval_df['distance_rank'] - eval_df['score_rank'])\n",
    "    return eval_df.sort_values('error')\n",
    "    \n",
    "    \n",
    "def _normalized_ranking(series):\n",
    "    ranks = series.rank(method='dense')\n",
    "    return ranks / ranks.sum()    "
   ]
  },
  {
   "cell_type": "markdown",
   "metadata": {},
   "source": [
    "Best predictions:"
   ]
  },
  {
   "cell_type": "code",
   "execution_count": 21,
   "metadata": {},
   "outputs": [
    {
     "data": {
      "text/html": [
       "<div>\n",
       "<style scoped>\n",
       "    .dataframe tbody tr th:only-of-type {\n",
       "        vertical-align: middle;\n",
       "    }\n",
       "\n",
       "    .dataframe tbody tr th {\n",
       "        vertical-align: top;\n",
       "    }\n",
       "\n",
       "    .dataframe thead th {\n",
       "        text-align: right;\n",
       "    }\n",
       "</style>\n",
       "<table border=\"1\" class=\"dataframe\">\n",
       "  <thead>\n",
       "    <tr style=\"text-align: right;\">\n",
       "      <th></th>\n",
       "      <th>word1</th>\n",
       "      <th>word2</th>\n",
       "      <th>score</th>\n",
       "      <th>distance</th>\n",
       "      <th>distance_rank</th>\n",
       "      <th>score_rank</th>\n",
       "      <th>error</th>\n",
       "    </tr>\n",
       "  </thead>\n",
       "  <tbody>\n",
       "    <tr>\n",
       "      <th>1041</th>\n",
       "      <td>hummingbird</td>\n",
       "      <td>pelican</td>\n",
       "      <td>-32.0</td>\n",
       "      <td>0.975007</td>\n",
       "      <td>0.000243</td>\n",
       "      <td>0.000244</td>\n",
       "      <td>2.434543e-07</td>\n",
       "    </tr>\n",
       "    <tr>\n",
       "      <th>2315</th>\n",
       "      <td>lily</td>\n",
       "      <td>pigs</td>\n",
       "      <td>-13.0</td>\n",
       "      <td>0.980834</td>\n",
       "      <td>0.000488</td>\n",
       "      <td>0.000487</td>\n",
       "      <td>4.016842e-07</td>\n",
       "    </tr>\n",
       "    <tr>\n",
       "      <th>2951</th>\n",
       "      <td>bucket</td>\n",
       "      <td>girls</td>\n",
       "      <td>-4.0</td>\n",
       "      <td>0.983473</td>\n",
       "      <td>0.000602</td>\n",
       "      <td>0.000603</td>\n",
       "      <td>4.151568e-07</td>\n",
       "    </tr>\n",
       "    <tr>\n",
       "      <th>150</th>\n",
       "      <td>night</td>\n",
       "      <td>sunset</td>\n",
       "      <td>-43.0</td>\n",
       "      <td>0.968690</td>\n",
       "      <td>0.000102</td>\n",
       "      <td>0.000103</td>\n",
       "      <td>6.520315e-07</td>\n",
       "    </tr>\n",
       "    <tr>\n",
       "      <th>2062</th>\n",
       "      <td>oak</td>\n",
       "      <td>petals</td>\n",
       "      <td>-17.0</td>\n",
       "      <td>0.979721</td>\n",
       "      <td>0.000435</td>\n",
       "      <td>0.000436</td>\n",
       "      <td>7.162632e-07</td>\n",
       "    </tr>\n",
       "  </tbody>\n",
       "</table>\n",
       "</div>"
      ],
      "text/plain": [
       "            word1    word2  score  distance  distance_rank  score_rank  \\\n",
       "1041  hummingbird  pelican  -32.0  0.975007       0.000243    0.000244   \n",
       "2315         lily     pigs  -13.0  0.980834       0.000488    0.000487   \n",
       "2951       bucket    girls   -4.0  0.983473       0.000602    0.000603   \n",
       "150         night   sunset  -43.0  0.968690       0.000102    0.000103   \n",
       "2062          oak   petals  -17.0  0.979721       0.000435    0.000436   \n",
       "\n",
       "             error  \n",
       "1041  2.434543e-07  \n",
       "2315  4.016842e-07  \n",
       "2951  4.151568e-07  \n",
       "150   6.520315e-07  \n",
       "2062  7.162632e-07  "
      ]
     },
     "execution_count": 21,
     "metadata": {},
     "output_type": "execute_result"
    }
   ],
   "source": [
    "word_similarity_error_analysis(eval_df).head()"
   ]
  },
  {
   "cell_type": "markdown",
   "metadata": {},
   "source": [
    "Worst predictions:"
   ]
  },
  {
   "cell_type": "code",
   "execution_count": 22,
   "metadata": {},
   "outputs": [
    {
     "data": {
      "text/html": [
       "<div>\n",
       "<style scoped>\n",
       "    .dataframe tbody tr th:only-of-type {\n",
       "        vertical-align: middle;\n",
       "    }\n",
       "\n",
       "    .dataframe tbody tr th {\n",
       "        vertical-align: top;\n",
       "    }\n",
       "\n",
       "    .dataframe thead th {\n",
       "        text-align: right;\n",
       "    }\n",
       "</style>\n",
       "<table border=\"1\" class=\"dataframe\">\n",
       "  <thead>\n",
       "    <tr style=\"text-align: right;\">\n",
       "      <th></th>\n",
       "      <th>word1</th>\n",
       "      <th>word2</th>\n",
       "      <th>score</th>\n",
       "      <th>distance</th>\n",
       "      <th>distance_rank</th>\n",
       "      <th>score_rank</th>\n",
       "      <th>error</th>\n",
       "    </tr>\n",
       "  </thead>\n",
       "  <tbody>\n",
       "    <tr>\n",
       "      <th>67</th>\n",
       "      <td>branch</td>\n",
       "      <td>twigs</td>\n",
       "      <td>-45.0</td>\n",
       "      <td>0.984622</td>\n",
       "      <td>0.000630</td>\n",
       "      <td>0.000077</td>\n",
       "      <td>0.000553</td>\n",
       "    </tr>\n",
       "    <tr>\n",
       "      <th>190</th>\n",
       "      <td>birds</td>\n",
       "      <td>stork</td>\n",
       "      <td>-43.0</td>\n",
       "      <td>0.987704</td>\n",
       "      <td>0.000657</td>\n",
       "      <td>0.000103</td>\n",
       "      <td>0.000554</td>\n",
       "    </tr>\n",
       "    <tr>\n",
       "      <th>185</th>\n",
       "      <td>bloom</td>\n",
       "      <td>tulip</td>\n",
       "      <td>-43.0</td>\n",
       "      <td>0.990993</td>\n",
       "      <td>0.000663</td>\n",
       "      <td>0.000103</td>\n",
       "      <td>0.000561</td>\n",
       "    </tr>\n",
       "    <tr>\n",
       "      <th>167</th>\n",
       "      <td>bloom</td>\n",
       "      <td>blossom</td>\n",
       "      <td>-43.0</td>\n",
       "      <td>0.991760</td>\n",
       "      <td>0.000664</td>\n",
       "      <td>0.000103</td>\n",
       "      <td>0.000561</td>\n",
       "    </tr>\n",
       "    <tr>\n",
       "      <th>198</th>\n",
       "      <td>bloom</td>\n",
       "      <td>rose</td>\n",
       "      <td>-43.0</td>\n",
       "      <td>0.992406</td>\n",
       "      <td>0.000664</td>\n",
       "      <td>0.000103</td>\n",
       "      <td>0.000561</td>\n",
       "    </tr>\n",
       "  </tbody>\n",
       "</table>\n",
       "</div>"
      ],
      "text/plain": [
       "      word1    word2  score  distance  distance_rank  score_rank     error\n",
       "67   branch    twigs  -45.0  0.984622       0.000630    0.000077  0.000553\n",
       "190   birds    stork  -43.0  0.987704       0.000657    0.000103  0.000554\n",
       "185   bloom    tulip  -43.0  0.990993       0.000663    0.000103  0.000561\n",
       "167   bloom  blossom  -43.0  0.991760       0.000664    0.000103  0.000561\n",
       "198   bloom     rose  -43.0  0.992406       0.000664    0.000103  0.000561"
      ]
     },
     "execution_count": 22,
     "metadata": {},
     "output_type": "execute_result"
    }
   ],
   "source": [
    "word_similarity_error_analysis(eval_df).tail()"
   ]
  },
  {
   "cell_type": "markdown",
   "metadata": {},
   "source": [
    "### Full evaluation"
   ]
  },
  {
   "cell_type": "markdown",
   "metadata": {},
   "source": [
    "A full evaluation is just a loop over all the readers on which one want to evaluate, with a macro-average at the end:"
   ]
  },
  {
   "cell_type": "code",
   "execution_count": 23,
   "metadata": {},
   "outputs": [],
   "source": [
    "def full_word_similarity_evaluation(df, readers=READERS, distfunc=vsm.cosine):\n",
    "    \"\"\"Evaluate a VSM against all datasets in `readers`.\n",
    "    \n",
    "    Parameters\n",
    "    ----------\n",
    "    df : pd.DataFrame\n",
    "    readers : tuple \n",
    "        The similarity dataset readers on which to evaluate.\n",
    "    distfunc : function mapping vector pairs to floats.\n",
    "        The measure of distance between vectors. Can also be \n",
    "        `vsm.euclidean`, `vsm.matching`, `vsm.jaccard`, as well as \n",
    "        any other float-valued function on pairs of vectors.    \n",
    "    \n",
    "    Returns\n",
    "    -------\n",
    "    pd.Series\n",
    "        Mapping dataset names to Spearman r values.\n",
    "        \n",
    "    \"\"\"        \n",
    "    scores = {}     \n",
    "    for reader in readers:\n",
    "        score, data_df = word_similarity_evaluation(reader, df, distfunc=distfunc)\n",
    "        scores[get_reader_name(reader)] = score\n",
    "    series = pd.Series(scores, name='Spearman r')\n",
    "    series['Macro-average'] = series.mean()\n",
    "    return series"
   ]
  },
  {
   "cell_type": "code",
   "execution_count": 24,
   "metadata": {},
   "outputs": [
    {
     "data": {
      "text/plain": [
       "wordsim353         0.327831\n",
       "mturk771           0.143146\n",
       "simverb3500dev    -0.065020\n",
       "simverb3500test   -0.066314\n",
       "men                0.403760\n",
       "Macro-average      0.148681\n",
       "Name: Spearman r, dtype: float64"
      ]
     },
     "metadata": {},
     "output_type": "display_data"
    }
   ],
   "source": [
    "if 'IS_GRADESCOPE_ENV' not in os.environ:\n",
    "    display(full_word_similarity_evaluation(giga5))"
   ]
  },
  {
   "cell_type": "markdown",
   "metadata": {},
   "source": [
    "## Homework questions\n",
    "\n",
    "Please embed your homework responses in this notebook, and do not delete any cells from the notebook. (You are free to add as many cells as you like as part of your responses.)"
   ]
  },
  {
   "cell_type": "markdown",
   "metadata": {},
   "source": [
    "### PPMI as a baseline [0.5 points]\n",
    "\n",
    "The insight behind PPMI is a recurring theme in word representation learning, so it is a natural baseline for our task. For this question, write a function called `run_giga_ppmi_baseline` that does the following:\n",
    "\n",
    "1. Reads the Gigaword count matrix with a window of 20 and a flat scaling function into a `pd.DataFrame`s, as is done in the VSM notebooks. The file is `data/vsmdata/giga_window20-flat.csv.gz`, and the VSM notebooks provide examples of the needed code.\n",
    "\n",
    "1. Reweights this count matrix with PPMI.\n",
    "\n",
    "1. Evaluates this reweighted matrix using `full_word_similarity_evaluation`. The return value of `run_giga_ppmi_baseline` should be the return value of this call to `full_word_similarity_evaluation`.\n",
    "\n",
    "The goal of this question is to help you get more familiar with the code in `vsm` and the function `full_word_similarity_evaluation`.\n",
    "\n",
    "The function `test_run_giga_ppmi_baseline` can be used to test that you've implemented this specification correctly."
   ]
  },
  {
   "cell_type": "code",
   "execution_count": 25,
   "metadata": {},
   "outputs": [],
   "source": [
    "def run_giga_ppmi_baseline():\n",
    "    \n",
    "    ##### YOUR CODE HERE\n",
    "    giga20 = pd.read_csv(\n",
    "        os.path.join(VSM_HOME, \"giga_window20-flat.csv.gz\"), index_col=0)\n",
    "    #import pdb; pdb.set_trace()\n",
    "    giga20_ppmi = vsm.pmi(giga20, positive=True)\n",
    "    reweighted = giga20_ppmi\n",
    "    # def full_word_similarity_evaluation(df, readers=READERS, distfunc=vsm.cosine)\n",
    "    result = full_word_similarity_evaluation(reweighted)\n",
    "    ws_result = result.loc['wordsim353'].round(2)\n",
    "    #print(ws_result)\n",
    "    return result\n",
    "    \"\"\"print(giga20.loc['wordsim353'])\n",
    "    return giga20\n",
    "    arr = giga20\n",
    "    arr = giga20.to_numpy()\n",
    "    #row_sum = arr.sum(axis=1)\n",
    "    #col_sum = arr.sum(axis=0)\n",
    "    rowsum = np.sum(arr, axis=1)\n",
    "    colsum = np.sum(arr, axis=0)\n",
    "    sumX = np.sum(rowsum, axis=0)\n",
    "    expected = np.outer(rowsum, colsum)/sumX\n",
    "    oe = arr/expected\n",
    "    oe[oe == 0] = 1\n",
    "    pmi = np.log(oe)\n",
    "    #ppmi[ppmi < 0] = 0\n",
    "    #giga20[:]=pmi\n",
    "    return giga20\"\"\"\n",
    "\n",
    "\n"
   ]
  },
  {
   "cell_type": "code",
   "execution_count": 26,
   "metadata": {},
   "outputs": [],
   "source": [
    "def test_run_giga_ppmi_baseline(run_giga_ppmi_baseline):\n",
    "    result = run_giga_ppmi_baseline()\n",
    "    ws_result = result.loc['wordsim353'].round(2)\n",
    "    ws_expected = 0.58\n",
    "    assert ws_result == ws_expected, \\\n",
    "        \"Expected wordsim353 value of {}; got {}\".format(ws_expected, ws_result)"
   ]
  },
  {
   "cell_type": "code",
   "execution_count": 27,
   "metadata": {},
   "outputs": [],
   "source": [
    "if 'IS_GRADESCOPE_ENV' not in os.environ:\n",
    "    test_run_giga_ppmi_baseline(run_giga_ppmi_baseline)"
   ]
  },
  {
   "cell_type": "markdown",
   "metadata": {},
   "source": [
    "### Gigaword with LSA at different dimensions [0.5 points]\n",
    "\n",
    "We might expect PPMI and LSA to form a solid pipeline that combines the strengths of PPMI with those of dimensionality reduction. However, LSA has a hyper-parameter $k$ – the dimensionality of the final representations – that will impact performance. For this problem, write a wrapper function `run_ppmi_lsa_pipeline` that does the following:\n",
    "\n",
    "1. Takes as input a count `pd.DataFrame` and an LSA parameter `k`.\n",
    "1. Reweights the count matrix with PPMI.\n",
    "1. Applies LSA with dimensionality `k`.\n",
    "1. Evaluates this reweighted matrix using `full_word_similarity_evaluation`. The return value of `run_ppmi_lsa_pipeline` should be the return value of this call to `full_word_similarity_evaluation`.\n",
    "\n",
    "The goal of this question is to help you get a feel for how much LSA alone can contribute to this problem. \n",
    "\n",
    "The  function `test_run_ppmi_lsa_pipeline` will test your function on the count matrix in `data/vsmdata/giga_window20-flat.csv.gz`."
   ]
  },
  {
   "cell_type": "code",
   "execution_count": 28,
   "metadata": {},
   "outputs": [],
   "source": [
    "def run_ppmi_lsa_pipeline(count_df, k):\n",
    "    \n",
    "    ##### YOUR CODE HERE\n",
    "    count_df_ppmi = vsm.pmi(count_df, positive=True)\n",
    "    count_df_lsa = vsm.lsa(count_df_ppmi, k)\n",
    "    result = full_word_similarity_evaluation(count_df_lsa)\n",
    "    return result\n",
    "     \n",
    "\n",
    "\n"
   ]
  },
  {
   "cell_type": "code",
   "execution_count": 29,
   "metadata": {},
   "outputs": [],
   "source": [
    "def test_run_ppmi_lsa_pipeline(run_ppmi_lsa_pipeline):\n",
    "    giga20 = pd.read_csv(\n",
    "        os.path.join(VSM_HOME, \"giga_window20-flat.csv.gz\"), index_col=0)\n",
    "    results = run_ppmi_lsa_pipeline(giga20, k=10)\n",
    "    men_expected = 0.57\n",
    "    men_result = results.loc['men'].round(2)\n",
    "    assert men_result == men_expected,\\\n",
    "        \"Expected men value of {}; got {}\".format(men_expected, men_result)"
   ]
  },
  {
   "cell_type": "code",
   "execution_count": 30,
   "metadata": {},
   "outputs": [],
   "source": [
    "if 'IS_GRADESCOPE_ENV' not in os.environ:\n",
    "    test_run_ppmi_lsa_pipeline(run_ppmi_lsa_pipeline)"
   ]
  },
  {
   "cell_type": "markdown",
   "metadata": {},
   "source": [
    "### Gigaword with GloVe for a small number of iterations [0.5 points]\n",
    "\n",
    "Ideally, we would run GloVe for a very large number of iterations on a GPU machine to compare it against its close cousin PMI. However, we don't want this homework to cost you a lot of money or monopolize a lot of your available computing resources, so let's instead just probe GloVe a little bit to see if it has promise for our task. For this problem, write a function `run_small_glove_evals` that does the following:\n",
    "\n",
    "1. Reads in `data/vsmdata/giga_window20-flat.csv.gz`.\n",
    "1. Runs GloVe for 10, 100, and 200 iterations on `data/vsmdata/giga_window20-flat.csv.gz`, using the `mittens` implementation of `GloVe`. \n",
    "  * For all the other parameters to `mittens.GloVe` besides `max_iter`, use the package's defaults.\n",
    "  * Because of the way that implementation is designed, these will have to be separate runs, but they should be relatively quick. \n",
    "1. Stores the values in a `dict` mapping each `max_iter` value to its associated 'Macro-average' score according to `full_word_similarity_evaluation`. `run_small_glove_evals`  should return this `dict`.\n",
    "\n",
    "The trend should give you a sense for whether it is worth running GloVe for more iterations.\n",
    "\n",
    "Some implementation notes:\n",
    "\n",
    "* Your trained GloVe matrix `X` needs to be wrapped in a `pd.DataFrame` to work with `full_word_similarity_evaluation`. `pd.DataFrame(X, index=giga20.index)` will do the trick.\n",
    "\n",
    "* If `glv` is your GloVe model, then running `glv.sess.close()` after each model is trained will silence warnings from TensorFlow about interactive sessions being active.\n",
    "\n",
    "Performance will vary a lot for this function, so there is some uncertainty in the testing, but `test_run_small_glove_evals` will at least check that you wrote a function with the right general logic."
   ]
  },
  {
   "cell_type": "code",
   "execution_count": 31,
   "metadata": {},
   "outputs": [],
   "source": [
    "def run_small_glove_evals():\n",
    "\n",
    "    from mittens import GloVe\n",
    "    \n",
    "    ##### YOUR CODE HERE\n",
    "    giga20 = pd.read_csv(\n",
    "        os.path.join(VSM_HOME, \"giga_window20-flat.csv.gz\"), index_col=0)\n",
    "    result = {}\n",
    "    iter_list = [10, 100, 200]\n",
    "    #iter_list = [10] \n",
    "    for iters in iter_list:\n",
    "        glv = GloVe(max_iter=iters)\n",
    "        # to_numpy\n",
    "        X = glv.fit(giga20.to_numpy())\n",
    "        #glv.sess.close()\n",
    "        df = pd.DataFrame(X, index=giga20.index)\n",
    "        evaluation = full_word_similarity_evaluation(df)\n",
    "        #print(evaluation)\n",
    "        result[iters] = evaluation['Macro-average']\n",
    "    return result\n",
    "\n"
   ]
  },
  {
   "cell_type": "code",
   "execution_count": 32,
   "metadata": {},
   "outputs": [],
   "source": [
    "def test_run_small_glove_evals(run_small_glove_evals):\n",
    "    data = run_small_glove_evals()\n",
    "    for max_iter in (10, 100, 200):\n",
    "        assert max_iter in data\n",
    "        assert isinstance(data[max_iter], float)"
   ]
  },
  {
   "cell_type": "code",
   "execution_count": 33,
   "metadata": {},
   "outputs": [
    {
     "name": "stdout",
     "output_type": "stream",
     "text": [
      "WARNING:tensorflow:From //anaconda3/envs/nlu/lib/python3.7/site-packages/tensorflow_core/python/ops/resource_variable_ops.py:1635: calling BaseResourceVariable.__init__ (from tensorflow.python.ops.resource_variable_ops) with constraint is deprecated and will be removed in a future version.\n",
      "Instructions for updating:\n",
      "If using Keras pass *_constraint arguments to layers.\n",
      "WARNING:tensorflow:From //anaconda3/envs/nlu/lib/python3.7/site-packages/tensorflow_core/python/training/adagrad.py:76: calling Constant.__init__ (from tensorflow.python.ops.init_ops) with dtype is deprecated and will be removed in a future version.\n",
      "Instructions for updating:\n",
      "Call initializer instance with the dtype argument instead of passing it to the constructor\n"
     ]
    },
    {
     "name": "stderr",
     "output_type": "stream",
     "text": [
      "Iteration 10: loss: 18436416.0//anaconda3/envs/nlu/lib/python3.7/site-packages/tensorflow_core/python/client/session.py:1752: UserWarning: An interactive session is already active. This can cause out-of-memory errors in some cases. You must explicitly call `InteractiveSession.close()` to release resources held by the other session(s).\n",
      "  warnings.warn('An interactive session is already active. This can '\n",
      "Iteration 100: loss: 2638015.75//anaconda3/envs/nlu/lib/python3.7/site-packages/tensorflow_core/python/client/session.py:1752: UserWarning: An interactive session is already active. This can cause out-of-memory errors in some cases. You must explicitly call `InteractiveSession.close()` to release resources held by the other session(s).\n",
      "  warnings.warn('An interactive session is already active. This can '\n",
      "Iteration 200: loss: 1968702.255"
     ]
    }
   ],
   "source": [
    "if 'IS_GRADESCOPE_ENV' not in os.environ:\n",
    "    test_run_small_glove_evals(run_small_glove_evals)"
   ]
  },
  {
   "cell_type": "markdown",
   "metadata": {},
   "source": [
    "### Dice coefficient [0.5 points]\n",
    "\n",
    "Implement the Dice coefficient for real-valued vectors, as\n",
    "\n",
    "$$\n",
    "\\textbf{dice}(u, v) = \n",
    "1 - \\frac{\n",
    "  2 \\sum_{i=1}^{n}\\min(u_{i}, v_{i})\n",
    "}{\n",
    "    \\sum_{i=1}^{n} u_{i} + v_{i}\n",
    "}$$\n",
    " \n",
    "You can use `test_dice_implementation` below to check that your implementation is correct."
   ]
  },
  {
   "cell_type": "code",
   "execution_count": 34,
   "metadata": {},
   "outputs": [],
   "source": [
    "def test_dice_implementation(func):\n",
    "    \"\"\"`func` should be an implementation of `dice` as defined above.\"\"\"\n",
    "    X = np.array([\n",
    "        [  4.,   4.,   2.,   0.],\n",
    "        [  4.,  61.,   8.,  18.],\n",
    "        [  2.,   8.,  10.,   0.],\n",
    "        [  0.,  18.,   0.,   5.]]) \n",
    "    assert func(X[0], X[1]).round(5) == 0.80198\n",
    "    assert func(X[1], X[2]).round(5) == 0.67568"
   ]
  },
  {
   "cell_type": "code",
   "execution_count": 35,
   "metadata": {},
   "outputs": [],
   "source": [
    "def dice(u, v):\n",
    "\n",
    "    \n",
    "    ##### YOUR CODE HERE\n",
    "    denom = np.sum(u)+np.sum(v)\n",
    "    num = 0.0\n",
    "    len_u = len(u)\n",
    "    for i in range(len_u):\n",
    "        i = int(i)\n",
    "        #print(u[i], v[i])\n",
    "        min_i = min(u[i],v[i])\n",
    "        num = num + min_i\n",
    "    \n",
    "    num *= 2.0\n",
    "    coeff = 1 - (num/denom)\n",
    "    return coeff\n",
    "    \n",
    "\n"
   ]
  },
  {
   "cell_type": "code",
   "execution_count": 36,
   "metadata": {},
   "outputs": [],
   "source": [
    "if 'IS_GRADESCOPE_ENV' not in os.environ:\n",
    "    test_dice_implementation(dice)"
   ]
  },
  {
   "cell_type": "markdown",
   "metadata": {},
   "source": [
    "### t-test reweighting [2 points]\n",
    "\n"
   ]
  },
  {
   "cell_type": "markdown",
   "metadata": {},
   "source": [
    "The t-test statistic can be thought of as a reweighting scheme. For a count matrix $X$, row index $i$, and column index $j$:\n",
    "\n",
    "$$\\textbf{ttest}(X, i, j) = \n",
    "\\frac{\n",
    "    P(X, i, j) - \\big(P(X, i, *)P(X, *, j)\\big)\n",
    "}{\n",
    "\\sqrt{(P(X, i, *)P(X, *, j))}\n",
    "}$$\n",
    "\n",
    "where $P(X, i, j)$ is $X_{ij}$ divided by the total values in $X$, $P(X, i, *)$ is the sum of the values in row $i$ of $X$ divided by the total values in $X$, and $P(X, *, j)$ is the sum of the values in column $j$ of $X$ divided by the total values in $X$.\n",
    "\n",
    "For this problem, implement this reweighting scheme. You can use `test_ttest_implementation` below to check that your implementation is correct. You do not need to use this for any evaluations, though we hope you will be curious enough to do so!"
   ]
  },
  {
   "cell_type": "code",
   "execution_count": 37,
   "metadata": {},
   "outputs": [],
   "source": [
    "def test_ttest_implementation(func):\n",
    "    \"\"\"`func` should be an implementation of t-test reweighting as \n",
    "    defined above.\n",
    "    \"\"\"\n",
    "    X = pd.DataFrame(np.array([\n",
    "        [  4.,   4.,   2.,   0.],\n",
    "        [  4.,  61.,   8.,  18.],\n",
    "        [  2.,   8.,  10.,   0.],\n",
    "        [  0.,  18.,   0.,   5.]]))    \n",
    "    actual = np.array([\n",
    "        [ 0.33056, -0.07689,  0.04321, -0.10532],\n",
    "        [-0.07689,  0.03839, -0.10874,  0.07574],\n",
    "        [ 0.04321, -0.10874,  0.36111, -0.14894],\n",
    "        [-0.10532,  0.07574, -0.14894,  0.05767]])    \n",
    "    predicted = func(X)\n",
    "    assert np.array_equal(predicted.round(5), actual)"
   ]
  },
  {
   "cell_type": "code",
   "execution_count": 38,
   "metadata": {},
   "outputs": [],
   "source": [
    "def ttest(df):\n",
    "    \n",
    "    ##### YOUR CODE HERE\n",
    "    tot = df.to_numpy().sum()\n",
    "    df = df/tot\n",
    "    rowsum = df.sum(axis=1)\n",
    "    colsum = df.sum(axis=0)\n",
    "    #tot = colsum.sum()\n",
    "    #tot = df.sum().sum()\n",
    "    #df = df/tot\n",
    "    op = np.outer(rowsum, colsum)\n",
    "    numer = df - op\n",
    "    denom = op**0.5\n",
    "    val = numer/denom\n",
    "    print(val)\n",
    "    return val\n"
   ]
  },
  {
   "cell_type": "code",
   "execution_count": 39,
   "metadata": {},
   "outputs": [
    {
     "name": "stdout",
     "output_type": "stream",
     "text": [
      "          0         1         2         3\n",
      "0  0.330556 -0.076889  0.043212 -0.105318\n",
      "1 -0.076889  0.038385 -0.108737  0.075745\n",
      "2  0.043212 -0.108737  0.361111 -0.148942\n",
      "3 -0.105318  0.075745 -0.148942  0.057669\n"
     ]
    }
   ],
   "source": [
    "if 'IS_GRADESCOPE_ENV' not in os.environ:\n",
    "    test_ttest_implementation(ttest)"
   ]
  },
  {
   "cell_type": "markdown",
   "metadata": {},
   "source": [
    "### Enriching a VSM with subword information [2 points]\n",
    "\n",
    "It might be useful to combine character-level information with word-level information. To help you begin asssessing this idea, this question asks you to write a function that modifies an existing VSM so that the representation for each word $w$ is the element-wise sum of $w$'s original word-level representation with all the representations for the n-grams $w$ contains. \n",
    "\n",
    "The following starter code should help you structure this and clarify the requirements, and a simple test is included below as well.\n",
    "\n",
    "You don't need to write a lot of code; the motivation for this question is that the function you write could have practical value."
   ]
  },
  {
   "cell_type": "code",
   "execution_count": 32,
   "metadata": {},
   "outputs": [],
   "source": [
    "def subword_enrichment(df, n=4):\n",
    "    \n",
    "    # 1. Use `vsm.ngram_vsm` to create a character-level \n",
    "    # VSM from `df`, using the above parameter `n` to \n",
    "    # set the size of the ngrams.\n",
    "    \n",
    "    ##### YOUR CODE HERE\n",
    "    ngram_vsm = vsm.ngram_vsm(df, n)\n",
    "\n",
    "        \n",
    "    # 2. Use `vsm.character_level_rep` to get the representation\n",
    "    # for every word in `df` according to the character-level\n",
    "    # VSM you created above.\n",
    "    \n",
    "    ##### YOUR CODE HERE\n",
    "    row_count = df.shape[0]\n",
    "    #char_rep_np = np.zeros(df.shape)\n",
    "    char_rep_np = []\n",
    "    df_np = df.to_numpy()\n",
    "    for i in range(row_count):\n",
    "        #char_rep_np[i][:] = vsm.character_level_rep( df.iloc[i], ngram_vsm, n)\n",
    "        #char_rep = vsm.character_level_rep( df.iloc[i], ngram_vsm, n)\n",
    "        #print(df.iloc[i])\n",
    "                         # def character_level_rep(word, cf, n=4):\n",
    "        char_rep_np.append(vsm.character_level_rep(df.index[i], ngram_vsm, n))\n",
    "    char_rep_np = np.array(char_rep_np)\n",
    "    df_char = pd.DataFrame(char_rep_np, index=df.index)\n",
    "    # 3. For each representation created at step 2, add in its\n",
    "    # original representation from `df`. (This should use\n",
    "    # element-wise addition; the dimensionality of the vectors\n",
    "    # will be unchanged.)\n",
    "                            \n",
    "    ##### YOUR CODE HERE\n",
    "\n",
    "    df_agg = df_char + df\n",
    "    \n",
    "    # 4. Return a `pd.DataFrame` with the same index and column\n",
    "    # values as `df`, but filled with the new representations\n",
    "    # created at step 3.\n",
    "                            \n",
    "    ##### YOUR CODE HERE\n",
    "    #print(\"printing df_agg\")\n",
    "    #print(df_agg)\n",
    "    return df_agg\n",
    "\n"
   ]
  },
  {
   "cell_type": "code",
   "execution_count": 33,
   "metadata": {},
   "outputs": [],
   "source": [
    "def test_subword_enrichment(func):\n",
    "    \"\"\"`func` should be an implementation of subword_enrichment as \n",
    "    defined above.\n",
    "    \"\"\"\n",
    "    vocab = [\"ABCD\", \"BCDA\", \"CDAB\", \"DABC\"]\n",
    "    df = pd.DataFrame([\n",
    "        [1, 1, 2, 1],\n",
    "        [3, 4, 2, 4],\n",
    "        [0, 0, 1, 0],\n",
    "        [1, 0, 0, 0]], index=vocab)\n",
    "    expected = pd.DataFrame([\n",
    "        [14, 14, 18, 14],\n",
    "        [22, 26, 18, 26],\n",
    "        [10, 10, 14, 10],\n",
    "        [14, 10, 10, 10]], index=vocab)\n",
    "    new_df = func(df, n=2)\n",
    "    assert np.array_equal(expected.columns, new_df.columns), \\\n",
    "        \"Columns are not the same\"\n",
    "    assert np.array_equal(expected.index, new_df.index), \\\n",
    "        \"Indices are not the same\"\n",
    "    assert np.array_equal(expected.values, new_df.values), \\\n",
    "        \"Co-occurrence values aren't the same\"    "
   ]
  },
  {
   "cell_type": "code",
   "execution_count": 34,
   "metadata": {},
   "outputs": [],
   "source": [
    "if 'IS_GRADESCOPE_ENV' not in os.environ:\n",
    "    test_subword_enrichment(subword_enrichment)"
   ]
  },
  {
   "cell_type": "markdown",
   "metadata": {},
   "source": [
    "### Your original system [3 points]\n",
    "\n",
    "This question asks you to design your own model. You can of course include steps made above (ideally, the above questions informed your system design!), but your model should not be literally identical to any of the above models. Other ideas: retrofitting, autoencoders, GloVe, subword modeling, ... \n",
    "\n",
    "Requirements:\n",
    "\n",
    "1. Your code must operate on one of the count matrices in `data/vsmdata`. You can choose which one. __Other pretrained vectors cannot be introduced__.\n",
    "\n",
    "1. Your code must be self-contained, so that we can work with your model directly in your homework submission notebook. If your model depends on external data or other resources, please submit a ZIP archive containing these resources along with your submission.\n",
    "\n",
    "In the cell below, please provide a brief technical description of your original system, so that the teaching team can gain an understanding of what it does. This will help us to understand your code and analyze all the submissions to identify patterns and strategies."
   ]
  },
  {
   "cell_type": "code",
   "execution_count": 35,
   "metadata": {},
   "outputs": [],
   "source": [
    "# Enter your system description in this cell.\n",
    "# Please do not remove this comment.\n",
    "if 'IS_GRADESCOPE_ENV' not in os.environ:\n",
    "    pass\n",
    "\n",
    "    \"\"\"\n",
    "    The system builds of from the pipeline shown in the class\n",
    "    i.e. ppmi->lsa->ae\n",
    "    But the system uses MMD-VAE which tries to constrains \n",
    "    the latent representation to unit Gaussian.\n",
    "    I believe the advantage is that it should be robust to \n",
    "    different distance measures.\n",
    "    I also tried using ppmi->lsa->subword enrichment, it gave\n",
    "    poor results e.g:\n",
    "                    finance    0.000000\n",
    "                    balance    0.004174\n",
    "                    chance     0.006348\n",
    "                    advance    0.006587\n",
    "                    glance     0.006653\n",
    "    However a linear combination of ppmi and enrichment looked promising so I did:\n",
    "    enriched_vsm = (w1*dataset_ppmi_lsa_k + w2*enriched_model/(w1+w2)\n",
    "\n",
    "\n",
    "    \"\"\""
   ]
  },
  {
   "cell_type": "markdown",
   "metadata": {},
   "source": [
    "## Bake-off [1 point]\n",
    "\n",
    "For the bake-off, we will release two additional datasets. The announcement will go out on the discussion forum. We will also release reader code for these datasets that you can paste into this notebook. You will evaluate your custom model $M$ (from the previous question) on these new datasets using `full_word_similarity_evaluation`. Rules:\n",
    "\n",
    "1. Only one evaluation is permitted.\n",
    "1. No additional system tuning is permitted once the bake-off has started.\n",
    "\n",
    "The cells below this one constitute your bake-off entry.\n",
    "\n",
    "People who enter will receive the additional homework point, and people whose systems achieve the top score will receive an additional 0.5 points. We will test the top-performing systems ourselves, and only systems for which we can reproduce the reported results will win the extra 0.5 points.\n",
    "\n",
    "Late entries will be accepted, but they cannot earn the extra 0.5 points. Similarly, you cannot win the bake-off unless your homework is submitted on time.\n",
    "\n",
    "The announcement will include the details on where to submit your entry."
   ]
  },
  {
   "cell_type": "code",
   "execution_count": 36,
   "metadata": {},
   "outputs": [
    {
     "name": "stdout",
     "output_type": "stream",
     "text": [
      "5000\n",
      "neighbours_raw\n",
      "finance    0.000000\n",
      ".          0.132519\n",
      "</p>       0.139872\n",
      "<p>        0.141332\n",
      "said       0.158305\n",
      "dtype: float64\n",
      "neighbours_ppmi\n",
      "finance     0.000000\n",
      "banking     0.363871\n",
      "monetary    0.404030\n",
      "loans       0.413165\n",
      "banks       0.415815\n",
      "dtype: float64\n",
      "neighbours_ppmi_lsa_k\n",
      "finance     0.000000\n",
      "banking     0.136505\n",
      "monetary    0.167089\n",
      "debt        0.171278\n",
      "loans       0.172590\n",
      "dtype: float64\n",
      "neighbours_enriched\n",
      "finance        0.000000\n",
      "banking        0.081684\n",
      "investment     0.087688\n",
      "investments    0.117994\n",
      "management     0.121275\n",
      "dtype: float64\n"
     ]
    }
   ],
   "source": [
    "# Enter your bake-off assessment code into this cell. \n",
    "# Please do not remove this comment.\n",
    "\n",
    "if 'IS_GRADESCOPE_ENV' not in os.environ:\n",
    "    pass\n",
    "    # Please enter your code in the scope of the above conditional.\n",
    "    ##### YOUR CODE HERE\n",
    "    \n",
    "    from torch_autoencoder_mmd_info import TorchAutoencoderMMDIG\n",
    "    model = TorchAutoencoderMMDIG()\n",
    "    \n",
    "    \n",
    "    \n",
    "    dataset_filename = \"giga_window20-flat.csv.gz\"\n",
    "    k_dims = 100\n",
    "    test_word = \"finance\"\n",
    "    use_subword_enrichment = True\n",
    "    \n",
    "    dataset = pd.read_csv(\n",
    "        os.path.join(VSM_HOME, dataset_filename), index_col=0)\n",
    "    np_arr = dataset.to_numpy()\n",
    "    print(len(np_arr))\n",
    "    neighbours_raw = vsm.neighbors(test_word, dataset).head()\n",
    "    print(\"neighbours_raw\")\n",
    "    print(neighbours_raw)\n",
    "    \n",
    " \n",
    "    dataset_ppmi = vsm.pmi(dataset, positive=True)\n",
    "    #dataset_ppmi = vsm.pmi(enriched_model, positive=True)\n",
    "    neighbours_ppmi = vsm.neighbors(test_word, dataset_ppmi).head()\n",
    "    print(\"neighbours_ppmi\")\n",
    "    print(neighbours_ppmi)\n",
    "    \n",
    "    \n",
    "    dataset_ppmi_lsa_k = vsm.lsa(dataset_ppmi, k=k_dims)\n",
    "    neighbours_ppmi_lsa_k = vsm.neighbors(test_word, dataset_ppmi_lsa_k).head()\n",
    "    print(\"neighbours_ppmi_lsa_k\")\n",
    "    print(neighbours_ppmi_lsa_k)\n",
    "    enriched_neighbours_ppmi_lsa_k = dataset_ppmi_lsa_k\n",
    "    if use_subword_enrichment:\n",
    "        enriched_model = subword_enrichment(dataset_ppmi_lsa_k, n=4)\n",
    "        w1 = 1\n",
    "        w2 = 0.01\n",
    "        w = w1+w2\n",
    "        enriched_neighbours_ppmi_lsa_k = (w1*dataset_ppmi_lsa_k.to_numpy() + w2*enriched_model.to_numpy())/(w)\n",
    "        enriched_neighbours_ppmi_lsa_k = pd.DataFrame(enriched_neighbours_ppmi_lsa_k, index=dataset.index)\n",
    "        neighbours_enriched = vsm.neighbors(test_word, enriched_neighbours_ppmi_lsa_k).head()\n",
    "        print(\"neighbours_enriched\")\n",
    "        print(neighbours_enriched)\n",
    "        #dataset_ppmi_lsa_k = enriched_neighbours_ppmi_lsa_k\n",
    "        \n",
    "    \n",
    "    \n",
    "    \n",
    "    #model.fit(neighbours_ppmi_lsa_k)\n",
    "    \n"
   ]
  },
  {
   "cell_type": "code",
   "execution_count": 38,
   "metadata": {},
   "outputs": [
    {
     "name": "stdout",
     "output_type": "stream",
     "text": [
      "recons tensor(11.9262, grad_fn=<MseLossBackward>)\n",
      "mmd_err tensor(0.0103, grad_fn=<SubBackward0>)\n",
      "epoch_error 11.936442255973816\n",
      "recons tensor(11.7087, grad_fn=<MseLossBackward>)\n",
      "mmd_err tensor(0.0100, grad_fn=<SubBackward0>)\n",
      "epoch_error 23.655068516731262\n",
      "recons tensor(11.1627, grad_fn=<MseLossBackward>)\n",
      "mmd_err tensor(0.0108, grad_fn=<SubBackward0>)\n",
      "epoch_error 34.82855975627899\n",
      "recons tensor(11.1363, grad_fn=<MseLossBackward>)\n",
      "mmd_err tensor(0.0120, grad_fn=<SubBackward0>)\n",
      "epoch_error 45.976874351501465\n",
      "recons tensor(10.1972, grad_fn=<MseLossBackward>)\n",
      "mmd_err tensor(0.0129, grad_fn=<SubBackward0>)\n",
      "epoch_error 56.18700158596039\n"
     ]
    },
    {
     "name": "stderr",
     "output_type": "stream",
     "text": [
      "\r",
      "Finished epoch 1 of 100; error is 10.210126876831055"
     ]
    },
    {
     "name": "stdout",
     "output_type": "stream",
     "text": [
      "recons tensor(10.3068, grad_fn=<MseLossBackward>)\n",
      "mmd_err tensor(0.0145, grad_fn=<SubBackward0>)\n",
      "epoch_error 10.32129716873169\n",
      "recons tensor(9.3004, grad_fn=<MseLossBackward>)\n",
      "mmd_err tensor(0.0153, grad_fn=<SubBackward0>)\n",
      "epoch_error 19.636953711509705\n",
      "recons tensor(9.8056, grad_fn=<MseLossBackward>)\n",
      "mmd_err tensor(0.0164, grad_fn=<SubBackward0>)\n",
      "epoch_error 29.459035277366638\n",
      "recons tensor(9.6190, grad_fn=<MseLossBackward>)\n",
      "mmd_err tensor(0.0164, grad_fn=<SubBackward0>)\n",
      "epoch_error 39.09436595439911\n",
      "recons tensor(9.3844, grad_fn=<MseLossBackward>)\n",
      "mmd_err tensor(0.0176, grad_fn=<SubBackward0>)\n",
      "epoch_error 48.49633526802063\n"
     ]
    },
    {
     "name": "stderr",
     "output_type": "stream",
     "text": [
      "\r",
      "Finished epoch 2 of 100; error is 9.401968955993652"
     ]
    },
    {
     "name": "stdout",
     "output_type": "stream",
     "text": [
      "recons tensor(9.1140, grad_fn=<MseLossBackward>)\n",
      "mmd_err tensor(0.0173, grad_fn=<SubBackward0>)\n",
      "epoch_error 9.13133704662323\n",
      "recons tensor(8.8895, grad_fn=<MseLossBackward>)\n",
      "mmd_err tensor(0.0184, grad_fn=<SubBackward0>)\n",
      "epoch_error 18.03919005393982\n",
      "recons tensor(8.5985, grad_fn=<MseLossBackward>)\n",
      "mmd_err tensor(0.0185, grad_fn=<SubBackward0>)\n",
      "epoch_error 26.65614879131317\n",
      "recons tensor(8.5323, grad_fn=<MseLossBackward>)\n",
      "mmd_err tensor(0.0187, grad_fn=<SubBackward0>)\n",
      "epoch_error 35.20718538761139\n",
      "recons tensor(8.5169, grad_fn=<MseLossBackward>)\n",
      "mmd_err tensor(0.0190, grad_fn=<SubBackward0>)\n",
      "epoch_error 43.74307990074158\n"
     ]
    },
    {
     "name": "stderr",
     "output_type": "stream",
     "text": [
      "\r",
      "Finished epoch 3 of 100; error is 8.535894393920898"
     ]
    },
    {
     "name": "stdout",
     "output_type": "stream",
     "text": [
      "recons tensor(7.9438, grad_fn=<MseLossBackward>)\n",
      "mmd_err tensor(0.0192, grad_fn=<SubBackward0>)\n",
      "epoch_error 7.962967395782471\n",
      "recons tensor(8.1760, grad_fn=<MseLossBackward>)\n",
      "mmd_err tensor(0.0191, grad_fn=<SubBackward0>)\n",
      "epoch_error 16.158053755760193\n",
      "recons tensor(7.4233, grad_fn=<MseLossBackward>)\n",
      "mmd_err tensor(0.0189, grad_fn=<SubBackward0>)\n",
      "epoch_error 23.60018765926361\n",
      "recons tensor(8.4802, grad_fn=<MseLossBackward>)\n",
      "mmd_err tensor(0.0186, grad_fn=<SubBackward0>)\n",
      "epoch_error 32.09900605678558\n",
      "recons tensor(7.8371, grad_fn=<MseLossBackward>)\n",
      "mmd_err tensor(0.0189, grad_fn=<SubBackward0>)\n",
      "epoch_error 39.9549640417099\n"
     ]
    },
    {
     "name": "stderr",
     "output_type": "stream",
     "text": [
      "\r",
      "Finished epoch 4 of 100; error is 7.855957984924316"
     ]
    },
    {
     "name": "stdout",
     "output_type": "stream",
     "text": [
      "recons tensor(7.6045, grad_fn=<MseLossBackward>)\n",
      "mmd_err tensor(0.0187, grad_fn=<SubBackward0>)\n",
      "epoch_error 7.623134136199951\n",
      "recons tensor(7.5323, grad_fn=<MseLossBackward>)\n",
      "mmd_err tensor(0.0181, grad_fn=<SubBackward0>)\n",
      "epoch_error 15.173454523086548\n",
      "recons tensor(7.4494, grad_fn=<MseLossBackward>)\n",
      "mmd_err tensor(0.0183, grad_fn=<SubBackward0>)\n",
      "epoch_error 22.641180634498596\n",
      "recons tensor(7.1642, grad_fn=<MseLossBackward>)\n",
      "mmd_err tensor(0.0176, grad_fn=<SubBackward0>)\n",
      "epoch_error 29.822944402694702\n",
      "recons tensor(6.7834, grad_fn=<MseLossBackward>)\n",
      "mmd_err tensor(0.0175, grad_fn=<SubBackward0>)\n",
      "epoch_error 36.62385964393616\n"
     ]
    },
    {
     "name": "stderr",
     "output_type": "stream",
     "text": [
      "\r",
      "Finished epoch 5 of 100; error is 6.800915241241455"
     ]
    },
    {
     "name": "stdout",
     "output_type": "stream",
     "text": [
      "recons tensor(6.7639, grad_fn=<MseLossBackward>)\n",
      "mmd_err tensor(0.0172, grad_fn=<SubBackward0>)\n",
      "epoch_error 6.7811057567596436\n",
      "recons tensor(6.6815, grad_fn=<MseLossBackward>)\n",
      "mmd_err tensor(0.0168, grad_fn=<SubBackward0>)\n",
      "epoch_error 13.479470491409302\n",
      "recons tensor(6.7553, grad_fn=<MseLossBackward>)\n",
      "mmd_err tensor(0.0170, grad_fn=<SubBackward0>)\n",
      "epoch_error 20.251789569854736\n",
      "recons tensor(6.6167, grad_fn=<MseLossBackward>)\n",
      "mmd_err tensor(0.0168, grad_fn=<SubBackward0>)\n",
      "epoch_error 26.885268449783325\n",
      "recons tensor(6.8144, grad_fn=<MseLossBackward>)\n",
      "mmd_err tensor(0.0165, grad_fn=<SubBackward0>)\n",
      "epoch_error 33.71613931655884\n"
     ]
    },
    {
     "name": "stderr",
     "output_type": "stream",
     "text": [
      "\r",
      "Finished epoch 6 of 100; error is 6.830870628356934"
     ]
    },
    {
     "name": "stdout",
     "output_type": "stream",
     "text": [
      "recons tensor(6.2232, grad_fn=<MseLossBackward>)\n",
      "mmd_err tensor(0.0160, grad_fn=<SubBackward0>)\n",
      "epoch_error 6.239180088043213\n",
      "recons tensor(6.6597, grad_fn=<MseLossBackward>)\n",
      "mmd_err tensor(0.0168, grad_fn=<SubBackward0>)\n",
      "epoch_error 12.915623188018799\n",
      "recons tensor(6.3146, grad_fn=<MseLossBackward>)\n",
      "mmd_err tensor(0.0165, grad_fn=<SubBackward0>)\n",
      "epoch_error 19.246809124946594\n",
      "recons tensor(6.0211, grad_fn=<MseLossBackward>)\n",
      "mmd_err tensor(0.0159, grad_fn=<SubBackward0>)\n",
      "epoch_error 25.283835649490356\n",
      "recons tensor(5.7005, grad_fn=<MseLossBackward>)\n",
      "mmd_err tensor(0.0159, grad_fn=<SubBackward0>)\n",
      "epoch_error 31.000243544578552\n"
     ]
    },
    {
     "name": "stderr",
     "output_type": "stream",
     "text": [
      "\r",
      "Finished epoch 7 of 100; error is 5.716407775878906"
     ]
    },
    {
     "name": "stdout",
     "output_type": "stream",
     "text": [
      "recons tensor(6.0022, grad_fn=<MseLossBackward>)\n",
      "mmd_err tensor(0.0163, grad_fn=<SubBackward0>)\n",
      "epoch_error 6.018530964851379\n",
      "recons tensor(6.2551, grad_fn=<MseLossBackward>)\n",
      "mmd_err tensor(0.0161, grad_fn=<SubBackward0>)\n",
      "epoch_error 12.289755463600159\n",
      "recons tensor(5.4570, grad_fn=<MseLossBackward>)\n",
      "mmd_err tensor(0.0153, grad_fn=<SubBackward0>)\n",
      "epoch_error 17.762007474899292\n",
      "recons tensor(5.4085, grad_fn=<MseLossBackward>)\n",
      "mmd_err tensor(0.0154, grad_fn=<SubBackward0>)\n",
      "epoch_error 23.185935378074646\n",
      "recons tensor(5.4794, grad_fn=<MseLossBackward>)\n",
      "mmd_err tensor(0.0154, grad_fn=<SubBackward0>)\n",
      "epoch_error 28.680777430534363\n"
     ]
    },
    {
     "name": "stderr",
     "output_type": "stream",
     "text": [
      "\r",
      "Finished epoch 8 of 100; error is 5.494842052459717"
     ]
    },
    {
     "name": "stdout",
     "output_type": "stream",
     "text": [
      "recons tensor(5.1918, grad_fn=<MseLossBackward>)\n",
      "mmd_err tensor(0.0151, grad_fn=<SubBackward0>)\n",
      "epoch_error 5.206884980201721\n",
      "recons tensor(5.2070, grad_fn=<MseLossBackward>)\n",
      "mmd_err tensor(0.0149, grad_fn=<SubBackward0>)\n",
      "epoch_error 10.428728699684143\n",
      "recons tensor(5.6758, grad_fn=<MseLossBackward>)\n",
      "mmd_err tensor(0.0155, grad_fn=<SubBackward0>)\n",
      "epoch_error 16.120039343833923\n",
      "recons tensor(5.3684, grad_fn=<MseLossBackward>)\n",
      "mmd_err tensor(0.0152, grad_fn=<SubBackward0>)\n",
      "epoch_error 21.503646969795227\n",
      "recons tensor(5.0743, grad_fn=<MseLossBackward>)\n",
      "mmd_err tensor(0.0149, grad_fn=<SubBackward0>)\n",
      "epoch_error 26.59287393093109\n"
     ]
    },
    {
     "name": "stderr",
     "output_type": "stream",
     "text": [
      "\r",
      "Finished epoch 9 of 100; error is 5.089226722717285"
     ]
    },
    {
     "name": "stdout",
     "output_type": "stream",
     "text": [
      "recons tensor(5.0639, grad_fn=<MseLossBackward>)\n",
      "mmd_err tensor(0.0146, grad_fn=<SubBackward0>)\n",
      "epoch_error 5.078501105308533\n",
      "recons tensor(4.9213, grad_fn=<MseLossBackward>)\n",
      "mmd_err tensor(0.0145, grad_fn=<SubBackward0>)\n",
      "epoch_error 10.014325141906738\n",
      "recons tensor(5.0797, grad_fn=<MseLossBackward>)\n",
      "mmd_err tensor(0.0145, grad_fn=<SubBackward0>)\n",
      "epoch_error 15.108578443527222\n",
      "recons tensor(4.9177, grad_fn=<MseLossBackward>)\n",
      "mmd_err tensor(0.0145, grad_fn=<SubBackward0>)\n",
      "epoch_error 20.04083776473999\n",
      "recons tensor(4.7358, grad_fn=<MseLossBackward>)\n",
      "mmd_err tensor(0.0141, grad_fn=<SubBackward0>)\n",
      "epoch_error 24.790724992752075\n"
     ]
    },
    {
     "name": "stderr",
     "output_type": "stream",
     "text": [
      "\r",
      "Finished epoch 10 of 100; error is 4.749887466430664"
     ]
    },
    {
     "name": "stdout",
     "output_type": "stream",
     "text": [
      "recons tensor(4.8510, grad_fn=<MseLossBackward>)\n",
      "mmd_err tensor(0.0139, grad_fn=<SubBackward0>)\n",
      "epoch_error 4.864915132522583\n",
      "recons tensor(4.7787, grad_fn=<MseLossBackward>)\n",
      "mmd_err tensor(0.0138, grad_fn=<SubBackward0>)\n",
      "epoch_error 9.657413244247437\n",
      "recons tensor(4.8080, grad_fn=<MseLossBackward>)\n",
      "mmd_err tensor(0.0140, grad_fn=<SubBackward0>)\n",
      "epoch_error 14.479337692260742\n",
      "recons tensor(4.4977, grad_fn=<MseLossBackward>)\n",
      "mmd_err tensor(0.0134, grad_fn=<SubBackward0>)\n",
      "epoch_error 18.990426182746887\n",
      "recons tensor(4.1652, grad_fn=<MseLossBackward>)\n",
      "mmd_err tensor(0.0136, grad_fn=<SubBackward0>)\n",
      "epoch_error 23.169200658798218\n"
     ]
    },
    {
     "name": "stderr",
     "output_type": "stream",
     "text": [
      "\r",
      "Finished epoch 11 of 100; error is 4.178774356842041"
     ]
    },
    {
     "name": "stdout",
     "output_type": "stream",
     "text": [
      "recons tensor(4.5027, grad_fn=<MseLossBackward>)\n",
      "mmd_err tensor(0.0134, grad_fn=<SubBackward0>)\n",
      "epoch_error 4.5161226987838745\n",
      "recons tensor(4.4913, grad_fn=<MseLossBackward>)\n",
      "mmd_err tensor(0.0135, grad_fn=<SubBackward0>)\n",
      "epoch_error 9.020899176597595\n",
      "recons tensor(4.2103, grad_fn=<MseLossBackward>)\n",
      "mmd_err tensor(0.0128, grad_fn=<SubBackward0>)\n",
      "epoch_error 13.243986248970032\n",
      "recons tensor(4.4066, grad_fn=<MseLossBackward>)\n",
      "mmd_err tensor(0.0130, grad_fn=<SubBackward0>)\n",
      "epoch_error 17.66357386112213\n",
      "recons tensor(4.1121, grad_fn=<MseLossBackward>)\n",
      "mmd_err tensor(0.0133, grad_fn=<SubBackward0>)\n",
      "epoch_error 21.78895127773285\n"
     ]
    },
    {
     "name": "stderr",
     "output_type": "stream",
     "text": [
      "\r",
      "Finished epoch 12 of 100; error is 4.125377655029297"
     ]
    },
    {
     "name": "stdout",
     "output_type": "stream",
     "text": [
      "recons tensor(4.3929, grad_fn=<MseLossBackward>)\n",
      "mmd_err tensor(0.0133, grad_fn=<SubBackward0>)\n",
      "epoch_error 4.406165242195129\n",
      "recons tensor(4.0373, grad_fn=<MseLossBackward>)\n",
      "mmd_err tensor(0.0122, grad_fn=<SubBackward0>)\n",
      "epoch_error 8.45566737651825\n",
      "recons tensor(4.0982, grad_fn=<MseLossBackward>)\n",
      "mmd_err tensor(0.0130, grad_fn=<SubBackward0>)\n",
      "epoch_error 12.566866397857666\n",
      "recons tensor(4.0754, grad_fn=<MseLossBackward>)\n",
      "mmd_err tensor(0.0125, grad_fn=<SubBackward0>)\n",
      "epoch_error 16.65482723712921\n",
      "recons tensor(3.8888, grad_fn=<MseLossBackward>)\n",
      "mmd_err tensor(0.0130, grad_fn=<SubBackward0>)\n",
      "epoch_error 20.556661009788513\n"
     ]
    },
    {
     "name": "stderr",
     "output_type": "stream",
     "text": [
      "\r",
      "Finished epoch 13 of 100; error is 3.9018337726593018"
     ]
    },
    {
     "name": "stdout",
     "output_type": "stream",
     "text": [
      "recons tensor(3.9771, grad_fn=<MseLossBackward>)\n",
      "mmd_err tensor(0.0126, grad_fn=<SubBackward0>)\n",
      "epoch_error 3.9896700382232666\n",
      "recons tensor(3.9170, grad_fn=<MseLossBackward>)\n",
      "mmd_err tensor(0.0126, grad_fn=<SubBackward0>)\n",
      "epoch_error 7.91924774646759\n",
      "recons tensor(3.9205, grad_fn=<MseLossBackward>)\n",
      "mmd_err tensor(0.0121, grad_fn=<SubBackward0>)\n",
      "epoch_error 11.851831793785095\n",
      "recons tensor(3.6845, grad_fn=<MseLossBackward>)\n",
      "mmd_err tensor(0.0118, grad_fn=<SubBackward0>)\n",
      "epoch_error 15.548096537590027\n",
      "recons tensor(3.9206, grad_fn=<MseLossBackward>)\n",
      "mmd_err tensor(0.0118, grad_fn=<SubBackward0>)\n",
      "epoch_error 19.48050057888031\n"
     ]
    },
    {
     "name": "stderr",
     "output_type": "stream",
     "text": [
      "\r",
      "Finished epoch 14 of 100; error is 3.932404041290283"
     ]
    },
    {
     "name": "stdout",
     "output_type": "stream",
     "text": [
      "recons tensor(3.8083, grad_fn=<MseLossBackward>)\n",
      "mmd_err tensor(0.0120, grad_fn=<SubBackward0>)\n",
      "epoch_error 3.8203046321868896\n",
      "recons tensor(3.7842, grad_fn=<MseLossBackward>)\n",
      "mmd_err tensor(0.0122, grad_fn=<SubBackward0>)\n",
      "epoch_error 7.616694688796997\n",
      "recons tensor(3.6703, grad_fn=<MseLossBackward>)\n",
      "mmd_err tensor(0.0118, grad_fn=<SubBackward0>)\n",
      "epoch_error 11.298725962638855\n",
      "recons tensor(3.4918, grad_fn=<MseLossBackward>)\n",
      "mmd_err tensor(0.0113, grad_fn=<SubBackward0>)\n",
      "epoch_error 14.801891922950745\n",
      "recons tensor(3.6746, grad_fn=<MseLossBackward>)\n",
      "mmd_err tensor(0.0116, grad_fn=<SubBackward0>)\n",
      "epoch_error 18.488067746162415\n"
     ]
    },
    {
     "name": "stderr",
     "output_type": "stream",
     "text": [
      "\r",
      "Finished epoch 15 of 100; error is 3.68617582321167"
     ]
    },
    {
     "name": "stdout",
     "output_type": "stream",
     "text": [
      "recons tensor(3.4432, grad_fn=<MseLossBackward>)\n",
      "mmd_err tensor(0.0114, grad_fn=<SubBackward0>)\n",
      "epoch_error 3.454654574394226\n",
      "recons tensor(3.6075, grad_fn=<MseLossBackward>)\n",
      "mmd_err tensor(0.0116, grad_fn=<SubBackward0>)\n",
      "epoch_error 7.07377028465271\n",
      "recons tensor(3.6388, grad_fn=<MseLossBackward>)\n",
      "mmd_err tensor(0.0114, grad_fn=<SubBackward0>)\n",
      "epoch_error 10.723888278007507\n",
      "recons tensor(3.4008, grad_fn=<MseLossBackward>)\n",
      "mmd_err tensor(0.0112, grad_fn=<SubBackward0>)\n",
      "epoch_error 14.135921478271484\n",
      "recons tensor(3.4293, grad_fn=<MseLossBackward>)\n",
      "mmd_err tensor(0.0115, grad_fn=<SubBackward0>)\n",
      "epoch_error 17.57671868801117\n"
     ]
    },
    {
     "name": "stderr",
     "output_type": "stream",
     "text": [
      "\r",
      "Finished epoch 16 of 100; error is 3.4407973289489746"
     ]
    },
    {
     "name": "stdout",
     "output_type": "stream",
     "text": [
      "recons tensor(3.2878, grad_fn=<MseLossBackward>)\n",
      "mmd_err tensor(0.0109, grad_fn=<SubBackward0>)\n",
      "epoch_error 3.2987223863601685\n",
      "recons tensor(3.3697, grad_fn=<MseLossBackward>)\n",
      "mmd_err tensor(0.0108, grad_fn=<SubBackward0>)\n",
      "epoch_error 6.679304599761963\n",
      "recons tensor(3.3831, grad_fn=<MseLossBackward>)\n",
      "mmd_err tensor(0.0106, grad_fn=<SubBackward0>)\n",
      "epoch_error 10.073023438453674\n",
      "recons tensor(3.2886, grad_fn=<MseLossBackward>)\n",
      "mmd_err tensor(0.0108, grad_fn=<SubBackward0>)\n",
      "epoch_error 13.372417688369751\n",
      "recons tensor(3.3728, grad_fn=<MseLossBackward>)\n",
      "mmd_err tensor(0.0112, grad_fn=<SubBackward0>)\n",
      "epoch_error 16.756437063217163\n"
     ]
    },
    {
     "name": "stderr",
     "output_type": "stream",
     "text": [
      "\r",
      "Finished epoch 17 of 100; error is 3.384019374847412"
     ]
    },
    {
     "name": "stdout",
     "output_type": "stream",
     "text": [
      "recons tensor(3.3893, grad_fn=<MseLossBackward>)\n",
      "mmd_err tensor(0.0105, grad_fn=<SubBackward0>)\n",
      "epoch_error 3.3997963666915894\n",
      "recons tensor(3.1528, grad_fn=<MseLossBackward>)\n",
      "mmd_err tensor(0.0106, grad_fn=<SubBackward0>)\n",
      "epoch_error 6.563149809837341\n",
      "recons tensor(3.0083, grad_fn=<MseLossBackward>)\n",
      "mmd_err tensor(0.0101, grad_fn=<SubBackward0>)\n",
      "epoch_error 9.581554412841797\n",
      "recons tensor(3.3580, grad_fn=<MseLossBackward>)\n",
      "mmd_err tensor(0.0101, grad_fn=<SubBackward0>)\n",
      "epoch_error 12.94962465763092\n",
      "recons tensor(3.0071, grad_fn=<MseLossBackward>)\n",
      "mmd_err tensor(0.0102, grad_fn=<SubBackward0>)\n",
      "epoch_error 15.966999769210815\n"
     ]
    },
    {
     "name": "stderr",
     "output_type": "stream",
     "text": [
      "\r",
      "Finished epoch 18 of 100; error is 3.0173749923706055"
     ]
    },
    {
     "name": "stdout",
     "output_type": "stream",
     "text": [
      "recons tensor(2.9758, grad_fn=<MseLossBackward>)\n",
      "mmd_err tensor(0.0102, grad_fn=<SubBackward0>)\n",
      "epoch_error 2.9860156774520874\n",
      "recons tensor(3.2070, grad_fn=<MseLossBackward>)\n",
      "mmd_err tensor(0.0104, grad_fn=<SubBackward0>)\n",
      "epoch_error 6.20341157913208\n",
      "recons tensor(2.9375, grad_fn=<MseLossBackward>)\n",
      "mmd_err tensor(0.0097, grad_fn=<SubBackward0>)\n",
      "epoch_error 9.15064799785614\n",
      "recons tensor(3.0344, grad_fn=<MseLossBackward>)\n",
      "mmd_err tensor(0.0101, grad_fn=<SubBackward0>)\n",
      "epoch_error 12.1951664686203\n",
      "recons tensor(3.0788, grad_fn=<MseLossBackward>)\n",
      "mmd_err tensor(0.0098, grad_fn=<SubBackward0>)\n",
      "epoch_error 15.283780455589294\n"
     ]
    },
    {
     "name": "stderr",
     "output_type": "stream",
     "text": [
      "\r",
      "Finished epoch 19 of 100; error is 3.088613986968994"
     ]
    },
    {
     "name": "stdout",
     "output_type": "stream",
     "text": [
      "recons tensor(2.9270, grad_fn=<MseLossBackward>)\n",
      "mmd_err tensor(0.0099, grad_fn=<SubBackward0>)\n",
      "epoch_error 2.936958909034729\n",
      "recons tensor(2.8066, grad_fn=<MseLossBackward>)\n",
      "mmd_err tensor(0.0094, grad_fn=<SubBackward0>)\n",
      "epoch_error 5.752964735031128\n",
      "recons tensor(2.7775, grad_fn=<MseLossBackward>)\n",
      "mmd_err tensor(0.0097, grad_fn=<SubBackward0>)\n",
      "epoch_error 8.540242671966553\n",
      "recons tensor(3.1418, grad_fn=<MseLossBackward>)\n",
      "mmd_err tensor(0.0100, grad_fn=<SubBackward0>)\n",
      "epoch_error 11.692044734954834\n",
      "recons tensor(2.9172, grad_fn=<MseLossBackward>)\n",
      "mmd_err tensor(0.0096, grad_fn=<SubBackward0>)\n",
      "epoch_error 14.618896245956421\n"
     ]
    },
    {
     "name": "stderr",
     "output_type": "stream",
     "text": [
      "\r",
      "Finished epoch 20 of 100; error is 2.926851511001587"
     ]
    },
    {
     "name": "stdout",
     "output_type": "stream",
     "text": [
      "recons tensor(2.8602, grad_fn=<MseLossBackward>)\n",
      "mmd_err tensor(0.0096, grad_fn=<SubBackward0>)\n",
      "epoch_error 2.8697785139083862\n",
      "recons tensor(3.0297, grad_fn=<MseLossBackward>)\n",
      "mmd_err tensor(0.0089, grad_fn=<SubBackward0>)\n",
      "epoch_error 5.908384084701538\n",
      "recons tensor(2.6773, grad_fn=<MseLossBackward>)\n",
      "mmd_err tensor(0.0094, grad_fn=<SubBackward0>)\n",
      "epoch_error 8.595141172409058\n",
      "recons tensor(2.7091, grad_fn=<MseLossBackward>)\n",
      "mmd_err tensor(0.0094, grad_fn=<SubBackward0>)\n",
      "epoch_error 11.313728332519531\n",
      "recons tensor(2.6775, grad_fn=<MseLossBackward>)\n",
      "mmd_err tensor(0.0091, grad_fn=<SubBackward0>)\n",
      "epoch_error 14.000323295593262\n"
     ]
    },
    {
     "name": "stderr",
     "output_type": "stream",
     "text": [
      "\r",
      "Finished epoch 21 of 100; error is 2.6865949630737305"
     ]
    },
    {
     "name": "stdout",
     "output_type": "stream",
     "text": [
      "recons tensor(2.8025, grad_fn=<MseLossBackward>)\n",
      "mmd_err tensor(0.0094, grad_fn=<SubBackward0>)\n",
      "epoch_error 2.811857223510742\n",
      "recons tensor(2.7105, grad_fn=<MseLossBackward>)\n",
      "mmd_err tensor(0.0091, grad_fn=<SubBackward0>)\n",
      "epoch_error 5.5314812660217285\n",
      "recons tensor(2.5911, grad_fn=<MseLossBackward>)\n",
      "mmd_err tensor(0.0087, grad_fn=<SubBackward0>)\n",
      "epoch_error 8.13136100769043\n",
      "recons tensor(2.6453, grad_fn=<MseLossBackward>)\n",
      "mmd_err tensor(0.0089, grad_fn=<SubBackward0>)\n",
      "epoch_error 10.785549640655518\n",
      "recons tensor(2.6515, grad_fn=<MseLossBackward>)\n",
      "mmd_err tensor(0.0087, grad_fn=<SubBackward0>)\n",
      "epoch_error 13.445790410041809\n"
     ]
    },
    {
     "name": "stderr",
     "output_type": "stream",
     "text": [
      "\r",
      "Finished epoch 22 of 100; error is 2.660240650177002"
     ]
    },
    {
     "name": "stdout",
     "output_type": "stream",
     "text": [
      "recons tensor(2.7292, grad_fn=<MseLossBackward>)\n",
      "mmd_err tensor(0.0089, grad_fn=<SubBackward0>)\n",
      "epoch_error 2.738085150718689\n",
      "recons tensor(2.5130, grad_fn=<MseLossBackward>)\n",
      "mmd_err tensor(0.0086, grad_fn=<SubBackward0>)\n",
      "epoch_error 5.2596595287323\n",
      "recons tensor(2.4460, grad_fn=<MseLossBackward>)\n",
      "mmd_err tensor(0.0082, grad_fn=<SubBackward0>)\n",
      "epoch_error 7.713876128196716\n",
      "recons tensor(2.6141, grad_fn=<MseLossBackward>)\n",
      "mmd_err tensor(0.0084, grad_fn=<SubBackward0>)\n",
      "epoch_error 10.336371541023254\n",
      "recons tensor(2.5865, grad_fn=<MseLossBackward>)\n",
      "mmd_err tensor(0.0091, grad_fn=<SubBackward0>)\n",
      "epoch_error 12.931969046592712\n"
     ]
    },
    {
     "name": "stderr",
     "output_type": "stream",
     "text": [
      "\r",
      "Finished epoch 23 of 100; error is 2.595597505569458"
     ]
    },
    {
     "name": "stdout",
     "output_type": "stream",
     "text": [
      "recons tensor(2.4767, grad_fn=<MseLossBackward>)\n",
      "mmd_err tensor(0.0083, grad_fn=<SubBackward0>)\n",
      "epoch_error 2.4849987030029297\n",
      "recons tensor(2.6759, grad_fn=<MseLossBackward>)\n",
      "mmd_err tensor(0.0086, grad_fn=<SubBackward0>)\n",
      "epoch_error 5.169494032859802\n",
      "recons tensor(2.4628, grad_fn=<MseLossBackward>)\n",
      "mmd_err tensor(0.0086, grad_fn=<SubBackward0>)\n",
      "epoch_error 7.640852689743042\n",
      "recons tensor(2.3932, grad_fn=<MseLossBackward>)\n",
      "mmd_err tensor(0.0082, grad_fn=<SubBackward0>)\n",
      "epoch_error 10.042283415794373\n",
      "recons tensor(2.3856, grad_fn=<MseLossBackward>)\n",
      "mmd_err tensor(0.0079, grad_fn=<SubBackward0>)\n",
      "epoch_error 12.435718297958374\n"
     ]
    },
    {
     "name": "stderr",
     "output_type": "stream",
     "text": [
      "\r",
      "Finished epoch 24 of 100; error is 2.393435001373291"
     ]
    },
    {
     "name": "stdout",
     "output_type": "stream",
     "text": [
      "recons tensor(2.3064, grad_fn=<MseLossBackward>)\n",
      "mmd_err tensor(0.0079, grad_fn=<SubBackward0>)\n",
      "epoch_error 2.3143683671951294\n",
      "recons tensor(2.5712, grad_fn=<MseLossBackward>)\n",
      "mmd_err tensor(0.0084, grad_fn=<SubBackward0>)\n",
      "epoch_error 4.893986821174622\n",
      "recons tensor(2.4008, grad_fn=<MseLossBackward>)\n",
      "mmd_err tensor(0.0085, grad_fn=<SubBackward0>)\n",
      "epoch_error 7.303307890892029\n",
      "recons tensor(2.3998, grad_fn=<MseLossBackward>)\n",
      "mmd_err tensor(0.0078, grad_fn=<SubBackward0>)\n",
      "epoch_error 9.710983633995056\n",
      "recons tensor(2.2578, grad_fn=<MseLossBackward>)\n",
      "mmd_err tensor(0.0081, grad_fn=<SubBackward0>)\n",
      "epoch_error 11.976892232894897\n"
     ]
    },
    {
     "name": "stderr",
     "output_type": "stream",
     "text": [
      "\r",
      "Finished epoch 25 of 100; error is 2.265908718109131"
     ]
    },
    {
     "name": "stdout",
     "output_type": "stream",
     "text": [
      "recons tensor(2.3139, grad_fn=<MseLossBackward>)\n",
      "mmd_err tensor(0.0080, grad_fn=<SubBackward0>)\n",
      "epoch_error 2.3219199180603027\n",
      "recons tensor(2.2576, grad_fn=<MseLossBackward>)\n",
      "mmd_err tensor(0.0080, grad_fn=<SubBackward0>)\n",
      "epoch_error 4.587507843971252\n",
      "recons tensor(2.3381, grad_fn=<MseLossBackward>)\n",
      "mmd_err tensor(0.0076, grad_fn=<SubBackward0>)\n",
      "epoch_error 6.933156371116638\n",
      "recons tensor(2.4388, grad_fn=<MseLossBackward>)\n",
      "mmd_err tensor(0.0083, grad_fn=<SubBackward0>)\n",
      "epoch_error 9.380259275436401\n",
      "recons tensor(2.1794, grad_fn=<MseLossBackward>)\n",
      "mmd_err tensor(0.0075, grad_fn=<SubBackward0>)\n",
      "epoch_error 11.567179441452026\n"
     ]
    },
    {
     "name": "stderr",
     "output_type": "stream",
     "text": [
      "\r",
      "Finished epoch 26 of 100; error is 2.186920166015625"
     ]
    },
    {
     "name": "stdout",
     "output_type": "stream",
     "text": [
      "recons tensor(2.3541, grad_fn=<MseLossBackward>)\n",
      "mmd_err tensor(0.0077, grad_fn=<SubBackward0>)\n",
      "epoch_error 2.361884832382202\n",
      "recons tensor(2.2770, grad_fn=<MseLossBackward>)\n",
      "mmd_err tensor(0.0081, grad_fn=<SubBackward0>)\n",
      "epoch_error 4.646984815597534\n",
      "recons tensor(2.1527, grad_fn=<MseLossBackward>)\n",
      "mmd_err tensor(0.0077, grad_fn=<SubBackward0>)\n",
      "epoch_error 6.807377338409424\n",
      "recons tensor(2.2004, grad_fn=<MseLossBackward>)\n",
      "mmd_err tensor(0.0076, grad_fn=<SubBackward0>)\n",
      "epoch_error 9.015391230583191\n",
      "recons tensor(2.1853, grad_fn=<MseLossBackward>)\n",
      "mmd_err tensor(0.0073, grad_fn=<SubBackward0>)\n",
      "epoch_error 11.207966208457947\n"
     ]
    },
    {
     "name": "stderr",
     "output_type": "stream",
     "text": [
      "\r",
      "Finished epoch 27 of 100; error is 2.192574977874756"
     ]
    },
    {
     "name": "stdout",
     "output_type": "stream",
     "text": [
      "recons tensor(2.2088, grad_fn=<MseLossBackward>)\n",
      "mmd_err tensor(0.0076, grad_fn=<SubBackward0>)\n",
      "epoch_error 2.2164175510406494\n",
      "recons tensor(2.1256, grad_fn=<MseLossBackward>)\n",
      "mmd_err tensor(0.0074, grad_fn=<SubBackward0>)\n",
      "epoch_error 4.3494696617126465\n",
      "recons tensor(2.1706, grad_fn=<MseLossBackward>)\n",
      "mmd_err tensor(0.0075, grad_fn=<SubBackward0>)\n",
      "epoch_error 6.527547121047974\n",
      "recons tensor(2.2180, grad_fn=<MseLossBackward>)\n",
      "mmd_err tensor(0.0073, grad_fn=<SubBackward0>)\n",
      "epoch_error 8.752920031547546\n",
      "recons tensor(2.0940, grad_fn=<MseLossBackward>)\n",
      "mmd_err tensor(0.0075, grad_fn=<SubBackward0>)\n",
      "epoch_error 10.854400396347046\n"
     ]
    },
    {
     "name": "stderr",
     "output_type": "stream",
     "text": [
      "\r",
      "Finished epoch 28 of 100; error is 2.101480484008789"
     ]
    },
    {
     "name": "stdout",
     "output_type": "stream",
     "text": [
      "recons tensor(2.0444, grad_fn=<MseLossBackward>)\n",
      "mmd_err tensor(0.0072, grad_fn=<SubBackward0>)\n",
      "epoch_error 2.0516010522842407\n",
      "recons tensor(2.2391, grad_fn=<MseLossBackward>)\n",
      "mmd_err tensor(0.0071, grad_fn=<SubBackward0>)\n",
      "epoch_error 4.297778010368347\n",
      "recons tensor(2.1020, grad_fn=<MseLossBackward>)\n",
      "mmd_err tensor(0.0073, grad_fn=<SubBackward0>)\n",
      "epoch_error 6.4071245193481445\n",
      "recons tensor(2.0667, grad_fn=<MseLossBackward>)\n",
      "mmd_err tensor(0.0073, grad_fn=<SubBackward0>)\n",
      "epoch_error 8.481110095977783\n",
      "recons tensor(2.0541, grad_fn=<MseLossBackward>)\n",
      "mmd_err tensor(0.0069, grad_fn=<SubBackward0>)\n",
      "epoch_error 10.542150855064392\n"
     ]
    },
    {
     "name": "stderr",
     "output_type": "stream",
     "text": [
      "\r",
      "Finished epoch 29 of 100; error is 2.0610408782958984"
     ]
    },
    {
     "name": "stdout",
     "output_type": "stream",
     "text": [
      "recons tensor(1.9931, grad_fn=<MseLossBackward>)\n",
      "mmd_err tensor(0.0072, grad_fn=<SubBackward0>)\n",
      "epoch_error 2.0003217458724976\n",
      "recons tensor(1.9630, grad_fn=<MseLossBackward>)\n",
      "mmd_err tensor(0.0071, grad_fn=<SubBackward0>)\n",
      "epoch_error 3.9704023599624634\n",
      "recons tensor(2.1363, grad_fn=<MseLossBackward>)\n",
      "mmd_err tensor(0.0074, grad_fn=<SubBackward0>)\n",
      "epoch_error 6.114135384559631\n",
      "recons tensor(2.1462, grad_fn=<MseLossBackward>)\n",
      "mmd_err tensor(0.0075, grad_fn=<SubBackward0>)\n",
      "epoch_error 8.267815709114075\n",
      "recons tensor(1.9727, grad_fn=<MseLossBackward>)\n",
      "mmd_err tensor(0.0067, grad_fn=<SubBackward0>)\n",
      "epoch_error 10.247208952903748\n"
     ]
    },
    {
     "name": "stderr",
     "output_type": "stream",
     "text": [
      "\r",
      "Finished epoch 30 of 100; error is 1.9793932437896729"
     ]
    },
    {
     "name": "stdout",
     "output_type": "stream",
     "text": [
      "recons tensor(1.9903, grad_fn=<MseLossBackward>)\n",
      "mmd_err tensor(0.0073, grad_fn=<SubBackward0>)\n",
      "epoch_error 1.9975813627243042\n",
      "recons tensor(1.9376, grad_fn=<MseLossBackward>)\n",
      "mmd_err tensor(0.0065, grad_fn=<SubBackward0>)\n",
      "epoch_error 3.9417253732681274\n",
      "recons tensor(2.0725, grad_fn=<MseLossBackward>)\n",
      "mmd_err tensor(0.0074, grad_fn=<SubBackward0>)\n",
      "epoch_error 6.021690011024475\n",
      "recons tensor(1.9745, grad_fn=<MseLossBackward>)\n",
      "mmd_err tensor(0.0069, grad_fn=<SubBackward0>)\n",
      "epoch_error 8.003108382225037\n",
      "recons tensor(1.9764, grad_fn=<MseLossBackward>)\n",
      "mmd_err tensor(0.0067, grad_fn=<SubBackward0>)\n",
      "epoch_error 9.986224055290222\n"
     ]
    },
    {
     "name": "stderr",
     "output_type": "stream",
     "text": [
      "\r",
      "Finished epoch 31 of 100; error is 1.9831156730651855"
     ]
    },
    {
     "name": "stdout",
     "output_type": "stream",
     "text": [
      "recons tensor(1.9370, grad_fn=<MseLossBackward>)\n",
      "mmd_err tensor(0.0072, grad_fn=<SubBackward0>)\n",
      "epoch_error 1.944193720817566\n",
      "recons tensor(2.0689, grad_fn=<MseLossBackward>)\n",
      "mmd_err tensor(0.0067, grad_fn=<SubBackward0>)\n",
      "epoch_error 4.0197993516922\n",
      "recons tensor(1.9456, grad_fn=<MseLossBackward>)\n",
      "mmd_err tensor(0.0066, grad_fn=<SubBackward0>)\n",
      "epoch_error 5.972007155418396\n",
      "recons tensor(1.7975, grad_fn=<MseLossBackward>)\n",
      "mmd_err tensor(0.0062, grad_fn=<SubBackward0>)\n",
      "epoch_error 7.775627017021179\n",
      "recons tensor(1.9645, grad_fn=<MseLossBackward>)\n",
      "mmd_err tensor(0.0067, grad_fn=<SubBackward0>)\n",
      "epoch_error 9.74682903289795\n"
     ]
    },
    {
     "name": "stderr",
     "output_type": "stream",
     "text": [
      "\r",
      "Finished epoch 32 of 100; error is 1.97120201587677"
     ]
    },
    {
     "name": "stdout",
     "output_type": "stream",
     "text": [
      "recons tensor(1.9095, grad_fn=<MseLossBackward>)\n",
      "mmd_err tensor(0.0068, grad_fn=<SubBackward0>)\n",
      "epoch_error 1.9162561893463135\n",
      "recons tensor(1.9432, grad_fn=<MseLossBackward>)\n",
      "mmd_err tensor(0.0069, grad_fn=<SubBackward0>)\n",
      "epoch_error 3.866315722465515\n",
      "recons tensor(1.8901, grad_fn=<MseLossBackward>)\n",
      "mmd_err tensor(0.0065, grad_fn=<SubBackward0>)\n",
      "epoch_error 5.7629475593566895\n",
      "recons tensor(1.8626, grad_fn=<MseLossBackward>)\n",
      "mmd_err tensor(0.0065, grad_fn=<SubBackward0>)\n",
      "epoch_error 7.632081508636475\n",
      "recons tensor(1.8749, grad_fn=<MseLossBackward>)\n",
      "mmd_err tensor(0.0061, grad_fn=<SubBackward0>)\n",
      "epoch_error 9.513075828552246\n"
     ]
    },
    {
     "name": "stderr",
     "output_type": "stream",
     "text": [
      "\r",
      "Finished epoch 33 of 100; error is 1.8809943199157715"
     ]
    },
    {
     "name": "stdout",
     "output_type": "stream",
     "text": [
      "recons tensor(1.8536, grad_fn=<MseLossBackward>)\n",
      "mmd_err tensor(0.0060, grad_fn=<SubBackward0>)\n",
      "epoch_error 1.8596534729003906\n",
      "recons tensor(1.8325, grad_fn=<MseLossBackward>)\n",
      "mmd_err tensor(0.0066, grad_fn=<SubBackward0>)\n",
      "epoch_error 3.698737859725952\n",
      "recons tensor(1.8703, grad_fn=<MseLossBackward>)\n",
      "mmd_err tensor(0.0065, grad_fn=<SubBackward0>)\n",
      "epoch_error 5.575557589530945\n",
      "recons tensor(1.8805, grad_fn=<MseLossBackward>)\n",
      "mmd_err tensor(0.0066, grad_fn=<SubBackward0>)\n",
      "epoch_error 7.4626384973526\n",
      "recons tensor(1.8185, grad_fn=<MseLossBackward>)\n",
      "mmd_err tensor(0.0066, grad_fn=<SubBackward0>)\n",
      "epoch_error 9.287753343582153\n"
     ]
    },
    {
     "name": "stderr",
     "output_type": "stream",
     "text": [
      "\r",
      "Finished epoch 34 of 100; error is 1.8251148462295532"
     ]
    },
    {
     "name": "stdout",
     "output_type": "stream",
     "text": [
      "recons tensor(1.7881, grad_fn=<MseLossBackward>)\n",
      "mmd_err tensor(0.0065, grad_fn=<SubBackward0>)\n",
      "epoch_error 1.7946542501449585\n",
      "recons tensor(1.8507, grad_fn=<MseLossBackward>)\n",
      "mmd_err tensor(0.0060, grad_fn=<SubBackward0>)\n",
      "epoch_error 3.6513900756835938\n",
      "recons tensor(1.8217, grad_fn=<MseLossBackward>)\n",
      "mmd_err tensor(0.0065, grad_fn=<SubBackward0>)\n",
      "epoch_error 5.479549407958984\n",
      "recons tensor(1.8055, grad_fn=<MseLossBackward>)\n",
      "mmd_err tensor(0.0063, grad_fn=<SubBackward0>)\n",
      "epoch_error 7.291338801383972\n",
      "recons tensor(1.7921, grad_fn=<MseLossBackward>)\n",
      "mmd_err tensor(0.0065, grad_fn=<SubBackward0>)\n",
      "epoch_error 9.089959621429443\n"
     ]
    },
    {
     "name": "stderr",
     "output_type": "stream",
     "text": [
      "\r",
      "Finished epoch 35 of 100; error is 1.7986208200454712"
     ]
    },
    {
     "name": "stdout",
     "output_type": "stream",
     "text": [
      "recons tensor(1.6927, grad_fn=<MseLossBackward>)\n",
      "mmd_err tensor(0.0062, grad_fn=<SubBackward0>)\n",
      "epoch_error 1.6988606452941895\n",
      "recons tensor(1.7916, grad_fn=<MseLossBackward>)\n",
      "mmd_err tensor(0.0062, grad_fn=<SubBackward0>)\n",
      "epoch_error 3.496598720550537\n",
      "recons tensor(1.8770, grad_fn=<MseLossBackward>)\n",
      "mmd_err tensor(0.0063, grad_fn=<SubBackward0>)\n",
      "epoch_error 5.379880309104919\n",
      "recons tensor(1.8129, grad_fn=<MseLossBackward>)\n",
      "mmd_err tensor(0.0067, grad_fn=<SubBackward0>)\n",
      "epoch_error 7.19946563243866\n",
      "recons tensor(1.7001, grad_fn=<MseLossBackward>)\n",
      "mmd_err tensor(0.0059, grad_fn=<SubBackward0>)\n",
      "epoch_error 8.905460476875305\n"
     ]
    },
    {
     "name": "stderr",
     "output_type": "stream",
     "text": [
      "\r",
      "Finished epoch 36 of 100; error is 1.7059948444366455"
     ]
    },
    {
     "name": "stdout",
     "output_type": "stream",
     "text": [
      "recons tensor(1.8077, grad_fn=<MseLossBackward>)\n",
      "mmd_err tensor(0.0061, grad_fn=<SubBackward0>)\n",
      "epoch_error 1.8137760162353516\n",
      "recons tensor(1.7812, grad_fn=<MseLossBackward>)\n",
      "mmd_err tensor(0.0067, grad_fn=<SubBackward0>)\n",
      "epoch_error 3.6016021966934204\n",
      "recons tensor(1.7359, grad_fn=<MseLossBackward>)\n",
      "mmd_err tensor(0.0058, grad_fn=<SubBackward0>)\n",
      "epoch_error 5.343290328979492\n",
      "recons tensor(1.6558, grad_fn=<MseLossBackward>)\n",
      "mmd_err tensor(0.0057, grad_fn=<SubBackward0>)\n",
      "epoch_error 7.004786252975464\n",
      "recons tensor(1.7210, grad_fn=<MseLossBackward>)\n",
      "mmd_err tensor(0.0062, grad_fn=<SubBackward0>)\n",
      "epoch_error 8.731975555419922\n"
     ]
    },
    {
     "name": "stderr",
     "output_type": "stream",
     "text": [
      "\r",
      "Finished epoch 37 of 100; error is 1.727189302444458"
     ]
    },
    {
     "name": "stdout",
     "output_type": "stream",
     "text": [
      "recons tensor(1.7922, grad_fn=<MseLossBackward>)\n",
      "mmd_err tensor(0.0062, grad_fn=<SubBackward0>)\n",
      "epoch_error 1.798466682434082\n",
      "recons tensor(1.7055, grad_fn=<MseLossBackward>)\n",
      "mmd_err tensor(0.0057, grad_fn=<SubBackward0>)\n",
      "epoch_error 3.5096739530563354\n",
      "recons tensor(1.7408, grad_fn=<MseLossBackward>)\n",
      "mmd_err tensor(0.0062, grad_fn=<SubBackward0>)\n",
      "epoch_error 5.256661534309387\n",
      "recons tensor(1.7000, grad_fn=<MseLossBackward>)\n",
      "mmd_err tensor(0.0060, grad_fn=<SubBackward0>)\n",
      "epoch_error 6.962702631950378\n",
      "recons tensor(1.5864, grad_fn=<MseLossBackward>)\n",
      "mmd_err tensor(0.0063, grad_fn=<SubBackward0>)\n",
      "epoch_error 8.555382013320923\n"
     ]
    },
    {
     "name": "stderr",
     "output_type": "stream",
     "text": [
      "\r",
      "Finished epoch 38 of 100; error is 1.5926793813705444"
     ]
    },
    {
     "name": "stdout",
     "output_type": "stream",
     "text": [
      "recons tensor(1.6908, grad_fn=<MseLossBackward>)\n",
      "mmd_err tensor(0.0055, grad_fn=<SubBackward0>)\n",
      "epoch_error 1.6962761878967285\n",
      "recons tensor(1.6624, grad_fn=<MseLossBackward>)\n",
      "mmd_err tensor(0.0061, grad_fn=<SubBackward0>)\n",
      "epoch_error 3.3647701740264893\n",
      "recons tensor(1.7146, grad_fn=<MseLossBackward>)\n",
      "mmd_err tensor(0.0058, grad_fn=<SubBackward0>)\n",
      "epoch_error 5.0852210521698\n",
      "recons tensor(1.6909, grad_fn=<MseLossBackward>)\n",
      "mmd_err tensor(0.0057, grad_fn=<SubBackward0>)\n",
      "epoch_error 6.78183126449585\n",
      "recons tensor(1.6343, grad_fn=<MseLossBackward>)\n",
      "mmd_err tensor(0.0058, grad_fn=<SubBackward0>)\n",
      "epoch_error 8.421950936317444\n"
     ]
    },
    {
     "name": "stderr",
     "output_type": "stream",
     "text": [
      "\r",
      "Finished epoch 39 of 100; error is 1.6401196718215942"
     ]
    },
    {
     "name": "stdout",
     "output_type": "stream",
     "text": [
      "recons tensor(1.6110, grad_fn=<MseLossBackward>)\n",
      "mmd_err tensor(0.0057, grad_fn=<SubBackward0>)\n",
      "epoch_error 1.616735816001892\n",
      "recons tensor(1.5785, grad_fn=<MseLossBackward>)\n",
      "mmd_err tensor(0.0055, grad_fn=<SubBackward0>)\n",
      "epoch_error 3.2006964683532715\n",
      "recons tensor(1.7198, grad_fn=<MseLossBackward>)\n",
      "mmd_err tensor(0.0060, grad_fn=<SubBackward0>)\n",
      "epoch_error 4.926491618156433\n",
      "recons tensor(1.7046, grad_fn=<MseLossBackward>)\n",
      "mmd_err tensor(0.0058, grad_fn=<SubBackward0>)\n",
      "epoch_error 6.636882901191711\n",
      "recons tensor(1.6498, grad_fn=<MseLossBackward>)\n",
      "mmd_err tensor(0.0058, grad_fn=<SubBackward0>)\n",
      "epoch_error 8.292575001716614\n"
     ]
    },
    {
     "name": "stderr",
     "output_type": "stream",
     "text": [
      "\r",
      "Finished epoch 40 of 100; error is 1.6556921005249023"
     ]
    },
    {
     "name": "stdout",
     "output_type": "stream",
     "text": [
      "recons tensor(1.6399, grad_fn=<MseLossBackward>)\n",
      "mmd_err tensor(0.0055, grad_fn=<SubBackward0>)\n",
      "epoch_error 1.6453555822372437\n",
      "recons tensor(1.5839, grad_fn=<MseLossBackward>)\n",
      "mmd_err tensor(0.0058, grad_fn=<SubBackward0>)\n",
      "epoch_error 3.234978437423706\n",
      "recons tensor(1.5934, grad_fn=<MseLossBackward>)\n",
      "mmd_err tensor(0.0058, grad_fn=<SubBackward0>)\n",
      "epoch_error 4.8341522216796875\n",
      "recons tensor(1.6895, grad_fn=<MseLossBackward>)\n",
      "mmd_err tensor(0.0058, grad_fn=<SubBackward0>)\n",
      "epoch_error 6.529394865036011\n",
      "recons tensor(1.6213, grad_fn=<MseLossBackward>)\n",
      "mmd_err tensor(0.0056, grad_fn=<SubBackward0>)\n",
      "epoch_error 8.156265377998352\n"
     ]
    },
    {
     "name": "stderr",
     "output_type": "stream",
     "text": [
      "\r",
      "Finished epoch 41 of 100; error is 1.6268705129623413"
     ]
    },
    {
     "name": "stdout",
     "output_type": "stream",
     "text": [
      "recons tensor(1.5245, grad_fn=<MseLossBackward>)\n",
      "mmd_err tensor(0.0058, grad_fn=<SubBackward0>)\n",
      "epoch_error 1.5303267240524292\n",
      "recons tensor(1.6144, grad_fn=<MseLossBackward>)\n",
      "mmd_err tensor(0.0054, grad_fn=<SubBackward0>)\n",
      "epoch_error 3.1501975059509277\n",
      "recons tensor(1.5649, grad_fn=<MseLossBackward>)\n",
      "mmd_err tensor(0.0053, grad_fn=<SubBackward0>)\n",
      "epoch_error 4.720389485359192\n",
      "recons tensor(1.6174, grad_fn=<MseLossBackward>)\n",
      "mmd_err tensor(0.0057, grad_fn=<SubBackward0>)\n",
      "epoch_error 6.343476414680481\n",
      "recons tensor(1.6998, grad_fn=<MseLossBackward>)\n",
      "mmd_err tensor(0.0058, grad_fn=<SubBackward0>)\n",
      "epoch_error 8.049037337303162\n"
     ]
    },
    {
     "name": "stderr",
     "output_type": "stream",
     "text": [
      "\r",
      "Finished epoch 42 of 100; error is 1.7055609226226807"
     ]
    },
    {
     "name": "stdout",
     "output_type": "stream",
     "text": [
      "recons tensor(1.6351, grad_fn=<MseLossBackward>)\n",
      "mmd_err tensor(0.0058, grad_fn=<SubBackward0>)\n",
      "epoch_error 1.6408330202102661\n",
      "recons tensor(1.5587, grad_fn=<MseLossBackward>)\n",
      "mmd_err tensor(0.0055, grad_fn=<SubBackward0>)\n",
      "epoch_error 3.2050634622573853\n",
      "recons tensor(1.5725, grad_fn=<MseLossBackward>)\n",
      "mmd_err tensor(0.0052, grad_fn=<SubBackward0>)\n",
      "epoch_error 4.782795429229736\n",
      "recons tensor(1.6098, grad_fn=<MseLossBackward>)\n",
      "mmd_err tensor(0.0057, grad_fn=<SubBackward0>)\n",
      "epoch_error 6.398322343826294\n",
      "recons tensor(1.5355, grad_fn=<MseLossBackward>)\n",
      "mmd_err tensor(0.0054, grad_fn=<SubBackward0>)\n",
      "epoch_error 7.939153432846069\n"
     ]
    },
    {
     "name": "stderr",
     "output_type": "stream",
     "text": [
      "\r",
      "Finished epoch 43 of 100; error is 1.5408310890197754"
     ]
    },
    {
     "name": "stdout",
     "output_type": "stream",
     "text": [
      "recons tensor(1.5485, grad_fn=<MseLossBackward>)\n",
      "mmd_err tensor(0.0054, grad_fn=<SubBackward0>)\n",
      "epoch_error 1.5539103746414185\n",
      "recons tensor(1.5881, grad_fn=<MseLossBackward>)\n",
      "mmd_err tensor(0.0057, grad_fn=<SubBackward0>)\n",
      "epoch_error 3.1476480960845947\n",
      "recons tensor(1.6156, grad_fn=<MseLossBackward>)\n",
      "mmd_err tensor(0.0054, grad_fn=<SubBackward0>)\n",
      "epoch_error 4.768692374229431\n",
      "recons tensor(1.4938, grad_fn=<MseLossBackward>)\n",
      "mmd_err tensor(0.0051, grad_fn=<SubBackward0>)\n",
      "epoch_error 6.2676485776901245\n",
      "recons tensor(1.5464, grad_fn=<MseLossBackward>)\n",
      "mmd_err tensor(0.0050, grad_fn=<SubBackward0>)\n",
      "epoch_error 7.8190754652023315\n"
     ]
    },
    {
     "name": "stderr",
     "output_type": "stream",
     "text": [
      "\r",
      "Finished epoch 44 of 100; error is 1.551426887512207"
     ]
    },
    {
     "name": "stdout",
     "output_type": "stream",
     "text": [
      "recons tensor(1.5857, grad_fn=<MseLossBackward>)\n",
      "mmd_err tensor(0.0058, grad_fn=<SubBackward0>)\n",
      "epoch_error 1.5915169715881348\n",
      "recons tensor(1.5726, grad_fn=<MseLossBackward>)\n",
      "mmd_err tensor(0.0056, grad_fn=<SubBackward0>)\n",
      "epoch_error 3.169658064842224\n",
      "recons tensor(1.5318, grad_fn=<MseLossBackward>)\n",
      "mmd_err tensor(0.0050, grad_fn=<SubBackward0>)\n",
      "epoch_error 4.706381440162659\n",
      "recons tensor(1.5375, grad_fn=<MseLossBackward>)\n",
      "mmd_err tensor(0.0053, grad_fn=<SubBackward0>)\n",
      "epoch_error 6.249216794967651\n",
      "recons tensor(1.4480, grad_fn=<MseLossBackward>)\n",
      "mmd_err tensor(0.0054, grad_fn=<SubBackward0>)\n",
      "epoch_error 7.7026742696762085\n"
     ]
    },
    {
     "name": "stderr",
     "output_type": "stream",
     "text": [
      "\r",
      "Finished epoch 45 of 100; error is 1.4534574747085571"
     ]
    },
    {
     "name": "stdout",
     "output_type": "stream",
     "text": [
      "recons tensor(1.4815, grad_fn=<MseLossBackward>)\n",
      "mmd_err tensor(0.0047, grad_fn=<SubBackward0>)\n",
      "epoch_error 1.4861867427825928\n",
      "recons tensor(1.5536, grad_fn=<MseLossBackward>)\n",
      "mmd_err tensor(0.0055, grad_fn=<SubBackward0>)\n",
      "epoch_error 3.0452494621276855\n",
      "recons tensor(1.6037, grad_fn=<MseLossBackward>)\n",
      "mmd_err tensor(0.0058, grad_fn=<SubBackward0>)\n",
      "epoch_error 4.6547369956970215\n",
      "recons tensor(1.4583, grad_fn=<MseLossBackward>)\n",
      "mmd_err tensor(0.0049, grad_fn=<SubBackward0>)\n",
      "epoch_error 6.117981791496277\n",
      "recons tensor(1.5126, grad_fn=<MseLossBackward>)\n",
      "mmd_err tensor(0.0057, grad_fn=<SubBackward0>)\n",
      "epoch_error 7.636317849159241\n"
     ]
    },
    {
     "name": "stderr",
     "output_type": "stream",
     "text": [
      "\r",
      "Finished epoch 46 of 100; error is 1.5183360576629639"
     ]
    },
    {
     "name": "stdout",
     "output_type": "stream",
     "text": [
      "recons tensor(1.5334, grad_fn=<MseLossBackward>)\n",
      "mmd_err tensor(0.0050, grad_fn=<SubBackward0>)\n",
      "epoch_error 1.5384418964385986\n",
      "recons tensor(1.4211, grad_fn=<MseLossBackward>)\n",
      "mmd_err tensor(0.0054, grad_fn=<SubBackward0>)\n",
      "epoch_error 2.9649899005889893\n",
      "recons tensor(1.5071, grad_fn=<MseLossBackward>)\n",
      "mmd_err tensor(0.0052, grad_fn=<SubBackward0>)\n",
      "epoch_error 4.477278470993042\n",
      "recons tensor(1.5540, grad_fn=<MseLossBackward>)\n",
      "mmd_err tensor(0.0050, grad_fn=<SubBackward0>)\n",
      "epoch_error 6.0363253355026245\n",
      "recons tensor(1.4999, grad_fn=<MseLossBackward>)\n",
      "mmd_err tensor(0.0059, grad_fn=<SubBackward0>)\n",
      "epoch_error 7.542112231254578\n"
     ]
    },
    {
     "name": "stderr",
     "output_type": "stream",
     "text": [
      "\r",
      "Finished epoch 47 of 100; error is 1.5057868957519531"
     ]
    },
    {
     "name": "stdout",
     "output_type": "stream",
     "text": [
      "recons tensor(1.5019, grad_fn=<MseLossBackward>)\n",
      "mmd_err tensor(0.0048, grad_fn=<SubBackward0>)\n",
      "epoch_error 1.5066876411437988\n",
      "recons tensor(1.4889, grad_fn=<MseLossBackward>)\n",
      "mmd_err tensor(0.0054, grad_fn=<SubBackward0>)\n",
      "epoch_error 3.0009610652923584\n",
      "recons tensor(1.4584, grad_fn=<MseLossBackward>)\n",
      "mmd_err tensor(0.0051, grad_fn=<SubBackward0>)\n",
      "epoch_error 4.4644893407821655\n",
      "recons tensor(1.4666, grad_fn=<MseLossBackward>)\n",
      "mmd_err tensor(0.0046, grad_fn=<SubBackward0>)\n",
      "epoch_error 5.93569278717041\n",
      "recons tensor(1.5355, grad_fn=<MseLossBackward>)\n",
      "mmd_err tensor(0.0052, grad_fn=<SubBackward0>)\n",
      "epoch_error 7.476363897323608\n"
     ]
    },
    {
     "name": "stderr",
     "output_type": "stream",
     "text": [
      "\r",
      "Finished epoch 48 of 100; error is 1.5406711101531982"
     ]
    },
    {
     "name": "stdout",
     "output_type": "stream",
     "text": [
      "recons tensor(1.4441, grad_fn=<MseLossBackward>)\n",
      "mmd_err tensor(0.0047, grad_fn=<SubBackward0>)\n",
      "epoch_error 1.4487782716751099\n",
      "recons tensor(1.4281, grad_fn=<MseLossBackward>)\n",
      "mmd_err tensor(0.0045, grad_fn=<SubBackward0>)\n",
      "epoch_error 2.8814356327056885\n",
      "recons tensor(1.4976, grad_fn=<MseLossBackward>)\n",
      "mmd_err tensor(0.0056, grad_fn=<SubBackward0>)\n",
      "epoch_error 4.384571552276611\n",
      "recons tensor(1.5014, grad_fn=<MseLossBackward>)\n",
      "mmd_err tensor(0.0047, grad_fn=<SubBackward0>)\n",
      "epoch_error 5.890730381011963\n",
      "recons tensor(1.4632, grad_fn=<MseLossBackward>)\n",
      "mmd_err tensor(0.0050, grad_fn=<SubBackward0>)\n",
      "epoch_error 7.358897686004639\n"
     ]
    },
    {
     "name": "stderr",
     "output_type": "stream",
     "text": [
      "\r",
      "Finished epoch 49 of 100; error is 1.4681673049926758"
     ]
    },
    {
     "name": "stdout",
     "output_type": "stream",
     "text": [
      "recons tensor(1.4492, grad_fn=<MseLossBackward>)\n",
      "mmd_err tensor(0.0050, grad_fn=<SubBackward0>)\n",
      "epoch_error 1.454211950302124\n",
      "recons tensor(1.5668, grad_fn=<MseLossBackward>)\n",
      "mmd_err tensor(0.0051, grad_fn=<SubBackward0>)\n",
      "epoch_error 3.0260459184646606\n",
      "recons tensor(1.4421, grad_fn=<MseLossBackward>)\n",
      "mmd_err tensor(0.0051, grad_fn=<SubBackward0>)\n",
      "epoch_error 4.473284721374512\n",
      "recons tensor(1.4213, grad_fn=<MseLossBackward>)\n",
      "mmd_err tensor(0.0046, grad_fn=<SubBackward0>)\n",
      "epoch_error 5.899130344390869\n",
      "recons tensor(1.3835, grad_fn=<MseLossBackward>)\n",
      "mmd_err tensor(0.0051, grad_fn=<SubBackward0>)\n",
      "epoch_error 7.287721395492554\n"
     ]
    },
    {
     "name": "stderr",
     "output_type": "stream",
     "text": [
      "\r",
      "Finished epoch 50 of 100; error is 1.3885910511016846"
     ]
    },
    {
     "name": "stdout",
     "output_type": "stream",
     "text": [
      "recons tensor(1.4677, grad_fn=<MseLossBackward>)\n",
      "mmd_err tensor(0.0049, grad_fn=<SubBackward0>)\n",
      "epoch_error 1.4725381135940552\n",
      "recons tensor(1.4947, grad_fn=<MseLossBackward>)\n",
      "mmd_err tensor(0.0053, grad_fn=<SubBackward0>)\n",
      "epoch_error 2.9725120067596436\n",
      "recons tensor(1.4235, grad_fn=<MseLossBackward>)\n",
      "mmd_err tensor(0.0046, grad_fn=<SubBackward0>)\n",
      "epoch_error 4.400584697723389\n",
      "recons tensor(1.4266, grad_fn=<MseLossBackward>)\n",
      "mmd_err tensor(0.0049, grad_fn=<SubBackward0>)\n",
      "epoch_error 5.832029461860657\n",
      "recons tensor(1.3562, grad_fn=<MseLossBackward>)\n",
      "mmd_err tensor(0.0049, grad_fn=<SubBackward0>)\n",
      "epoch_error 7.193139910697937\n"
     ]
    },
    {
     "name": "stderr",
     "output_type": "stream",
     "text": [
      "\r",
      "Finished epoch 51 of 100; error is 1.3611104488372803"
     ]
    },
    {
     "name": "stdout",
     "output_type": "stream",
     "text": [
      "recons tensor(1.3551, grad_fn=<MseLossBackward>)\n",
      "mmd_err tensor(0.0049, grad_fn=<SubBackward0>)\n",
      "epoch_error 1.359947681427002\n",
      "recons tensor(1.4393, grad_fn=<MseLossBackward>)\n",
      "mmd_err tensor(0.0049, grad_fn=<SubBackward0>)\n",
      "epoch_error 2.804214596748352\n",
      "recons tensor(1.4388, grad_fn=<MseLossBackward>)\n",
      "mmd_err tensor(0.0048, grad_fn=<SubBackward0>)\n",
      "epoch_error 4.2478266954422\n",
      "recons tensor(1.4177, grad_fn=<MseLossBackward>)\n",
      "mmd_err tensor(0.0043, grad_fn=<SubBackward0>)\n",
      "epoch_error 5.669839143753052\n",
      "recons tensor(1.4809, grad_fn=<MseLossBackward>)\n",
      "mmd_err tensor(0.0054, grad_fn=<SubBackward0>)\n",
      "epoch_error 7.1561325788497925\n"
     ]
    },
    {
     "name": "stderr",
     "output_type": "stream",
     "text": [
      "\r",
      "Finished epoch 52 of 100; error is 1.4862934350967407"
     ]
    },
    {
     "name": "stdout",
     "output_type": "stream",
     "text": [
      "recons tensor(1.4459, grad_fn=<MseLossBackward>)\n",
      "mmd_err tensor(0.0051, grad_fn=<SubBackward0>)\n",
      "epoch_error 1.4509804248809814\n",
      "recons tensor(1.4401, grad_fn=<MseLossBackward>)\n",
      "mmd_err tensor(0.0045, grad_fn=<SubBackward0>)\n",
      "epoch_error 2.8956152200698853\n",
      "recons tensor(1.4212, grad_fn=<MseLossBackward>)\n",
      "mmd_err tensor(0.0050, grad_fn=<SubBackward0>)\n",
      "epoch_error 4.32185161113739\n",
      "recons tensor(1.3633, grad_fn=<MseLossBackward>)\n",
      "mmd_err tensor(0.0045, grad_fn=<SubBackward0>)\n",
      "epoch_error 5.689688444137573\n",
      "recons tensor(1.3766, grad_fn=<MseLossBackward>)\n",
      "mmd_err tensor(0.0047, grad_fn=<SubBackward0>)\n",
      "epoch_error 7.0710049867630005\n"
     ]
    },
    {
     "name": "stderr",
     "output_type": "stream",
     "text": [
      "\r",
      "Finished epoch 53 of 100; error is 1.3813165426254272"
     ]
    },
    {
     "name": "stdout",
     "output_type": "stream",
     "text": [
      "recons tensor(1.4129, grad_fn=<MseLossBackward>)\n",
      "mmd_err tensor(0.0051, grad_fn=<SubBackward0>)\n",
      "epoch_error 1.4179503917694092\n",
      "recons tensor(1.4547, grad_fn=<MseLossBackward>)\n",
      "mmd_err tensor(0.0047, grad_fn=<SubBackward0>)\n",
      "epoch_error 2.877370834350586\n",
      "recons tensor(1.3587, grad_fn=<MseLossBackward>)\n",
      "mmd_err tensor(0.0049, grad_fn=<SubBackward0>)\n",
      "epoch_error 4.241025447845459\n",
      "recons tensor(1.3853, grad_fn=<MseLossBackward>)\n",
      "mmd_err tensor(0.0047, grad_fn=<SubBackward0>)\n",
      "epoch_error 5.631072640419006\n",
      "recons tensor(1.3615, grad_fn=<MseLossBackward>)\n",
      "mmd_err tensor(0.0047, grad_fn=<SubBackward0>)\n",
      "epoch_error 6.997207045555115\n"
     ]
    },
    {
     "name": "stderr",
     "output_type": "stream",
     "text": [
      "\r",
      "Finished epoch 54 of 100; error is 1.3661344051361084"
     ]
    },
    {
     "name": "stdout",
     "output_type": "stream",
     "text": [
      "recons tensor(1.3100, grad_fn=<MseLossBackward>)\n",
      "mmd_err tensor(0.0046, grad_fn=<SubBackward0>)\n",
      "epoch_error 1.3145809173583984\n",
      "recons tensor(1.4407, grad_fn=<MseLossBackward>)\n",
      "mmd_err tensor(0.0049, grad_fn=<SubBackward0>)\n",
      "epoch_error 2.7601295709609985\n",
      "recons tensor(1.3234, grad_fn=<MseLossBackward>)\n",
      "mmd_err tensor(0.0045, grad_fn=<SubBackward0>)\n",
      "epoch_error 4.0880115032196045\n",
      "recons tensor(1.4160, grad_fn=<MseLossBackward>)\n",
      "mmd_err tensor(0.0049, grad_fn=<SubBackward0>)\n",
      "epoch_error 5.508949875831604\n",
      "recons tensor(1.4180, grad_fn=<MseLossBackward>)\n",
      "mmd_err tensor(0.0046, grad_fn=<SubBackward0>)\n",
      "epoch_error 6.93160355091095\n"
     ]
    },
    {
     "name": "stderr",
     "output_type": "stream",
     "text": [
      "\r",
      "Finished epoch 55 of 100; error is 1.4226536750793457"
     ]
    },
    {
     "name": "stdout",
     "output_type": "stream",
     "text": [
      "recons tensor(1.3744, grad_fn=<MseLossBackward>)\n",
      "mmd_err tensor(0.0043, grad_fn=<SubBackward0>)\n",
      "epoch_error 1.3787699937820435\n",
      "recons tensor(1.3772, grad_fn=<MseLossBackward>)\n",
      "mmd_err tensor(0.0049, grad_fn=<SubBackward0>)\n",
      "epoch_error 2.7608954906463623\n",
      "recons tensor(1.3983, grad_fn=<MseLossBackward>)\n",
      "mmd_err tensor(0.0047, grad_fn=<SubBackward0>)\n",
      "epoch_error 4.163925766944885\n",
      "recons tensor(1.3576, grad_fn=<MseLossBackward>)\n",
      "mmd_err tensor(0.0045, grad_fn=<SubBackward0>)\n",
      "epoch_error 5.525994420051575\n",
      "recons tensor(1.3399, grad_fn=<MseLossBackward>)\n",
      "mmd_err tensor(0.0049, grad_fn=<SubBackward0>)\n",
      "epoch_error 6.870738863945007\n"
     ]
    },
    {
     "name": "stderr",
     "output_type": "stream",
     "text": [
      "\r",
      "Finished epoch 56 of 100; error is 1.3447444438934326"
     ]
    },
    {
     "name": "stdout",
     "output_type": "stream",
     "text": [
      "recons tensor(1.3413, grad_fn=<MseLossBackward>)\n",
      "mmd_err tensor(0.0046, grad_fn=<SubBackward0>)\n",
      "epoch_error 1.3458172082901\n",
      "recons tensor(1.3959, grad_fn=<MseLossBackward>)\n",
      "mmd_err tensor(0.0046, grad_fn=<SubBackward0>)\n",
      "epoch_error 2.7463828325271606\n",
      "recons tensor(1.3165, grad_fn=<MseLossBackward>)\n",
      "mmd_err tensor(0.0043, grad_fn=<SubBackward0>)\n",
      "epoch_error 4.067120432853699\n",
      "recons tensor(1.3681, grad_fn=<MseLossBackward>)\n",
      "mmd_err tensor(0.0042, grad_fn=<SubBackward0>)\n",
      "epoch_error 5.4393638372421265\n",
      "recons tensor(1.3858, grad_fn=<MseLossBackward>)\n",
      "mmd_err tensor(0.0046, grad_fn=<SubBackward0>)\n",
      "epoch_error 6.829774498939514\n"
     ]
    },
    {
     "name": "stderr",
     "output_type": "stream",
     "text": [
      "\r",
      "Finished epoch 57 of 100; error is 1.3904106616973877"
     ]
    },
    {
     "name": "stdout",
     "output_type": "stream",
     "text": [
      "recons tensor(1.3343, grad_fn=<MseLossBackward>)\n",
      "mmd_err tensor(0.0046, grad_fn=<SubBackward0>)\n",
      "epoch_error 1.3388752937316895\n",
      "recons tensor(1.3437, grad_fn=<MseLossBackward>)\n",
      "mmd_err tensor(0.0045, grad_fn=<SubBackward0>)\n",
      "epoch_error 2.6870498657226562\n",
      "recons tensor(1.3765, grad_fn=<MseLossBackward>)\n",
      "mmd_err tensor(0.0048, grad_fn=<SubBackward0>)\n",
      "epoch_error 4.0683735609054565\n",
      "recons tensor(1.3736, grad_fn=<MseLossBackward>)\n",
      "mmd_err tensor(0.0041, grad_fn=<SubBackward0>)\n",
      "epoch_error 5.44602644443512\n",
      "recons tensor(1.3549, grad_fn=<MseLossBackward>)\n",
      "mmd_err tensor(0.0046, grad_fn=<SubBackward0>)\n",
      "epoch_error 6.805570960044861\n"
     ]
    },
    {
     "name": "stderr",
     "output_type": "stream",
     "text": [
      "\r",
      "Finished epoch 58 of 100; error is 1.3595445156097412"
     ]
    },
    {
     "name": "stdout",
     "output_type": "stream",
     "text": [
      "recons tensor(1.3826, grad_fn=<MseLossBackward>)\n",
      "mmd_err tensor(0.0045, grad_fn=<SubBackward0>)\n",
      "epoch_error 1.3871006965637207\n",
      "recons tensor(1.3934, grad_fn=<MseLossBackward>)\n",
      "mmd_err tensor(0.0048, grad_fn=<SubBackward0>)\n",
      "epoch_error 2.7852678298950195\n",
      "recons tensor(1.2416, grad_fn=<MseLossBackward>)\n",
      "mmd_err tensor(0.0045, grad_fn=<SubBackward0>)\n",
      "epoch_error 4.031317114830017\n",
      "recons tensor(1.3343, grad_fn=<MseLossBackward>)\n",
      "mmd_err tensor(0.0040, grad_fn=<SubBackward0>)\n",
      "epoch_error 5.369614601135254\n",
      "recons tensor(1.3773, grad_fn=<MseLossBackward>)\n",
      "mmd_err tensor(0.0044, grad_fn=<SubBackward0>)\n",
      "epoch_error 6.751359820365906\n"
     ]
    },
    {
     "name": "stderr",
     "output_type": "stream",
     "text": [
      "\r",
      "Finished epoch 59 of 100; error is 1.3817452192306519"
     ]
    },
    {
     "name": "stdout",
     "output_type": "stream",
     "text": [
      "recons tensor(1.3393, grad_fn=<MseLossBackward>)\n",
      "mmd_err tensor(0.0047, grad_fn=<SubBackward0>)\n",
      "epoch_error 1.3439596891403198\n",
      "recons tensor(1.3625, grad_fn=<MseLossBackward>)\n",
      "mmd_err tensor(0.0043, grad_fn=<SubBackward0>)\n",
      "epoch_error 2.710740327835083\n",
      "recons tensor(1.3124, grad_fn=<MseLossBackward>)\n",
      "mmd_err tensor(0.0045, grad_fn=<SubBackward0>)\n",
      "epoch_error 4.027634501457214\n",
      "recons tensor(1.3279, grad_fn=<MseLossBackward>)\n",
      "mmd_err tensor(0.0045, grad_fn=<SubBackward0>)\n",
      "epoch_error 5.35998809337616\n",
      "recons tensor(1.3471, grad_fn=<MseLossBackward>)\n",
      "mmd_err tensor(0.0043, grad_fn=<SubBackward0>)\n",
      "epoch_error 6.711474061012268\n"
     ]
    },
    {
     "name": "stderr",
     "output_type": "stream",
     "text": [
      "\r",
      "Finished epoch 60 of 100; error is 1.3514859676361084"
     ]
    },
    {
     "name": "stdout",
     "output_type": "stream",
     "text": [
      "recons tensor(1.3190, grad_fn=<MseLossBackward>)\n",
      "mmd_err tensor(0.0048, grad_fn=<SubBackward0>)\n",
      "epoch_error 1.3237813711166382\n",
      "recons tensor(1.3313, grad_fn=<MseLossBackward>)\n",
      "mmd_err tensor(0.0044, grad_fn=<SubBackward0>)\n",
      "epoch_error 2.6595051288604736\n",
      "recons tensor(1.3250, grad_fn=<MseLossBackward>)\n",
      "mmd_err tensor(0.0042, grad_fn=<SubBackward0>)\n",
      "epoch_error 3.9886765480041504\n",
      "recons tensor(1.3342, grad_fn=<MseLossBackward>)\n",
      "mmd_err tensor(0.0046, grad_fn=<SubBackward0>)\n",
      "epoch_error 5.327410578727722\n",
      "recons tensor(1.3108, grad_fn=<MseLossBackward>)\n",
      "mmd_err tensor(0.0043, grad_fn=<SubBackward0>)\n",
      "epoch_error 6.642445921897888\n"
     ]
    },
    {
     "name": "stderr",
     "output_type": "stream",
     "text": [
      "\r",
      "Finished epoch 61 of 100; error is 1.315035343170166"
     ]
    },
    {
     "name": "stdout",
     "output_type": "stream",
     "text": [
      "recons tensor(1.3652, grad_fn=<MseLossBackward>)\n",
      "mmd_err tensor(0.0043, grad_fn=<SubBackward0>)\n",
      "epoch_error 1.3694581985473633\n",
      "recons tensor(1.3088, grad_fn=<MseLossBackward>)\n",
      "mmd_err tensor(0.0046, grad_fn=<SubBackward0>)\n",
      "epoch_error 2.6828978061676025\n",
      "recons tensor(1.2728, grad_fn=<MseLossBackward>)\n",
      "mmd_err tensor(0.0039, grad_fn=<SubBackward0>)\n",
      "epoch_error 3.9596080780029297\n",
      "recons tensor(1.3411, grad_fn=<MseLossBackward>)\n",
      "mmd_err tensor(0.0044, grad_fn=<SubBackward0>)\n",
      "epoch_error 5.30511200428009\n",
      "recons tensor(1.2897, grad_fn=<MseLossBackward>)\n",
      "mmd_err tensor(0.0042, grad_fn=<SubBackward0>)\n",
      "epoch_error 6.599037528038025\n"
     ]
    },
    {
     "name": "stderr",
     "output_type": "stream",
     "text": [
      "\r",
      "Finished epoch 62 of 100; error is 1.2939255237579346"
     ]
    },
    {
     "name": "stdout",
     "output_type": "stream",
     "text": [
      "recons tensor(1.2621, grad_fn=<MseLossBackward>)\n",
      "mmd_err tensor(0.0042, grad_fn=<SubBackward0>)\n",
      "epoch_error 1.2663027048110962\n",
      "recons tensor(1.2700, grad_fn=<MseLossBackward>)\n",
      "mmd_err tensor(0.0039, grad_fn=<SubBackward0>)\n",
      "epoch_error 2.540164589881897\n",
      "recons tensor(1.2911, grad_fn=<MseLossBackward>)\n",
      "mmd_err tensor(0.0041, grad_fn=<SubBackward0>)\n",
      "epoch_error 3.835359811782837\n",
      "recons tensor(1.4014, grad_fn=<MseLossBackward>)\n",
      "mmd_err tensor(0.0044, grad_fn=<SubBackward0>)\n",
      "epoch_error 5.241181492805481\n",
      "recons tensor(1.3111, grad_fn=<MseLossBackward>)\n",
      "mmd_err tensor(0.0047, grad_fn=<SubBackward0>)\n",
      "epoch_error 6.5569645166397095\n"
     ]
    },
    {
     "name": "stderr",
     "output_type": "stream",
     "text": [
      "\r",
      "Finished epoch 63 of 100; error is 1.3157830238342285"
     ]
    },
    {
     "name": "stdout",
     "output_type": "stream",
     "text": [
      "recons tensor(1.2941, grad_fn=<MseLossBackward>)\n",
      "mmd_err tensor(0.0041, grad_fn=<SubBackward0>)\n",
      "epoch_error 1.2981661558151245\n",
      "recons tensor(1.3102, grad_fn=<MseLossBackward>)\n",
      "mmd_err tensor(0.0044, grad_fn=<SubBackward0>)\n",
      "epoch_error 2.6127554178237915\n",
      "recons tensor(1.3201, grad_fn=<MseLossBackward>)\n",
      "mmd_err tensor(0.0045, grad_fn=<SubBackward0>)\n",
      "epoch_error 3.93729567527771\n",
      "recons tensor(1.2548, grad_fn=<MseLossBackward>)\n",
      "mmd_err tensor(0.0040, grad_fn=<SubBackward0>)\n",
      "epoch_error 5.196174740791321\n",
      "recons tensor(1.3196, grad_fn=<MseLossBackward>)\n",
      "mmd_err tensor(0.0045, grad_fn=<SubBackward0>)\n",
      "epoch_error 6.520286321640015\n"
     ]
    },
    {
     "name": "stderr",
     "output_type": "stream",
     "text": [
      "\r",
      "Finished epoch 64 of 100; error is 1.3241115808486938"
     ]
    },
    {
     "name": "stdout",
     "output_type": "stream",
     "text": [
      "recons tensor(1.3268, grad_fn=<MseLossBackward>)\n",
      "mmd_err tensor(0.0043, grad_fn=<SubBackward0>)\n",
      "epoch_error 1.3311423063278198\n",
      "recons tensor(1.3599, grad_fn=<MseLossBackward>)\n",
      "mmd_err tensor(0.0040, grad_fn=<SubBackward0>)\n",
      "epoch_error 2.6950442790985107\n",
      "recons tensor(1.2669, grad_fn=<MseLossBackward>)\n",
      "mmd_err tensor(0.0044, grad_fn=<SubBackward0>)\n",
      "epoch_error 3.9663405418395996\n",
      "recons tensor(1.2645, grad_fn=<MseLossBackward>)\n",
      "mmd_err tensor(0.0040, grad_fn=<SubBackward0>)\n",
      "epoch_error 5.234789967536926\n",
      "recons tensor(1.2304, grad_fn=<MseLossBackward>)\n",
      "mmd_err tensor(0.0038, grad_fn=<SubBackward0>)\n",
      "epoch_error 6.469070672988892\n"
     ]
    },
    {
     "name": "stderr",
     "output_type": "stream",
     "text": [
      "\r",
      "Finished epoch 65 of 100; error is 1.2342807054519653"
     ]
    },
    {
     "name": "stdout",
     "output_type": "stream",
     "text": [
      "recons tensor(1.2998, grad_fn=<MseLossBackward>)\n",
      "mmd_err tensor(0.0045, grad_fn=<SubBackward0>)\n",
      "epoch_error 1.3043212890625\n",
      "recons tensor(1.3371, grad_fn=<MseLossBackward>)\n",
      "mmd_err tensor(0.0038, grad_fn=<SubBackward0>)\n",
      "epoch_error 2.645253539085388\n",
      "recons tensor(1.2595, grad_fn=<MseLossBackward>)\n",
      "mmd_err tensor(0.0043, grad_fn=<SubBackward0>)\n",
      "epoch_error 3.9090837240219116\n",
      "recons tensor(1.2612, grad_fn=<MseLossBackward>)\n",
      "mmd_err tensor(0.0043, grad_fn=<SubBackward0>)\n",
      "epoch_error 5.174520969390869\n",
      "recons tensor(1.2602, grad_fn=<MseLossBackward>)\n",
      "mmd_err tensor(0.0042, grad_fn=<SubBackward0>)\n",
      "epoch_error 6.438985586166382\n"
     ]
    },
    {
     "name": "stderr",
     "output_type": "stream",
     "text": [
      "\r",
      "Finished epoch 66 of 100; error is 1.2644646167755127"
     ]
    },
    {
     "name": "stdout",
     "output_type": "stream",
     "text": [
      "recons tensor(1.2884, grad_fn=<MseLossBackward>)\n",
      "mmd_err tensor(0.0041, grad_fn=<SubBackward0>)\n",
      "epoch_error 1.2925673723220825\n",
      "recons tensor(1.2650, grad_fn=<MseLossBackward>)\n",
      "mmd_err tensor(0.0037, grad_fn=<SubBackward0>)\n",
      "epoch_error 2.5612164735794067\n",
      "recons tensor(1.2391, grad_fn=<MseLossBackward>)\n",
      "mmd_err tensor(0.0041, grad_fn=<SubBackward0>)\n",
      "epoch_error 3.804492473602295\n",
      "recons tensor(1.3481, grad_fn=<MseLossBackward>)\n",
      "mmd_err tensor(0.0041, grad_fn=<SubBackward0>)\n",
      "epoch_error 5.156708836555481\n",
      "recons tensor(1.2404, grad_fn=<MseLossBackward>)\n",
      "mmd_err tensor(0.0041, grad_fn=<SubBackward0>)\n",
      "epoch_error 6.401188373565674\n"
     ]
    },
    {
     "name": "stderr",
     "output_type": "stream",
     "text": [
      "\r",
      "Finished epoch 67 of 100; error is 1.2444795370101929"
     ]
    },
    {
     "name": "stdout",
     "output_type": "stream",
     "text": [
      "recons tensor(1.2512, grad_fn=<MseLossBackward>)\n",
      "mmd_err tensor(0.0042, grad_fn=<SubBackward0>)\n",
      "epoch_error 1.2553900480270386\n",
      "recons tensor(1.3323, grad_fn=<MseLossBackward>)\n",
      "mmd_err tensor(0.0042, grad_fn=<SubBackward0>)\n",
      "epoch_error 2.591899275779724\n",
      "recons tensor(1.2640, grad_fn=<MseLossBackward>)\n",
      "mmd_err tensor(0.0045, grad_fn=<SubBackward0>)\n",
      "epoch_error 3.8603808879852295\n",
      "recons tensor(1.1787, grad_fn=<MseLossBackward>)\n",
      "mmd_err tensor(0.0036, grad_fn=<SubBackward0>)\n",
      "epoch_error 5.042708039283752\n",
      "recons tensor(1.3019, grad_fn=<MseLossBackward>)\n",
      "mmd_err tensor(0.0041, grad_fn=<SubBackward0>)\n",
      "epoch_error 6.348739385604858\n"
     ]
    },
    {
     "name": "stderr",
     "output_type": "stream",
     "text": [
      "\r",
      "Finished epoch 68 of 100; error is 1.306031346321106"
     ]
    },
    {
     "name": "stdout",
     "output_type": "stream",
     "text": [
      "recons tensor(1.2358, grad_fn=<MseLossBackward>)\n",
      "mmd_err tensor(0.0042, grad_fn=<SubBackward0>)\n",
      "epoch_error 1.2399444580078125\n",
      "recons tensor(1.2109, grad_fn=<MseLossBackward>)\n",
      "mmd_err tensor(0.0039, grad_fn=<SubBackward0>)\n",
      "epoch_error 2.454713821411133\n",
      "recons tensor(1.3427, grad_fn=<MseLossBackward>)\n",
      "mmd_err tensor(0.0042, grad_fn=<SubBackward0>)\n",
      "epoch_error 3.801619291305542\n",
      "recons tensor(1.2934, grad_fn=<MseLossBackward>)\n",
      "mmd_err tensor(0.0041, grad_fn=<SubBackward0>)\n",
      "epoch_error 5.099117755889893\n",
      "recons tensor(1.2020, grad_fn=<MseLossBackward>)\n",
      "mmd_err tensor(0.0037, grad_fn=<SubBackward0>)\n",
      "epoch_error 6.304817080497742\n"
     ]
    },
    {
     "name": "stderr",
     "output_type": "stream",
     "text": [
      "\r",
      "Finished epoch 69 of 100; error is 1.2056993246078491"
     ]
    },
    {
     "name": "stdout",
     "output_type": "stream",
     "text": [
      "recons tensor(1.2884, grad_fn=<MseLossBackward>)\n",
      "mmd_err tensor(0.0045, grad_fn=<SubBackward0>)\n",
      "epoch_error 1.292880892753601\n",
      "recons tensor(1.2408, grad_fn=<MseLossBackward>)\n",
      "mmd_err tensor(0.0042, grad_fn=<SubBackward0>)\n",
      "epoch_error 2.5378791093826294\n",
      "recons tensor(1.2164, grad_fn=<MseLossBackward>)\n",
      "mmd_err tensor(0.0042, grad_fn=<SubBackward0>)\n",
      "epoch_error 3.758521556854248\n",
      "recons tensor(1.3014, grad_fn=<MseLossBackward>)\n",
      "mmd_err tensor(0.0040, grad_fn=<SubBackward0>)\n",
      "epoch_error 5.063915014266968\n",
      "recons tensor(1.2192, grad_fn=<MseLossBackward>)\n",
      "mmd_err tensor(0.0036, grad_fn=<SubBackward0>)\n",
      "epoch_error 6.286738634109497\n"
     ]
    },
    {
     "name": "stderr",
     "output_type": "stream",
     "text": [
      "\r",
      "Finished epoch 70 of 100; error is 1.2228236198425293"
     ]
    },
    {
     "name": "stdout",
     "output_type": "stream",
     "text": [
      "recons tensor(1.2368, grad_fn=<MseLossBackward>)\n",
      "mmd_err tensor(0.0039, grad_fn=<SubBackward0>)\n",
      "epoch_error 1.2406609058380127\n",
      "recons tensor(1.2941, grad_fn=<MseLossBackward>)\n",
      "mmd_err tensor(0.0039, grad_fn=<SubBackward0>)\n",
      "epoch_error 2.5386762619018555\n",
      "recons tensor(1.2635, grad_fn=<MseLossBackward>)\n",
      "mmd_err tensor(0.0041, grad_fn=<SubBackward0>)\n",
      "epoch_error 3.806307554244995\n",
      "recons tensor(1.2197, grad_fn=<MseLossBackward>)\n",
      "mmd_err tensor(0.0040, grad_fn=<SubBackward0>)\n",
      "epoch_error 5.03000271320343\n",
      "recons tensor(1.2388, grad_fn=<MseLossBackward>)\n",
      "mmd_err tensor(0.0039, grad_fn=<SubBackward0>)\n",
      "epoch_error 6.272638201713562\n"
     ]
    },
    {
     "name": "stderr",
     "output_type": "stream",
     "text": [
      "\r",
      "Finished epoch 71 of 100; error is 1.2426354885101318"
     ]
    },
    {
     "name": "stdout",
     "output_type": "stream",
     "text": [
      "recons tensor(1.2706, grad_fn=<MseLossBackward>)\n",
      "mmd_err tensor(0.0043, grad_fn=<SubBackward0>)\n",
      "epoch_error 1.2749314308166504\n",
      "recons tensor(1.2176, grad_fn=<MseLossBackward>)\n",
      "mmd_err tensor(0.0038, grad_fn=<SubBackward0>)\n",
      "epoch_error 2.4963042736053467\n",
      "recons tensor(1.2579, grad_fn=<MseLossBackward>)\n",
      "mmd_err tensor(0.0038, grad_fn=<SubBackward0>)\n",
      "epoch_error 3.7580429315567017\n",
      "recons tensor(1.2507, grad_fn=<MseLossBackward>)\n",
      "mmd_err tensor(0.0041, grad_fn=<SubBackward0>)\n",
      "epoch_error 5.01288366317749\n",
      "recons tensor(1.2085, grad_fn=<MseLossBackward>)\n",
      "mmd_err tensor(0.0038, grad_fn=<SubBackward0>)\n",
      "epoch_error 6.225198149681091\n"
     ]
    },
    {
     "name": "stderr",
     "output_type": "stream",
     "text": [
      "\r",
      "Finished epoch 72 of 100; error is 1.212314486503601"
     ]
    },
    {
     "name": "stdout",
     "output_type": "stream",
     "text": [
      "recons tensor(1.2570, grad_fn=<MseLossBackward>)\n",
      "mmd_err tensor(0.0042, grad_fn=<SubBackward0>)\n",
      "epoch_error 1.2611587047576904\n",
      "recons tensor(1.2205, grad_fn=<MseLossBackward>)\n",
      "mmd_err tensor(0.0040, grad_fn=<SubBackward0>)\n",
      "epoch_error 2.4855931997299194\n",
      "recons tensor(1.2925, grad_fn=<MseLossBackward>)\n",
      "mmd_err tensor(0.0039, grad_fn=<SubBackward0>)\n",
      "epoch_error 3.7820099592208862\n",
      "recons tensor(1.2022, grad_fn=<MseLossBackward>)\n",
      "mmd_err tensor(0.0040, grad_fn=<SubBackward0>)\n",
      "epoch_error 4.988181114196777\n",
      "recons tensor(1.2125, grad_fn=<MseLossBackward>)\n",
      "mmd_err tensor(0.0035, grad_fn=<SubBackward0>)\n",
      "epoch_error 6.204198479652405\n"
     ]
    },
    {
     "name": "stderr",
     "output_type": "stream",
     "text": [
      "\r",
      "Finished epoch 73 of 100; error is 1.2160173654556274"
     ]
    },
    {
     "name": "stdout",
     "output_type": "stream",
     "text": [
      "recons tensor(1.2796, grad_fn=<MseLossBackward>)\n",
      "mmd_err tensor(0.0040, grad_fn=<SubBackward0>)\n",
      "epoch_error 1.2836110591888428\n",
      "recons tensor(1.1954, grad_fn=<MseLossBackward>)\n",
      "mmd_err tensor(0.0039, grad_fn=<SubBackward0>)\n",
      "epoch_error 2.4828710556030273\n",
      "recons tensor(1.2046, grad_fn=<MseLossBackward>)\n",
      "mmd_err tensor(0.0038, grad_fn=<SubBackward0>)\n",
      "epoch_error 3.691235899925232\n",
      "recons tensor(1.2039, grad_fn=<MseLossBackward>)\n",
      "mmd_err tensor(0.0040, grad_fn=<SubBackward0>)\n",
      "epoch_error 4.899105191230774\n",
      "recons tensor(1.2714, grad_fn=<MseLossBackward>)\n",
      "mmd_err tensor(0.0043, grad_fn=<SubBackward0>)\n",
      "epoch_error 6.174710512161255\n"
     ]
    },
    {
     "name": "stderr",
     "output_type": "stream",
     "text": [
      "\r",
      "Finished epoch 74 of 100; error is 1.275605320930481"
     ]
    },
    {
     "name": "stdout",
     "output_type": "stream",
     "text": [
      "recons tensor(1.3046, grad_fn=<MseLossBackward>)\n",
      "mmd_err tensor(0.0039, grad_fn=<SubBackward0>)\n",
      "epoch_error 1.3085187673568726\n",
      "recons tensor(1.2031, grad_fn=<MseLossBackward>)\n",
      "mmd_err tensor(0.0040, grad_fn=<SubBackward0>)\n",
      "epoch_error 2.515652298927307\n",
      "recons tensor(1.2569, grad_fn=<MseLossBackward>)\n",
      "mmd_err tensor(0.0038, grad_fn=<SubBackward0>)\n",
      "epoch_error 3.7764012813568115\n",
      "recons tensor(1.1538, grad_fn=<MseLossBackward>)\n",
      "mmd_err tensor(0.0037, grad_fn=<SubBackward0>)\n",
      "epoch_error 4.933871269226074\n",
      "recons tensor(1.1998, grad_fn=<MseLossBackward>)\n",
      "mmd_err tensor(0.0036, grad_fn=<SubBackward0>)\n",
      "epoch_error 6.137318849563599\n"
     ]
    },
    {
     "name": "stderr",
     "output_type": "stream",
     "text": [
      "\r",
      "Finished epoch 75 of 100; error is 1.2034475803375244"
     ]
    },
    {
     "name": "stdout",
     "output_type": "stream",
     "text": [
      "recons tensor(1.2432, grad_fn=<MseLossBackward>)\n",
      "mmd_err tensor(0.0043, grad_fn=<SubBackward0>)\n",
      "epoch_error 1.2475560903549194\n",
      "recons tensor(1.2086, grad_fn=<MseLossBackward>)\n",
      "mmd_err tensor(0.0033, grad_fn=<SubBackward0>)\n",
      "epoch_error 2.4594615697860718\n",
      "recons tensor(1.2406, grad_fn=<MseLossBackward>)\n",
      "mmd_err tensor(0.0044, grad_fn=<SubBackward0>)\n",
      "epoch_error 3.704398274421692\n",
      "recons tensor(1.2773, grad_fn=<MseLossBackward>)\n",
      "mmd_err tensor(0.0034, grad_fn=<SubBackward0>)\n",
      "epoch_error 4.985068082809448\n",
      "recons tensor(1.2311, grad_fn=<MseLossBackward>)\n",
      "mmd_err tensor(0.0037, grad_fn=<SubBackward0>)\n",
      "epoch_error 6.21990168094635\n"
     ]
    },
    {
     "name": "stderr",
     "output_type": "stream",
     "text": [
      "\r",
      "Finished epoch 76 of 100; error is 1.2348335981369019"
     ]
    },
    {
     "name": "stdout",
     "output_type": "stream",
     "text": [
      "recons tensor(1.2159, grad_fn=<MseLossBackward>)\n",
      "mmd_err tensor(0.0042, grad_fn=<SubBackward0>)\n",
      "epoch_error 1.2200253009796143\n",
      "recons tensor(1.2971, grad_fn=<MseLossBackward>)\n",
      "mmd_err tensor(0.0034, grad_fn=<SubBackward0>)\n",
      "epoch_error 2.5205700397491455\n",
      "recons tensor(1.2268, grad_fn=<MseLossBackward>)\n",
      "mmd_err tensor(0.0042, grad_fn=<SubBackward0>)\n",
      "epoch_error 3.75152587890625\n",
      "recons tensor(1.2891, grad_fn=<MseLossBackward>)\n",
      "mmd_err tensor(0.0037, grad_fn=<SubBackward0>)\n",
      "epoch_error 5.044314861297607\n",
      "recons tensor(1.2495, grad_fn=<MseLossBackward>)\n",
      "mmd_err tensor(0.0039, grad_fn=<SubBackward0>)\n",
      "epoch_error 6.297725439071655\n"
     ]
    },
    {
     "name": "stderr",
     "output_type": "stream",
     "text": [
      "\r",
      "Finished epoch 77 of 100; error is 1.2534105777740479"
     ]
    },
    {
     "name": "stdout",
     "output_type": "stream",
     "text": [
      "recons tensor(1.2983, grad_fn=<MseLossBackward>)\n",
      "mmd_err tensor(0.0044, grad_fn=<SubBackward0>)\n",
      "epoch_error 1.3026591539382935\n",
      "recons tensor(1.2005, grad_fn=<MseLossBackward>)\n",
      "mmd_err tensor(0.0035, grad_fn=<SubBackward0>)\n",
      "epoch_error 2.5066466331481934\n",
      "recons tensor(1.1991, grad_fn=<MseLossBackward>)\n",
      "mmd_err tensor(0.0036, grad_fn=<SubBackward0>)\n",
      "epoch_error 3.7092978954315186\n",
      "recons tensor(1.2061, grad_fn=<MseLossBackward>)\n",
      "mmd_err tensor(0.0040, grad_fn=<SubBackward0>)\n",
      "epoch_error 4.919402480125427\n",
      "recons tensor(1.2430, grad_fn=<MseLossBackward>)\n",
      "mmd_err tensor(0.0033, grad_fn=<SubBackward0>)\n",
      "epoch_error 6.165684223175049\n"
     ]
    },
    {
     "name": "stderr",
     "output_type": "stream",
     "text": [
      "\r",
      "Finished epoch 78 of 100; error is 1.2462817430496216"
     ]
    },
    {
     "name": "stdout",
     "output_type": "stream",
     "text": [
      "recons tensor(1.2308, grad_fn=<MseLossBackward>)\n",
      "mmd_err tensor(0.0041, grad_fn=<SubBackward0>)\n",
      "epoch_error 1.234929084777832\n",
      "recons tensor(1.2114, grad_fn=<MseLossBackward>)\n",
      "mmd_err tensor(0.0037, grad_fn=<SubBackward0>)\n",
      "epoch_error 2.450026035308838\n",
      "recons tensor(1.1700, grad_fn=<MseLossBackward>)\n",
      "mmd_err tensor(0.0035, grad_fn=<SubBackward0>)\n",
      "epoch_error 3.6234915256500244\n",
      "recons tensor(1.2905, grad_fn=<MseLossBackward>)\n",
      "mmd_err tensor(0.0045, grad_fn=<SubBackward0>)\n",
      "epoch_error 4.918450832366943\n",
      "recons tensor(1.1821, grad_fn=<MseLossBackward>)\n",
      "mmd_err tensor(0.0036, grad_fn=<SubBackward0>)\n",
      "epoch_error 6.104156255722046\n"
     ]
    },
    {
     "name": "stderr",
     "output_type": "stream",
     "text": [
      "\r",
      "Finished epoch 79 of 100; error is 1.1857054233551025"
     ]
    },
    {
     "name": "stdout",
     "output_type": "stream",
     "text": [
      "recons tensor(1.1768, grad_fn=<MseLossBackward>)\n",
      "mmd_err tensor(0.0035, grad_fn=<SubBackward0>)\n",
      "epoch_error 1.180346965789795\n",
      "recons tensor(1.1859, grad_fn=<MseLossBackward>)\n",
      "mmd_err tensor(0.0038, grad_fn=<SubBackward0>)\n",
      "epoch_error 2.370029091835022\n",
      "recons tensor(1.2212, grad_fn=<MseLossBackward>)\n",
      "mmd_err tensor(0.0039, grad_fn=<SubBackward0>)\n",
      "epoch_error 3.595150351524353\n",
      "recons tensor(1.2511, grad_fn=<MseLossBackward>)\n",
      "mmd_err tensor(0.0037, grad_fn=<SubBackward0>)\n",
      "epoch_error 4.849909663200378\n",
      "recons tensor(1.1732, grad_fn=<MseLossBackward>)\n",
      "mmd_err tensor(0.0039, grad_fn=<SubBackward0>)\n",
      "epoch_error 6.02708113193512\n"
     ]
    },
    {
     "name": "stderr",
     "output_type": "stream",
     "text": [
      "\r",
      "Finished epoch 80 of 100; error is 1.1771714687347412"
     ]
    },
    {
     "name": "stdout",
     "output_type": "stream",
     "text": [
      "recons tensor(1.2007, grad_fn=<MseLossBackward>)\n",
      "mmd_err tensor(0.0034, grad_fn=<SubBackward0>)\n",
      "epoch_error 1.2041071653366089\n",
      "recons tensor(1.2498, grad_fn=<MseLossBackward>)\n",
      "mmd_err tensor(0.0039, grad_fn=<SubBackward0>)\n",
      "epoch_error 2.4578804969787598\n",
      "recons tensor(1.1345, grad_fn=<MseLossBackward>)\n",
      "mmd_err tensor(0.0037, grad_fn=<SubBackward0>)\n",
      "epoch_error 3.596091389656067\n",
      "recons tensor(1.2065, grad_fn=<MseLossBackward>)\n",
      "mmd_err tensor(0.0036, grad_fn=<SubBackward0>)\n",
      "epoch_error 4.806244134902954\n",
      "recons tensor(1.1860, grad_fn=<MseLossBackward>)\n",
      "mmd_err tensor(0.0040, grad_fn=<SubBackward0>)\n",
      "epoch_error 5.996174573898315\n"
     ]
    },
    {
     "name": "stderr",
     "output_type": "stream",
     "text": [
      "\r",
      "Finished epoch 81 of 100; error is 1.1899304389953613"
     ]
    },
    {
     "name": "stdout",
     "output_type": "stream",
     "text": [
      "recons tensor(1.2153, grad_fn=<MseLossBackward>)\n",
      "mmd_err tensor(0.0039, grad_fn=<SubBackward0>)\n",
      "epoch_error 1.2191592454910278\n",
      "recons tensor(1.2106, grad_fn=<MseLossBackward>)\n",
      "mmd_err tensor(0.0038, grad_fn=<SubBackward0>)\n",
      "epoch_error 2.433485984802246\n",
      "recons tensor(1.1779, grad_fn=<MseLossBackward>)\n",
      "mmd_err tensor(0.0037, grad_fn=<SubBackward0>)\n",
      "epoch_error 3.6150903701782227\n",
      "recons tensor(1.1518, grad_fn=<MseLossBackward>)\n",
      "mmd_err tensor(0.0036, grad_fn=<SubBackward0>)\n",
      "epoch_error 4.770485758781433\n",
      "recons tensor(1.1999, grad_fn=<MseLossBackward>)\n",
      "mmd_err tensor(0.0035, grad_fn=<SubBackward0>)\n",
      "epoch_error 5.973803758621216\n"
     ]
    },
    {
     "name": "stderr",
     "output_type": "stream",
     "text": [
      "\r",
      "Finished epoch 82 of 100; error is 1.2033179998397827"
     ]
    },
    {
     "name": "stdout",
     "output_type": "stream",
     "text": [
      "recons tensor(1.1556, grad_fn=<MseLossBackward>)\n",
      "mmd_err tensor(0.0038, grad_fn=<SubBackward0>)\n",
      "epoch_error 1.1594643592834473\n",
      "recons tensor(1.1665, grad_fn=<MseLossBackward>)\n",
      "mmd_err tensor(0.0036, grad_fn=<SubBackward0>)\n",
      "epoch_error 2.3295936584472656\n",
      "recons tensor(1.1917, grad_fn=<MseLossBackward>)\n",
      "mmd_err tensor(0.0038, grad_fn=<SubBackward0>)\n",
      "epoch_error 3.5250678062438965\n",
      "recons tensor(1.2142, grad_fn=<MseLossBackward>)\n",
      "mmd_err tensor(0.0037, grad_fn=<SubBackward0>)\n",
      "epoch_error 4.742988467216492\n",
      "recons tensor(1.2044, grad_fn=<MseLossBackward>)\n",
      "mmd_err tensor(0.0036, grad_fn=<SubBackward0>)\n",
      "epoch_error 5.951048254966736\n"
     ]
    },
    {
     "name": "stderr",
     "output_type": "stream",
     "text": [
      "\r",
      "Finished epoch 83 of 100; error is 1.2080597877502441"
     ]
    },
    {
     "name": "stdout",
     "output_type": "stream",
     "text": [
      "recons tensor(1.1512, grad_fn=<MseLossBackward>)\n",
      "mmd_err tensor(0.0038, grad_fn=<SubBackward0>)\n",
      "epoch_error 1.1550523042678833\n",
      "recons tensor(1.1670, grad_fn=<MseLossBackward>)\n",
      "mmd_err tensor(0.0035, grad_fn=<SubBackward0>)\n",
      "epoch_error 2.3255796432495117\n",
      "recons tensor(1.2028, grad_fn=<MseLossBackward>)\n",
      "mmd_err tensor(0.0035, grad_fn=<SubBackward0>)\n",
      "epoch_error 3.5318620204925537\n",
      "recons tensor(1.1688, grad_fn=<MseLossBackward>)\n",
      "mmd_err tensor(0.0038, grad_fn=<SubBackward0>)\n",
      "epoch_error 4.704393744468689\n",
      "recons tensor(1.2532, grad_fn=<MseLossBackward>)\n",
      "mmd_err tensor(0.0035, grad_fn=<SubBackward0>)\n",
      "epoch_error 5.961037993431091\n"
     ]
    },
    {
     "name": "stderr",
     "output_type": "stream",
     "text": [
      "\r",
      "Finished epoch 84 of 100; error is 1.2566442489624023"
     ]
    },
    {
     "name": "stdout",
     "output_type": "stream",
     "text": [
      "recons tensor(1.1881, grad_fn=<MseLossBackward>)\n",
      "mmd_err tensor(0.0042, grad_fn=<SubBackward0>)\n",
      "epoch_error 1.1922862529754639\n",
      "recons tensor(1.2688, grad_fn=<MseLossBackward>)\n",
      "mmd_err tensor(0.0036, grad_fn=<SubBackward0>)\n",
      "epoch_error 2.4646923542022705\n",
      "recons tensor(1.1747, grad_fn=<MseLossBackward>)\n",
      "mmd_err tensor(0.0033, grad_fn=<SubBackward0>)\n",
      "epoch_error 3.6426138877868652\n",
      "recons tensor(1.1728, grad_fn=<MseLossBackward>)\n",
      "mmd_err tensor(0.0038, grad_fn=<SubBackward0>)\n",
      "epoch_error 4.819235920906067\n",
      "recons tensor(1.1543, grad_fn=<MseLossBackward>)\n",
      "mmd_err tensor(0.0029, grad_fn=<SubBackward0>)\n",
      "epoch_error 5.97642195224762\n"
     ]
    },
    {
     "name": "stderr",
     "output_type": "stream",
     "text": [
      "\r",
      "Finished epoch 85 of 100; error is 1.1571860313415527"
     ]
    },
    {
     "name": "stdout",
     "output_type": "stream",
     "text": [
      "recons tensor(1.1953, grad_fn=<MseLossBackward>)\n",
      "mmd_err tensor(0.0037, grad_fn=<SubBackward0>)\n",
      "epoch_error 1.1989507675170898\n",
      "recons tensor(1.2188, grad_fn=<MseLossBackward>)\n",
      "mmd_err tensor(0.0038, grad_fn=<SubBackward0>)\n",
      "epoch_error 2.4216123819351196\n",
      "recons tensor(1.1983, grad_fn=<MseLossBackward>)\n",
      "mmd_err tensor(0.0035, grad_fn=<SubBackward0>)\n",
      "epoch_error 3.6234368085861206\n",
      "recons tensor(1.1631, grad_fn=<MseLossBackward>)\n",
      "mmd_err tensor(0.0040, grad_fn=<SubBackward0>)\n",
      "epoch_error 4.79051661491394\n",
      "recons tensor(1.1564, grad_fn=<MseLossBackward>)\n",
      "mmd_err tensor(0.0035, grad_fn=<SubBackward0>)\n",
      "epoch_error 5.950397968292236\n"
     ]
    },
    {
     "name": "stderr",
     "output_type": "stream",
     "text": [
      "\r",
      "Finished epoch 86 of 100; error is 1.159881353378296"
     ]
    },
    {
     "name": "stdout",
     "output_type": "stream",
     "text": [
      "recons tensor(1.2266, grad_fn=<MseLossBackward>)\n",
      "mmd_err tensor(0.0035, grad_fn=<SubBackward0>)\n",
      "epoch_error 1.2301454544067383\n",
      "recons tensor(1.1907, grad_fn=<MseLossBackward>)\n",
      "mmd_err tensor(0.0037, grad_fn=<SubBackward0>)\n",
      "epoch_error 2.4245569705963135\n",
      "recons tensor(1.1700, grad_fn=<MseLossBackward>)\n",
      "mmd_err tensor(0.0034, grad_fn=<SubBackward0>)\n",
      "epoch_error 3.5979418754577637\n",
      "recons tensor(1.1762, grad_fn=<MseLossBackward>)\n",
      "mmd_err tensor(0.0034, grad_fn=<SubBackward0>)\n",
      "epoch_error 4.777545928955078\n",
      "recons tensor(1.1690, grad_fn=<MseLossBackward>)\n",
      "mmd_err tensor(0.0038, grad_fn=<SubBackward0>)\n",
      "epoch_error 5.950383901596069\n"
     ]
    },
    {
     "name": "stderr",
     "output_type": "stream",
     "text": [
      "\r",
      "Finished epoch 87 of 100; error is 1.1728379726409912"
     ]
    },
    {
     "name": "stdout",
     "output_type": "stream",
     "text": [
      "recons tensor(1.1722, grad_fn=<MseLossBackward>)\n",
      "mmd_err tensor(0.0033, grad_fn=<SubBackward0>)\n",
      "epoch_error 1.175477147102356\n",
      "recons tensor(1.2296, grad_fn=<MseLossBackward>)\n",
      "mmd_err tensor(0.0036, grad_fn=<SubBackward0>)\n",
      "epoch_error 2.4086220264434814\n",
      "recons tensor(1.1532, grad_fn=<MseLossBackward>)\n",
      "mmd_err tensor(0.0040, grad_fn=<SubBackward0>)\n",
      "epoch_error 3.5658475160598755\n",
      "recons tensor(1.2182, grad_fn=<MseLossBackward>)\n",
      "mmd_err tensor(0.0031, grad_fn=<SubBackward0>)\n",
      "epoch_error 4.78717827796936\n",
      "recons tensor(1.1708, grad_fn=<MseLossBackward>)\n",
      "mmd_err tensor(0.0037, grad_fn=<SubBackward0>)\n",
      "epoch_error 5.961740732192993\n"
     ]
    },
    {
     "name": "stderr",
     "output_type": "stream",
     "text": [
      "\r",
      "Finished epoch 88 of 100; error is 1.1745624542236328"
     ]
    },
    {
     "name": "stdout",
     "output_type": "stream",
     "text": [
      "recons tensor(1.1996, grad_fn=<MseLossBackward>)\n",
      "mmd_err tensor(0.0032, grad_fn=<SubBackward0>)\n",
      "epoch_error 1.2028169631958008\n",
      "recons tensor(1.1276, grad_fn=<MseLossBackward>)\n",
      "mmd_err tensor(0.0033, grad_fn=<SubBackward0>)\n",
      "epoch_error 2.3337059020996094\n",
      "recons tensor(1.2397, grad_fn=<MseLossBackward>)\n",
      "mmd_err tensor(0.0039, grad_fn=<SubBackward0>)\n",
      "epoch_error 3.5773309469223022\n",
      "recons tensor(1.1417, grad_fn=<MseLossBackward>)\n",
      "mmd_err tensor(0.0034, grad_fn=<SubBackward0>)\n",
      "epoch_error 4.722424387931824\n",
      "recons tensor(1.1815, grad_fn=<MseLossBackward>)\n",
      "mmd_err tensor(0.0032, grad_fn=<SubBackward0>)\n",
      "epoch_error 5.907139420509338\n"
     ]
    },
    {
     "name": "stderr",
     "output_type": "stream",
     "text": [
      "\r",
      "Finished epoch 89 of 100; error is 1.1847150325775146"
     ]
    },
    {
     "name": "stdout",
     "output_type": "stream",
     "text": [
      "recons tensor(1.1755, grad_fn=<MseLossBackward>)\n",
      "mmd_err tensor(0.0038, grad_fn=<SubBackward0>)\n",
      "epoch_error 1.179269552230835\n",
      "recons tensor(1.2272, grad_fn=<MseLossBackward>)\n",
      "mmd_err tensor(0.0034, grad_fn=<SubBackward0>)\n",
      "epoch_error 2.409837245941162\n",
      "recons tensor(1.1623, grad_fn=<MseLossBackward>)\n",
      "mmd_err tensor(0.0032, grad_fn=<SubBackward0>)\n",
      "epoch_error 3.575329065322876\n",
      "recons tensor(1.1827, grad_fn=<MseLossBackward>)\n",
      "mmd_err tensor(0.0040, grad_fn=<SubBackward0>)\n",
      "epoch_error 4.762019515037537\n",
      "recons tensor(1.1517, grad_fn=<MseLossBackward>)\n",
      "mmd_err tensor(0.0033, grad_fn=<SubBackward0>)\n",
      "epoch_error 5.917041778564453\n"
     ]
    },
    {
     "name": "stderr",
     "output_type": "stream",
     "text": [
      "\r",
      "Finished epoch 90 of 100; error is 1.1550222635269165"
     ]
    },
    {
     "name": "stdout",
     "output_type": "stream",
     "text": [
      "recons tensor(1.1451, grad_fn=<MseLossBackward>)\n",
      "mmd_err tensor(0.0035, grad_fn=<SubBackward0>)\n",
      "epoch_error 1.1485275030136108\n",
      "recons tensor(1.2305, grad_fn=<MseLossBackward>)\n",
      "mmd_err tensor(0.0038, grad_fn=<SubBackward0>)\n",
      "epoch_error 2.3828152418136597\n",
      "recons tensor(1.1316, grad_fn=<MseLossBackward>)\n",
      "mmd_err tensor(0.0032, grad_fn=<SubBackward0>)\n",
      "epoch_error 3.517604112625122\n",
      "recons tensor(1.1502, grad_fn=<MseLossBackward>)\n",
      "mmd_err tensor(0.0036, grad_fn=<SubBackward0>)\n",
      "epoch_error 4.671309113502502\n",
      "recons tensor(1.1694, grad_fn=<MseLossBackward>)\n",
      "mmd_err tensor(0.0038, grad_fn=<SubBackward0>)\n",
      "epoch_error 5.844482183456421\n"
     ]
    },
    {
     "name": "stderr",
     "output_type": "stream",
     "text": [
      "\r",
      "Finished epoch 91 of 100; error is 1.1731730699539185"
     ]
    },
    {
     "name": "stdout",
     "output_type": "stream",
     "text": [
      "recons tensor(1.2007, grad_fn=<MseLossBackward>)\n",
      "mmd_err tensor(0.0033, grad_fn=<SubBackward0>)\n",
      "epoch_error 1.2039989233016968\n",
      "recons tensor(1.1450, grad_fn=<MseLossBackward>)\n",
      "mmd_err tensor(0.0036, grad_fn=<SubBackward0>)\n",
      "epoch_error 2.352626323699951\n",
      "recons tensor(1.1354, grad_fn=<MseLossBackward>)\n",
      "mmd_err tensor(0.0033, grad_fn=<SubBackward0>)\n",
      "epoch_error 3.4913586378097534\n",
      "recons tensor(1.1475, grad_fn=<MseLossBackward>)\n",
      "mmd_err tensor(0.0034, grad_fn=<SubBackward0>)\n",
      "epoch_error 4.642295241355896\n",
      "recons tensor(1.1781, grad_fn=<MseLossBackward>)\n",
      "mmd_err tensor(0.0033, grad_fn=<SubBackward0>)\n",
      "epoch_error 5.8236987590789795\n"
     ]
    },
    {
     "name": "stderr",
     "output_type": "stream",
     "text": [
      "\r",
      "Finished epoch 92 of 100; error is 1.1814035177230835"
     ]
    },
    {
     "name": "stdout",
     "output_type": "stream",
     "text": [
      "recons tensor(1.1775, grad_fn=<MseLossBackward>)\n",
      "mmd_err tensor(0.0033, grad_fn=<SubBackward0>)\n",
      "epoch_error 1.1808576583862305\n",
      "recons tensor(1.1104, grad_fn=<MseLossBackward>)\n",
      "mmd_err tensor(0.0032, grad_fn=<SubBackward0>)\n",
      "epoch_error 2.2944531440734863\n",
      "recons tensor(1.1826, grad_fn=<MseLossBackward>)\n",
      "mmd_err tensor(0.0038, grad_fn=<SubBackward0>)\n",
      "epoch_error 3.48089337348938\n",
      "recons tensor(1.1539, grad_fn=<MseLossBackward>)\n",
      "mmd_err tensor(0.0032, grad_fn=<SubBackward0>)\n",
      "epoch_error 4.637947201728821\n",
      "recons tensor(1.1698, grad_fn=<MseLossBackward>)\n",
      "mmd_err tensor(0.0034, grad_fn=<SubBackward0>)\n",
      "epoch_error 5.811140060424805\n"
     ]
    },
    {
     "name": "stderr",
     "output_type": "stream",
     "text": [
      "\r",
      "Finished epoch 93 of 100; error is 1.1731928586959839"
     ]
    },
    {
     "name": "stdout",
     "output_type": "stream",
     "text": [
      "recons tensor(1.1505, grad_fn=<MseLossBackward>)\n",
      "mmd_err tensor(0.0036, grad_fn=<SubBackward0>)\n",
      "epoch_error 1.154110074043274\n",
      "recons tensor(1.1327, grad_fn=<MseLossBackward>)\n",
      "mmd_err tensor(0.0031, grad_fn=<SubBackward0>)\n",
      "epoch_error 2.289980411529541\n",
      "recons tensor(1.1636, grad_fn=<MseLossBackward>)\n",
      "mmd_err tensor(0.0036, grad_fn=<SubBackward0>)\n",
      "epoch_error 3.4571499824523926\n",
      "recons tensor(1.1400, grad_fn=<MseLossBackward>)\n",
      "mmd_err tensor(0.0035, grad_fn=<SubBackward0>)\n",
      "epoch_error 4.600584506988525\n",
      "recons tensor(1.1892, grad_fn=<MseLossBackward>)\n",
      "mmd_err tensor(0.0032, grad_fn=<SubBackward0>)\n",
      "epoch_error 5.792898058891296\n"
     ]
    },
    {
     "name": "stderr",
     "output_type": "stream",
     "text": [
      "\r",
      "Finished epoch 94 of 100; error is 1.192313551902771"
     ]
    },
    {
     "name": "stdout",
     "output_type": "stream",
     "text": [
      "recons tensor(1.1453, grad_fn=<MseLossBackward>)\n",
      "mmd_err tensor(0.0036, grad_fn=<SubBackward0>)\n",
      "epoch_error 1.1488741636276245\n",
      "recons tensor(1.1947, grad_fn=<MseLossBackward>)\n",
      "mmd_err tensor(0.0037, grad_fn=<SubBackward0>)\n",
      "epoch_error 2.347267985343933\n",
      "recons tensor(1.1346, grad_fn=<MseLossBackward>)\n",
      "mmd_err tensor(0.0035, grad_fn=<SubBackward0>)\n",
      "epoch_error 3.485417604446411\n",
      "recons tensor(1.1385, grad_fn=<MseLossBackward>)\n",
      "mmd_err tensor(0.0034, grad_fn=<SubBackward0>)\n",
      "epoch_error 4.627283692359924\n",
      "recons tensor(1.1130, grad_fn=<MseLossBackward>)\n",
      "mmd_err tensor(0.0033, grad_fn=<SubBackward0>)\n",
      "epoch_error 5.7435808181762695\n"
     ]
    },
    {
     "name": "stderr",
     "output_type": "stream",
     "text": [
      "\r",
      "Finished epoch 95 of 100; error is 1.1162971258163452"
     ]
    },
    {
     "name": "stdout",
     "output_type": "stream",
     "text": [
      "recons tensor(1.1141, grad_fn=<MseLossBackward>)\n",
      "mmd_err tensor(0.0036, grad_fn=<SubBackward0>)\n",
      "epoch_error 1.1176940202713013\n",
      "recons tensor(1.1792, grad_fn=<MseLossBackward>)\n",
      "mmd_err tensor(0.0034, grad_fn=<SubBackward0>)\n",
      "epoch_error 2.3003008365631104\n",
      "recons tensor(1.1385, grad_fn=<MseLossBackward>)\n",
      "mmd_err tensor(0.0032, grad_fn=<SubBackward0>)\n",
      "epoch_error 3.442004084587097\n",
      "recons tensor(1.1232, grad_fn=<MseLossBackward>)\n",
      "mmd_err tensor(0.0033, grad_fn=<SubBackward0>)\n",
      "epoch_error 4.568485260009766\n",
      "recons tensor(1.1659, grad_fn=<MseLossBackward>)\n",
      "mmd_err tensor(0.0035, grad_fn=<SubBackward0>)\n",
      "epoch_error 5.737846374511719\n"
     ]
    },
    {
     "name": "stderr",
     "output_type": "stream",
     "text": [
      "\r",
      "Finished epoch 96 of 100; error is 1.1693611145019531"
     ]
    },
    {
     "name": "stdout",
     "output_type": "stream",
     "text": [
      "recons tensor(1.1322, grad_fn=<MseLossBackward>)\n",
      "mmd_err tensor(0.0033, grad_fn=<SubBackward0>)\n",
      "epoch_error 1.135506272315979\n",
      "recons tensor(1.1330, grad_fn=<MseLossBackward>)\n",
      "mmd_err tensor(0.0033, grad_fn=<SubBackward0>)\n",
      "epoch_error 2.2718470096588135\n",
      "recons tensor(1.1377, grad_fn=<MseLossBackward>)\n",
      "mmd_err tensor(0.0032, grad_fn=<SubBackward0>)\n",
      "epoch_error 3.412772297859192\n",
      "recons tensor(1.1708, grad_fn=<MseLossBackward>)\n",
      "mmd_err tensor(0.0035, grad_fn=<SubBackward0>)\n",
      "epoch_error 4.587159276008606\n",
      "recons tensor(1.1140, grad_fn=<MseLossBackward>)\n",
      "mmd_err tensor(0.0033, grad_fn=<SubBackward0>)\n",
      "epoch_error 5.7044278383255005\n"
     ]
    },
    {
     "name": "stderr",
     "output_type": "stream",
     "text": [
      "\r",
      "Finished epoch 97 of 100; error is 1.1172685623168945"
     ]
    },
    {
     "name": "stdout",
     "output_type": "stream",
     "text": [
      "recons tensor(1.1596, grad_fn=<MseLossBackward>)\n",
      "mmd_err tensor(0.0033, grad_fn=<SubBackward0>)\n",
      "epoch_error 1.1629023551940918\n",
      "recons tensor(1.0998, grad_fn=<MseLossBackward>)\n",
      "mmd_err tensor(0.0031, grad_fn=<SubBackward0>)\n",
      "epoch_error 2.2657965421676636\n",
      "recons tensor(1.1406, grad_fn=<MseLossBackward>)\n",
      "mmd_err tensor(0.0032, grad_fn=<SubBackward0>)\n",
      "epoch_error 3.4095548391342163\n",
      "recons tensor(1.1279, grad_fn=<MseLossBackward>)\n",
      "mmd_err tensor(0.0035, grad_fn=<SubBackward0>)\n",
      "epoch_error 4.540984272956848\n",
      "recons tensor(1.1406, grad_fn=<MseLossBackward>)\n",
      "mmd_err tensor(0.0033, grad_fn=<SubBackward0>)\n",
      "epoch_error 5.684915900230408\n"
     ]
    },
    {
     "name": "stderr",
     "output_type": "stream",
     "text": [
      "\r",
      "Finished epoch 98 of 100; error is 1.1439316272735596"
     ]
    },
    {
     "name": "stdout",
     "output_type": "stream",
     "text": [
      "recons tensor(1.1588, grad_fn=<MseLossBackward>)\n",
      "mmd_err tensor(0.0032, grad_fn=<SubBackward0>)\n",
      "epoch_error 1.1620447635650635\n",
      "recons tensor(1.1162, grad_fn=<MseLossBackward>)\n",
      "mmd_err tensor(0.0033, grad_fn=<SubBackward0>)\n",
      "epoch_error 2.281572103500366\n",
      "recons tensor(1.1117, grad_fn=<MseLossBackward>)\n",
      "mmd_err tensor(0.0034, grad_fn=<SubBackward0>)\n",
      "epoch_error 3.3965859413146973\n",
      "recons tensor(1.1317, grad_fn=<MseLossBackward>)\n",
      "mmd_err tensor(0.0033, grad_fn=<SubBackward0>)\n",
      "epoch_error 4.531588673591614\n",
      "recons tensor(1.1346, grad_fn=<MseLossBackward>)\n",
      "mmd_err tensor(0.0036, grad_fn=<SubBackward0>)\n",
      "epoch_error 5.66979455947876\n"
     ]
    },
    {
     "name": "stderr",
     "output_type": "stream",
     "text": [
      "\r",
      "Finished epoch 99 of 100; error is 1.138205885887146"
     ]
    },
    {
     "name": "stdout",
     "output_type": "stream",
     "text": [
      "recons tensor(1.1004, grad_fn=<MseLossBackward>)\n",
      "mmd_err tensor(0.0030, grad_fn=<SubBackward0>)\n",
      "epoch_error 1.1034210920333862\n",
      "recons tensor(1.1148, grad_fn=<MseLossBackward>)\n",
      "mmd_err tensor(0.0032, grad_fn=<SubBackward0>)\n",
      "epoch_error 2.2213855981826782\n",
      "recons tensor(1.1123, grad_fn=<MseLossBackward>)\n",
      "mmd_err tensor(0.0032, grad_fn=<SubBackward0>)\n",
      "epoch_error 3.336967349052429\n",
      "recons tensor(1.1599, grad_fn=<MseLossBackward>)\n",
      "mmd_err tensor(0.0033, grad_fn=<SubBackward0>)\n",
      "epoch_error 4.500114560127258\n",
      "recons tensor(1.1467, grad_fn=<MseLossBackward>)\n",
      "mmd_err tensor(0.0035, grad_fn=<SubBackward0>)\n",
      "epoch_error 5.650385499000549\n"
     ]
    },
    {
     "name": "stderr",
     "output_type": "stream",
     "text": [
      "\r",
      "Finished epoch 100 of 100; error is 1.150270938873291"
     ]
    },
    {
     "data": {
      "text/html": [
       "<div>\n",
       "<style scoped>\n",
       "    .dataframe tbody tr th:only-of-type {\n",
       "        vertical-align: middle;\n",
       "    }\n",
       "\n",
       "    .dataframe tbody tr th {\n",
       "        vertical-align: top;\n",
       "    }\n",
       "\n",
       "    .dataframe thead th {\n",
       "        text-align: right;\n",
       "    }\n",
       "</style>\n",
       "<table border=\"1\" class=\"dataframe\">\n",
       "  <thead>\n",
       "    <tr style=\"text-align: right;\">\n",
       "      <th></th>\n",
       "      <th>0</th>\n",
       "      <th>1</th>\n",
       "      <th>2</th>\n",
       "      <th>3</th>\n",
       "      <th>4</th>\n",
       "      <th>5</th>\n",
       "      <th>6</th>\n",
       "      <th>7</th>\n",
       "      <th>8</th>\n",
       "      <th>9</th>\n",
       "      <th>...</th>\n",
       "      <th>40</th>\n",
       "      <th>41</th>\n",
       "      <th>42</th>\n",
       "      <th>43</th>\n",
       "      <th>44</th>\n",
       "      <th>45</th>\n",
       "      <th>46</th>\n",
       "      <th>47</th>\n",
       "      <th>48</th>\n",
       "      <th>49</th>\n",
       "    </tr>\n",
       "  </thead>\n",
       "  <tbody>\n",
       "    <tr>\n",
       "      <th>!</th>\n",
       "      <td>0.860827</td>\n",
       "      <td>-0.529784</td>\n",
       "      <td>-0.875025</td>\n",
       "      <td>0.191395</td>\n",
       "      <td>-0.584016</td>\n",
       "      <td>0.104198</td>\n",
       "      <td>-0.872248</td>\n",
       "      <td>-0.426214</td>\n",
       "      <td>-0.720576</td>\n",
       "      <td>0.332389</td>\n",
       "      <td>...</td>\n",
       "      <td>-0.080874</td>\n",
       "      <td>0.140411</td>\n",
       "      <td>0.024004</td>\n",
       "      <td>0.685998</td>\n",
       "      <td>-0.704809</td>\n",
       "      <td>-0.743674</td>\n",
       "      <td>0.613740</td>\n",
       "      <td>0.693404</td>\n",
       "      <td>0.415883</td>\n",
       "      <td>0.500870</td>\n",
       "    </tr>\n",
       "    <tr>\n",
       "      <th>);</th>\n",
       "      <td>0.354351</td>\n",
       "      <td>0.214322</td>\n",
       "      <td>-0.779751</td>\n",
       "      <td>-0.492412</td>\n",
       "      <td>0.709453</td>\n",
       "      <td>-0.960830</td>\n",
       "      <td>-0.248109</td>\n",
       "      <td>0.479180</td>\n",
       "      <td>-0.841875</td>\n",
       "      <td>0.116841</td>\n",
       "      <td>...</td>\n",
       "      <td>-0.562501</td>\n",
       "      <td>-0.382599</td>\n",
       "      <td>-0.193444</td>\n",
       "      <td>-0.634701</td>\n",
       "      <td>-0.888504</td>\n",
       "      <td>-0.584067</td>\n",
       "      <td>0.863589</td>\n",
       "      <td>-0.689983</td>\n",
       "      <td>0.366530</td>\n",
       "      <td>0.505097</td>\n",
       "    </tr>\n",
       "    <tr>\n",
       "      <th>.</th>\n",
       "      <td>0.106176</td>\n",
       "      <td>0.153307</td>\n",
       "      <td>0.026138</td>\n",
       "      <td>0.125620</td>\n",
       "      <td>0.035706</td>\n",
       "      <td>-0.090320</td>\n",
       "      <td>0.028480</td>\n",
       "      <td>-0.102791</td>\n",
       "      <td>-0.121290</td>\n",
       "      <td>-0.229664</td>\n",
       "      <td>...</td>\n",
       "      <td>0.052002</td>\n",
       "      <td>0.005492</td>\n",
       "      <td>0.190977</td>\n",
       "      <td>-0.107113</td>\n",
       "      <td>-0.073235</td>\n",
       "      <td>-0.091404</td>\n",
       "      <td>0.122880</td>\n",
       "      <td>-0.007660</td>\n",
       "      <td>-0.004925</td>\n",
       "      <td>0.011887</td>\n",
       "    </tr>\n",
       "    <tr>\n",
       "      <th>...</th>\n",
       "      <td>0.389390</td>\n",
       "      <td>-0.070074</td>\n",
       "      <td>0.080465</td>\n",
       "      <td>-0.010523</td>\n",
       "      <td>-0.325886</td>\n",
       "      <td>0.143089</td>\n",
       "      <td>-0.611279</td>\n",
       "      <td>-0.406052</td>\n",
       "      <td>-0.420833</td>\n",
       "      <td>0.301197</td>\n",
       "      <td>...</td>\n",
       "      <td>-0.404950</td>\n",
       "      <td>-0.000491</td>\n",
       "      <td>0.153722</td>\n",
       "      <td>0.407269</td>\n",
       "      <td>-0.399067</td>\n",
       "      <td>-0.243941</td>\n",
       "      <td>0.239297</td>\n",
       "      <td>0.160682</td>\n",
       "      <td>-0.502048</td>\n",
       "      <td>0.231176</td>\n",
       "    </tr>\n",
       "    <tr>\n",
       "      <th>;p</th>\n",
       "      <td>-0.035943</td>\n",
       "      <td>-0.022684</td>\n",
       "      <td>0.251852</td>\n",
       "      <td>0.476309</td>\n",
       "      <td>-0.039681</td>\n",
       "      <td>0.087229</td>\n",
       "      <td>-0.172907</td>\n",
       "      <td>0.122161</td>\n",
       "      <td>-0.202519</td>\n",
       "      <td>-0.036543</td>\n",
       "      <td>...</td>\n",
       "      <td>-0.124706</td>\n",
       "      <td>-0.107030</td>\n",
       "      <td>-0.033157</td>\n",
       "      <td>-0.070131</td>\n",
       "      <td>-0.096281</td>\n",
       "      <td>0.077372</td>\n",
       "      <td>0.030573</td>\n",
       "      <td>-0.097830</td>\n",
       "      <td>-0.021083</td>\n",
       "      <td>0.320190</td>\n",
       "    </tr>\n",
       "    <tr>\n",
       "      <th>...</th>\n",
       "      <td>...</td>\n",
       "      <td>...</td>\n",
       "      <td>...</td>\n",
       "      <td>...</td>\n",
       "      <td>...</td>\n",
       "      <td>...</td>\n",
       "      <td>...</td>\n",
       "      <td>...</td>\n",
       "      <td>...</td>\n",
       "      <td>...</td>\n",
       "      <td>...</td>\n",
       "      <td>...</td>\n",
       "      <td>...</td>\n",
       "      <td>...</td>\n",
       "      <td>...</td>\n",
       "      <td>...</td>\n",
       "      <td>...</td>\n",
       "      <td>...</td>\n",
       "      <td>...</td>\n",
       "      <td>...</td>\n",
       "      <td>...</td>\n",
       "    </tr>\n",
       "    <tr>\n",
       "      <th>zebra</th>\n",
       "      <td>0.750245</td>\n",
       "      <td>0.383864</td>\n",
       "      <td>-0.572024</td>\n",
       "      <td>-0.762931</td>\n",
       "      <td>-0.653763</td>\n",
       "      <td>0.344779</td>\n",
       "      <td>0.005910</td>\n",
       "      <td>0.614450</td>\n",
       "      <td>-0.878966</td>\n",
       "      <td>-0.613693</td>\n",
       "      <td>...</td>\n",
       "      <td>-0.859222</td>\n",
       "      <td>-0.144411</td>\n",
       "      <td>-0.770528</td>\n",
       "      <td>0.082004</td>\n",
       "      <td>-0.713381</td>\n",
       "      <td>-0.848060</td>\n",
       "      <td>0.920986</td>\n",
       "      <td>0.323909</td>\n",
       "      <td>0.847942</td>\n",
       "      <td>0.832436</td>\n",
       "    </tr>\n",
       "    <tr>\n",
       "      <th>zinc</th>\n",
       "      <td>0.556657</td>\n",
       "      <td>-0.399992</td>\n",
       "      <td>0.090572</td>\n",
       "      <td>-0.063096</td>\n",
       "      <td>-0.102184</td>\n",
       "      <td>0.656546</td>\n",
       "      <td>0.885219</td>\n",
       "      <td>-0.460375</td>\n",
       "      <td>-0.753899</td>\n",
       "      <td>-0.180994</td>\n",
       "      <td>...</td>\n",
       "      <td>-0.447213</td>\n",
       "      <td>0.449200</td>\n",
       "      <td>-0.557913</td>\n",
       "      <td>-0.442591</td>\n",
       "      <td>-0.358168</td>\n",
       "      <td>0.141244</td>\n",
       "      <td>-0.486856</td>\n",
       "      <td>0.698193</td>\n",
       "      <td>-0.070678</td>\n",
       "      <td>0.780409</td>\n",
       "    </tr>\n",
       "    <tr>\n",
       "      <th>zombie</th>\n",
       "      <td>0.619725</td>\n",
       "      <td>-0.396205</td>\n",
       "      <td>-0.841874</td>\n",
       "      <td>-0.424807</td>\n",
       "      <td>-0.669406</td>\n",
       "      <td>-0.610342</td>\n",
       "      <td>-0.799636</td>\n",
       "      <td>-0.795378</td>\n",
       "      <td>-0.450646</td>\n",
       "      <td>-0.198200</td>\n",
       "      <td>...</td>\n",
       "      <td>-0.818874</td>\n",
       "      <td>0.737725</td>\n",
       "      <td>-0.410727</td>\n",
       "      <td>0.919908</td>\n",
       "      <td>-0.181519</td>\n",
       "      <td>-0.901532</td>\n",
       "      <td>0.822892</td>\n",
       "      <td>-0.691797</td>\n",
       "      <td>0.228586</td>\n",
       "      <td>0.184088</td>\n",
       "    </tr>\n",
       "    <tr>\n",
       "      <th>zone</th>\n",
       "      <td>-0.286202</td>\n",
       "      <td>-0.196985</td>\n",
       "      <td>-0.523980</td>\n",
       "      <td>-0.445213</td>\n",
       "      <td>0.300156</td>\n",
       "      <td>0.599161</td>\n",
       "      <td>0.291036</td>\n",
       "      <td>0.499800</td>\n",
       "      <td>0.064825</td>\n",
       "      <td>0.115376</td>\n",
       "      <td>...</td>\n",
       "      <td>-0.423696</td>\n",
       "      <td>0.276401</td>\n",
       "      <td>0.586188</td>\n",
       "      <td>0.183353</td>\n",
       "      <td>-0.216262</td>\n",
       "      <td>-0.683135</td>\n",
       "      <td>0.422102</td>\n",
       "      <td>-0.291242</td>\n",
       "      <td>-0.683411</td>\n",
       "      <td>0.458345</td>\n",
       "    </tr>\n",
       "    <tr>\n",
       "      <th>zoo</th>\n",
       "      <td>0.627473</td>\n",
       "      <td>0.716147</td>\n",
       "      <td>-0.707968</td>\n",
       "      <td>-0.735629</td>\n",
       "      <td>-0.777222</td>\n",
       "      <td>0.862575</td>\n",
       "      <td>-0.729592</td>\n",
       "      <td>0.634147</td>\n",
       "      <td>-0.736247</td>\n",
       "      <td>-0.820429</td>\n",
       "      <td>...</td>\n",
       "      <td>-0.662506</td>\n",
       "      <td>-0.723831</td>\n",
       "      <td>-0.733779</td>\n",
       "      <td>-0.854582</td>\n",
       "      <td>-0.753883</td>\n",
       "      <td>-0.490669</td>\n",
       "      <td>0.895165</td>\n",
       "      <td>-0.245302</td>\n",
       "      <td>0.779937</td>\n",
       "      <td>0.695878</td>\n",
       "    </tr>\n",
       "  </tbody>\n",
       "</table>\n",
       "<p>5000 rows × 50 columns</p>\n",
       "</div>"
      ],
      "text/plain": [
       "              0         1         2         3         4         5         6   \\\n",
       "!       0.860827 -0.529784 -0.875025  0.191395 -0.584016  0.104198 -0.872248   \n",
       ");      0.354351  0.214322 -0.779751 -0.492412  0.709453 -0.960830 -0.248109   \n",
       ".       0.106176  0.153307  0.026138  0.125620  0.035706 -0.090320  0.028480   \n",
       "...     0.389390 -0.070074  0.080465 -0.010523 -0.325886  0.143089 -0.611279   \n",
       ";p     -0.035943 -0.022684  0.251852  0.476309 -0.039681  0.087229 -0.172907   \n",
       "...          ...       ...       ...       ...       ...       ...       ...   \n",
       "zebra   0.750245  0.383864 -0.572024 -0.762931 -0.653763  0.344779  0.005910   \n",
       "zinc    0.556657 -0.399992  0.090572 -0.063096 -0.102184  0.656546  0.885219   \n",
       "zombie  0.619725 -0.396205 -0.841874 -0.424807 -0.669406 -0.610342 -0.799636   \n",
       "zone   -0.286202 -0.196985 -0.523980 -0.445213  0.300156  0.599161  0.291036   \n",
       "zoo     0.627473  0.716147 -0.707968 -0.735629 -0.777222  0.862575 -0.729592   \n",
       "\n",
       "              7         8         9   ...        40        41        42  \\\n",
       "!      -0.426214 -0.720576  0.332389  ... -0.080874  0.140411  0.024004   \n",
       ");      0.479180 -0.841875  0.116841  ... -0.562501 -0.382599 -0.193444   \n",
       ".      -0.102791 -0.121290 -0.229664  ...  0.052002  0.005492  0.190977   \n",
       "...    -0.406052 -0.420833  0.301197  ... -0.404950 -0.000491  0.153722   \n",
       ";p      0.122161 -0.202519 -0.036543  ... -0.124706 -0.107030 -0.033157   \n",
       "...          ...       ...       ...  ...       ...       ...       ...   \n",
       "zebra   0.614450 -0.878966 -0.613693  ... -0.859222 -0.144411 -0.770528   \n",
       "zinc   -0.460375 -0.753899 -0.180994  ... -0.447213  0.449200 -0.557913   \n",
       "zombie -0.795378 -0.450646 -0.198200  ... -0.818874  0.737725 -0.410727   \n",
       "zone    0.499800  0.064825  0.115376  ... -0.423696  0.276401  0.586188   \n",
       "zoo     0.634147 -0.736247 -0.820429  ... -0.662506 -0.723831 -0.733779   \n",
       "\n",
       "              43        44        45        46        47        48        49  \n",
       "!       0.685998 -0.704809 -0.743674  0.613740  0.693404  0.415883  0.500870  \n",
       ");     -0.634701 -0.888504 -0.584067  0.863589 -0.689983  0.366530  0.505097  \n",
       ".      -0.107113 -0.073235 -0.091404  0.122880 -0.007660 -0.004925  0.011887  \n",
       "...     0.407269 -0.399067 -0.243941  0.239297  0.160682 -0.502048  0.231176  \n",
       ";p     -0.070131 -0.096281  0.077372  0.030573 -0.097830 -0.021083  0.320190  \n",
       "...          ...       ...       ...       ...       ...       ...       ...  \n",
       "zebra   0.082004 -0.713381 -0.848060  0.920986  0.323909  0.847942  0.832436  \n",
       "zinc   -0.442591 -0.358168  0.141244 -0.486856  0.698193 -0.070678  0.780409  \n",
       "zombie  0.919908 -0.181519 -0.901532  0.822892 -0.691797  0.228586  0.184088  \n",
       "zone    0.183353 -0.216262 -0.683135  0.422102 -0.291242 -0.683411  0.458345  \n",
       "zoo    -0.854582 -0.753883 -0.490669  0.895165 -0.245302  0.779937  0.695878  \n",
       "\n",
       "[5000 rows x 50 columns]"
      ]
     },
     "execution_count": 38,
     "metadata": {},
     "output_type": "execute_result"
    }
   ],
   "source": [
    "from torch_autoencoder_mmd_info import TorchAutoencoderMMDIG\n",
    "model = TorchAutoencoderMMDIG()\n",
    "df_train = pd.DataFrame(enriched_neighbours_ppmi_lsa_k, index=dataset.index)\n",
    "enriched_neighbours_ppmi_lsa_k_ae = model.fit(df_train)\n",
    "enriched_neighbours_ppmi_lsa_k_ae.to_pickle(\"enriched_neighbours_ppmi_lsa_k_ae\")\n",
    "neighbours_enriched_ae = vsm.neighbors(test_word, enriched_neighbours_ppmi_lsa_k_ae).head()\n",
    "print(\"neighbours_enriched\")\n",
    "print(neighbours_enriched_ae)"
   ]
  },
  {
   "cell_type": "code",
   "execution_count": 53,
   "metadata": {},
   "outputs": [
    {
     "name": "stderr",
     "output_type": "stream",
     "text": [
      "Converged at iteration 8; change was 0.0044 "
     ]
    },
    {
     "name": "stdout",
     "output_type": "stream",
     "text": [
      "neighbours_retro\n",
      "finance        0.000000\n",
      "investment     0.114872\n",
      "banking        0.126206\n",
      "investments    0.139357\n",
      "interest       0.173808\n",
      "dtype: float64\n"
     ]
    }
   ],
   "source": [
    "from collections import defaultdict\n",
    "from nltk.corpus import wordnet as wn\n",
    "import numpy as np\n",
    "import os\n",
    "import pandas as pd\n",
    "import retrofitting\n",
    "from retrofitting import Retrofitter\n",
    "import utils\n",
    "\n",
    "\n",
    "def get_wordnet_edges():\n",
    "    edges = defaultdict(set)\n",
    "    for ss in wn.all_synsets():\n",
    "        lem_names = {lem.name() for lem in ss.lemmas()}\n",
    "        for lem in lem_names:\n",
    "            edges[lem] |= lem_names\n",
    "    return edges\n",
    "\n",
    "def convert_edges_to_indices(edges, Q):\n",
    "    lookup = dict(zip(Q.index, range(Q.shape[0])))\n",
    "    index_edges = defaultdict(set)\n",
    "    for start, finish_nodes in edges.items():\n",
    "        s = lookup.get(start)\n",
    "        if s:\n",
    "            f = {lookup[n] for n in finish_nodes if n in lookup}\n",
    "            if f:\n",
    "                index_edges[s] = f\n",
    "    return index_edges\n",
    "\n",
    "wn_edges = get_wordnet_edges()\n",
    "wn_index_edges = convert_edges_to_indices(wn_edges, enriched_neighbours_ppmi_lsa_k_ae)\n",
    "wn_retro = Retrofitter(verbose=True)\n",
    "X_retro = wn_retro.fit(enriched_neighbours_ppmi_lsa_k_ae, wn_index_edges)\n",
    "#print(\"X_retro\")\n",
    "#print(X_retro)\n",
    "neighbours_retro = vsm.neighbors(test_word, X_retro).head()\n",
    "print(\"neighbours_retro\")\n",
    "print(neighbours_retro)"
   ]
  },
  {
   "cell_type": "code",
   "execution_count": null,
   "metadata": {},
   "outputs": [],
   "source": []
  },
  {
   "cell_type": "code",
   "execution_count": 45,
   "metadata": {},
   "outputs": [
    {
     "name": "stdout",
     "output_type": "stream",
     "text": [
      "neighbours_enriched\n",
      "finance        0.000000\n",
      "investment     0.114872\n",
      "banking        0.126206\n",
      "investments    0.139357\n",
      "monetary       0.182607\n",
      "dtype: float64\n"
     ]
    }
   ],
   "source": []
  },
  {
   "cell_type": "code",
   "execution_count": null,
   "metadata": {},
   "outputs": [],
   "source": [
    "# On an otherwise blank line in this cell, please enter\n",
    "# your \"Macro-average\" value as reported by the code above. \n",
    "# Please enter only a number between 0 and 1 inclusive.\n",
    "# Please do not remove this comment.\n",
    "if 'IS_GRADESCOPE_ENV' not in os.environ:\n",
    "    pass\n",
    "    # Please enter your score in the scope of the above conditional.\n",
    "    ##### YOUR CODE HERE\n",
    "\n",
    "\n"
   ]
  }
 ],
 "metadata": {
  "kernelspec": {
   "display_name": "nlu",
   "language": "python",
   "name": "nlu"
  },
  "language_info": {
   "codemirror_mode": {
    "name": "ipython",
    "version": 3
   },
   "file_extension": ".py",
   "mimetype": "text/x-python",
   "name": "python",
   "nbconvert_exporter": "python",
   "pygments_lexer": "ipython3",
   "version": "3.7.7"
  },
  "widgets": {
   "state": {},
   "version": "1.1.2"
  }
 },
 "nbformat": 4,
 "nbformat_minor": 2
}
