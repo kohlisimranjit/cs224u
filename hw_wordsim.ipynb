{
 "cells": [
  {
   "cell_type": "markdown",
   "metadata": {},
   "source": [
    "# Homework and bake-off: Word similarity"
   ]
  },
  {
   "cell_type": "code",
   "execution_count": 1,
   "metadata": {},
   "outputs": [],
   "source": [
    "__author__ = \"Christopher Potts\"\n",
    "__version__ = \"CS224u, Stanford, Spring 2020\""
   ]
  },
  {
   "cell_type": "markdown",
   "metadata": {},
   "source": [
    "## Contents\n",
    "\n",
    "1. [Overview](#Overview)\n",
    "1. [Set-up](#Set-up)\n",
    "1. [Dataset readers](#Dataset-readers)\n",
    "1. [Dataset comparisons](#Dataset-comparisons)\n",
    "  1. [Vocab overlap](#Vocab-overlap)\n",
    "  1. [Pair overlap and score correlations](#Pair-overlap-and-score-correlations)\n",
    "1. [Evaluation](#Evaluation)\n",
    "  1. [Dataset evaluation](#Dataset-evaluation)\n",
    "  1. [Dataset error analysis](#Dataset-error-analysis)\n",
    "  1. [Full evaluation](#Full-evaluation)\n",
    "1. [Homework questions](#Homework-questions)\n",
    "  1. [PPMI as a baseline [0.5 points]](#PPMI-as-a-baseline-[0.5-points])\n",
    "  1. [Gigaword with LSA at different dimensions [0.5 points]](#Gigaword-with-LSA-at-different-dimensions-[0.5-points])\n",
    "  1. [Gigaword with GloVe for a small number of iterations [0.5 points]](#Gigaword-with-GloVe-for-a-small-number-of-iterations-[0.5-points])\n",
    "  1. [Dice coefficient [0.5 points]](#Dice-coefficient-[0.5-points])\n",
    "  1. [t-test reweighting [2 points]](#t-test-reweighting-[2-points])\n",
    "  1. [Enriching a VSM with subword information [2 points]](#Enriching-a-VSM-with-subword-information-[2-points])\n",
    "  1. [Your original system [3 points]](#Your-original-system-[3-points])\n",
    "1. [Bake-off [1 point]](#Bake-off-[1-point])"
   ]
  },
  {
   "cell_type": "markdown",
   "metadata": {},
   "source": [
    "## Overview\n",
    "\n",
    "Word similarity datasets have long been used to evaluate distributed representations. This notebook provides basic code for conducting such analyses with a number of datasets:\n",
    "\n",
    "| Dataset | Pairs | Task-type | Current best Spearman $\\rho$ | Best $\\rho$ paper |   |\n",
    "|---------|-------|-----------|------------------------------|-------------------|---|\n",
    "| [WordSim-353](http://www.cs.technion.ac.il/~gabr/resources/data/wordsim353/) | 353 | Relatedness | 82.8 | [Speer et al. 2017](https://arxiv.org/abs/1612.03975) |\n",
    "| [MTurk-771](http://www2.mta.ac.il/~gideon/mturk771.html) | 771 | Relatedness | 81.0 | [Speer et al. 2017](https://arxiv.org/abs/1612.03975) |\n",
    "| [The MEN Test Collection](http://clic.cimec.unitn.it/~elia.bruni/MEN) | 3,000 | Relatedness | 86.6 | [Speer et al. 2017](https://arxiv.org/abs/1612.03975)  | \n",
    "| [SimVerb-3500-dev](http://people.ds.cam.ac.uk/dsg40/simverb.html) | 500 | Similarity | 61.1 | [Mrki&scaron;&cacute; et al. 2016](https://arxiv.org/pdf/1603.00892.pdf) |\n",
    "| [SimVerb-3500-test](http://people.ds.cam.ac.uk/dsg40/simverb.html) | 3,000 | Similarity | 62.4 | [Mrki&scaron;&cacute; et al. 2016](https://arxiv.org/pdf/1603.00892.pdf) |\n",
    "\n",
    "Each of the similarity datasets contains word pairs with an associated human-annotated similarity score. (We convert these to distances to align intuitively with our distance measure functions.) The evaluation code measures the distance between the word pairs in your chosen VSM (which should be a `pd.DataFrame`).\n",
    "\n",
    "The evaluation metric for each dataset is the [Spearman correlation coefficient $\\rho$](https://en.wikipedia.org/wiki/Spearman%27s_rank_correlation_coefficient) between the annotated scores and your distances, as is standard in the literature. We also macro-average these correlations across the datasets for an overall summary. (In using the macro-average, we are saying that we care about all the datasets equally, even though they vary in size.)\n",
    "\n",
    "This homework ([questions at the bottom of this notebook](#Homework-questions)) asks you to write code that uses the count matrices in `data/vsmdata` to create and evaluate some baseline models as well as an original model $M$ that you design. This accounts for 9 of the 10 points for this assignment.\n",
    "\n",
    "For the associated bake-off, we will distribute two new word similarity or relatedness datasets and associated reader code, and you will evaluate $M$ (no additional training or tuning allowed!) on those new datasets. Systems that enter will receive the additional homework point, and systems that achieve the top score will receive an additional 0.5 points."
   ]
  },
  {
   "cell_type": "markdown",
   "metadata": {},
   "source": [
    "## Set-up"
   ]
  },
  {
   "cell_type": "code",
   "execution_count": 4,
   "metadata": {},
   "outputs": [],
   "source": [
    "from collections import defaultdict\n",
    "import csv\n",
    "import itertools\n",
    "import numpy as np\n",
    "import os\n",
    "import pandas as pd\n",
    "from scipy.stats import spearmanr\n",
    "import vsm\n",
    "from IPython.display import display"
   ]
  },
  {
   "cell_type": "code",
   "execution_count": 5,
   "metadata": {},
   "outputs": [],
   "source": [
    "VSM_HOME = os.path.join('data', 'vsmdata')\n",
    "\n",
    "WORDSIM_HOME = os.path.join('data', 'wordsim')"
   ]
  },
  {
   "cell_type": "markdown",
   "metadata": {},
   "source": [
    "## Dataset readers"
   ]
  },
  {
   "cell_type": "code",
   "execution_count": 6,
   "metadata": {},
   "outputs": [],
   "source": [
    "def wordsim_dataset_reader(\n",
    "        src_filename, \n",
    "        header=False, \n",
    "        delimiter=',', \n",
    "        score_col_index=2):\n",
    "    \"\"\"Basic reader that works for all similarity datasets. They are \n",
    "    all tabular-style releases where the first two columns give the \n",
    "    word and a later column (`score_col_index`) gives the score.\n",
    "\n",
    "    Parameters\n",
    "    ----------\n",
    "    src_filename : str\n",
    "        Full path to the source file.\n",
    "    header : bool\n",
    "        Whether `src_filename` has a header. Default: False\n",
    "    delimiter : str\n",
    "        Field delimiter in `src_filename`. Default: ','\n",
    "    score_col_index : int\n",
    "        Column containing the similarity scores Default: 2\n",
    "\n",
    "    Yields\n",
    "    ------\n",
    "    (str, str, float)\n",
    "       (w1, w2, score) where `score` is the negative of the similarity\n",
    "       score in the file so that we are intuitively aligned with our\n",
    "       distance-based code. To align with our VSMs, all the words are \n",
    "       downcased.\n",
    "\n",
    "    \"\"\"\n",
    "    with open(src_filename) as f:\n",
    "        reader = csv.reader(f, delimiter=delimiter)\n",
    "        if header:\n",
    "            next(reader)\n",
    "        for row in reader:\n",
    "            w1 = row[0].strip().lower()\n",
    "            w2 = row[1].strip().lower()\n",
    "            score = row[score_col_index]\n",
    "            # Negative of scores to align intuitively with distance functions:\n",
    "            score = -float(score)\n",
    "            yield (w1, w2, score)\n",
    "\n",
    "def wordsim353_reader():\n",
    "    \"\"\"WordSim-353: http://www.cs.technion.ac.il/~gabr/resources/data/wordsim353/\"\"\"\n",
    "    src_filename = os.path.join(\n",
    "        WORDSIM_HOME, 'wordsim353', 'combined.csv')\n",
    "    return wordsim_dataset_reader(\n",
    "        src_filename, header=True)\n",
    "\n",
    "def mturk771_reader():\n",
    "    \"\"\"MTURK-771: http://www2.mta.ac.il/~gideon/mturk771.html\"\"\"\n",
    "    src_filename = os.path.join(\n",
    "        WORDSIM_HOME, 'MTURK-771.csv')\n",
    "    return wordsim_dataset_reader(\n",
    "        src_filename, header=False)\n",
    "\n",
    "def simverb3500dev_reader():\n",
    "    \"\"\"SimVerb-3500: http://people.ds.cam.ac.uk/dsg40/simverb.html\"\"\"\n",
    "    src_filename = os.path.join(\n",
    "        WORDSIM_HOME, 'SimVerb-3500', 'SimVerb-500-dev.txt')\n",
    "    return wordsim_dataset_reader(\n",
    "        src_filename, delimiter=\"\\t\", header=False, score_col_index=3)\n",
    "\n",
    "def simverb3500test_reader():\n",
    "    \"\"\"SimVerb-3500: http://people.ds.cam.ac.uk/dsg40/simverb.html\"\"\"\n",
    "    src_filename = os.path.join(\n",
    "        WORDSIM_HOME, 'SimVerb-3500', 'SimVerb-3000-test.txt')\n",
    "    return wordsim_dataset_reader(\n",
    "        src_filename, delimiter=\"\\t\", header=False, score_col_index=3)\n",
    "\n",
    "def men_reader():\n",
    "    \"\"\"MEN: http://clic.cimec.unitn.it/~elia.bruni/MEN\"\"\"\n",
    "    src_filename = os.path.join(\n",
    "        WORDSIM_HOME, 'MEN', 'MEN_dataset_natural_form_full')\n",
    "    return wordsim_dataset_reader(\n",
    "        src_filename, header=False, delimiter=' ') "
   ]
  },
  {
   "cell_type": "markdown",
   "metadata": {},
   "source": [
    "This collection of readers will be useful for flexible evaluations:"
   ]
  },
  {
   "cell_type": "code",
   "execution_count": 7,
   "metadata": {},
   "outputs": [],
   "source": [
    "READERS = (wordsim353_reader, mturk771_reader, simverb3500dev_reader, \n",
    "           simverb3500test_reader, men_reader)"
   ]
  },
  {
   "cell_type": "markdown",
   "metadata": {},
   "source": [
    "## Dataset comparisons\n",
    "\n",
    "This section does some basic analysis of the datasets. The goal is to obtain a deeper understanding of what problem we're solving – what strengths and weaknesses the datasets have and how they relate to each other. For a full-fledged project, we would want to continue work like this and report on it in the paper, to provide context for the results."
   ]
  },
  {
   "cell_type": "code",
   "execution_count": 8,
   "metadata": {},
   "outputs": [],
   "source": [
    "def get_reader_name(reader):\n",
    "    \"\"\"Return a cleaned-up name for the similarity dataset \n",
    "    iterator `reader`\n",
    "    \"\"\"\n",
    "    return reader.__name__.replace(\"_reader\", \"\")"
   ]
  },
  {
   "cell_type": "markdown",
   "metadata": {},
   "source": [
    "### Vocab overlap\n",
    "\n",
    "How many vocabulary items are shared across the datasets?"
   ]
  },
  {
   "cell_type": "code",
   "execution_count": 9,
   "metadata": {},
   "outputs": [],
   "source": [
    "def get_reader_vocab(reader):\n",
    "    \"\"\"Return the set of words (str) in `reader`.\"\"\"\n",
    "    vocab = set()\n",
    "    for w1, w2, _ in reader():\n",
    "        vocab.add(w1)\n",
    "        vocab.add(w2)\n",
    "    return vocab"
   ]
  },
  {
   "cell_type": "code",
   "execution_count": 10,
   "metadata": {},
   "outputs": [],
   "source": [
    "def get_reader_vocab_overlap(readers=READERS):\n",
    "    \"\"\"Get data on the vocab-level relationships between pairs of \n",
    "    readers. Returns a a pd.DataFrame containing this information.\n",
    "    \"\"\"\n",
    "    data = []\n",
    "    for r1, r2 in itertools.product(readers, repeat=2):       \n",
    "        v1 = get_reader_vocab(r1)\n",
    "        v2 = get_reader_vocab(r2)\n",
    "        d = {\n",
    "            'd1': get_reader_name(r1),\n",
    "            'd2': get_reader_name(r2),\n",
    "            'overlap': len(v1 & v2), \n",
    "            'union': len(v1 | v2),\n",
    "            'd1_size': len(v1),\n",
    "            'd2_size': len(v2)}\n",
    "        data.append(d)\n",
    "    return pd.DataFrame(data)"
   ]
  },
  {
   "cell_type": "code",
   "execution_count": 12,
   "metadata": {},
   "outputs": [],
   "source": [
    "vocab_overlap = get_reader_vocab_overlap()"
   ]
  },
  {
   "cell_type": "code",
   "execution_count": 13,
   "metadata": {},
   "outputs": [],
   "source": [
    "def vocab_overlap_crosstab(vocab_overlap):\n",
    "    \"\"\"Return an intuitively formatted `pd.DataFrame` giving \n",
    "    vocab-overlap counts for all the datasets represented in \n",
    "    `vocab_overlap`, the output of `get_reader_vocab_overlap`.\n",
    "    \"\"\"        \n",
    "    xtab = pd.crosstab(\n",
    "        vocab_overlap['d1'], \n",
    "        vocab_overlap['d2'], \n",
    "        values=vocab_overlap['overlap'], \n",
    "        aggfunc=np.mean)\n",
    "    # Blank out the upper right to reduce visual clutter:\n",
    "    for i in range(0, xtab.shape[0]):\n",
    "        for j in range(i+1, xtab.shape[1]):\n",
    "            xtab.iloc[i, j] = ''        \n",
    "    return xtab        "
   ]
  },
  {
   "cell_type": "code",
   "execution_count": 14,
   "metadata": {},
   "outputs": [
    {
     "data": {
      "text/html": [
       "<div>\n",
       "<style scoped>\n",
       "    .dataframe tbody tr th:only-of-type {\n",
       "        vertical-align: middle;\n",
       "    }\n",
       "\n",
       "    .dataframe tbody tr th {\n",
       "        vertical-align: top;\n",
       "    }\n",
       "\n",
       "    .dataframe thead th {\n",
       "        text-align: right;\n",
       "    }\n",
       "</style>\n",
       "<table border=\"1\" class=\"dataframe\">\n",
       "  <thead>\n",
       "    <tr style=\"text-align: right;\">\n",
       "      <th>d2</th>\n",
       "      <th>men</th>\n",
       "      <th>mturk771</th>\n",
       "      <th>simverb3500dev</th>\n",
       "      <th>simverb3500test</th>\n",
       "      <th>wordsim353</th>\n",
       "    </tr>\n",
       "    <tr>\n",
       "      <th>d1</th>\n",
       "      <th></th>\n",
       "      <th></th>\n",
       "      <th></th>\n",
       "      <th></th>\n",
       "      <th></th>\n",
       "    </tr>\n",
       "  </thead>\n",
       "  <tbody>\n",
       "    <tr>\n",
       "      <th>men</th>\n",
       "      <td>751</td>\n",
       "      <td></td>\n",
       "      <td></td>\n",
       "      <td></td>\n",
       "      <td></td>\n",
       "    </tr>\n",
       "    <tr>\n",
       "      <th>mturk771</th>\n",
       "      <td>230</td>\n",
       "      <td>1113</td>\n",
       "      <td></td>\n",
       "      <td></td>\n",
       "      <td></td>\n",
       "    </tr>\n",
       "    <tr>\n",
       "      <th>simverb3500dev</th>\n",
       "      <td>23</td>\n",
       "      <td>67</td>\n",
       "      <td>536</td>\n",
       "      <td></td>\n",
       "      <td></td>\n",
       "    </tr>\n",
       "    <tr>\n",
       "      <th>simverb3500test</th>\n",
       "      <td>30</td>\n",
       "      <td>94</td>\n",
       "      <td>532</td>\n",
       "      <td>823</td>\n",
       "      <td></td>\n",
       "    </tr>\n",
       "    <tr>\n",
       "      <th>wordsim353</th>\n",
       "      <td>86</td>\n",
       "      <td>158</td>\n",
       "      <td>13</td>\n",
       "      <td>17</td>\n",
       "      <td>437</td>\n",
       "    </tr>\n",
       "  </tbody>\n",
       "</table>\n",
       "</div>"
      ],
      "text/plain": [
       "d2               men mturk771 simverb3500dev simverb3500test wordsim353\n",
       "d1                                                                     \n",
       "men              751                                                   \n",
       "mturk771         230     1113                                          \n",
       "simverb3500dev    23       67            536                           \n",
       "simverb3500test   30       94            532             823           \n",
       "wordsim353        86      158             13              17        437"
      ]
     },
     "execution_count": 14,
     "metadata": {},
     "output_type": "execute_result"
    }
   ],
   "source": [
    "vocab_overlap_crosstab(vocab_overlap)"
   ]
  },
  {
   "cell_type": "markdown",
   "metadata": {},
   "source": [
    "This looks reasonable. By design, the SimVerb dev and test sets have a lot of overlap. The other overlap numbers are pretty small, even adjusting for dataset size."
   ]
  },
  {
   "cell_type": "markdown",
   "metadata": {},
   "source": [
    "### Pair overlap and score correlations\n",
    "\n",
    "How many word pairs are shared across datasets and, for shared pairs, what is the correlation between their scores? That is, do the datasets agree?"
   ]
  },
  {
   "cell_type": "code",
   "execution_count": 15,
   "metadata": {},
   "outputs": [],
   "source": [
    "def get_reader_pairs(reader):\n",
    "    \"\"\"Return the set of alphabetically-sorted word (str) tuples \n",
    "    in `reader`\n",
    "    \"\"\"\n",
    "    return {tuple(sorted([w1, w2])): score for w1, w2, score in reader()}"
   ]
  },
  {
   "cell_type": "code",
   "execution_count": 16,
   "metadata": {},
   "outputs": [],
   "source": [
    "def get_reader_pair_overlap(readers=READERS):\n",
    "    \"\"\"Return a `pd.DataFrame` giving the number of overlapping \n",
    "    word-pairs in pairs of readers, along with the Spearman \n",
    "    correlations.\n",
    "    \"\"\"    \n",
    "    data = []\n",
    "    for r1, r2 in itertools.product(READERS, repeat=2):\n",
    "        if r1.__name__ != r2.__name__:\n",
    "            d1 = get_reader_pairs(r1)\n",
    "            d2 = get_reader_pairs(r2)\n",
    "            overlap = []\n",
    "            for p, s in d1.items():\n",
    "                if p in d2:\n",
    "                    overlap.append([s, d2[p]])\n",
    "            if overlap:\n",
    "                s1, s2 = zip(*overlap)\n",
    "                rho = spearmanr(s1, s2)[0]\n",
    "            else:\n",
    "                rho = None\n",
    "            # Canonical order for the pair:\n",
    "            n1, n2 = sorted([get_reader_name(r1), get_reader_name(r2)])\n",
    "            d = {\n",
    "                'd1': n1,\n",
    "                'd2': n2,\n",
    "                'pair_overlap': len(overlap),\n",
    "                'rho': rho}\n",
    "            data.append(d)\n",
    "    df = pd.DataFrame(data)\n",
    "    df = df.sort_values(['pair_overlap','d1','d2'], ascending=False)\n",
    "    # Return only every other row to avoid repeats:\n",
    "    return df[::2].reset_index(drop=True)"
   ]
  },
  {
   "cell_type": "code",
   "execution_count": 17,
   "metadata": {},
   "outputs": [
    {
     "data": {
      "text/html": [
       "<div>\n",
       "<style scoped>\n",
       "    .dataframe tbody tr th:only-of-type {\n",
       "        vertical-align: middle;\n",
       "    }\n",
       "\n",
       "    .dataframe tbody tr th {\n",
       "        vertical-align: top;\n",
       "    }\n",
       "\n",
       "    .dataframe thead th {\n",
       "        text-align: right;\n",
       "    }\n",
       "</style>\n",
       "<table border=\"1\" class=\"dataframe\">\n",
       "  <thead>\n",
       "    <tr style=\"text-align: right;\">\n",
       "      <th></th>\n",
       "      <th>d1</th>\n",
       "      <th>d2</th>\n",
       "      <th>pair_overlap</th>\n",
       "      <th>rho</th>\n",
       "    </tr>\n",
       "  </thead>\n",
       "  <tbody>\n",
       "    <tr>\n",
       "      <th>0</th>\n",
       "      <td>men</td>\n",
       "      <td>mturk771</td>\n",
       "      <td>11</td>\n",
       "      <td>0.592191</td>\n",
       "    </tr>\n",
       "    <tr>\n",
       "      <th>1</th>\n",
       "      <td>men</td>\n",
       "      <td>wordsim353</td>\n",
       "      <td>5</td>\n",
       "      <td>0.700000</td>\n",
       "    </tr>\n",
       "    <tr>\n",
       "      <th>2</th>\n",
       "      <td>mturk771</td>\n",
       "      <td>simverb3500test</td>\n",
       "      <td>4</td>\n",
       "      <td>0.400000</td>\n",
       "    </tr>\n",
       "    <tr>\n",
       "      <th>3</th>\n",
       "      <td>men</td>\n",
       "      <td>simverb3500test</td>\n",
       "      <td>2</td>\n",
       "      <td>1.000000</td>\n",
       "    </tr>\n",
       "    <tr>\n",
       "      <th>4</th>\n",
       "      <td>simverb3500dev</td>\n",
       "      <td>simverb3500test</td>\n",
       "      <td>1</td>\n",
       "      <td>NaN</td>\n",
       "    </tr>\n",
       "    <tr>\n",
       "      <th>5</th>\n",
       "      <td>simverb3500test</td>\n",
       "      <td>wordsim353</td>\n",
       "      <td>0</td>\n",
       "      <td>NaN</td>\n",
       "    </tr>\n",
       "    <tr>\n",
       "      <th>6</th>\n",
       "      <td>simverb3500dev</td>\n",
       "      <td>wordsim353</td>\n",
       "      <td>0</td>\n",
       "      <td>NaN</td>\n",
       "    </tr>\n",
       "    <tr>\n",
       "      <th>7</th>\n",
       "      <td>mturk771</td>\n",
       "      <td>wordsim353</td>\n",
       "      <td>0</td>\n",
       "      <td>NaN</td>\n",
       "    </tr>\n",
       "    <tr>\n",
       "      <th>8</th>\n",
       "      <td>mturk771</td>\n",
       "      <td>simverb3500dev</td>\n",
       "      <td>0</td>\n",
       "      <td>NaN</td>\n",
       "    </tr>\n",
       "    <tr>\n",
       "      <th>9</th>\n",
       "      <td>men</td>\n",
       "      <td>simverb3500dev</td>\n",
       "      <td>0</td>\n",
       "      <td>NaN</td>\n",
       "    </tr>\n",
       "  </tbody>\n",
       "</table>\n",
       "</div>"
      ],
      "text/plain": [
       "                d1               d2  pair_overlap       rho\n",
       "0              men         mturk771            11  0.592191\n",
       "1              men       wordsim353             5  0.700000\n",
       "2         mturk771  simverb3500test             4  0.400000\n",
       "3              men  simverb3500test             2  1.000000\n",
       "4   simverb3500dev  simverb3500test             1       NaN\n",
       "5  simverb3500test       wordsim353             0       NaN\n",
       "6   simverb3500dev       wordsim353             0       NaN\n",
       "7         mturk771       wordsim353             0       NaN\n",
       "8         mturk771   simverb3500dev             0       NaN\n",
       "9              men   simverb3500dev             0       NaN"
      ]
     },
     "metadata": {},
     "output_type": "display_data"
    }
   ],
   "source": [
    "if 'IS_GRADESCOPE_ENV' not in os.environ:\n",
    "    display(get_reader_pair_overlap())"
   ]
  },
  {
   "cell_type": "markdown",
   "metadata": {},
   "source": [
    "This looks reasonable: none of the datasets have a lot of overlapping pairs, so we don't have to worry too much about places where they give conflicting scores."
   ]
  },
  {
   "cell_type": "markdown",
   "metadata": {
    "collapsed": true
   },
   "source": [
    "## Evaluation\n",
    "\n",
    "This section builds up the evaluation code that you'll use for the homework and bake-off. For illustrations, I'll read in a VSM created from `data/vsmdata/giga_window5-scaled.csv.gz`:"
   ]
  },
  {
   "cell_type": "code",
   "execution_count": 18,
   "metadata": {},
   "outputs": [],
   "source": [
    "giga5 = pd.read_csv(\n",
    "    os.path.join(VSM_HOME, \"giga_window5-scaled.csv.gz\"), index_col=0)"
   ]
  },
  {
   "cell_type": "markdown",
   "metadata": {},
   "source": [
    "### Dataset evaluation"
   ]
  },
  {
   "cell_type": "code",
   "execution_count": 19,
   "metadata": {},
   "outputs": [],
   "source": [
    "def word_similarity_evaluation(reader, df, distfunc=vsm.cosine):\n",
    "    \"\"\"Word-similarity evalution framework.\n",
    "    \n",
    "    Parameters\n",
    "    ----------\n",
    "    reader : iterator\n",
    "        A reader for a word-similarity dataset. Just has to yield\n",
    "        tuples (word1, word2, score).    \n",
    "    df : pd.DataFrame\n",
    "        The VSM being evaluated.        \n",
    "    distfunc : function mapping vector pairs to floats.\n",
    "        The measure of distance between vectors. Can also be \n",
    "        `vsm.euclidean`, `vsm.matching`, `vsm.jaccard`, as well as \n",
    "        any other float-valued function on pairs of vectors.    \n",
    "        \n",
    "    Raises\n",
    "    ------\n",
    "    ValueError\n",
    "        If `df.index` is not a subset of the words in `reader`.\n",
    "    \n",
    "    Returns\n",
    "    -------\n",
    "    float, data\n",
    "        `float` is the Spearman rank correlation coefficient between \n",
    "        the dataset scores and the similarity values obtained from \n",
    "        `df` using  `distfunc`. This evaluation is sensitive only to \n",
    "        rankings, not to absolute values.  `data` is a `pd.DataFrame` \n",
    "        with columns['word1', 'word2', 'score', 'distance'].\n",
    "        \n",
    "    \"\"\"\n",
    "    data = []\n",
    "    for w1, w2, score in reader():\n",
    "        d = {'word1': w1, 'word2': w2, 'score': score}\n",
    "        for w in [w1, w2]:\n",
    "            if w not in df.index:\n",
    "                raise ValueError(\n",
    "                    \"Word '{}' is in the similarity dataset {} but not in the \"\n",
    "                    \"DataFrame, making this evaluation ill-defined. Please \"\n",
    "                    \"switch to a DataFrame with an appropriate vocabulary.\".\n",
    "                    format(w, get_reader_name(reader))) \n",
    "        d['distance'] = distfunc(df.loc[w1], df.loc[w2])\n",
    "        data.append(d)\n",
    "    data = pd.DataFrame(data)\n",
    "    rho, pvalue = spearmanr(data['score'].values, data['distance'].values)\n",
    "    return rho, data"
   ]
  },
  {
   "cell_type": "code",
   "execution_count": 20,
   "metadata": {},
   "outputs": [],
   "source": [
    "rho, eval_df = word_similarity_evaluation(men_reader, giga5)"
   ]
  },
  {
   "cell_type": "code",
   "execution_count": 21,
   "metadata": {},
   "outputs": [
    {
     "data": {
      "text/plain": [
       "0.40375964105441753"
      ]
     },
     "execution_count": 21,
     "metadata": {},
     "output_type": "execute_result"
    }
   ],
   "source": [
    "rho"
   ]
  },
  {
   "cell_type": "code",
   "execution_count": 22,
   "metadata": {},
   "outputs": [
    {
     "data": {
      "text/html": [
       "<div>\n",
       "<style scoped>\n",
       "    .dataframe tbody tr th:only-of-type {\n",
       "        vertical-align: middle;\n",
       "    }\n",
       "\n",
       "    .dataframe tbody tr th {\n",
       "        vertical-align: top;\n",
       "    }\n",
       "\n",
       "    .dataframe thead th {\n",
       "        text-align: right;\n",
       "    }\n",
       "</style>\n",
       "<table border=\"1\" class=\"dataframe\">\n",
       "  <thead>\n",
       "    <tr style=\"text-align: right;\">\n",
       "      <th></th>\n",
       "      <th>word1</th>\n",
       "      <th>word2</th>\n",
       "      <th>score</th>\n",
       "      <th>distance</th>\n",
       "    </tr>\n",
       "  </thead>\n",
       "  <tbody>\n",
       "    <tr>\n",
       "      <th>0</th>\n",
       "      <td>sun</td>\n",
       "      <td>sunlight</td>\n",
       "      <td>-50.0</td>\n",
       "      <td>0.956828</td>\n",
       "    </tr>\n",
       "    <tr>\n",
       "      <th>1</th>\n",
       "      <td>automobile</td>\n",
       "      <td>car</td>\n",
       "      <td>-50.0</td>\n",
       "      <td>0.979143</td>\n",
       "    </tr>\n",
       "    <tr>\n",
       "      <th>2</th>\n",
       "      <td>river</td>\n",
       "      <td>water</td>\n",
       "      <td>-49.0</td>\n",
       "      <td>0.970105</td>\n",
       "    </tr>\n",
       "    <tr>\n",
       "      <th>3</th>\n",
       "      <td>stairs</td>\n",
       "      <td>staircase</td>\n",
       "      <td>-49.0</td>\n",
       "      <td>0.980475</td>\n",
       "    </tr>\n",
       "    <tr>\n",
       "      <th>4</th>\n",
       "      <td>morning</td>\n",
       "      <td>sunrise</td>\n",
       "      <td>-49.0</td>\n",
       "      <td>0.963624</td>\n",
       "    </tr>\n",
       "  </tbody>\n",
       "</table>\n",
       "</div>"
      ],
      "text/plain": [
       "        word1      word2  score  distance\n",
       "0         sun   sunlight  -50.0  0.956828\n",
       "1  automobile        car  -50.0  0.979143\n",
       "2       river      water  -49.0  0.970105\n",
       "3      stairs  staircase  -49.0  0.980475\n",
       "4     morning    sunrise  -49.0  0.963624"
      ]
     },
     "execution_count": 22,
     "metadata": {},
     "output_type": "execute_result"
    }
   ],
   "source": [
    "eval_df.head()"
   ]
  },
  {
   "cell_type": "markdown",
   "metadata": {},
   "source": [
    "### Dataset error analysis\n",
    "\n",
    "For error analysis, we can look at the words with the largest delta between the gold score and the distance value in our VSM. We do these comparisons based on ranks, just as with our primary metric (Spearman $\\rho$), and we normalize both rankings so that they have a comparable number of levels."
   ]
  },
  {
   "cell_type": "code",
   "execution_count": 23,
   "metadata": {},
   "outputs": [],
   "source": [
    "def word_similarity_error_analysis(eval_df):    \n",
    "    eval_df['distance_rank'] = _normalized_ranking(eval_df['distance'])\n",
    "    eval_df['score_rank'] = _normalized_ranking(eval_df['score'])\n",
    "    eval_df['error'] =  abs(eval_df['distance_rank'] - eval_df['score_rank'])\n",
    "    return eval_df.sort_values('error')\n",
    "    \n",
    "    \n",
    "def _normalized_ranking(series):\n",
    "    ranks = series.rank(method='dense')\n",
    "    return ranks / ranks.sum()    "
   ]
  },
  {
   "cell_type": "markdown",
   "metadata": {},
   "source": [
    "Best predictions:"
   ]
  },
  {
   "cell_type": "code",
   "execution_count": 24,
   "metadata": {},
   "outputs": [
    {
     "data": {
      "text/html": [
       "<div>\n",
       "<style scoped>\n",
       "    .dataframe tbody tr th:only-of-type {\n",
       "        vertical-align: middle;\n",
       "    }\n",
       "\n",
       "    .dataframe tbody tr th {\n",
       "        vertical-align: top;\n",
       "    }\n",
       "\n",
       "    .dataframe thead th {\n",
       "        text-align: right;\n",
       "    }\n",
       "</style>\n",
       "<table border=\"1\" class=\"dataframe\">\n",
       "  <thead>\n",
       "    <tr style=\"text-align: right;\">\n",
       "      <th></th>\n",
       "      <th>word1</th>\n",
       "      <th>word2</th>\n",
       "      <th>score</th>\n",
       "      <th>distance</th>\n",
       "      <th>distance_rank</th>\n",
       "      <th>score_rank</th>\n",
       "      <th>error</th>\n",
       "    </tr>\n",
       "  </thead>\n",
       "  <tbody>\n",
       "    <tr>\n",
       "      <th>1041</th>\n",
       "      <td>hummingbird</td>\n",
       "      <td>pelican</td>\n",
       "      <td>-32.0</td>\n",
       "      <td>0.975007</td>\n",
       "      <td>0.000243</td>\n",
       "      <td>0.000244</td>\n",
       "      <td>2.434543e-07</td>\n",
       "    </tr>\n",
       "    <tr>\n",
       "      <th>2315</th>\n",
       "      <td>lily</td>\n",
       "      <td>pigs</td>\n",
       "      <td>-13.0</td>\n",
       "      <td>0.980834</td>\n",
       "      <td>0.000488</td>\n",
       "      <td>0.000487</td>\n",
       "      <td>4.016842e-07</td>\n",
       "    </tr>\n",
       "    <tr>\n",
       "      <th>2951</th>\n",
       "      <td>bucket</td>\n",
       "      <td>girls</td>\n",
       "      <td>-4.0</td>\n",
       "      <td>0.983473</td>\n",
       "      <td>0.000602</td>\n",
       "      <td>0.000603</td>\n",
       "      <td>4.151568e-07</td>\n",
       "    </tr>\n",
       "    <tr>\n",
       "      <th>150</th>\n",
       "      <td>night</td>\n",
       "      <td>sunset</td>\n",
       "      <td>-43.0</td>\n",
       "      <td>0.968690</td>\n",
       "      <td>0.000102</td>\n",
       "      <td>0.000103</td>\n",
       "      <td>6.520315e-07</td>\n",
       "    </tr>\n",
       "    <tr>\n",
       "      <th>2062</th>\n",
       "      <td>oak</td>\n",
       "      <td>petals</td>\n",
       "      <td>-17.0</td>\n",
       "      <td>0.979721</td>\n",
       "      <td>0.000435</td>\n",
       "      <td>0.000436</td>\n",
       "      <td>7.162632e-07</td>\n",
       "    </tr>\n",
       "  </tbody>\n",
       "</table>\n",
       "</div>"
      ],
      "text/plain": [
       "            word1    word2  score  distance  distance_rank  score_rank  \\\n",
       "1041  hummingbird  pelican  -32.0  0.975007       0.000243    0.000244   \n",
       "2315         lily     pigs  -13.0  0.980834       0.000488    0.000487   \n",
       "2951       bucket    girls   -4.0  0.983473       0.000602    0.000603   \n",
       "150         night   sunset  -43.0  0.968690       0.000102    0.000103   \n",
       "2062          oak   petals  -17.0  0.979721       0.000435    0.000436   \n",
       "\n",
       "             error  \n",
       "1041  2.434543e-07  \n",
       "2315  4.016842e-07  \n",
       "2951  4.151568e-07  \n",
       "150   6.520315e-07  \n",
       "2062  7.162632e-07  "
      ]
     },
     "execution_count": 24,
     "metadata": {},
     "output_type": "execute_result"
    }
   ],
   "source": [
    "word_similarity_error_analysis(eval_df).head()"
   ]
  },
  {
   "cell_type": "markdown",
   "metadata": {},
   "source": [
    "Worst predictions:"
   ]
  },
  {
   "cell_type": "code",
   "execution_count": 25,
   "metadata": {},
   "outputs": [
    {
     "data": {
      "text/html": [
       "<div>\n",
       "<style scoped>\n",
       "    .dataframe tbody tr th:only-of-type {\n",
       "        vertical-align: middle;\n",
       "    }\n",
       "\n",
       "    .dataframe tbody tr th {\n",
       "        vertical-align: top;\n",
       "    }\n",
       "\n",
       "    .dataframe thead th {\n",
       "        text-align: right;\n",
       "    }\n",
       "</style>\n",
       "<table border=\"1\" class=\"dataframe\">\n",
       "  <thead>\n",
       "    <tr style=\"text-align: right;\">\n",
       "      <th></th>\n",
       "      <th>word1</th>\n",
       "      <th>word2</th>\n",
       "      <th>score</th>\n",
       "      <th>distance</th>\n",
       "      <th>distance_rank</th>\n",
       "      <th>score_rank</th>\n",
       "      <th>error</th>\n",
       "    </tr>\n",
       "  </thead>\n",
       "  <tbody>\n",
       "    <tr>\n",
       "      <th>67</th>\n",
       "      <td>branch</td>\n",
       "      <td>twigs</td>\n",
       "      <td>-45.0</td>\n",
       "      <td>0.984622</td>\n",
       "      <td>0.000630</td>\n",
       "      <td>0.000077</td>\n",
       "      <td>0.000553</td>\n",
       "    </tr>\n",
       "    <tr>\n",
       "      <th>190</th>\n",
       "      <td>birds</td>\n",
       "      <td>stork</td>\n",
       "      <td>-43.0</td>\n",
       "      <td>0.987704</td>\n",
       "      <td>0.000657</td>\n",
       "      <td>0.000103</td>\n",
       "      <td>0.000554</td>\n",
       "    </tr>\n",
       "    <tr>\n",
       "      <th>185</th>\n",
       "      <td>bloom</td>\n",
       "      <td>tulip</td>\n",
       "      <td>-43.0</td>\n",
       "      <td>0.990993</td>\n",
       "      <td>0.000663</td>\n",
       "      <td>0.000103</td>\n",
       "      <td>0.000561</td>\n",
       "    </tr>\n",
       "    <tr>\n",
       "      <th>167</th>\n",
       "      <td>bloom</td>\n",
       "      <td>blossom</td>\n",
       "      <td>-43.0</td>\n",
       "      <td>0.991760</td>\n",
       "      <td>0.000664</td>\n",
       "      <td>0.000103</td>\n",
       "      <td>0.000561</td>\n",
       "    </tr>\n",
       "    <tr>\n",
       "      <th>198</th>\n",
       "      <td>bloom</td>\n",
       "      <td>rose</td>\n",
       "      <td>-43.0</td>\n",
       "      <td>0.992406</td>\n",
       "      <td>0.000664</td>\n",
       "      <td>0.000103</td>\n",
       "      <td>0.000561</td>\n",
       "    </tr>\n",
       "  </tbody>\n",
       "</table>\n",
       "</div>"
      ],
      "text/plain": [
       "      word1    word2  score  distance  distance_rank  score_rank     error\n",
       "67   branch    twigs  -45.0  0.984622       0.000630    0.000077  0.000553\n",
       "190   birds    stork  -43.0  0.987704       0.000657    0.000103  0.000554\n",
       "185   bloom    tulip  -43.0  0.990993       0.000663    0.000103  0.000561\n",
       "167   bloom  blossom  -43.0  0.991760       0.000664    0.000103  0.000561\n",
       "198   bloom     rose  -43.0  0.992406       0.000664    0.000103  0.000561"
      ]
     },
     "execution_count": 25,
     "metadata": {},
     "output_type": "execute_result"
    }
   ],
   "source": [
    "word_similarity_error_analysis(eval_df).tail()"
   ]
  },
  {
   "cell_type": "markdown",
   "metadata": {},
   "source": [
    "### Full evaluation"
   ]
  },
  {
   "cell_type": "markdown",
   "metadata": {},
   "source": [
    "A full evaluation is just a loop over all the readers on which one want to evaluate, with a macro-average at the end:"
   ]
  },
  {
   "cell_type": "code",
   "execution_count": 26,
   "metadata": {},
   "outputs": [],
   "source": [
    "def full_word_similarity_evaluation(df, readers=READERS, distfunc=vsm.cosine):\n",
    "    \"\"\"Evaluate a VSM against all datasets in `readers`.\n",
    "    \n",
    "    Parameters\n",
    "    ----------\n",
    "    df : pd.DataFrame\n",
    "    readers : tuple \n",
    "        The similarity dataset readers on which to evaluate.\n",
    "    distfunc : function mapping vector pairs to floats.\n",
    "        The measure of distance between vectors. Can also be \n",
    "        `vsm.euclidean`, `vsm.matching`, `vsm.jaccard`, as well as \n",
    "        any other float-valued function on pairs of vectors.    \n",
    "    \n",
    "    Returns\n",
    "    -------\n",
    "    pd.Series\n",
    "        Mapping dataset names to Spearman r values.\n",
    "        \n",
    "    \"\"\"        \n",
    "    scores = {}     \n",
    "    for reader in readers:\n",
    "        score, data_df = word_similarity_evaluation(reader, df, distfunc=distfunc)\n",
    "        scores[get_reader_name(reader)] = score\n",
    "    series = pd.Series(scores, name='Spearman r')\n",
    "    series['Macro-average'] = series.mean()\n",
    "    return series"
   ]
  },
  {
   "cell_type": "code",
   "execution_count": 27,
   "metadata": {},
   "outputs": [
    {
     "data": {
      "text/plain": [
       "wordsim353         0.327831\n",
       "mturk771           0.143146\n",
       "simverb3500dev    -0.065020\n",
       "simverb3500test   -0.066314\n",
       "men                0.403760\n",
       "Macro-average      0.148681\n",
       "Name: Spearman r, dtype: float64"
      ]
     },
     "metadata": {},
     "output_type": "display_data"
    }
   ],
   "source": [
    "if 'IS_GRADESCOPE_ENV' not in os.environ:\n",
    "    display(full_word_similarity_evaluation(giga5))"
   ]
  },
  {
   "cell_type": "markdown",
   "metadata": {},
   "source": [
    "## Homework questions\n",
    "\n",
    "Please embed your homework responses in this notebook, and do not delete any cells from the notebook. (You are free to add as many cells as you like as part of your responses.)"
   ]
  },
  {
   "cell_type": "markdown",
   "metadata": {},
   "source": [
    "### PPMI as a baseline [0.5 points]\n",
    "\n",
    "The insight behind PPMI is a recurring theme in word representation learning, so it is a natural baseline for our task. For this question, write a function called `run_giga_ppmi_baseline` that does the following:\n",
    "\n",
    "1. Reads the Gigaword count matrix with a window of 20 and a flat scaling function into a `pd.DataFrame`s, as is done in the VSM notebooks. The file is `data/vsmdata/giga_window20-flat.csv.gz`, and the VSM notebooks provide examples of the needed code.\n",
    "\n",
    "1. Reweights this count matrix with PPMI.\n",
    "\n",
    "1. Evaluates this reweighted matrix using `full_word_similarity_evaluation`. The return value of `run_giga_ppmi_baseline` should be the return value of this call to `full_word_similarity_evaluation`.\n",
    "\n",
    "The goal of this question is to help you get more familiar with the code in `vsm` and the function `full_word_similarity_evaluation`.\n",
    "\n",
    "The function `test_run_giga_ppmi_baseline` can be used to test that you've implemented this specification correctly."
   ]
  },
  {
   "cell_type": "code",
   "execution_count": 28,
   "metadata": {},
   "outputs": [],
   "source": [
    "def run_giga_ppmi_baseline():\n",
    "    \n",
    "    ##### YOUR CODE HERE\n",
    "    giga20 = pd.read_csv(\n",
    "        os.path.join(VSM_HOME, \"giga_window20-flat.csv.gz\"), index_col=0)\n",
    "    #import pdb; pdb.set_trace()\n",
    "    giga20_ppmi = vsm.pmi(giga20, positive=True)\n",
    "    reweighted = giga20_ppmi\n",
    "    # def full_word_similarity_evaluation(df, readers=READERS, distfunc=vsm.cosine)\n",
    "    result = full_word_similarity_evaluation(reweighted)\n",
    "    ws_result = result.loc['wordsim353'].round(2)\n",
    "    #print(ws_result)\n",
    "    return result\n",
    "    \"\"\"print(giga20.loc['wordsim353'])\n",
    "    return giga20\n",
    "    arr = giga20\n",
    "    arr = giga20.to_numpy()\n",
    "    #row_sum = arr.sum(axis=1)\n",
    "    #col_sum = arr.sum(axis=0)\n",
    "    rowsum = np.sum(arr, axis=1)\n",
    "    colsum = np.sum(arr, axis=0)\n",
    "    sumX = np.sum(rowsum, axis=0)\n",
    "    expected = np.outer(rowsum, colsum)/sumX\n",
    "    oe = arr/expected\n",
    "    oe[oe == 0] = 1\n",
    "    pmi = np.log(oe)\n",
    "    #ppmi[ppmi < 0] = 0\n",
    "    #giga20[:]=pmi\n",
    "    return giga20\"\"\"\n",
    "\n",
    "\n"
   ]
  },
  {
   "cell_type": "code",
   "execution_count": 29,
   "metadata": {},
   "outputs": [],
   "source": [
    "def test_run_giga_ppmi_baseline(run_giga_ppmi_baseline):\n",
    "    result = run_giga_ppmi_baseline()\n",
    "    ws_result = result.loc['wordsim353'].round(2)\n",
    "    ws_expected = 0.58\n",
    "    assert ws_result == ws_expected, \\\n",
    "        \"Expected wordsim353 value of {}; got {}\".format(ws_expected, ws_result)"
   ]
  },
  {
   "cell_type": "code",
   "execution_count": 30,
   "metadata": {},
   "outputs": [],
   "source": [
    "if 'IS_GRADESCOPE_ENV' not in os.environ:\n",
    "    test_run_giga_ppmi_baseline(run_giga_ppmi_baseline)"
   ]
  },
  {
   "cell_type": "markdown",
   "metadata": {},
   "source": [
    "### Gigaword with LSA at different dimensions [0.5 points]\n",
    "\n",
    "We might expect PPMI and LSA to form a solid pipeline that combines the strengths of PPMI with those of dimensionality reduction. However, LSA has a hyper-parameter $k$ – the dimensionality of the final representations – that will impact performance. For this problem, write a wrapper function `run_ppmi_lsa_pipeline` that does the following:\n",
    "\n",
    "1. Takes as input a count `pd.DataFrame` and an LSA parameter `k`.\n",
    "1. Reweights the count matrix with PPMI.\n",
    "1. Applies LSA with dimensionality `k`.\n",
    "1. Evaluates this reweighted matrix using `full_word_similarity_evaluation`. The return value of `run_ppmi_lsa_pipeline` should be the return value of this call to `full_word_similarity_evaluation`.\n",
    "\n",
    "The goal of this question is to help you get a feel for how much LSA alone can contribute to this problem. \n",
    "\n",
    "The  function `test_run_ppmi_lsa_pipeline` will test your function on the count matrix in `data/vsmdata/giga_window20-flat.csv.gz`."
   ]
  },
  {
   "cell_type": "code",
   "execution_count": 31,
   "metadata": {},
   "outputs": [],
   "source": [
    "def run_ppmi_lsa_pipeline(count_df, k):\n",
    "    \n",
    "    ##### YOUR CODE HERE\n",
    "    count_df_ppmi = vsm.pmi(count_df, positive=True)\n",
    "    count_df_lsa = vsm.lsa(count_df_ppmi, k)\n",
    "    result = full_word_similarity_evaluation(count_df_lsa)\n",
    "    return result\n",
    "     \n",
    "\n",
    "\n"
   ]
  },
  {
   "cell_type": "code",
   "execution_count": 32,
   "metadata": {},
   "outputs": [],
   "source": [
    "def test_run_ppmi_lsa_pipeline(run_ppmi_lsa_pipeline):\n",
    "    giga20 = pd.read_csv(\n",
    "        os.path.join(VSM_HOME, \"giga_window20-flat.csv.gz\"), index_col=0)\n",
    "    results = run_ppmi_lsa_pipeline(giga20, k=10)\n",
    "    men_expected = 0.57\n",
    "    men_result = results.loc['men'].round(2)\n",
    "    assert men_result == men_expected,\\\n",
    "        \"Expected men value of {}; got {}\".format(men_expected, men_result)"
   ]
  },
  {
   "cell_type": "code",
   "execution_count": 33,
   "metadata": {},
   "outputs": [],
   "source": [
    "if 'IS_GRADESCOPE_ENV' not in os.environ:\n",
    "    test_run_ppmi_lsa_pipeline(run_ppmi_lsa_pipeline)"
   ]
  },
  {
   "cell_type": "markdown",
   "metadata": {},
   "source": [
    "### Gigaword with GloVe for a small number of iterations [0.5 points]\n",
    "\n",
    "Ideally, we would run GloVe for a very large number of iterations on a GPU machine to compare it against its close cousin PMI. However, we don't want this homework to cost you a lot of money or monopolize a lot of your available computing resources, so let's instead just probe GloVe a little bit to see if it has promise for our task. For this problem, write a function `run_small_glove_evals` that does the following:\n",
    "\n",
    "1. Reads in `data/vsmdata/giga_window20-flat.csv.gz`.\n",
    "1. Runs GloVe for 10, 100, and 200 iterations on `data/vsmdata/giga_window20-flat.csv.gz`, using the `mittens` implementation of `GloVe`. \n",
    "  * For all the other parameters to `mittens.GloVe` besides `max_iter`, use the package's defaults.\n",
    "  * Because of the way that implementation is designed, these will have to be separate runs, but they should be relatively quick. \n",
    "1. Stores the values in a `dict` mapping each `max_iter` value to its associated 'Macro-average' score according to `full_word_similarity_evaluation`. `run_small_glove_evals`  should return this `dict`.\n",
    "\n",
    "The trend should give you a sense for whether it is worth running GloVe for more iterations.\n",
    "\n",
    "Some implementation notes:\n",
    "\n",
    "* Your trained GloVe matrix `X` needs to be wrapped in a `pd.DataFrame` to work with `full_word_similarity_evaluation`. `pd.DataFrame(X, index=giga20.index)` will do the trick.\n",
    "\n",
    "* If `glv` is your GloVe model, then running `glv.sess.close()` after each model is trained will silence warnings from TensorFlow about interactive sessions being active.\n",
    "\n",
    "Performance will vary a lot for this function, so there is some uncertainty in the testing, but `test_run_small_glove_evals` will at least check that you wrote a function with the right general logic."
   ]
  },
  {
   "cell_type": "code",
   "execution_count": 34,
   "metadata": {},
   "outputs": [],
   "source": [
    "def run_small_glove_evals():\n",
    "\n",
    "    from mittens import GloVe\n",
    "    \n",
    "    ##### YOUR CODE HERE\n",
    "    giga20 = pd.read_csv(\n",
    "        os.path.join(VSM_HOME, \"giga_window20-flat.csv.gz\"), index_col=0)\n",
    "    result = {}\n",
    "    iter_list = [10, 100, 200]\n",
    "    #iter_list = [10] \n",
    "    for iters in iter_list:\n",
    "        glv = GloVe(max_iter=iters)\n",
    "        # to_numpy\n",
    "        X = glv.fit(giga20.to_numpy())\n",
    "        #glv.sess.close()\n",
    "        df = pd.DataFrame(X, index=giga20.index)\n",
    "        evaluation = full_word_similarity_evaluation(df)\n",
    "        #print(evaluation)\n",
    "        result[iters] = evaluation['Macro-average']\n",
    "    return result\n",
    "\n"
   ]
  },
  {
   "cell_type": "code",
   "execution_count": 35,
   "metadata": {},
   "outputs": [],
   "source": [
    "def test_run_small_glove_evals(run_small_glove_evals):\n",
    "    data = run_small_glove_evals()\n",
    "    for max_iter in (10, 100, 200):\n",
    "        assert max_iter in data\n",
    "        assert isinstance(data[max_iter], float)"
   ]
  },
  {
   "cell_type": "code",
   "execution_count": 36,
   "metadata": {},
   "outputs": [
    {
     "name": "stdout",
     "output_type": "stream",
     "text": [
      "WARNING:tensorflow:From /home/sim/anaconda3/envs/nlu/lib/python3.7/site-packages/tensorflow_core/python/ops/resource_variable_ops.py:1635: calling BaseResourceVariable.__init__ (from tensorflow.python.ops.resource_variable_ops) with constraint is deprecated and will be removed in a future version.\n",
      "Instructions for updating:\n",
      "If using Keras pass *_constraint arguments to layers.\n",
      "WARNING:tensorflow:From /home/sim/anaconda3/envs/nlu/lib/python3.7/site-packages/tensorflow_core/python/training/adagrad.py:76: calling Constant.__init__ (from tensorflow.python.ops.init_ops) with dtype is deprecated and will be removed in a future version.\n",
      "Instructions for updating:\n",
      "Call initializer instance with the dtype argument instead of passing it to the constructor\n"
     ]
    },
    {
     "name": "stderr",
     "output_type": "stream",
     "text": [
      "Iteration 10: loss: 15447376.0/home/sim/anaconda3/envs/nlu/lib/python3.7/site-packages/tensorflow_core/python/client/session.py:1752: UserWarning: An interactive session is already active. This can cause out-of-memory errors in some cases. You must explicitly call `InteractiveSession.close()` to release resources held by the other session(s).\n",
      "  warnings.warn('An interactive session is already active. This can '\n",
      "Iteration 100: loss: 2790806.25/home/sim/anaconda3/envs/nlu/lib/python3.7/site-packages/tensorflow_core/python/client/session.py:1752: UserWarning: An interactive session is already active. This can cause out-of-memory errors in some cases. You must explicitly call `InteractiveSession.close()` to release resources held by the other session(s).\n",
      "  warnings.warn('An interactive session is already active. This can '\n",
      "Iteration 200: loss: 2005082.755"
     ]
    }
   ],
   "source": [
    "if 'IS_GRADESCOPE_ENV' not in os.environ:\n",
    "    test_run_small_glove_evals(run_small_glove_evals)"
   ]
  },
  {
   "cell_type": "markdown",
   "metadata": {},
   "source": [
    "### Dice coefficient [0.5 points]\n",
    "\n",
    "Implement the Dice coefficient for real-valued vectors, as\n",
    "\n",
    "$$\n",
    "\\textbf{dice}(u, v) = \n",
    "1 - \\frac{\n",
    "  2 \\sum_{i=1}^{n}\\min(u_{i}, v_{i})\n",
    "}{\n",
    "    \\sum_{i=1}^{n} u_{i} + v_{i}\n",
    "}$$\n",
    " \n",
    "You can use `test_dice_implementation` below to check that your implementation is correct."
   ]
  },
  {
   "cell_type": "code",
   "execution_count": 37,
   "metadata": {},
   "outputs": [],
   "source": [
    "def test_dice_implementation(func):\n",
    "    \"\"\"`func` should be an implementation of `dice` as defined above.\"\"\"\n",
    "    X = np.array([\n",
    "        [  4.,   4.,   2.,   0.],\n",
    "        [  4.,  61.,   8.,  18.],\n",
    "        [  2.,   8.,  10.,   0.],\n",
    "        [  0.,  18.,   0.,   5.]]) \n",
    "    assert func(X[0], X[1]).round(5) == 0.80198\n",
    "    assert func(X[1], X[2]).round(5) == 0.67568"
   ]
  },
  {
   "cell_type": "code",
   "execution_count": 38,
   "metadata": {},
   "outputs": [],
   "source": [
    "def dice(u, v):\n",
    "\n",
    "    \n",
    "    ##### YOUR CODE HERE\n",
    "    denom = np.sum(u)+np.sum(v)\n",
    "    num = 0.0\n",
    "    len_u = len(u)\n",
    "    for i in range(len_u):\n",
    "        i = int(i)\n",
    "        #print(u[i], v[i])\n",
    "        min_i = min(u[i],v[i])\n",
    "        num = num + min_i\n",
    "    \n",
    "    num *= 2.0\n",
    "    coeff = 1 - (num/denom)\n",
    "    return coeff\n",
    "    \n",
    "\n"
   ]
  },
  {
   "cell_type": "code",
   "execution_count": 39,
   "metadata": {},
   "outputs": [],
   "source": [
    "if 'IS_GRADESCOPE_ENV' not in os.environ:\n",
    "    test_dice_implementation(dice)"
   ]
  },
  {
   "cell_type": "markdown",
   "metadata": {},
   "source": [
    "### t-test reweighting [2 points]\n",
    "\n"
   ]
  },
  {
   "cell_type": "markdown",
   "metadata": {},
   "source": [
    "The t-test statistic can be thought of as a reweighting scheme. For a count matrix $X$, row index $i$, and column index $j$:\n",
    "\n",
    "$$\\textbf{ttest}(X, i, j) = \n",
    "\\frac{\n",
    "    P(X, i, j) - \\big(P(X, i, *)P(X, *, j)\\big)\n",
    "}{\n",
    "\\sqrt{(P(X, i, *)P(X, *, j))}\n",
    "}$$\n",
    "\n",
    "where $P(X, i, j)$ is $X_{ij}$ divided by the total values in $X$, $P(X, i, *)$ is the sum of the values in row $i$ of $X$ divided by the total values in $X$, and $P(X, *, j)$ is the sum of the values in column $j$ of $X$ divided by the total values in $X$.\n",
    "\n",
    "For this problem, implement this reweighting scheme. You can use `test_ttest_implementation` below to check that your implementation is correct. You do not need to use this for any evaluations, though we hope you will be curious enough to do so!"
   ]
  },
  {
   "cell_type": "code",
   "execution_count": 40,
   "metadata": {},
   "outputs": [],
   "source": [
    "def test_ttest_implementation(func):\n",
    "    \"\"\"`func` should be an implementation of t-test reweighting as \n",
    "    defined above.\n",
    "    \"\"\"\n",
    "    X = pd.DataFrame(np.array([\n",
    "        [  4.,   4.,   2.,   0.],\n",
    "        [  4.,  61.,   8.,  18.],\n",
    "        [  2.,   8.,  10.,   0.],\n",
    "        [  0.,  18.,   0.,   5.]]))    \n",
    "    actual = np.array([\n",
    "        [ 0.33056, -0.07689,  0.04321, -0.10532],\n",
    "        [-0.07689,  0.03839, -0.10874,  0.07574],\n",
    "        [ 0.04321, -0.10874,  0.36111, -0.14894],\n",
    "        [-0.10532,  0.07574, -0.14894,  0.05767]])    \n",
    "    predicted = func(X)\n",
    "    assert np.array_equal(predicted.round(5), actual)"
   ]
  },
  {
   "cell_type": "code",
   "execution_count": 41,
   "metadata": {},
   "outputs": [],
   "source": [
    "def ttest(df):\n",
    "    \n",
    "    ##### YOUR CODE HERE\n",
    "    tot = df.to_numpy().sum()\n",
    "    df = df/tot\n",
    "    rowsum = df.sum(axis=1)\n",
    "    colsum = df.sum(axis=0)\n",
    "    #tot = colsum.sum()\n",
    "    #tot = df.sum().sum()\n",
    "    #df = df/tot\n",
    "    op = np.outer(rowsum, colsum)\n",
    "    numer = df - op\n",
    "    denom = op**0.5\n",
    "    val = numer/denom\n",
    "    print(val)\n",
    "    return val\n"
   ]
  },
  {
   "cell_type": "code",
   "execution_count": 42,
   "metadata": {},
   "outputs": [
    {
     "name": "stdout",
     "output_type": "stream",
     "text": [
      "          0         1         2         3\n",
      "0  0.330556 -0.076889  0.043212 -0.105318\n",
      "1 -0.076889  0.038385 -0.108737  0.075745\n",
      "2  0.043212 -0.108737  0.361111 -0.148942\n",
      "3 -0.105318  0.075745 -0.148942  0.057669\n"
     ]
    }
   ],
   "source": [
    "if 'IS_GRADESCOPE_ENV' not in os.environ:\n",
    "    test_ttest_implementation(ttest)"
   ]
  },
  {
   "cell_type": "markdown",
   "metadata": {},
   "source": [
    "### Enriching a VSM with subword information [2 points]\n",
    "\n",
    "It might be useful to combine character-level information with word-level information. To help you begin asssessing this idea, this question asks you to write a function that modifies an existing VSM so that the representation for each word $w$ is the element-wise sum of $w$'s original word-level representation with all the representations for the n-grams $w$ contains. \n",
    "\n",
    "The following starter code should help you structure this and clarify the requirements, and a simple test is included below as well.\n",
    "\n",
    "You don't need to write a lot of code; the motivation for this question is that the function you write could have practical value."
   ]
  },
  {
   "cell_type": "code",
   "execution_count": 43,
   "metadata": {},
   "outputs": [],
   "source": [
    "def subword_enrichment(df, n=4):\n",
    "    \n",
    "    # 1. Use `vsm.ngram_vsm` to create a character-level \n",
    "    # VSM from `df`, using the above parameter `n` to \n",
    "    # set the size of the ngrams.\n",
    "    \n",
    "    ##### YOUR CODE HERE\n",
    "    ngram_vsm = vsm.ngram_vsm(df, n)\n",
    "\n",
    "        \n",
    "    # 2. Use `vsm.character_level_rep` to get the representation\n",
    "    # for every word in `df` according to the character-level\n",
    "    # VSM you created above.\n",
    "    \n",
    "    ##### YOUR CODE HERE\n",
    "    row_count = df.shape[0]\n",
    "    #char_rep_np = np.zeros(df.shape)\n",
    "    char_rep_np = []\n",
    "    df_np = df.to_numpy()\n",
    "    for i in range(row_count):\n",
    "        #char_rep_np[i][:] = vsm.character_level_rep( df.iloc[i], ngram_vsm, n)\n",
    "        #char_rep = vsm.character_level_rep( df.iloc[i], ngram_vsm, n)\n",
    "        #print(df.iloc[i])\n",
    "                         # def character_level_rep(word, cf, n=4):\n",
    "        char_rep_np.append(vsm.character_level_rep(df.index[i], ngram_vsm, n))\n",
    "    char_rep_np = np.array(char_rep_np)\n",
    "    df_char = pd.DataFrame(char_rep_np, index=df.index)\n",
    "    # 3. For each representation created at step 2, add in its\n",
    "    # original representation from `df`. (This should use\n",
    "    # element-wise addition; the dimensionality of the vectors\n",
    "    # will be unchanged.)\n",
    "                            \n",
    "    ##### YOUR CODE HERE\n",
    "\n",
    "    df_agg = df_char + df\n",
    "    \n",
    "    # 4. Return a `pd.DataFrame` with the same index and column\n",
    "    # values as `df`, but filled with the new representations\n",
    "    # created at step 3.\n",
    "                            \n",
    "    ##### YOUR CODE HERE\n",
    "    #print(\"printing df_agg\")\n",
    "    #print(df_agg)\n",
    "    return df_agg\n",
    "\n"
   ]
  },
  {
   "cell_type": "code",
   "execution_count": 44,
   "metadata": {},
   "outputs": [],
   "source": [
    "def test_subword_enrichment(func):\n",
    "    \"\"\"`func` should be an implementation of subword_enrichment as \n",
    "    defined above.\n",
    "    \"\"\"\n",
    "    vocab = [\"ABCD\", \"BCDA\", \"CDAB\", \"DABC\"]\n",
    "    df = pd.DataFrame([\n",
    "        [1, 1, 2, 1],\n",
    "        [3, 4, 2, 4],\n",
    "        [0, 0, 1, 0],\n",
    "        [1, 0, 0, 0]], index=vocab)\n",
    "    expected = pd.DataFrame([\n",
    "        [14, 14, 18, 14],\n",
    "        [22, 26, 18, 26],\n",
    "        [10, 10, 14, 10],\n",
    "        [14, 10, 10, 10]], index=vocab)\n",
    "    new_df = func(df, n=2)\n",
    "    assert np.array_equal(expected.columns, new_df.columns), \\\n",
    "        \"Columns are not the same\"\n",
    "    assert np.array_equal(expected.index, new_df.index), \\\n",
    "        \"Indices are not the same\"\n",
    "    assert np.array_equal(expected.values, new_df.values), \\\n",
    "        \"Co-occurrence values aren't the same\"    "
   ]
  },
  {
   "cell_type": "code",
   "execution_count": 45,
   "metadata": {},
   "outputs": [],
   "source": [
    "if 'IS_GRADESCOPE_ENV' not in os.environ:\n",
    "    test_subword_enrichment(subword_enrichment)"
   ]
  },
  {
   "cell_type": "markdown",
   "metadata": {},
   "source": [
    "### Your original system [3 points]\n",
    "\n",
    "This question asks you to design your own model. You can of course include steps made above (ideally, the above questions informed your system design!), but your model should not be literally identical to any of the above models. Other ideas: retrofitting, autoencoders, GloVe, subword modeling, ... \n",
    "\n",
    "Requirements:\n",
    "\n",
    "1. Your code must operate on one of the count matrices in `data/vsmdata`. You can choose which one. __Other pretrained vectors cannot be introduced__.\n",
    "\n",
    "1. Your code must be self-contained, so that we can work with your model directly in your homework submission notebook. If your model depends on external data or other resources, please submit a ZIP archive containing these resources along with your submission.\n",
    "\n",
    "In the cell below, please provide a brief technical description of your original system, so that the teaching team can gain an understanding of what it does. This will help us to understand your code and analyze all the submissions to identify patterns and strategies."
   ]
  },
  {
   "cell_type": "code",
   "execution_count": 3,
   "metadata": {},
   "outputs": [
    {
     "ename": "NameError",
     "evalue": "name 'os' is not defined",
     "output_type": "error",
     "traceback": [
      "\u001b[0;31m---------------------------------------------------------------------------\u001b[0m",
      "\u001b[0;31mNameError\u001b[0m                                 Traceback (most recent call last)",
      "\u001b[0;32m<ipython-input-3-594419aeb60e>\u001b[0m in \u001b[0;36m<module>\u001b[0;34m\u001b[0m\n\u001b[1;32m     29\u001b[0m \"\"\"\n\u001b[1;32m     30\u001b[0m \u001b[0;31m# Please do not remove this comment.\u001b[0m\u001b[0;34m\u001b[0m\u001b[0;34m\u001b[0m\u001b[0;34m\u001b[0m\u001b[0m\n\u001b[0;32m---> 31\u001b[0;31m \u001b[0;32mif\u001b[0m \u001b[0;34m'IS_GRADESCOPE_ENV'\u001b[0m \u001b[0;32mnot\u001b[0m \u001b[0;32min\u001b[0m \u001b[0mos\u001b[0m\u001b[0;34m.\u001b[0m\u001b[0menviron\u001b[0m\u001b[0;34m:\u001b[0m\u001b[0;34m\u001b[0m\u001b[0;34m\u001b[0m\u001b[0m\n\u001b[0m\u001b[1;32m     32\u001b[0m     \u001b[0;32mpass\u001b[0m\u001b[0;34m\u001b[0m\u001b[0;34m\u001b[0m\u001b[0m\n",
      "\u001b[0;31mNameError\u001b[0m: name 'os' is not defined"
     ]
    }
   ],
   "source": [
    "# Enter your system description in this cell.\n",
    "\n",
    "\"\"\"\n",
    "    The system builds of from the pipeline shown in the class\n",
    "    i.e. ppmi->lsa->ae to:\n",
    "    ppmi-> lsa->  subword_enrichment-> weighted_lsa_representation-> MMD-VAE-> Retrofitting\n",
    "    \n",
    "    \n",
    "    I also tried using ppmi->lsa->subword enrichment, it gave\n",
    "    poor results e.g:\n",
    "                    finance    0.000000\n",
    "                    balance    0.004174\n",
    "                    chance     0.006348\n",
    "                    advance    0.006587\n",
    "                    glance     0.006653\n",
    "    However a linear combination of ppmi and enrichment would allowus to incorporate more morphological\n",
    "    information hence I used a weihting strategy:\n",
    "    enriched_neighbours_ppmi_lsa_k = (w1*dataset_ppmi_lsa_k + w2*dataset_ppmi_lsa_k_ngram_enrichmet)/(w1+w2)\n",
    "    This gave better resuts:\n",
    "                            neighbours_enriched\n",
    "                            finance        0.000000\n",
    "                            banking        0.081684\n",
    "                            investment     0.087688\n",
    "                            investments    0.117994\n",
    "                            management     0.121275\n",
    "   \n",
    "    \n",
    "    The system then uses the above weighted representation to train an \n",
    "    MMD-VAE which tries to constrains the latent representation to unit Gaussian.\n",
    "    I believe the advantage is that it should be robust to \n",
    "    different distance measures while also making the latent space more continous and meaninful\n",
    "    \n",
    "    \n",
    "    After lsa and autoencoder we loose information because of the representation.\n",
    "    So retrofitting is added to account for information loss and also it helps\n",
    "    mitigating issues which could arise because of dataset not being sufficiently representative\n",
    "                            \n",
    "\"\"\"\n",
    "# Please do not remove this comment.\n",
    "if 'IS_GRADESCOPE_ENV' not in os.environ:\n",
    "    pass\n"
   ]
  },
  {
   "cell_type": "markdown",
   "metadata": {},
   "source": [
    "## Bake-off [1 point]\n",
    "\n",
    "For the bake-off, we will release two additional datasets. The announcement will go out on the discussion forum. We will also release reader code for these datasets that you can paste into this notebook. You will evaluate your custom model $M$ (from the previous question) on these new datasets using `full_word_similarity_evaluation`. Rules:\n",
    "\n",
    "1. Only one evaluation is permitted.\n",
    "1. No additional system tuning is permitted once the bake-off has started.\n",
    "\n",
    "The cells below this one constitute your bake-off entry.\n",
    "\n",
    "People who enter will receive the additional homework point, and people whose systems achieve the top score will receive an additional 0.5 points. We will test the top-performing systems ourselves, and only systems for which we can reproduce the reported results will win the extra 0.5 points.\n",
    "\n",
    "Late entries will be accepted, but they cannot earn the extra 0.5 points. Similarly, you cannot win the bake-off unless your homework is submitted on time.\n",
    "\n",
    "The announcement will include the details on where to submit your entry."
   ]
  },
  {
   "cell_type": "code",
   "execution_count": 46,
   "metadata": {},
   "outputs": [
    {
     "name": "stdout",
     "output_type": "stream",
     "text": [
      "5000\n",
      "neighbours_raw\n",
      "finance    0.000000\n",
      ".          0.132519\n",
      "</p>       0.139872\n",
      "<p>        0.141332\n",
      "said       0.158305\n",
      "dtype: float64\n",
      "neighbours_ppmi\n",
      "finance     0.000000\n",
      "banking     0.363871\n",
      "monetary    0.404030\n",
      "loans       0.413165\n",
      "banks       0.415815\n",
      "dtype: float64\n",
      "neighbours_ppmi_lsa_k\n",
      "finance     0.000000\n",
      "banking     0.136505\n",
      "monetary    0.167089\n",
      "debt        0.171278\n",
      "loans       0.172590\n",
      "dtype: float64\n",
      "neighbours_enriched\n",
      "finance        0.000000\n",
      "banking        0.081684\n",
      "investment     0.087688\n",
      "investments    0.117994\n",
      "management     0.121275\n",
      "dtype: float64\n"
     ]
    }
   ],
   "source": [
    "# Enter your bake-off assessment code into this cell. \n",
    "# Please do not remove this comment.\n",
    "\n",
    "if 'IS_GRADESCOPE_ENV' not in os.environ:\n",
    "    pass\n",
    "    # Please enter your code in the scope of the above conditional.\n",
    "    ##### YOUR CODE HERE\n",
    "    from collections import defaultdict\n",
    "    from nltk.corpus import wordnet as wn\n",
    "    import numpy as np\n",
    "    import os\n",
    "    import pandas as pd\n",
    "    import retrofitting\n",
    "    from retrofitting import Retrofitter\n",
    "    import utils\n",
    "\n",
    "\n",
    "    def get_wordnet_edges():\n",
    "        edges = defaultdict(set)\n",
    "        for ss in wn.all_synsets():\n",
    "            lem_names = {lem.name() for lem in ss.lemmas()}\n",
    "            for lem in lem_names:\n",
    "                edges[lem] |= lem_names\n",
    "        return edges\n",
    "\n",
    "    def convert_edges_to_indices(edges, Q):\n",
    "        lookup = dict(zip(Q.index, range(Q.shape[0])))\n",
    "        index_edges = defaultdict(set)\n",
    "        for start, finish_nodes in edges.items():\n",
    "            s = lookup.get(start)\n",
    "            if s:\n",
    "                f = {lookup[n] for n in finish_nodes if n in lookup}\n",
    "                if f:\n",
    "                    index_edges[s] = f\n",
    "        return index_edges\n",
    "\n",
    "    from torch_autoencoder_mmd_info import TorchAutoencoderMMDIG\n",
    "    model = TorchAutoencoderMMDIG()\n",
    "    \n",
    "    \n",
    "    \n",
    "    dataset_filename = \"giga_window20-flat.csv.gz\"\n",
    "    k_dims = 100\n",
    "    test_word = \"finance\"\n",
    "    use_subword_enrichment = True\n",
    "    \n",
    "    dataset = pd.read_csv(\n",
    "        os.path.join(VSM_HOME, dataset_filename), index_col=0)\n",
    "    np_arr = dataset.to_numpy()\n",
    "    print(len(np_arr))\n",
    "    neighbours_raw = vsm.neighbors(test_word, dataset).head()\n",
    "    print(\"neighbours_raw\")\n",
    "    print(neighbours_raw)\n",
    "    \n",
    " \n",
    "    dataset_ppmi = vsm.pmi(dataset, positive=True)\n",
    "    #dataset_ppmi = vsm.pmi(enriched_model, positive=True)\n",
    "    neighbours_ppmi = vsm.neighbors(test_word, dataset_ppmi).head()\n",
    "    print(\"neighbours_ppmi\")\n",
    "    print(neighbours_ppmi)\n",
    "    \n",
    "    \n",
    "    dataset_ppmi_lsa_k = vsm.lsa(dataset_ppmi, k=k_dims)\n",
    "    neighbours_ppmi_lsa_k = vsm.neighbors(test_word, dataset_ppmi_lsa_k).head()\n",
    "    print(\"neighbours_ppmi_lsa_k\")\n",
    "    print(neighbours_ppmi_lsa_k)\n",
    "    enriched_neighbours_ppmi_lsa_k = dataset_ppmi_lsa_k\n",
    "    if use_subword_enrichment:\n",
    "        enriched_model = subword_enrichment(dataset_ppmi_lsa_k, n=4)\n",
    "        w1 = 1\n",
    "        w2 = 0.01\n",
    "        w = w1+w2\n",
    "        enriched_neighbours_ppmi_lsa_k = (w1*dataset_ppmi_lsa_k.to_numpy() + w2*enriched_model.to_numpy())/(w)\n",
    "        enriched_neighbours_ppmi_lsa_k = pd.DataFrame(enriched_neighbours_ppmi_lsa_k, index=dataset.index)\n",
    "        neighbours_enriched = vsm.neighbors(test_word, enriched_neighbours_ppmi_lsa_k).head()\n",
    "        print(\"neighbours_enriched\")\n",
    "        print(neighbours_enriched)\n",
    "        from torch_autoencoder_mmd_info import TorchAutoencoderMMDIG\n",
    "        model = TorchAutoencoderMMDIG()\n",
    "        df_train = pd.DataFrame(enriched_neighbours_ppmi_lsa_k, index=dataset.index)\n",
    "        enriched_neighbours_ppmi_lsa_k_ae = model.fit(df_train)\n",
    "        enriched_neighbours_ppmi_lsa_k_ae.to_pickle(\"enriched_neighbours_ppmi_lsa_k_ae\")\n",
    "        neighbours_enriched_ae = vsm.neighbors(test_word, enriched_neighbours_ppmi_lsa_k_ae).head()\n",
    "        print(\"neighbours_enriched\")\n",
    "        print(neighbours_enriched_ae)\n",
    "        #dataset_ppmi_lsa_k = enriched_neighbours_ppmi_lsa_k\n",
    "        \n",
    "    \n",
    "    wn_edges = get_wordnet_edges()\n",
    "    wn_index_edges = convert_edges_to_indices(wn_edges, enriched_neighbours_ppmi_lsa_k_ae)\n",
    "    wn_retro = Retrofitter(verbose=True)\n",
    "    X_retro = wn_retro.fit(enriched_neighbours_ppmi_lsa_k_ae, wn_index_edges)\n",
    "    #print(\"X_retro\")\n",
    "    #print(X_retro)\n",
    "    neighbours_retro = vsm.neighbors(test_word, X_retro).head()\n",
    "    print(\"neighbours_retro\")\n",
    "    print(neighbours_retro)\n",
    "    \n",
    "    #model.fit(neighbours_ppmi_lsa_k)\n",
    "    \n"
   ]
  },
  {
   "cell_type": "code",
   "execution_count": 47,
   "metadata": {},
   "outputs": [
    {
     "name": "stdout",
     "output_type": "stream",
     "text": [
      "recons tensor(12.1201, device='cuda:0', grad_fn=<MseLossBackward>)\n",
      "mmd_err tensor(0.0091, device='cuda:0', grad_fn=<SubBackward0>)\n",
      "epoch_error 12.129206657409668\n",
      "recons tensor(11.7807, device='cuda:0', grad_fn=<MseLossBackward>)\n",
      "mmd_err tensor(0.0089, device='cuda:0', grad_fn=<SubBackward0>)\n",
      "epoch_error 23.918808579444885\n",
      "recons tensor(11.4150, device='cuda:0', grad_fn=<MseLossBackward>)\n",
      "mmd_err tensor(0.0092, device='cuda:0', grad_fn=<SubBackward0>)\n",
      "epoch_error 35.34300649166107\n",
      "recons tensor(10.9463, device='cuda:0', grad_fn=<MseLossBackward>)\n",
      "mmd_err tensor(0.0105, device='cuda:0', grad_fn=<SubBackward0>)\n",
      "epoch_error 46.299816608428955\n",
      "recons tensor(10.5697, device='cuda:0', grad_fn=<MseLossBackward>)\n",
      "mmd_err tensor(0.0122, device='cuda:0', grad_fn=<SubBackward0>)\n",
      "epoch_error 56.881749629974365\n"
     ]
    },
    {
     "name": "stderr",
     "output_type": "stream",
     "text": [
      "\r",
      "Finished epoch 1 of 100; error is 10.58193302154541"
     ]
    },
    {
     "name": "stdout",
     "output_type": "stream",
     "text": [
      "recons tensor(10.2517, device='cuda:0', grad_fn=<MseLossBackward>)\n",
      "mmd_err tensor(0.0134, device='cuda:0', grad_fn=<SubBackward0>)\n",
      "epoch_error 10.265105128288269\n",
      "recons tensor(9.9949, device='cuda:0', grad_fn=<MseLossBackward>)\n",
      "mmd_err tensor(0.0144, device='cuda:0', grad_fn=<SubBackward0>)\n",
      "epoch_error 20.27440059185028\n",
      "recons tensor(9.6906, device='cuda:0', grad_fn=<MseLossBackward>)\n",
      "mmd_err tensor(0.0158, device='cuda:0', grad_fn=<SubBackward0>)\n",
      "epoch_error 29.980785965919495\n",
      "recons tensor(9.4602, device='cuda:0', grad_fn=<MseLossBackward>)\n",
      "mmd_err tensor(0.0163, device='cuda:0', grad_fn=<SubBackward0>)\n",
      "epoch_error 39.457321643829346\n",
      "recons tensor(9.7280, device='cuda:0', grad_fn=<MseLossBackward>)\n",
      "mmd_err tensor(0.0173, device='cuda:0', grad_fn=<SubBackward0>)\n",
      "epoch_error 49.202592253685\n"
     ]
    },
    {
     "name": "stderr",
     "output_type": "stream",
     "text": [
      "\r",
      "Finished epoch 2 of 100; error is 9.745270729064941"
     ]
    },
    {
     "name": "stdout",
     "output_type": "stream",
     "text": [
      "recons tensor(9.1287, device='cuda:0', grad_fn=<MseLossBackward>)\n",
      "mmd_err tensor(0.0175, device='cuda:0', grad_fn=<SubBackward0>)\n",
      "epoch_error 9.146275401115417\n",
      "recons tensor(9.2568, device='cuda:0', grad_fn=<MseLossBackward>)\n",
      "mmd_err tensor(0.0177, device='cuda:0', grad_fn=<SubBackward0>)\n",
      "epoch_error 18.420770287513733\n",
      "recons tensor(8.8318, device='cuda:0', grad_fn=<MseLossBackward>)\n",
      "mmd_err tensor(0.0187, device='cuda:0', grad_fn=<SubBackward0>)\n",
      "epoch_error 27.27120268344879\n",
      "recons tensor(8.7020, device='cuda:0', grad_fn=<MseLossBackward>)\n",
      "mmd_err tensor(0.0188, device='cuda:0', grad_fn=<SubBackward0>)\n",
      "epoch_error 35.99198365211487\n",
      "recons tensor(8.0707, device='cuda:0', grad_fn=<MseLossBackward>)\n",
      "mmd_err tensor(0.0189, device='cuda:0', grad_fn=<SubBackward0>)\n",
      "epoch_error 44.0815110206604\n"
     ]
    },
    {
     "name": "stderr",
     "output_type": "stream",
     "text": [
      "\r",
      "Finished epoch 3 of 100; error is 8.089527130126953"
     ]
    },
    {
     "name": "stdout",
     "output_type": "stream",
     "text": [
      "recons tensor(8.2901, device='cuda:0', grad_fn=<MseLossBackward>)\n",
      "mmd_err tensor(0.0186, device='cuda:0', grad_fn=<SubBackward0>)\n",
      "epoch_error 8.308731436729431\n",
      "recons tensor(7.9879, device='cuda:0', grad_fn=<MseLossBackward>)\n",
      "mmd_err tensor(0.0188, device='cuda:0', grad_fn=<SubBackward0>)\n",
      "epoch_error 16.315454602241516\n",
      "recons tensor(8.1858, device='cuda:0', grad_fn=<MseLossBackward>)\n",
      "mmd_err tensor(0.0193, device='cuda:0', grad_fn=<SubBackward0>)\n",
      "epoch_error 24.52049708366394\n",
      "recons tensor(7.7249, device='cuda:0', grad_fn=<MseLossBackward>)\n",
      "mmd_err tensor(0.0189, device='cuda:0', grad_fn=<SubBackward0>)\n",
      "epoch_error 32.2643187046051\n",
      "recons tensor(7.8187, device='cuda:0', grad_fn=<MseLossBackward>)\n",
      "mmd_err tensor(0.0184, device='cuda:0', grad_fn=<SubBackward0>)\n",
      "epoch_error 40.10149872303009\n"
     ]
    },
    {
     "name": "stderr",
     "output_type": "stream",
     "text": [
      "\r",
      "Finished epoch 4 of 100; error is 7.837180137634277"
     ]
    },
    {
     "name": "stdout",
     "output_type": "stream",
     "text": [
      "recons tensor(7.9305, device='cuda:0', grad_fn=<MseLossBackward>)\n",
      "mmd_err tensor(0.0187, device='cuda:0', grad_fn=<SubBackward0>)\n",
      "epoch_error 7.949186444282532\n",
      "recons tensor(7.9499, device='cuda:0', grad_fn=<MseLossBackward>)\n",
      "mmd_err tensor(0.0192, device='cuda:0', grad_fn=<SubBackward0>)\n",
      "epoch_error 15.91826593875885\n",
      "recons tensor(6.9975, device='cuda:0', grad_fn=<MseLossBackward>)\n",
      "mmd_err tensor(0.0183, device='cuda:0', grad_fn=<SubBackward0>)\n",
      "epoch_error 22.934064984321594\n",
      "recons tensor(6.7491, device='cuda:0', grad_fn=<MseLossBackward>)\n",
      "mmd_err tensor(0.0175, device='cuda:0', grad_fn=<SubBackward0>)\n",
      "epoch_error 29.70058810710907\n",
      "recons tensor(6.8514, device='cuda:0', grad_fn=<MseLossBackward>)\n",
      "mmd_err tensor(0.0176, device='cuda:0', grad_fn=<SubBackward0>)\n",
      "epoch_error 36.56961810588837\n"
     ]
    },
    {
     "name": "stderr",
     "output_type": "stream",
     "text": [
      "\r",
      "Finished epoch 5 of 100; error is 6.869029998779297"
     ]
    },
    {
     "name": "stdout",
     "output_type": "stream",
     "text": [
      "recons tensor(6.7565, device='cuda:0', grad_fn=<MseLossBackward>)\n",
      "mmd_err tensor(0.0173, device='cuda:0', grad_fn=<SubBackward0>)\n",
      "epoch_error 6.7738529443740845\n",
      "recons tensor(6.5283, device='cuda:0', grad_fn=<MseLossBackward>)\n",
      "mmd_err tensor(0.0170, device='cuda:0', grad_fn=<SubBackward0>)\n",
      "epoch_error 13.319170951843262\n",
      "recons tensor(6.7308, device='cuda:0', grad_fn=<MseLossBackward>)\n",
      "mmd_err tensor(0.0170, device='cuda:0', grad_fn=<SubBackward0>)\n",
      "epoch_error 20.067039608955383\n",
      "recons tensor(6.7320, device='cuda:0', grad_fn=<MseLossBackward>)\n",
      "mmd_err tensor(0.0172, device='cuda:0', grad_fn=<SubBackward0>)\n",
      "epoch_error 26.816221475601196\n",
      "recons tensor(6.6526, device='cuda:0', grad_fn=<MseLossBackward>)\n",
      "mmd_err tensor(0.0159, device='cuda:0', grad_fn=<SubBackward0>)\n",
      "epoch_error 33.48472833633423\n"
     ]
    },
    {
     "name": "stderr",
     "output_type": "stream",
     "text": [
      "\r",
      "Finished epoch 6 of 100; error is 6.668506622314453"
     ]
    },
    {
     "name": "stdout",
     "output_type": "stream",
     "text": [
      "recons tensor(6.4595, device='cuda:0', grad_fn=<MseLossBackward>)\n",
      "mmd_err tensor(0.0160, device='cuda:0', grad_fn=<SubBackward0>)\n",
      "epoch_error 6.47554886341095\n",
      "recons tensor(6.2054, device='cuda:0', grad_fn=<MseLossBackward>)\n",
      "mmd_err tensor(0.0156, device='cuda:0', grad_fn=<SubBackward0>)\n",
      "epoch_error 12.696559071540833\n",
      "recons tensor(6.2058, device='cuda:0', grad_fn=<MseLossBackward>)\n",
      "mmd_err tensor(0.0161, device='cuda:0', grad_fn=<SubBackward0>)\n",
      "epoch_error 18.918469548225403\n",
      "recons tensor(5.7734, device='cuda:0', grad_fn=<MseLossBackward>)\n",
      "mmd_err tensor(0.0156, device='cuda:0', grad_fn=<SubBackward0>)\n",
      "epoch_error 24.70747172832489\n",
      "recons tensor(6.0202, device='cuda:0', grad_fn=<MseLossBackward>)\n",
      "mmd_err tensor(0.0156, device='cuda:0', grad_fn=<SubBackward0>)\n",
      "epoch_error 30.74330234527588\n"
     ]
    },
    {
     "name": "stderr",
     "output_type": "stream",
     "text": [
      "\r",
      "Finished epoch 7 of 100; error is 6.035830497741699"
     ]
    },
    {
     "name": "stdout",
     "output_type": "stream",
     "text": [
      "recons tensor(6.1685, device='cuda:0', grad_fn=<MseLossBackward>)\n",
      "mmd_err tensor(0.0154, device='cuda:0', grad_fn=<SubBackward0>)\n",
      "epoch_error 6.183877468109131\n",
      "recons tensor(5.6132, device='cuda:0', grad_fn=<MseLossBackward>)\n",
      "mmd_err tensor(0.0157, device='cuda:0', grad_fn=<SubBackward0>)\n",
      "epoch_error 11.81282091140747\n",
      "recons tensor(5.8469, device='cuda:0', grad_fn=<MseLossBackward>)\n",
      "mmd_err tensor(0.0149, device='cuda:0', grad_fn=<SubBackward0>)\n",
      "epoch_error 17.674681663513184\n",
      "recons tensor(5.3283, device='cuda:0', grad_fn=<MseLossBackward>)\n",
      "mmd_err tensor(0.0148, device='cuda:0', grad_fn=<SubBackward0>)\n",
      "epoch_error 23.017797231674194\n",
      "recons tensor(5.2567, device='cuda:0', grad_fn=<MseLossBackward>)\n",
      "mmd_err tensor(0.0155, device='cuda:0', grad_fn=<SubBackward0>)\n",
      "epoch_error 28.289968967437744\n"
     ]
    },
    {
     "name": "stderr",
     "output_type": "stream",
     "text": [
      "\r",
      "Finished epoch 8 of 100; error is 5.272171974182129"
     ]
    },
    {
     "name": "stdout",
     "output_type": "stream",
     "text": [
      "recons tensor(5.3670, device='cuda:0', grad_fn=<MseLossBackward>)\n",
      "mmd_err tensor(0.0150, device='cuda:0', grad_fn=<SubBackward0>)\n",
      "epoch_error 5.382023453712463\n",
      "recons tensor(5.1004, device='cuda:0', grad_fn=<MseLossBackward>)\n",
      "mmd_err tensor(0.0152, device='cuda:0', grad_fn=<SubBackward0>)\n",
      "epoch_error 10.497665643692017\n",
      "recons tensor(5.1992, device='cuda:0', grad_fn=<MseLossBackward>)\n",
      "mmd_err tensor(0.0148, device='cuda:0', grad_fn=<SubBackward0>)\n",
      "epoch_error 15.711648225784302\n",
      "recons tensor(5.0526, device='cuda:0', grad_fn=<MseLossBackward>)\n",
      "mmd_err tensor(0.0144, device='cuda:0', grad_fn=<SubBackward0>)\n",
      "epoch_error 20.77863371372223\n",
      "recons tensor(5.4441, device='cuda:0', grad_fn=<MseLossBackward>)\n",
      "mmd_err tensor(0.0146, device='cuda:0', grad_fn=<SubBackward0>)\n",
      "epoch_error 26.23727595806122\n"
     ]
    },
    {
     "name": "stderr",
     "output_type": "stream",
     "text": [
      "\r",
      "Finished epoch 9 of 100; error is 5.45864200592041"
     ]
    },
    {
     "name": "stdout",
     "output_type": "stream",
     "text": [
      "recons tensor(4.9291, device='cuda:0', grad_fn=<MseLossBackward>)\n",
      "mmd_err tensor(0.0142, device='cuda:0', grad_fn=<SubBackward0>)\n",
      "epoch_error 4.943256974220276\n",
      "recons tensor(5.0010, device='cuda:0', grad_fn=<MseLossBackward>)\n",
      "mmd_err tensor(0.0146, device='cuda:0', grad_fn=<SubBackward0>)\n",
      "epoch_error 9.958911657333374\n",
      "recons tensor(4.9092, device='cuda:0', grad_fn=<MseLossBackward>)\n",
      "mmd_err tensor(0.0143, device='cuda:0', grad_fn=<SubBackward0>)\n",
      "epoch_error 14.882440447807312\n",
      "recons tensor(4.5176, device='cuda:0', grad_fn=<MseLossBackward>)\n",
      "mmd_err tensor(0.0140, device='cuda:0', grad_fn=<SubBackward0>)\n",
      "epoch_error 19.414045333862305\n",
      "recons tensor(4.9608, device='cuda:0', grad_fn=<MseLossBackward>)\n",
      "mmd_err tensor(0.0143, device='cuda:0', grad_fn=<SubBackward0>)\n",
      "epoch_error 24.389180064201355\n"
     ]
    },
    {
     "name": "stderr",
     "output_type": "stream",
     "text": [
      "\r",
      "Finished epoch 10 of 100; error is 4.97513484954834"
     ]
    },
    {
     "name": "stdout",
     "output_type": "stream",
     "text": [
      "recons tensor(4.6491, device='cuda:0', grad_fn=<MseLossBackward>)\n",
      "mmd_err tensor(0.0140, device='cuda:0', grad_fn=<SubBackward0>)\n",
      "epoch_error 4.66313624382019\n",
      "recons tensor(4.6203, device='cuda:0', grad_fn=<MseLossBackward>)\n",
      "mmd_err tensor(0.0133, device='cuda:0', grad_fn=<SubBackward0>)\n",
      "epoch_error 9.296725749969482\n",
      "recons tensor(4.6024, device='cuda:0', grad_fn=<MseLossBackward>)\n",
      "mmd_err tensor(0.0136, device='cuda:0', grad_fn=<SubBackward0>)\n",
      "epoch_error 13.912628412246704\n",
      "recons tensor(4.4770, device='cuda:0', grad_fn=<MseLossBackward>)\n",
      "mmd_err tensor(0.0137, device='cuda:0', grad_fn=<SubBackward0>)\n",
      "epoch_error 18.40341591835022\n",
      "recons tensor(4.3212, device='cuda:0', grad_fn=<MseLossBackward>)\n",
      "mmd_err tensor(0.0134, device='cuda:0', grad_fn=<SubBackward0>)\n",
      "epoch_error 22.737946391105652\n"
     ]
    },
    {
     "name": "stderr",
     "output_type": "stream",
     "text": [
      "\r",
      "Finished epoch 11 of 100; error is 4.334530353546143"
     ]
    },
    {
     "name": "stdout",
     "output_type": "stream",
     "text": [
      "recons tensor(4.3402, device='cuda:0', grad_fn=<MseLossBackward>)\n",
      "mmd_err tensor(0.0129, device='cuda:0', grad_fn=<SubBackward0>)\n",
      "epoch_error 4.353114008903503\n",
      "recons tensor(4.2154, device='cuda:0', grad_fn=<MseLossBackward>)\n",
      "mmd_err tensor(0.0129, device='cuda:0', grad_fn=<SubBackward0>)\n",
      "epoch_error 8.581336736679077\n",
      "recons tensor(4.3958, device='cuda:0', grad_fn=<MseLossBackward>)\n",
      "mmd_err tensor(0.0131, device='cuda:0', grad_fn=<SubBackward0>)\n",
      "epoch_error 12.990278244018555\n",
      "recons tensor(4.2614, device='cuda:0', grad_fn=<MseLossBackward>)\n",
      "mmd_err tensor(0.0130, device='cuda:0', grad_fn=<SubBackward0>)\n",
      "epoch_error 17.26469600200653\n",
      "recons tensor(4.0608, device='cuda:0', grad_fn=<MseLossBackward>)\n",
      "mmd_err tensor(0.0121, device='cuda:0', grad_fn=<SubBackward0>)\n",
      "epoch_error 21.337589383125305\n"
     ]
    },
    {
     "name": "stderr",
     "output_type": "stream",
     "text": [
      "\r",
      "Finished epoch 12 of 100; error is 4.072893142700195"
     ]
    },
    {
     "name": "stdout",
     "output_type": "stream",
     "text": [
      "recons tensor(4.0920, device='cuda:0', grad_fn=<MseLossBackward>)\n",
      "mmd_err tensor(0.0131, device='cuda:0', grad_fn=<SubBackward0>)\n",
      "epoch_error 4.1050785779953\n",
      "recons tensor(4.1746, device='cuda:0', grad_fn=<MseLossBackward>)\n",
      "mmd_err tensor(0.0127, device='cuda:0', grad_fn=<SubBackward0>)\n",
      "epoch_error 8.292352437973022\n",
      "recons tensor(4.0328, device='cuda:0', grad_fn=<MseLossBackward>)\n",
      "mmd_err tensor(0.0122, device='cuda:0', grad_fn=<SubBackward0>)\n",
      "epoch_error 12.33732259273529\n",
      "recons tensor(3.9385, device='cuda:0', grad_fn=<MseLossBackward>)\n",
      "mmd_err tensor(0.0120, device='cuda:0', grad_fn=<SubBackward0>)\n",
      "epoch_error 16.287839770317078\n",
      "recons tensor(3.8004, device='cuda:0', grad_fn=<MseLossBackward>)\n",
      "mmd_err tensor(0.0125, device='cuda:0', grad_fn=<SubBackward0>)\n",
      "epoch_error 20.10075807571411\n"
     ]
    },
    {
     "name": "stderr",
     "output_type": "stream",
     "text": [
      "\r",
      "Finished epoch 13 of 100; error is 3.812918186187744"
     ]
    },
    {
     "name": "stdout",
     "output_type": "stream",
     "text": [
      "recons tensor(3.5567, device='cuda:0', grad_fn=<MseLossBackward>)\n",
      "mmd_err tensor(0.0117, device='cuda:0', grad_fn=<SubBackward0>)\n",
      "epoch_error 3.5684313774108887\n",
      "recons tensor(3.9639, device='cuda:0', grad_fn=<MseLossBackward>)\n",
      "mmd_err tensor(0.0121, device='cuda:0', grad_fn=<SubBackward0>)\n",
      "epoch_error 7.544511318206787\n",
      "recons tensor(3.8224, device='cuda:0', grad_fn=<MseLossBackward>)\n",
      "mmd_err tensor(0.0118, device='cuda:0', grad_fn=<SubBackward0>)\n",
      "epoch_error 11.37864887714386\n",
      "recons tensor(3.8022, device='cuda:0', grad_fn=<MseLossBackward>)\n",
      "mmd_err tensor(0.0122, device='cuda:0', grad_fn=<SubBackward0>)\n",
      "epoch_error 15.193052649497986\n",
      "recons tensor(3.8199, device='cuda:0', grad_fn=<MseLossBackward>)\n",
      "mmd_err tensor(0.0115, device='cuda:0', grad_fn=<SubBackward0>)\n",
      "epoch_error 19.024439454078674\n"
     ]
    },
    {
     "name": "stderr",
     "output_type": "stream",
     "text": [
      "\r",
      "Finished epoch 14 of 100; error is 3.8313868045806885"
     ]
    },
    {
     "name": "stdout",
     "output_type": "stream",
     "text": [
      "recons tensor(3.5108, device='cuda:0', grad_fn=<MseLossBackward>)\n",
      "mmd_err tensor(0.0113, device='cuda:0', grad_fn=<SubBackward0>)\n",
      "epoch_error 3.5221290588378906\n",
      "recons tensor(3.9348, device='cuda:0', grad_fn=<MseLossBackward>)\n",
      "mmd_err tensor(0.0114, device='cuda:0', grad_fn=<SubBackward0>)\n",
      "epoch_error 7.4682512283325195\n",
      "recons tensor(3.6697, device='cuda:0', grad_fn=<MseLossBackward>)\n",
      "mmd_err tensor(0.0112, device='cuda:0', grad_fn=<SubBackward0>)\n",
      "epoch_error 11.149181604385376\n",
      "recons tensor(3.5107, device='cuda:0', grad_fn=<MseLossBackward>)\n",
      "mmd_err tensor(0.0112, device='cuda:0', grad_fn=<SubBackward0>)\n",
      "epoch_error 14.67114007472992\n",
      "recons tensor(3.3233, device='cuda:0', grad_fn=<MseLossBackward>)\n",
      "mmd_err tensor(0.0109, device='cuda:0', grad_fn=<SubBackward0>)\n",
      "epoch_error 18.005322813987732\n"
     ]
    },
    {
     "name": "stderr",
     "output_type": "stream",
     "text": [
      "\r",
      "Finished epoch 15 of 100; error is 3.3341827392578125"
     ]
    },
    {
     "name": "stdout",
     "output_type": "stream",
     "text": [
      "recons tensor(3.1672, device='cuda:0', grad_fn=<MseLossBackward>)\n",
      "mmd_err tensor(0.0110, device='cuda:0', grad_fn=<SubBackward0>)\n",
      "epoch_error 3.178204298019409\n",
      "recons tensor(3.2966, device='cuda:0', grad_fn=<MseLossBackward>)\n",
      "mmd_err tensor(0.0108, device='cuda:0', grad_fn=<SubBackward0>)\n",
      "epoch_error 6.485631823539734\n",
      "recons tensor(3.6683, device='cuda:0', grad_fn=<MseLossBackward>)\n",
      "mmd_err tensor(0.0108, device='cuda:0', grad_fn=<SubBackward0>)\n",
      "epoch_error 10.164695382118225\n",
      "recons tensor(3.4372, device='cuda:0', grad_fn=<MseLossBackward>)\n",
      "mmd_err tensor(0.0108, device='cuda:0', grad_fn=<SubBackward0>)\n",
      "epoch_error 13.612719178199768\n",
      "recons tensor(3.5212, device='cuda:0', grad_fn=<MseLossBackward>)\n",
      "mmd_err tensor(0.0110, device='cuda:0', grad_fn=<SubBackward0>)\n",
      "epoch_error 17.144920706748962\n"
     ]
    },
    {
     "name": "stderr",
     "output_type": "stream",
     "text": [
      "\r",
      "Finished epoch 16 of 100; error is 3.5322015285491943"
     ]
    },
    {
     "name": "stdout",
     "output_type": "stream",
     "text": [
      "recons tensor(3.2940, device='cuda:0', grad_fn=<MseLossBackward>)\n",
      "mmd_err tensor(0.0108, device='cuda:0', grad_fn=<SubBackward0>)\n",
      "epoch_error 3.30485463142395\n",
      "recons tensor(3.3604, device='cuda:0', grad_fn=<MseLossBackward>)\n",
      "mmd_err tensor(0.0107, device='cuda:0', grad_fn=<SubBackward0>)\n",
      "epoch_error 6.675934195518494\n",
      "recons tensor(3.1819, device='cuda:0', grad_fn=<MseLossBackward>)\n",
      "mmd_err tensor(0.0099, device='cuda:0', grad_fn=<SubBackward0>)\n",
      "epoch_error 9.867738604545593\n",
      "recons tensor(3.2879, device='cuda:0', grad_fn=<MseLossBackward>)\n",
      "mmd_err tensor(0.0105, device='cuda:0', grad_fn=<SubBackward0>)\n",
      "epoch_error 13.16613245010376\n",
      "recons tensor(3.1208, device='cuda:0', grad_fn=<MseLossBackward>)\n",
      "mmd_err tensor(0.0100, device='cuda:0', grad_fn=<SubBackward0>)\n",
      "epoch_error 16.29697573184967\n"
     ]
    },
    {
     "name": "stderr",
     "output_type": "stream",
     "text": [
      "\r",
      "Finished epoch 17 of 100; error is 3.130843162536621"
     ]
    },
    {
     "name": "stdout",
     "output_type": "stream",
     "text": [
      "recons tensor(3.1191, device='cuda:0', grad_fn=<MseLossBackward>)\n",
      "mmd_err tensor(0.0103, device='cuda:0', grad_fn=<SubBackward0>)\n",
      "epoch_error 3.129414677619934\n",
      "recons tensor(2.9149, device='cuda:0', grad_fn=<MseLossBackward>)\n",
      "mmd_err tensor(0.0099, device='cuda:0', grad_fn=<SubBackward0>)\n",
      "epoch_error 6.0542250871658325\n",
      "recons tensor(3.1514, device='cuda:0', grad_fn=<MseLossBackward>)\n",
      "mmd_err tensor(0.0099, device='cuda:0', grad_fn=<SubBackward0>)\n",
      "epoch_error 9.215518951416016\n",
      "recons tensor(3.1547, device='cuda:0', grad_fn=<MseLossBackward>)\n",
      "mmd_err tensor(0.0100, device='cuda:0', grad_fn=<SubBackward0>)\n",
      "epoch_error 12.380204319953918\n",
      "recons tensor(3.1572, device='cuda:0', grad_fn=<MseLossBackward>)\n",
      "mmd_err tensor(0.0102, device='cuda:0', grad_fn=<SubBackward0>)\n",
      "epoch_error 15.547603964805603\n"
     ]
    },
    {
     "name": "stderr",
     "output_type": "stream",
     "text": [
      "\r",
      "Finished epoch 18 of 100; error is 3.1673996448516846"
     ]
    },
    {
     "name": "stdout",
     "output_type": "stream",
     "text": [
      "recons tensor(3.0000, device='cuda:0', grad_fn=<MseLossBackward>)\n",
      "mmd_err tensor(0.0094, device='cuda:0', grad_fn=<SubBackward0>)\n",
      "epoch_error 3.009370446205139\n",
      "recons tensor(2.8861, device='cuda:0', grad_fn=<MseLossBackward>)\n",
      "mmd_err tensor(0.0093, device='cuda:0', grad_fn=<SubBackward0>)\n",
      "epoch_error 5.904788374900818\n",
      "recons tensor(2.9564, device='cuda:0', grad_fn=<MseLossBackward>)\n",
      "mmd_err tensor(0.0099, device='cuda:0', grad_fn=<SubBackward0>)\n",
      "epoch_error 8.871070504188538\n",
      "recons tensor(3.1161, device='cuda:0', grad_fn=<MseLossBackward>)\n",
      "mmd_err tensor(0.0097, device='cuda:0', grad_fn=<SubBackward0>)\n",
      "epoch_error 11.99690306186676\n",
      "recons tensor(2.8045, device='cuda:0', grad_fn=<MseLossBackward>)\n",
      "mmd_err tensor(0.0095, device='cuda:0', grad_fn=<SubBackward0>)\n",
      "epoch_error 14.810922861099243\n"
     ]
    },
    {
     "name": "stderr",
     "output_type": "stream",
     "text": [
      "\r",
      "Finished epoch 19 of 100; error is 2.8140196800231934"
     ]
    },
    {
     "name": "stdout",
     "output_type": "stream",
     "text": [
      "recons tensor(2.8188, device='cuda:0', grad_fn=<MseLossBackward>)\n",
      "mmd_err tensor(0.0091, device='cuda:0', grad_fn=<SubBackward0>)\n",
      "epoch_error 2.8279753923416138\n",
      "recons tensor(2.7702, device='cuda:0', grad_fn=<MseLossBackward>)\n",
      "mmd_err tensor(0.0089, device='cuda:0', grad_fn=<SubBackward0>)\n",
      "epoch_error 5.607041001319885\n",
      "recons tensor(2.9658, device='cuda:0', grad_fn=<MseLossBackward>)\n",
      "mmd_err tensor(0.0093, device='cuda:0', grad_fn=<SubBackward0>)\n",
      "epoch_error 8.582192778587341\n",
      "recons tensor(2.8149, device='cuda:0', grad_fn=<MseLossBackward>)\n",
      "mmd_err tensor(0.0095, device='cuda:0', grad_fn=<SubBackward0>)\n",
      "epoch_error 11.406639695167542\n",
      "recons tensor(2.7429, device='cuda:0', grad_fn=<MseLossBackward>)\n",
      "mmd_err tensor(0.0089, device='cuda:0', grad_fn=<SubBackward0>)\n",
      "epoch_error 14.158484101295471\n"
     ]
    },
    {
     "name": "stderr",
     "output_type": "stream",
     "text": [
      "\r",
      "Finished epoch 20 of 100; error is 2.7518444061279297"
     ]
    },
    {
     "name": "stdout",
     "output_type": "stream",
     "text": [
      "recons tensor(2.7146, device='cuda:0', grad_fn=<MseLossBackward>)\n",
      "mmd_err tensor(0.0089, device='cuda:0', grad_fn=<SubBackward0>)\n",
      "epoch_error 2.723461866378784\n",
      "recons tensor(2.6258, device='cuda:0', grad_fn=<MseLossBackward>)\n",
      "mmd_err tensor(0.0086, device='cuda:0', grad_fn=<SubBackward0>)\n",
      "epoch_error 5.357900261878967\n",
      "recons tensor(2.7816, device='cuda:0', grad_fn=<MseLossBackward>)\n",
      "mmd_err tensor(0.0093, device='cuda:0', grad_fn=<SubBackward0>)\n",
      "epoch_error 8.148752570152283\n",
      "recons tensor(2.8347, device='cuda:0', grad_fn=<MseLossBackward>)\n",
      "mmd_err tensor(0.0091, device='cuda:0', grad_fn=<SubBackward0>)\n",
      "epoch_error 10.992633700370789\n",
      "recons tensor(2.5371, device='cuda:0', grad_fn=<MseLossBackward>)\n",
      "mmd_err tensor(0.0085, device='cuda:0', grad_fn=<SubBackward0>)\n",
      "epoch_error 13.538298845291138\n"
     ]
    },
    {
     "name": "stderr",
     "output_type": "stream",
     "text": [
      "\r",
      "Finished epoch 21 of 100; error is 2.5456652641296387"
     ]
    },
    {
     "name": "stdout",
     "output_type": "stream",
     "text": [
      "recons tensor(2.7231, device='cuda:0', grad_fn=<MseLossBackward>)\n",
      "mmd_err tensor(0.0090, device='cuda:0', grad_fn=<SubBackward0>)\n",
      "epoch_error 2.732128620147705\n",
      "recons tensor(2.6063, device='cuda:0', grad_fn=<MseLossBackward>)\n",
      "mmd_err tensor(0.0081, device='cuda:0', grad_fn=<SubBackward0>)\n",
      "epoch_error 5.346529126167297\n",
      "recons tensor(2.6240, device='cuda:0', grad_fn=<MseLossBackward>)\n",
      "mmd_err tensor(0.0089, device='cuda:0', grad_fn=<SubBackward0>)\n",
      "epoch_error 7.979405045509338\n",
      "recons tensor(2.5314, device='cuda:0', grad_fn=<MseLossBackward>)\n",
      "mmd_err tensor(0.0085, device='cuda:0', grad_fn=<SubBackward0>)\n",
      "epoch_error 10.519294619560242\n",
      "recons tensor(2.4570, device='cuda:0', grad_fn=<MseLossBackward>)\n",
      "mmd_err tensor(0.0085, device='cuda:0', grad_fn=<SubBackward0>)\n",
      "epoch_error 12.98483693599701\n"
     ]
    },
    {
     "name": "stderr",
     "output_type": "stream",
     "text": [
      "\r",
      "Finished epoch 22 of 100; error is 2.4655423164367676"
     ]
    },
    {
     "name": "stdout",
     "output_type": "stream",
     "text": [
      "recons tensor(2.5984, device='cuda:0', grad_fn=<MseLossBackward>)\n",
      "mmd_err tensor(0.0085, device='cuda:0', grad_fn=<SubBackward0>)\n",
      "epoch_error 2.6069072484970093\n",
      "recons tensor(2.4778, device='cuda:0', grad_fn=<MseLossBackward>)\n",
      "mmd_err tensor(0.0083, device='cuda:0', grad_fn=<SubBackward0>)\n",
      "epoch_error 5.093091011047363\n",
      "recons tensor(2.4059, device='cuda:0', grad_fn=<MseLossBackward>)\n",
      "mmd_err tensor(0.0083, device='cuda:0', grad_fn=<SubBackward0>)\n",
      "epoch_error 7.507304906845093\n",
      "recons tensor(2.4492, device='cuda:0', grad_fn=<MseLossBackward>)\n",
      "mmd_err tensor(0.0081, device='cuda:0', grad_fn=<SubBackward0>)\n",
      "epoch_error 9.964667558670044\n",
      "recons tensor(2.5197, device='cuda:0', grad_fn=<MseLossBackward>)\n",
      "mmd_err tensor(0.0081, device='cuda:0', grad_fn=<SubBackward0>)\n",
      "epoch_error 12.492474436759949\n"
     ]
    },
    {
     "name": "stderr",
     "output_type": "stream",
     "text": [
      "\r",
      "Finished epoch 23 of 100; error is 2.5278067588806152"
     ]
    },
    {
     "name": "stdout",
     "output_type": "stream",
     "text": [
      "recons tensor(2.3243, device='cuda:0', grad_fn=<MseLossBackward>)\n",
      "mmd_err tensor(0.0078, device='cuda:0', grad_fn=<SubBackward0>)\n",
      "epoch_error 2.332127332687378\n",
      "recons tensor(2.3970, device='cuda:0', grad_fn=<MseLossBackward>)\n",
      "mmd_err tensor(0.0082, device='cuda:0', grad_fn=<SubBackward0>)\n",
      "epoch_error 4.737329483032227\n",
      "recons tensor(2.4043, device='cuda:0', grad_fn=<MseLossBackward>)\n",
      "mmd_err tensor(0.0076, device='cuda:0', grad_fn=<SubBackward0>)\n",
      "epoch_error 7.149311542510986\n",
      "recons tensor(2.5396, device='cuda:0', grad_fn=<MseLossBackward>)\n",
      "mmd_err tensor(0.0079, device='cuda:0', grad_fn=<SubBackward0>)\n",
      "epoch_error 9.696775078773499\n",
      "recons tensor(2.3030, device='cuda:0', grad_fn=<MseLossBackward>)\n",
      "mmd_err tensor(0.0083, device='cuda:0', grad_fn=<SubBackward0>)\n",
      "epoch_error 12.007988691329956\n"
     ]
    },
    {
     "name": "stderr",
     "output_type": "stream",
     "text": [
      "\r",
      "Finished epoch 24 of 100; error is 2.311213493347168"
     ]
    },
    {
     "name": "stdout",
     "output_type": "stream",
     "text": [
      "recons tensor(2.2308, device='cuda:0', grad_fn=<MseLossBackward>)\n",
      "mmd_err tensor(0.0078, device='cuda:0', grad_fn=<SubBackward0>)\n",
      "epoch_error 2.2385427951812744\n",
      "recons tensor(2.2747, device='cuda:0', grad_fn=<MseLossBackward>)\n",
      "mmd_err tensor(0.0075, device='cuda:0', grad_fn=<SubBackward0>)\n",
      "epoch_error 4.520782828330994\n",
      "recons tensor(2.3277, device='cuda:0', grad_fn=<MseLossBackward>)\n",
      "mmd_err tensor(0.0075, device='cuda:0', grad_fn=<SubBackward0>)\n",
      "epoch_error 6.855996012687683\n",
      "recons tensor(2.4050, device='cuda:0', grad_fn=<MseLossBackward>)\n",
      "mmd_err tensor(0.0082, device='cuda:0', grad_fn=<SubBackward0>)\n",
      "epoch_error 9.269183874130249\n",
      "recons tensor(2.3157, device='cuda:0', grad_fn=<MseLossBackward>)\n",
      "mmd_err tensor(0.0078, device='cuda:0', grad_fn=<SubBackward0>)\n",
      "epoch_error 11.592658758163452\n"
     ]
    },
    {
     "name": "stderr",
     "output_type": "stream",
     "text": [
      "\r",
      "Finished epoch 25 of 100; error is 2.323474884033203"
     ]
    },
    {
     "name": "stdout",
     "output_type": "stream",
     "text": [
      "recons tensor(2.1787, device='cuda:0', grad_fn=<MseLossBackward>)\n",
      "mmd_err tensor(0.0074, device='cuda:0', grad_fn=<SubBackward0>)\n",
      "epoch_error 2.1861109733581543\n",
      "recons tensor(2.2247, device='cuda:0', grad_fn=<MseLossBackward>)\n",
      "mmd_err tensor(0.0073, device='cuda:0', grad_fn=<SubBackward0>)\n",
      "epoch_error 4.418128848075867\n",
      "recons tensor(2.1215, device='cuda:0', grad_fn=<MseLossBackward>)\n",
      "mmd_err tensor(0.0076, device='cuda:0', grad_fn=<SubBackward0>)\n",
      "epoch_error 6.547265410423279\n",
      "recons tensor(2.2652, device='cuda:0', grad_fn=<MseLossBackward>)\n",
      "mmd_err tensor(0.0073, device='cuda:0', grad_fn=<SubBackward0>)\n",
      "epoch_error 8.819681286811829\n",
      "recons tensor(2.4017, device='cuda:0', grad_fn=<MseLossBackward>)\n",
      "mmd_err tensor(0.0079, device='cuda:0', grad_fn=<SubBackward0>)\n",
      "epoch_error 11.229352235794067\n"
     ]
    },
    {
     "name": "stderr",
     "output_type": "stream",
     "text": [
      "\r",
      "Finished epoch 26 of 100; error is 2.409670829772949"
     ]
    },
    {
     "name": "stdout",
     "output_type": "stream",
     "text": [
      "recons tensor(2.2067, device='cuda:0', grad_fn=<MseLossBackward>)\n",
      "mmd_err tensor(0.0072, device='cuda:0', grad_fn=<SubBackward0>)\n",
      "epoch_error 2.213863730430603\n",
      "recons tensor(2.2213, device='cuda:0', grad_fn=<MseLossBackward>)\n",
      "mmd_err tensor(0.0073, device='cuda:0', grad_fn=<SubBackward0>)\n",
      "epoch_error 4.442490577697754\n",
      "recons tensor(2.0917, device='cuda:0', grad_fn=<MseLossBackward>)\n",
      "mmd_err tensor(0.0073, device='cuda:0', grad_fn=<SubBackward0>)\n",
      "epoch_error 6.5414769649505615\n",
      "recons tensor(2.1735, device='cuda:0', grad_fn=<MseLossBackward>)\n",
      "mmd_err tensor(0.0074, device='cuda:0', grad_fn=<SubBackward0>)\n",
      "epoch_error 8.722350478172302\n",
      "recons tensor(2.1205, device='cuda:0', grad_fn=<MseLossBackward>)\n",
      "mmd_err tensor(0.0070, device='cuda:0', grad_fn=<SubBackward0>)\n",
      "epoch_error 10.849902391433716\n"
     ]
    },
    {
     "name": "stderr",
     "output_type": "stream",
     "text": [
      "\r",
      "Finished epoch 27 of 100; error is 2.127552032470703"
     ]
    },
    {
     "name": "stdout",
     "output_type": "stream",
     "text": [
      "recons tensor(2.2333, device='cuda:0', grad_fn=<MseLossBackward>)\n",
      "mmd_err tensor(0.0077, device='cuda:0', grad_fn=<SubBackward0>)\n",
      "epoch_error 2.2409974336624146\n",
      "recons tensor(2.1096, device='cuda:0', grad_fn=<MseLossBackward>)\n",
      "mmd_err tensor(0.0072, device='cuda:0', grad_fn=<SubBackward0>)\n",
      "epoch_error 4.357799172401428\n",
      "recons tensor(2.1164, device='cuda:0', grad_fn=<MseLossBackward>)\n",
      "mmd_err tensor(0.0072, device='cuda:0', grad_fn=<SubBackward0>)\n",
      "epoch_error 6.481324195861816\n",
      "recons tensor(2.0233, device='cuda:0', grad_fn=<MseLossBackward>)\n",
      "mmd_err tensor(0.0066, device='cuda:0', grad_fn=<SubBackward0>)\n",
      "epoch_error 8.511172890663147\n",
      "recons tensor(1.9982, device='cuda:0', grad_fn=<MseLossBackward>)\n",
      "mmd_err tensor(0.0073, device='cuda:0', grad_fn=<SubBackward0>)\n",
      "epoch_error 10.516620755195618\n"
     ]
    },
    {
     "name": "stderr",
     "output_type": "stream",
     "text": [
      "\r",
      "Finished epoch 28 of 100; error is 2.0054478645324707"
     ]
    },
    {
     "name": "stdout",
     "output_type": "stream",
     "text": [
      "recons tensor(2.0837, device='cuda:0', grad_fn=<MseLossBackward>)\n",
      "mmd_err tensor(0.0069, device='cuda:0', grad_fn=<SubBackward0>)\n",
      "epoch_error 2.090654492378235\n",
      "recons tensor(2.0662, device='cuda:0', grad_fn=<MseLossBackward>)\n",
      "mmd_err tensor(0.0069, device='cuda:0', grad_fn=<SubBackward0>)\n",
      "epoch_error 4.163835883140564\n",
      "recons tensor(2.0547, device='cuda:0', grad_fn=<MseLossBackward>)\n",
      "mmd_err tensor(0.0069, device='cuda:0', grad_fn=<SubBackward0>)\n",
      "epoch_error 6.225481986999512\n",
      "recons tensor(2.0019, device='cuda:0', grad_fn=<MseLossBackward>)\n",
      "mmd_err tensor(0.0071, device='cuda:0', grad_fn=<SubBackward0>)\n",
      "epoch_error 8.234547019004822\n",
      "recons tensor(1.9896, device='cuda:0', grad_fn=<MseLossBackward>)\n",
      "mmd_err tensor(0.0073, device='cuda:0', grad_fn=<SubBackward0>)\n",
      "epoch_error 10.231422901153564\n"
     ]
    },
    {
     "name": "stderr",
     "output_type": "stream",
     "text": [
      "\r",
      "Finished epoch 29 of 100; error is 1.9968758821487427"
     ]
    },
    {
     "name": "stdout",
     "output_type": "stream",
     "text": [
      "recons tensor(1.9854, device='cuda:0', grad_fn=<MseLossBackward>)\n",
      "mmd_err tensor(0.0069, device='cuda:0', grad_fn=<SubBackward0>)\n",
      "epoch_error 1.9923131465911865\n",
      "recons tensor(2.0149, device='cuda:0', grad_fn=<MseLossBackward>)\n",
      "mmd_err tensor(0.0065, device='cuda:0', grad_fn=<SubBackward0>)\n",
      "epoch_error 4.013653874397278\n",
      "recons tensor(1.9270, device='cuda:0', grad_fn=<MseLossBackward>)\n",
      "mmd_err tensor(0.0067, device='cuda:0', grad_fn=<SubBackward0>)\n",
      "epoch_error 5.947428107261658\n",
      "recons tensor(1.9469, device='cuda:0', grad_fn=<MseLossBackward>)\n",
      "mmd_err tensor(0.0068, device='cuda:0', grad_fn=<SubBackward0>)\n",
      "epoch_error 7.901036024093628\n",
      "recons tensor(2.0573, device='cuda:0', grad_fn=<MseLossBackward>)\n",
      "mmd_err tensor(0.0068, device='cuda:0', grad_fn=<SubBackward0>)\n",
      "epoch_error 9.96513545513153\n"
     ]
    },
    {
     "name": "stderr",
     "output_type": "stream",
     "text": [
      "\r",
      "Finished epoch 30 of 100; error is 2.0640993118286133"
     ]
    },
    {
     "name": "stdout",
     "output_type": "stream",
     "text": [
      "recons tensor(1.9154, device='cuda:0', grad_fn=<MseLossBackward>)\n",
      "mmd_err tensor(0.0066, device='cuda:0', grad_fn=<SubBackward0>)\n",
      "epoch_error 1.9220657348632812\n",
      "recons tensor(1.9186, device='cuda:0', grad_fn=<MseLossBackward>)\n",
      "mmd_err tensor(0.0067, device='cuda:0', grad_fn=<SubBackward0>)\n",
      "epoch_error 3.8473154306411743\n",
      "recons tensor(2.0449, device='cuda:0', grad_fn=<MseLossBackward>)\n",
      "mmd_err tensor(0.0071, device='cuda:0', grad_fn=<SubBackward0>)\n",
      "epoch_error 5.899258971214294\n",
      "recons tensor(1.9126, device='cuda:0', grad_fn=<MseLossBackward>)\n",
      "mmd_err tensor(0.0062, device='cuda:0', grad_fn=<SubBackward0>)\n",
      "epoch_error 7.818120360374451\n",
      "recons tensor(1.8675, device='cuda:0', grad_fn=<MseLossBackward>)\n",
      "mmd_err tensor(0.0066, device='cuda:0', grad_fn=<SubBackward0>)\n",
      "epoch_error 9.692204475402832\n"
     ]
    },
    {
     "name": "stderr",
     "output_type": "stream",
     "text": [
      "\r",
      "Finished epoch 31 of 100; error is 1.8740841150283813"
     ]
    },
    {
     "name": "stdout",
     "output_type": "stream",
     "text": [
      "recons tensor(1.8030, device='cuda:0', grad_fn=<MseLossBackward>)\n",
      "mmd_err tensor(0.0068, device='cuda:0', grad_fn=<SubBackward0>)\n",
      "epoch_error 1.8098567724227905\n",
      "recons tensor(1.9260, device='cuda:0', grad_fn=<MseLossBackward>)\n",
      "mmd_err tensor(0.0069, device='cuda:0', grad_fn=<SubBackward0>)\n",
      "epoch_error 3.7428120374679565\n",
      "recons tensor(1.8406, device='cuda:0', grad_fn=<MseLossBackward>)\n",
      "mmd_err tensor(0.0064, device='cuda:0', grad_fn=<SubBackward0>)\n",
      "epoch_error 5.589772582054138\n",
      "recons tensor(1.9137, device='cuda:0', grad_fn=<MseLossBackward>)\n",
      "mmd_err tensor(0.0062, device='cuda:0', grad_fn=<SubBackward0>)\n",
      "epoch_error 7.509637713432312\n",
      "recons tensor(1.9551, device='cuda:0', grad_fn=<MseLossBackward>)\n",
      "mmd_err tensor(0.0065, device='cuda:0', grad_fn=<SubBackward0>)\n",
      "epoch_error 9.471281886100769\n"
     ]
    },
    {
     "name": "stderr",
     "output_type": "stream",
     "text": [
      "\r",
      "Finished epoch 32 of 100; error is 1.961644172668457"
     ]
    },
    {
     "name": "stdout",
     "output_type": "stream",
     "text": [
      "recons tensor(1.8133, device='cuda:0', grad_fn=<MseLossBackward>)\n",
      "mmd_err tensor(0.0062, device='cuda:0', grad_fn=<SubBackward0>)\n",
      "epoch_error 1.8194763660430908\n",
      "recons tensor(1.8335, device='cuda:0', grad_fn=<MseLossBackward>)\n",
      "mmd_err tensor(0.0063, device='cuda:0', grad_fn=<SubBackward0>)\n",
      "epoch_error 3.6592483520507812\n",
      "recons tensor(1.9556, device='cuda:0', grad_fn=<MseLossBackward>)\n",
      "mmd_err tensor(0.0067, device='cuda:0', grad_fn=<SubBackward0>)\n",
      "epoch_error 5.621495842933655\n",
      "recons tensor(1.7374, device='cuda:0', grad_fn=<MseLossBackward>)\n",
      "mmd_err tensor(0.0061, device='cuda:0', grad_fn=<SubBackward0>)\n",
      "epoch_error 7.3649208545684814\n",
      "recons tensor(1.8870, device='cuda:0', grad_fn=<MseLossBackward>)\n",
      "mmd_err tensor(0.0062, device='cuda:0', grad_fn=<SubBackward0>)\n",
      "epoch_error 9.25809931755066\n"
     ]
    },
    {
     "name": "stderr",
     "output_type": "stream",
     "text": [
      "\r",
      "Finished epoch 33 of 100; error is 1.8931784629821777"
     ]
    },
    {
     "name": "stdout",
     "output_type": "stream",
     "text": [
      "recons tensor(1.7609, device='cuda:0', grad_fn=<MseLossBackward>)\n",
      "mmd_err tensor(0.0060, device='cuda:0', grad_fn=<SubBackward0>)\n",
      "epoch_error 1.7668958902359009\n",
      "recons tensor(1.8125, device='cuda:0', grad_fn=<MseLossBackward>)\n",
      "mmd_err tensor(0.0060, device='cuda:0', grad_fn=<SubBackward0>)\n",
      "epoch_error 3.585399627685547\n",
      "recons tensor(1.7967, device='cuda:0', grad_fn=<MseLossBackward>)\n",
      "mmd_err tensor(0.0066, device='cuda:0', grad_fn=<SubBackward0>)\n",
      "epoch_error 5.388611435890198\n",
      "recons tensor(1.8264, device='cuda:0', grad_fn=<MseLossBackward>)\n",
      "mmd_err tensor(0.0060, device='cuda:0', grad_fn=<SubBackward0>)\n",
      "epoch_error 7.220964789390564\n",
      "recons tensor(1.8374, device='cuda:0', grad_fn=<MseLossBackward>)\n",
      "mmd_err tensor(0.0065, device='cuda:0', grad_fn=<SubBackward0>)\n",
      "epoch_error 9.064929246902466\n"
     ]
    },
    {
     "name": "stderr",
     "output_type": "stream",
     "text": [
      "\r",
      "Finished epoch 34 of 100; error is 1.8439644575119019"
     ]
    },
    {
     "name": "stdout",
     "output_type": "stream",
     "text": [
      "recons tensor(1.7068, device='cuda:0', grad_fn=<MseLossBackward>)\n",
      "mmd_err tensor(0.0061, device='cuda:0', grad_fn=<SubBackward0>)\n",
      "epoch_error 1.7129645347595215\n",
      "recons tensor(1.8348, device='cuda:0', grad_fn=<MseLossBackward>)\n",
      "mmd_err tensor(0.0061, device='cuda:0', grad_fn=<SubBackward0>)\n",
      "epoch_error 3.5538402795791626\n",
      "recons tensor(1.7884, device='cuda:0', grad_fn=<MseLossBackward>)\n",
      "mmd_err tensor(0.0065, device='cuda:0', grad_fn=<SubBackward0>)\n",
      "epoch_error 5.348675727844238\n",
      "recons tensor(1.7493, device='cuda:0', grad_fn=<MseLossBackward>)\n",
      "mmd_err tensor(0.0058, device='cuda:0', grad_fn=<SubBackward0>)\n",
      "epoch_error 7.103711485862732\n",
      "recons tensor(1.7567, device='cuda:0', grad_fn=<MseLossBackward>)\n",
      "mmd_err tensor(0.0060, device='cuda:0', grad_fn=<SubBackward0>)\n",
      "epoch_error 8.866365432739258\n"
     ]
    },
    {
     "name": "stderr",
     "output_type": "stream",
     "text": [
      "\r",
      "Finished epoch 35 of 100; error is 1.7626539468765259"
     ]
    },
    {
     "name": "stdout",
     "output_type": "stream",
     "text": [
      "recons tensor(1.7404, device='cuda:0', grad_fn=<MseLossBackward>)\n",
      "mmd_err tensor(0.0060, device='cuda:0', grad_fn=<SubBackward0>)\n",
      "epoch_error 1.7464567422866821\n",
      "recons tensor(1.7090, device='cuda:0', grad_fn=<MseLossBackward>)\n",
      "mmd_err tensor(0.0061, device='cuda:0', grad_fn=<SubBackward0>)\n",
      "epoch_error 3.46159029006958\n",
      "recons tensor(1.6856, device='cuda:0', grad_fn=<MseLossBackward>)\n",
      "mmd_err tensor(0.0056, device='cuda:0', grad_fn=<SubBackward0>)\n",
      "epoch_error 5.152831196784973\n",
      "recons tensor(1.8025, device='cuda:0', grad_fn=<MseLossBackward>)\n",
      "mmd_err tensor(0.0065, device='cuda:0', grad_fn=<SubBackward0>)\n",
      "epoch_error 6.961852431297302\n",
      "recons tensor(1.7343, device='cuda:0', grad_fn=<MseLossBackward>)\n",
      "mmd_err tensor(0.0059, device='cuda:0', grad_fn=<SubBackward0>)\n",
      "epoch_error 8.702118039131165\n"
     ]
    },
    {
     "name": "stderr",
     "output_type": "stream",
     "text": [
      "\r",
      "Finished epoch 36 of 100; error is 1.7402656078338623"
     ]
    },
    {
     "name": "stdout",
     "output_type": "stream",
     "text": [
      "recons tensor(1.8160, device='cuda:0', grad_fn=<MseLossBackward>)\n",
      "mmd_err tensor(0.0062, device='cuda:0', grad_fn=<SubBackward0>)\n",
      "epoch_error 1.8222274780273438\n",
      "recons tensor(1.7078, device='cuda:0', grad_fn=<MseLossBackward>)\n",
      "mmd_err tensor(0.0060, device='cuda:0', grad_fn=<SubBackward0>)\n",
      "epoch_error 3.5359768867492676\n",
      "recons tensor(1.6420, device='cuda:0', grad_fn=<MseLossBackward>)\n",
      "mmd_err tensor(0.0059, device='cuda:0', grad_fn=<SubBackward0>)\n",
      "epoch_error 5.183826208114624\n",
      "recons tensor(1.6094, device='cuda:0', grad_fn=<MseLossBackward>)\n",
      "mmd_err tensor(0.0060, device='cuda:0', grad_fn=<SubBackward0>)\n",
      "epoch_error 6.7992424964904785\n",
      "recons tensor(1.7475, device='cuda:0', grad_fn=<MseLossBackward>)\n",
      "mmd_err tensor(0.0058, device='cuda:0', grad_fn=<SubBackward0>)\n",
      "epoch_error 8.552552103996277\n"
     ]
    },
    {
     "name": "stderr",
     "output_type": "stream",
     "text": [
      "\r",
      "Finished epoch 37 of 100; error is 1.7533096075057983"
     ]
    },
    {
     "name": "stdout",
     "output_type": "stream",
     "text": [
      "recons tensor(1.6740, device='cuda:0', grad_fn=<MseLossBackward>)\n",
      "mmd_err tensor(0.0060, device='cuda:0', grad_fn=<SubBackward0>)\n",
      "epoch_error 1.6799943447113037\n",
      "recons tensor(1.6947, device='cuda:0', grad_fn=<MseLossBackward>)\n",
      "mmd_err tensor(0.0058, device='cuda:0', grad_fn=<SubBackward0>)\n",
      "epoch_error 3.380511522293091\n",
      "recons tensor(1.6875, device='cuda:0', grad_fn=<MseLossBackward>)\n",
      "mmd_err tensor(0.0058, device='cuda:0', grad_fn=<SubBackward0>)\n",
      "epoch_error 5.0737773180007935\n",
      "recons tensor(1.6620, device='cuda:0', grad_fn=<MseLossBackward>)\n",
      "mmd_err tensor(0.0059, device='cuda:0', grad_fn=<SubBackward0>)\n",
      "epoch_error 6.741693735122681\n",
      "recons tensor(1.6639, device='cuda:0', grad_fn=<MseLossBackward>)\n",
      "mmd_err tensor(0.0053, device='cuda:0', grad_fn=<SubBackward0>)\n",
      "epoch_error 8.410926103591919\n"
     ]
    },
    {
     "name": "stderr",
     "output_type": "stream",
     "text": [
      "\r",
      "Finished epoch 38 of 100; error is 1.6692323684692383"
     ]
    },
    {
     "name": "stdout",
     "output_type": "stream",
     "text": [
      "recons tensor(1.7248, device='cuda:0', grad_fn=<MseLossBackward>)\n",
      "mmd_err tensor(0.0063, device='cuda:0', grad_fn=<SubBackward0>)\n",
      "epoch_error 1.731136679649353\n",
      "recons tensor(1.6657, device='cuda:0', grad_fn=<MseLossBackward>)\n",
      "mmd_err tensor(0.0055, device='cuda:0', grad_fn=<SubBackward0>)\n",
      "epoch_error 3.402340531349182\n",
      "recons tensor(1.6168, device='cuda:0', grad_fn=<MseLossBackward>)\n",
      "mmd_err tensor(0.0056, device='cuda:0', grad_fn=<SubBackward0>)\n",
      "epoch_error 5.024728178977966\n",
      "recons tensor(1.6738, device='cuda:0', grad_fn=<MseLossBackward>)\n",
      "mmd_err tensor(0.0057, device='cuda:0', grad_fn=<SubBackward0>)\n",
      "epoch_error 6.704269766807556\n",
      "recons tensor(1.5671, device='cuda:0', grad_fn=<MseLossBackward>)\n",
      "mmd_err tensor(0.0050, device='cuda:0', grad_fn=<SubBackward0>)\n",
      "epoch_error 8.276409268379211\n"
     ]
    },
    {
     "name": "stderr",
     "output_type": "stream",
     "text": [
      "\r",
      "Finished epoch 39 of 100; error is 1.5721395015716553"
     ]
    },
    {
     "name": "stdout",
     "output_type": "stream",
     "text": [
      "recons tensor(1.5824, device='cuda:0', grad_fn=<MseLossBackward>)\n",
      "mmd_err tensor(0.0057, device='cuda:0', grad_fn=<SubBackward0>)\n",
      "epoch_error 1.5880844593048096\n",
      "recons tensor(1.6505, device='cuda:0', grad_fn=<MseLossBackward>)\n",
      "mmd_err tensor(0.0057, device='cuda:0', grad_fn=<SubBackward0>)\n",
      "epoch_error 3.244289517402649\n",
      "recons tensor(1.6216, device='cuda:0', grad_fn=<MseLossBackward>)\n",
      "mmd_err tensor(0.0056, device='cuda:0', grad_fn=<SubBackward0>)\n",
      "epoch_error 4.8714635372161865\n",
      "recons tensor(1.6635, device='cuda:0', grad_fn=<MseLossBackward>)\n",
      "mmd_err tensor(0.0059, device='cuda:0', grad_fn=<SubBackward0>)\n",
      "epoch_error 6.540917873382568\n",
      "recons tensor(1.6016, device='cuda:0', grad_fn=<MseLossBackward>)\n",
      "mmd_err tensor(0.0056, device='cuda:0', grad_fn=<SubBackward0>)\n",
      "epoch_error 8.148177027702332\n"
     ]
    },
    {
     "name": "stderr",
     "output_type": "stream",
     "text": [
      "\r",
      "Finished epoch 40 of 100; error is 1.6072591543197632"
     ]
    },
    {
     "name": "stdout",
     "output_type": "stream",
     "text": [
      "recons tensor(1.6638, device='cuda:0', grad_fn=<MseLossBackward>)\n",
      "mmd_err tensor(0.0054, device='cuda:0', grad_fn=<SubBackward0>)\n",
      "epoch_error 1.6691322326660156\n",
      "recons tensor(1.6667, device='cuda:0', grad_fn=<MseLossBackward>)\n",
      "mmd_err tensor(0.0058, device='cuda:0', grad_fn=<SubBackward0>)\n",
      "epoch_error 3.3416284322738647\n",
      "recons tensor(1.5635, device='cuda:0', grad_fn=<MseLossBackward>)\n",
      "mmd_err tensor(0.0053, device='cuda:0', grad_fn=<SubBackward0>)\n",
      "epoch_error 4.910409331321716\n",
      "recons tensor(1.5629, device='cuda:0', grad_fn=<MseLossBackward>)\n",
      "mmd_err tensor(0.0056, device='cuda:0', grad_fn=<SubBackward0>)\n",
      "epoch_error 6.478858113288879\n",
      "recons tensor(1.5388, device='cuda:0', grad_fn=<MseLossBackward>)\n",
      "mmd_err tensor(0.0053, device='cuda:0', grad_fn=<SubBackward0>)\n",
      "epoch_error 8.022902488708496\n"
     ]
    },
    {
     "name": "stderr",
     "output_type": "stream",
     "text": [
      "\r",
      "Finished epoch 41 of 100; error is 1.5440443754196167"
     ]
    },
    {
     "name": "stdout",
     "output_type": "stream",
     "text": [
      "recons tensor(1.5430, device='cuda:0', grad_fn=<MseLossBackward>)\n",
      "mmd_err tensor(0.0055, device='cuda:0', grad_fn=<SubBackward0>)\n",
      "epoch_error 1.5484719276428223\n",
      "recons tensor(1.5295, device='cuda:0', grad_fn=<MseLossBackward>)\n",
      "mmd_err tensor(0.0053, device='cuda:0', grad_fn=<SubBackward0>)\n",
      "epoch_error 3.0832812786102295\n",
      "recons tensor(1.4991, device='cuda:0', grad_fn=<MseLossBackward>)\n",
      "mmd_err tensor(0.0053, device='cuda:0', grad_fn=<SubBackward0>)\n",
      "epoch_error 4.587690830230713\n",
      "recons tensor(1.6522, device='cuda:0', grad_fn=<MseLossBackward>)\n",
      "mmd_err tensor(0.0057, device='cuda:0', grad_fn=<SubBackward0>)\n",
      "epoch_error 6.245610237121582\n",
      "recons tensor(1.6785, device='cuda:0', grad_fn=<MseLossBackward>)\n",
      "mmd_err tensor(0.0059, device='cuda:0', grad_fn=<SubBackward0>)\n",
      "epoch_error 7.929927110671997\n"
     ]
    },
    {
     "name": "stderr",
     "output_type": "stream",
     "text": [
      "\r",
      "Finished epoch 42 of 100; error is 1.684316873550415"
     ]
    },
    {
     "name": "stdout",
     "output_type": "stream",
     "text": [
      "recons tensor(1.5538, device='cuda:0', grad_fn=<MseLossBackward>)\n",
      "mmd_err tensor(0.0054, device='cuda:0', grad_fn=<SubBackward0>)\n",
      "epoch_error 1.5592732429504395\n",
      "recons tensor(1.6509, device='cuda:0', grad_fn=<MseLossBackward>)\n",
      "mmd_err tensor(0.0053, device='cuda:0', grad_fn=<SubBackward0>)\n",
      "epoch_error 3.215448260307312\n",
      "recons tensor(1.4755, device='cuda:0', grad_fn=<MseLossBackward>)\n",
      "mmd_err tensor(0.0057, device='cuda:0', grad_fn=<SubBackward0>)\n",
      "epoch_error 4.69661271572113\n",
      "recons tensor(1.5200, device='cuda:0', grad_fn=<MseLossBackward>)\n",
      "mmd_err tensor(0.0055, device='cuda:0', grad_fn=<SubBackward0>)\n",
      "epoch_error 6.222124218940735\n",
      "recons tensor(1.5966, device='cuda:0', grad_fn=<MseLossBackward>)\n",
      "mmd_err tensor(0.0054, device='cuda:0', grad_fn=<SubBackward0>)\n",
      "epoch_error 7.824105858802795\n"
     ]
    },
    {
     "name": "stderr",
     "output_type": "stream",
     "text": [
      "\r",
      "Finished epoch 43 of 100; error is 1.6019816398620605"
     ]
    },
    {
     "name": "stdout",
     "output_type": "stream",
     "text": [
      "recons tensor(1.4732, device='cuda:0', grad_fn=<MseLossBackward>)\n",
      "mmd_err tensor(0.0054, device='cuda:0', grad_fn=<SubBackward0>)\n",
      "epoch_error 1.4786105155944824\n",
      "recons tensor(1.6856, device='cuda:0', grad_fn=<MseLossBackward>)\n",
      "mmd_err tensor(0.0053, device='cuda:0', grad_fn=<SubBackward0>)\n",
      "epoch_error 3.1695148944854736\n",
      "recons tensor(1.5484, device='cuda:0', grad_fn=<MseLossBackward>)\n",
      "mmd_err tensor(0.0059, device='cuda:0', grad_fn=<SubBackward0>)\n",
      "epoch_error 4.723727345466614\n",
      "recons tensor(1.5078, device='cuda:0', grad_fn=<MseLossBackward>)\n",
      "mmd_err tensor(0.0053, device='cuda:0', grad_fn=<SubBackward0>)\n",
      "epoch_error 6.236838102340698\n",
      "recons tensor(1.4937, device='cuda:0', grad_fn=<MseLossBackward>)\n",
      "mmd_err tensor(0.0050, device='cuda:0', grad_fn=<SubBackward0>)\n",
      "epoch_error 7.735527873039246\n"
     ]
    },
    {
     "name": "stderr",
     "output_type": "stream",
     "text": [
      "\r",
      "Finished epoch 44 of 100; error is 1.4986897706985474"
     ]
    },
    {
     "name": "stdout",
     "output_type": "stream",
     "text": [
      "recons tensor(1.5795, device='cuda:0', grad_fn=<MseLossBackward>)\n",
      "mmd_err tensor(0.0057, device='cuda:0', grad_fn=<SubBackward0>)\n",
      "epoch_error 1.5851513147354126\n",
      "recons tensor(1.5035, device='cuda:0', grad_fn=<MseLossBackward>)\n",
      "mmd_err tensor(0.0051, device='cuda:0', grad_fn=<SubBackward0>)\n",
      "epoch_error 3.093739151954651\n",
      "recons tensor(1.4405, device='cuda:0', grad_fn=<MseLossBackward>)\n",
      "mmd_err tensor(0.0048, device='cuda:0', grad_fn=<SubBackward0>)\n",
      "epoch_error 4.538967609405518\n",
      "recons tensor(1.5987, device='cuda:0', grad_fn=<MseLossBackward>)\n",
      "mmd_err tensor(0.0057, device='cuda:0', grad_fn=<SubBackward0>)\n",
      "epoch_error 6.143360137939453\n",
      "recons tensor(1.4798, device='cuda:0', grad_fn=<MseLossBackward>)\n",
      "mmd_err tensor(0.0049, device='cuda:0', grad_fn=<SubBackward0>)\n",
      "epoch_error 7.627981185913086\n"
     ]
    },
    {
     "name": "stderr",
     "output_type": "stream",
     "text": [
      "\r",
      "Finished epoch 45 of 100; error is 1.4846210479736328"
     ]
    },
    {
     "name": "stdout",
     "output_type": "stream",
     "text": [
      "recons tensor(1.4794, device='cuda:0', grad_fn=<MseLossBackward>)\n",
      "mmd_err tensor(0.0053, device='cuda:0', grad_fn=<SubBackward0>)\n",
      "epoch_error 1.4846320152282715\n",
      "recons tensor(1.5323, device='cuda:0', grad_fn=<MseLossBackward>)\n",
      "mmd_err tensor(0.0051, device='cuda:0', grad_fn=<SubBackward0>)\n",
      "epoch_error 3.022059679031372\n",
      "recons tensor(1.5247, device='cuda:0', grad_fn=<MseLossBackward>)\n",
      "mmd_err tensor(0.0053, device='cuda:0', grad_fn=<SubBackward0>)\n",
      "epoch_error 4.55205762386322\n",
      "recons tensor(1.4915, device='cuda:0', grad_fn=<MseLossBackward>)\n",
      "mmd_err tensor(0.0052, device='cuda:0', grad_fn=<SubBackward0>)\n",
      "epoch_error 6.048744797706604\n",
      "recons tensor(1.4608, device='cuda:0', grad_fn=<MseLossBackward>)\n",
      "mmd_err tensor(0.0050, device='cuda:0', grad_fn=<SubBackward0>)\n",
      "epoch_error 7.514612197875977\n"
     ]
    },
    {
     "name": "stderr",
     "output_type": "stream",
     "text": [
      "\r",
      "Finished epoch 46 of 100; error is 1.4658674001693726"
     ]
    },
    {
     "name": "stdout",
     "output_type": "stream",
     "text": [
      "recons tensor(1.4354, device='cuda:0', grad_fn=<MseLossBackward>)\n",
      "mmd_err tensor(0.0051, device='cuda:0', grad_fn=<SubBackward0>)\n",
      "epoch_error 1.4405142068862915\n",
      "recons tensor(1.5289, device='cuda:0', grad_fn=<MseLossBackward>)\n",
      "mmd_err tensor(0.0050, device='cuda:0', grad_fn=<SubBackward0>)\n",
      "epoch_error 2.974414587020874\n",
      "recons tensor(1.4313, device='cuda:0', grad_fn=<MseLossBackward>)\n",
      "mmd_err tensor(0.0051, device='cuda:0', grad_fn=<SubBackward0>)\n",
      "epoch_error 4.410842418670654\n",
      "recons tensor(1.5266, device='cuda:0', grad_fn=<MseLossBackward>)\n",
      "mmd_err tensor(0.0051, device='cuda:0', grad_fn=<SubBackward0>)\n",
      "epoch_error 5.942583322525024\n",
      "recons tensor(1.4944, device='cuda:0', grad_fn=<MseLossBackward>)\n",
      "mmd_err tensor(0.0049, device='cuda:0', grad_fn=<SubBackward0>)\n",
      "epoch_error 7.441887378692627\n"
     ]
    },
    {
     "name": "stderr",
     "output_type": "stream",
     "text": [
      "\r",
      "Finished epoch 47 of 100; error is 1.4993040561676025"
     ]
    },
    {
     "name": "stdout",
     "output_type": "stream",
     "text": [
      "recons tensor(1.5117, device='cuda:0', grad_fn=<MseLossBackward>)\n",
      "mmd_err tensor(0.0052, device='cuda:0', grad_fn=<SubBackward0>)\n",
      "epoch_error 1.516906976699829\n",
      "recons tensor(1.4293, device='cuda:0', grad_fn=<MseLossBackward>)\n",
      "mmd_err tensor(0.0049, device='cuda:0', grad_fn=<SubBackward0>)\n",
      "epoch_error 2.9511624574661255\n",
      "recons tensor(1.4182, device='cuda:0', grad_fn=<MseLossBackward>)\n",
      "mmd_err tensor(0.0051, device='cuda:0', grad_fn=<SubBackward0>)\n",
      "epoch_error 4.374453544616699\n",
      "recons tensor(1.4421, device='cuda:0', grad_fn=<MseLossBackward>)\n",
      "mmd_err tensor(0.0049, device='cuda:0', grad_fn=<SubBackward0>)\n",
      "epoch_error 5.8214675188064575\n",
      "recons tensor(1.5397, device='cuda:0', grad_fn=<MseLossBackward>)\n",
      "mmd_err tensor(0.0055, device='cuda:0', grad_fn=<SubBackward0>)\n",
      "epoch_error 7.366719722747803\n"
     ]
    },
    {
     "name": "stderr",
     "output_type": "stream",
     "text": [
      "\r",
      "Finished epoch 48 of 100; error is 1.5452522039413452"
     ]
    },
    {
     "name": "stdout",
     "output_type": "stream",
     "text": [
      "recons tensor(1.4556, device='cuda:0', grad_fn=<MseLossBackward>)\n",
      "mmd_err tensor(0.0046, device='cuda:0', grad_fn=<SubBackward0>)\n",
      "epoch_error 1.460119366645813\n",
      "recons tensor(1.4061, device='cuda:0', grad_fn=<MseLossBackward>)\n",
      "mmd_err tensor(0.0049, device='cuda:0', grad_fn=<SubBackward0>)\n",
      "epoch_error 2.871066927909851\n",
      "recons tensor(1.4536, device='cuda:0', grad_fn=<MseLossBackward>)\n",
      "mmd_err tensor(0.0050, device='cuda:0', grad_fn=<SubBackward0>)\n",
      "epoch_error 4.329756259918213\n",
      "recons tensor(1.4653, device='cuda:0', grad_fn=<MseLossBackward>)\n",
      "mmd_err tensor(0.0051, device='cuda:0', grad_fn=<SubBackward0>)\n",
      "epoch_error 5.800191640853882\n",
      "recons tensor(1.4494, device='cuda:0', grad_fn=<MseLossBackward>)\n",
      "mmd_err tensor(0.0050, device='cuda:0', grad_fn=<SubBackward0>)\n",
      "epoch_error 7.254634857177734\n"
     ]
    },
    {
     "name": "stderr",
     "output_type": "stream",
     "text": [
      "\r",
      "Finished epoch 49 of 100; error is 1.4544432163238525"
     ]
    },
    {
     "name": "stdout",
     "output_type": "stream",
     "text": [
      "recons tensor(1.3786, device='cuda:0', grad_fn=<MseLossBackward>)\n",
      "mmd_err tensor(0.0046, device='cuda:0', grad_fn=<SubBackward0>)\n",
      "epoch_error 1.3832327127456665\n",
      "recons tensor(1.5181, device='cuda:0', grad_fn=<MseLossBackward>)\n",
      "mmd_err tensor(0.0048, device='cuda:0', grad_fn=<SubBackward0>)\n",
      "epoch_error 2.906099319458008\n",
      "recons tensor(1.3746, device='cuda:0', grad_fn=<MseLossBackward>)\n",
      "mmd_err tensor(0.0048, device='cuda:0', grad_fn=<SubBackward0>)\n",
      "epoch_error 4.28550112247467\n",
      "recons tensor(1.5346, device='cuda:0', grad_fn=<MseLossBackward>)\n",
      "mmd_err tensor(0.0049, device='cuda:0', grad_fn=<SubBackward0>)\n",
      "epoch_error 5.82501745223999\n",
      "recons tensor(1.3372, device='cuda:0', grad_fn=<MseLossBackward>)\n",
      "mmd_err tensor(0.0048, device='cuda:0', grad_fn=<SubBackward0>)\n",
      "epoch_error 7.167006731033325\n"
     ]
    },
    {
     "name": "stderr",
     "output_type": "stream",
     "text": [
      "\r",
      "Finished epoch 50 of 100; error is 1.341989278793335"
     ]
    },
    {
     "name": "stdout",
     "output_type": "stream",
     "text": [
      "recons tensor(1.4129, device='cuda:0', grad_fn=<MseLossBackward>)\n",
      "mmd_err tensor(0.0048, device='cuda:0', grad_fn=<SubBackward0>)\n",
      "epoch_error 1.4177618026733398\n",
      "recons tensor(1.4110, device='cuda:0', grad_fn=<MseLossBackward>)\n",
      "mmd_err tensor(0.0047, device='cuda:0', grad_fn=<SubBackward0>)\n",
      "epoch_error 2.833468198776245\n",
      "recons tensor(1.3925, device='cuda:0', grad_fn=<MseLossBackward>)\n",
      "mmd_err tensor(0.0052, device='cuda:0', grad_fn=<SubBackward0>)\n",
      "epoch_error 4.23115861415863\n",
      "recons tensor(1.4173, device='cuda:0', grad_fn=<MseLossBackward>)\n",
      "mmd_err tensor(0.0046, device='cuda:0', grad_fn=<SubBackward0>)\n",
      "epoch_error 5.653126239776611\n",
      "recons tensor(1.4646, device='cuda:0', grad_fn=<MseLossBackward>)\n",
      "mmd_err tensor(0.0049, device='cuda:0', grad_fn=<SubBackward0>)\n",
      "epoch_error 7.122583270072937\n"
     ]
    },
    {
     "name": "stderr",
     "output_type": "stream",
     "text": [
      "\r",
      "Finished epoch 51 of 100; error is 1.4694570302963257"
     ]
    },
    {
     "name": "stdout",
     "output_type": "stream",
     "text": [
      "recons tensor(1.3634, device='cuda:0', grad_fn=<MseLossBackward>)\n",
      "mmd_err tensor(0.0052, device='cuda:0', grad_fn=<SubBackward0>)\n",
      "epoch_error 1.3685870170593262\n",
      "recons tensor(1.4354, device='cuda:0', grad_fn=<MseLossBackward>)\n",
      "mmd_err tensor(0.0044, device='cuda:0', grad_fn=<SubBackward0>)\n",
      "epoch_error 2.808358669281006\n",
      "recons tensor(1.5042, device='cuda:0', grad_fn=<MseLossBackward>)\n",
      "mmd_err tensor(0.0050, device='cuda:0', grad_fn=<SubBackward0>)\n",
      "epoch_error 4.317509889602661\n",
      "recons tensor(1.3896, device='cuda:0', grad_fn=<MseLossBackward>)\n",
      "mmd_err tensor(0.0046, device='cuda:0', grad_fn=<SubBackward0>)\n",
      "epoch_error 5.7116687297821045\n",
      "recons tensor(1.3748, device='cuda:0', grad_fn=<MseLossBackward>)\n",
      "mmd_err tensor(0.0045, device='cuda:0', grad_fn=<SubBackward0>)\n",
      "epoch_error 7.090946078300476\n"
     ]
    },
    {
     "name": "stderr",
     "output_type": "stream",
     "text": [
      "\r",
      "Finished epoch 52 of 100; error is 1.3792773485183716"
     ]
    },
    {
     "name": "stdout",
     "output_type": "stream",
     "text": [
      "recons tensor(1.3893, device='cuda:0', grad_fn=<MseLossBackward>)\n",
      "mmd_err tensor(0.0053, device='cuda:0', grad_fn=<SubBackward0>)\n",
      "epoch_error 1.3946170806884766\n",
      "recons tensor(1.3880, device='cuda:0', grad_fn=<MseLossBackward>)\n",
      "mmd_err tensor(0.0042, device='cuda:0', grad_fn=<SubBackward0>)\n",
      "epoch_error 2.7867547273635864\n",
      "recons tensor(1.4066, device='cuda:0', grad_fn=<MseLossBackward>)\n",
      "mmd_err tensor(0.0048, device='cuda:0', grad_fn=<SubBackward0>)\n",
      "epoch_error 4.198226451873779\n",
      "recons tensor(1.4805, device='cuda:0', grad_fn=<MseLossBackward>)\n",
      "mmd_err tensor(0.0050, device='cuda:0', grad_fn=<SubBackward0>)\n",
      "epoch_error 5.683722019195557\n",
      "recons tensor(1.3893, device='cuda:0', grad_fn=<MseLossBackward>)\n",
      "mmd_err tensor(0.0042, device='cuda:0', grad_fn=<SubBackward0>)\n",
      "epoch_error 7.077250957489014\n"
     ]
    },
    {
     "name": "stderr",
     "output_type": "stream",
     "text": [
      "\r",
      "Finished epoch 53 of 100; error is 1.393528938293457"
     ]
    },
    {
     "name": "stdout",
     "output_type": "stream",
     "text": [
      "recons tensor(1.3580, device='cuda:0', grad_fn=<MseLossBackward>)\n",
      "mmd_err tensor(0.0050, device='cuda:0', grad_fn=<SubBackward0>)\n",
      "epoch_error 1.3629589080810547\n",
      "recons tensor(1.4420, device='cuda:0', grad_fn=<MseLossBackward>)\n",
      "mmd_err tensor(0.0053, device='cuda:0', grad_fn=<SubBackward0>)\n",
      "epoch_error 2.810180902481079\n",
      "recons tensor(1.3572, device='cuda:0', grad_fn=<MseLossBackward>)\n",
      "mmd_err tensor(0.0044, device='cuda:0', grad_fn=<SubBackward0>)\n",
      "epoch_error 4.171735167503357\n",
      "recons tensor(1.4061, device='cuda:0', grad_fn=<MseLossBackward>)\n",
      "mmd_err tensor(0.0047, device='cuda:0', grad_fn=<SubBackward0>)\n",
      "epoch_error 5.582469582557678\n",
      "recons tensor(1.3984, device='cuda:0', grad_fn=<MseLossBackward>)\n",
      "mmd_err tensor(0.0049, device='cuda:0', grad_fn=<SubBackward0>)\n",
      "epoch_error 6.985752105712891\n"
     ]
    },
    {
     "name": "stderr",
     "output_type": "stream",
     "text": [
      "\r",
      "Finished epoch 54 of 100; error is 1.4032825231552124"
     ]
    },
    {
     "name": "stdout",
     "output_type": "stream",
     "text": [
      "recons tensor(1.3849, device='cuda:0', grad_fn=<MseLossBackward>)\n",
      "mmd_err tensor(0.0046, device='cuda:0', grad_fn=<SubBackward0>)\n",
      "epoch_error 1.3895037174224854\n",
      "recons tensor(1.3843, device='cuda:0', grad_fn=<MseLossBackward>)\n",
      "mmd_err tensor(0.0049, device='cuda:0', grad_fn=<SubBackward0>)\n",
      "epoch_error 2.7787286043167114\n",
      "recons tensor(1.3997, device='cuda:0', grad_fn=<MseLossBackward>)\n",
      "mmd_err tensor(0.0046, device='cuda:0', grad_fn=<SubBackward0>)\n",
      "epoch_error 4.1830620765686035\n",
      "recons tensor(1.3546, device='cuda:0', grad_fn=<MseLossBackward>)\n",
      "mmd_err tensor(0.0043, device='cuda:0', grad_fn=<SubBackward0>)\n",
      "epoch_error 5.541892051696777\n",
      "recons tensor(1.3672, device='cuda:0', grad_fn=<MseLossBackward>)\n",
      "mmd_err tensor(0.0047, device='cuda:0', grad_fn=<SubBackward0>)\n",
      "epoch_error 6.913784742355347\n"
     ]
    },
    {
     "name": "stderr",
     "output_type": "stream",
     "text": [
      "\r",
      "Finished epoch 55 of 100; error is 1.3718926906585693"
     ]
    },
    {
     "name": "stdout",
     "output_type": "stream",
     "text": [
      "recons tensor(1.3905, device='cuda:0', grad_fn=<MseLossBackward>)\n",
      "mmd_err tensor(0.0042, device='cuda:0', grad_fn=<SubBackward0>)\n",
      "epoch_error 1.394721508026123\n",
      "recons tensor(1.3629, device='cuda:0', grad_fn=<MseLossBackward>)\n",
      "mmd_err tensor(0.0045, device='cuda:0', grad_fn=<SubBackward0>)\n",
      "epoch_error 2.7621034383773804\n",
      "recons tensor(1.3567, device='cuda:0', grad_fn=<MseLossBackward>)\n",
      "mmd_err tensor(0.0045, device='cuda:0', grad_fn=<SubBackward0>)\n",
      "epoch_error 4.123262405395508\n",
      "recons tensor(1.3278, device='cuda:0', grad_fn=<MseLossBackward>)\n",
      "mmd_err tensor(0.0041, device='cuda:0', grad_fn=<SubBackward0>)\n",
      "epoch_error 5.4551990032196045\n",
      "recons tensor(1.4006, device='cuda:0', grad_fn=<MseLossBackward>)\n",
      "mmd_err tensor(0.0049, device='cuda:0', grad_fn=<SubBackward0>)\n",
      "epoch_error 6.860697984695435\n"
     ]
    },
    {
     "name": "stderr",
     "output_type": "stream",
     "text": [
      "\r",
      "Finished epoch 56 of 100; error is 1.40549898147583"
     ]
    },
    {
     "name": "stdout",
     "output_type": "stream",
     "text": [
      "recons tensor(1.3528, device='cuda:0', grad_fn=<MseLossBackward>)\n",
      "mmd_err tensor(0.0046, device='cuda:0', grad_fn=<SubBackward0>)\n",
      "epoch_error 1.3574687242507935\n",
      "recons tensor(1.3990, device='cuda:0', grad_fn=<MseLossBackward>)\n",
      "mmd_err tensor(0.0043, device='cuda:0', grad_fn=<SubBackward0>)\n",
      "epoch_error 2.760777235031128\n",
      "recons tensor(1.2672, device='cuda:0', grad_fn=<MseLossBackward>)\n",
      "mmd_err tensor(0.0048, device='cuda:0', grad_fn=<SubBackward0>)\n",
      "epoch_error 4.032777786254883\n",
      "recons tensor(1.3402, device='cuda:0', grad_fn=<MseLossBackward>)\n",
      "mmd_err tensor(0.0042, device='cuda:0', grad_fn=<SubBackward0>)\n",
      "epoch_error 5.377199769020081\n",
      "recons tensor(1.4098, device='cuda:0', grad_fn=<MseLossBackward>)\n",
      "mmd_err tensor(0.0046, device='cuda:0', grad_fn=<SubBackward0>)\n",
      "epoch_error 6.791578412055969\n"
     ]
    },
    {
     "name": "stderr",
     "output_type": "stream",
     "text": [
      "\r",
      "Finished epoch 57 of 100; error is 1.4143786430358887"
     ]
    },
    {
     "name": "stdout",
     "output_type": "stream",
     "text": [
      "recons tensor(1.3109, device='cuda:0', grad_fn=<MseLossBackward>)\n",
      "mmd_err tensor(0.0044, device='cuda:0', grad_fn=<SubBackward0>)\n",
      "epoch_error 1.315298318862915\n",
      "recons tensor(1.3489, device='cuda:0', grad_fn=<MseLossBackward>)\n",
      "mmd_err tensor(0.0045, device='cuda:0', grad_fn=<SubBackward0>)\n",
      "epoch_error 2.6686850786209106\n",
      "recons tensor(1.3477, device='cuda:0', grad_fn=<MseLossBackward>)\n",
      "mmd_err tensor(0.0046, device='cuda:0', grad_fn=<SubBackward0>)\n",
      "epoch_error 4.021016597747803\n",
      "recons tensor(1.3504, device='cuda:0', grad_fn=<MseLossBackward>)\n",
      "mmd_err tensor(0.0044, device='cuda:0', grad_fn=<SubBackward0>)\n",
      "epoch_error 5.375885963439941\n",
      "recons tensor(1.3489, device='cuda:0', grad_fn=<MseLossBackward>)\n",
      "mmd_err tensor(0.0043, device='cuda:0', grad_fn=<SubBackward0>)\n",
      "epoch_error 6.729164958000183\n"
     ]
    },
    {
     "name": "stderr",
     "output_type": "stream",
     "text": [
      "\r",
      "Finished epoch 58 of 100; error is 1.3532789945602417"
     ]
    },
    {
     "name": "stdout",
     "output_type": "stream",
     "text": [
      "recons tensor(1.3103, device='cuda:0', grad_fn=<MseLossBackward>)\n",
      "mmd_err tensor(0.0043, device='cuda:0', grad_fn=<SubBackward0>)\n",
      "epoch_error 1.3145184516906738\n",
      "recons tensor(1.3408, device='cuda:0', grad_fn=<MseLossBackward>)\n",
      "mmd_err tensor(0.0041, device='cuda:0', grad_fn=<SubBackward0>)\n",
      "epoch_error 2.6594749689102173\n",
      "recons tensor(1.3035, device='cuda:0', grad_fn=<MseLossBackward>)\n",
      "mmd_err tensor(0.0043, device='cuda:0', grad_fn=<SubBackward0>)\n",
      "epoch_error 3.9673272371292114\n",
      "recons tensor(1.3352, device='cuda:0', grad_fn=<MseLossBackward>)\n",
      "mmd_err tensor(0.0044, device='cuda:0', grad_fn=<SubBackward0>)\n",
      "epoch_error 5.306899905204773\n",
      "recons tensor(1.3777, device='cuda:0', grad_fn=<MseLossBackward>)\n",
      "mmd_err tensor(0.0046, device='cuda:0', grad_fn=<SubBackward0>)\n",
      "epoch_error 6.689185619354248\n"
     ]
    },
    {
     "name": "stderr",
     "output_type": "stream",
     "text": [
      "\r",
      "Finished epoch 59 of 100; error is 1.382285714149475"
     ]
    },
    {
     "name": "stdout",
     "output_type": "stream",
     "text": [
      "recons tensor(1.3551, device='cuda:0', grad_fn=<MseLossBackward>)\n",
      "mmd_err tensor(0.0049, device='cuda:0', grad_fn=<SubBackward0>)\n",
      "epoch_error 1.3599228858947754\n",
      "recons tensor(1.3306, device='cuda:0', grad_fn=<MseLossBackward>)\n",
      "mmd_err tensor(0.0042, device='cuda:0', grad_fn=<SubBackward0>)\n",
      "epoch_error 2.694674491882324\n",
      "recons tensor(1.2842, device='cuda:0', grad_fn=<MseLossBackward>)\n",
      "mmd_err tensor(0.0043, device='cuda:0', grad_fn=<SubBackward0>)\n",
      "epoch_error 3.9832193851470947\n",
      "recons tensor(1.3021, device='cuda:0', grad_fn=<MseLossBackward>)\n",
      "mmd_err tensor(0.0046, device='cuda:0', grad_fn=<SubBackward0>)\n",
      "epoch_error 5.289881348609924\n",
      "recons tensor(1.3597, device='cuda:0', grad_fn=<MseLossBackward>)\n",
      "mmd_err tensor(0.0044, device='cuda:0', grad_fn=<SubBackward0>)\n",
      "epoch_error 6.653946161270142\n"
     ]
    },
    {
     "name": "stderr",
     "output_type": "stream",
     "text": [
      "\r",
      "Finished epoch 60 of 100; error is 1.3640648126602173"
     ]
    },
    {
     "name": "stdout",
     "output_type": "stream",
     "text": [
      "recons tensor(1.3317, device='cuda:0', grad_fn=<MseLossBackward>)\n",
      "mmd_err tensor(0.0044, device='cuda:0', grad_fn=<SubBackward0>)\n",
      "epoch_error 1.336072325706482\n",
      "recons tensor(1.3093, device='cuda:0', grad_fn=<MseLossBackward>)\n",
      "mmd_err tensor(0.0047, device='cuda:0', grad_fn=<SubBackward0>)\n",
      "epoch_error 2.6500186920166016\n",
      "recons tensor(1.3241, device='cuda:0', grad_fn=<MseLossBackward>)\n",
      "mmd_err tensor(0.0040, device='cuda:0', grad_fn=<SubBackward0>)\n",
      "epoch_error 3.9780691862106323\n",
      "recons tensor(1.3411, device='cuda:0', grad_fn=<MseLossBackward>)\n",
      "mmd_err tensor(0.0046, device='cuda:0', grad_fn=<SubBackward0>)\n",
      "epoch_error 5.323801040649414\n",
      "recons tensor(1.2942, device='cuda:0', grad_fn=<MseLossBackward>)\n",
      "mmd_err tensor(0.0040, device='cuda:0', grad_fn=<SubBackward0>)\n",
      "epoch_error 6.621987223625183\n"
     ]
    },
    {
     "name": "stderr",
     "output_type": "stream",
     "text": [
      "\r",
      "Finished epoch 61 of 100; error is 1.298186182975769"
     ]
    },
    {
     "name": "stdout",
     "output_type": "stream",
     "text": [
      "recons tensor(1.3493, device='cuda:0', grad_fn=<MseLossBackward>)\n",
      "mmd_err tensor(0.0038, device='cuda:0', grad_fn=<SubBackward0>)\n",
      "epoch_error 1.3530480861663818\n",
      "recons tensor(1.3235, device='cuda:0', grad_fn=<MseLossBackward>)\n",
      "mmd_err tensor(0.0047, device='cuda:0', grad_fn=<SubBackward0>)\n",
      "epoch_error 2.681267023086548\n",
      "recons tensor(1.3621, device='cuda:0', grad_fn=<MseLossBackward>)\n",
      "mmd_err tensor(0.0044, device='cuda:0', grad_fn=<SubBackward0>)\n",
      "epoch_error 4.047765731811523\n",
      "recons tensor(1.2707, device='cuda:0', grad_fn=<MseLossBackward>)\n",
      "mmd_err tensor(0.0041, device='cuda:0', grad_fn=<SubBackward0>)\n",
      "epoch_error 5.322581052780151\n",
      "recons tensor(1.2547, device='cuda:0', grad_fn=<MseLossBackward>)\n",
      "mmd_err tensor(0.0046, device='cuda:0', grad_fn=<SubBackward0>)\n",
      "epoch_error 6.581923246383667\n"
     ]
    },
    {
     "name": "stderr",
     "output_type": "stream",
     "text": [
      "\r",
      "Finished epoch 62 of 100; error is 1.2593421936035156"
     ]
    },
    {
     "name": "stdout",
     "output_type": "stream",
     "text": [
      "recons tensor(1.3346, device='cuda:0', grad_fn=<MseLossBackward>)\n",
      "mmd_err tensor(0.0041, device='cuda:0', grad_fn=<SubBackward0>)\n",
      "epoch_error 1.3386653661727905\n",
      "recons tensor(1.2531, device='cuda:0', grad_fn=<MseLossBackward>)\n",
      "mmd_err tensor(0.0043, device='cuda:0', grad_fn=<SubBackward0>)\n",
      "epoch_error 2.5960782766342163\n",
      "recons tensor(1.3160, device='cuda:0', grad_fn=<MseLossBackward>)\n",
      "mmd_err tensor(0.0045, device='cuda:0', grad_fn=<SubBackward0>)\n",
      "epoch_error 3.916541337966919\n",
      "recons tensor(1.2700, device='cuda:0', grad_fn=<MseLossBackward>)\n",
      "mmd_err tensor(0.0042, device='cuda:0', grad_fn=<SubBackward0>)\n",
      "epoch_error 5.190752387046814\n",
      "recons tensor(1.3307, device='cuda:0', grad_fn=<MseLossBackward>)\n",
      "mmd_err tensor(0.0041, device='cuda:0', grad_fn=<SubBackward0>)\n",
      "epoch_error 6.525535583496094\n"
     ]
    },
    {
     "name": "stderr",
     "output_type": "stream",
     "text": [
      "\r",
      "Finished epoch 63 of 100; error is 1.3347831964492798"
     ]
    },
    {
     "name": "stdout",
     "output_type": "stream",
     "text": [
      "recons tensor(1.2769, device='cuda:0', grad_fn=<MseLossBackward>)\n",
      "mmd_err tensor(0.0043, device='cuda:0', grad_fn=<SubBackward0>)\n",
      "epoch_error 1.2812364101409912\n",
      "recons tensor(1.2669, device='cuda:0', grad_fn=<MseLossBackward>)\n",
      "mmd_err tensor(0.0043, device='cuda:0', grad_fn=<SubBackward0>)\n",
      "epoch_error 2.5524322986602783\n",
      "recons tensor(1.3044, device='cuda:0', grad_fn=<MseLossBackward>)\n",
      "mmd_err tensor(0.0044, device='cuda:0', grad_fn=<SubBackward0>)\n",
      "epoch_error 3.861209511756897\n",
      "recons tensor(1.2918, device='cuda:0', grad_fn=<MseLossBackward>)\n",
      "mmd_err tensor(0.0039, device='cuda:0', grad_fn=<SubBackward0>)\n",
      "epoch_error 5.156948089599609\n",
      "recons tensor(1.3232, device='cuda:0', grad_fn=<MseLossBackward>)\n",
      "mmd_err tensor(0.0043, device='cuda:0', grad_fn=<SubBackward0>)\n",
      "epoch_error 6.484429836273193\n"
     ]
    },
    {
     "name": "stderr",
     "output_type": "stream",
     "text": [
      "\r",
      "Finished epoch 64 of 100; error is 1.327481746673584"
     ]
    },
    {
     "name": "stdout",
     "output_type": "stream",
     "text": [
      "recons tensor(1.2853, device='cuda:0', grad_fn=<MseLossBackward>)\n",
      "mmd_err tensor(0.0043, device='cuda:0', grad_fn=<SubBackward0>)\n",
      "epoch_error 1.2895987033843994\n",
      "recons tensor(1.2875, device='cuda:0', grad_fn=<MseLossBackward>)\n",
      "mmd_err tensor(0.0040, device='cuda:0', grad_fn=<SubBackward0>)\n",
      "epoch_error 2.5811331272125244\n",
      "recons tensor(1.3552, device='cuda:0', grad_fn=<MseLossBackward>)\n",
      "mmd_err tensor(0.0042, device='cuda:0', grad_fn=<SubBackward0>)\n",
      "epoch_error 3.9405452013015747\n",
      "recons tensor(1.2560, device='cuda:0', grad_fn=<MseLossBackward>)\n",
      "mmd_err tensor(0.0044, device='cuda:0', grad_fn=<SubBackward0>)\n",
      "epoch_error 5.200925350189209\n",
      "recons tensor(1.2756, device='cuda:0', grad_fn=<MseLossBackward>)\n",
      "mmd_err tensor(0.0037, device='cuda:0', grad_fn=<SubBackward0>)\n",
      "epoch_error 6.480277419090271\n"
     ]
    },
    {
     "name": "stderr",
     "output_type": "stream",
     "text": [
      "\r",
      "Finished epoch 65 of 100; error is 1.279352068901062"
     ]
    },
    {
     "name": "stdout",
     "output_type": "stream",
     "text": [
      "recons tensor(1.3261, device='cuda:0', grad_fn=<MseLossBackward>)\n",
      "mmd_err tensor(0.0044, device='cuda:0', grad_fn=<SubBackward0>)\n",
      "epoch_error 1.33050537109375\n",
      "recons tensor(1.2694, device='cuda:0', grad_fn=<MseLossBackward>)\n",
      "mmd_err tensor(0.0044, device='cuda:0', grad_fn=<SubBackward0>)\n",
      "epoch_error 2.6042520999908447\n",
      "recons tensor(1.2726, device='cuda:0', grad_fn=<MseLossBackward>)\n",
      "mmd_err tensor(0.0039, device='cuda:0', grad_fn=<SubBackward0>)\n",
      "epoch_error 3.8806997537612915\n",
      "recons tensor(1.2747, device='cuda:0', grad_fn=<MseLossBackward>)\n",
      "mmd_err tensor(0.0045, device='cuda:0', grad_fn=<SubBackward0>)\n",
      "epoch_error 5.159857630729675\n",
      "recons tensor(1.2703, device='cuda:0', grad_fn=<MseLossBackward>)\n",
      "mmd_err tensor(0.0043, device='cuda:0', grad_fn=<SubBackward0>)\n",
      "epoch_error 6.434455752372742\n"
     ]
    },
    {
     "name": "stderr",
     "output_type": "stream",
     "text": [
      "\r",
      "Finished epoch 66 of 100; error is 1.2745981216430664"
     ]
    },
    {
     "name": "stdout",
     "output_type": "stream",
     "text": [
      "recons tensor(1.3111, device='cuda:0', grad_fn=<MseLossBackward>)\n",
      "mmd_err tensor(0.0040, device='cuda:0', grad_fn=<SubBackward0>)\n",
      "epoch_error 1.315157175064087\n",
      "recons tensor(1.2640, device='cuda:0', grad_fn=<MseLossBackward>)\n",
      "mmd_err tensor(0.0044, device='cuda:0', grad_fn=<SubBackward0>)\n",
      "epoch_error 2.583569288253784\n",
      "recons tensor(1.3359, device='cuda:0', grad_fn=<MseLossBackward>)\n",
      "mmd_err tensor(0.0042, device='cuda:0', grad_fn=<SubBackward0>)\n",
      "epoch_error 3.9236632585525513\n",
      "recons tensor(1.1753, device='cuda:0', grad_fn=<MseLossBackward>)\n",
      "mmd_err tensor(0.0039, device='cuda:0', grad_fn=<SubBackward0>)\n",
      "epoch_error 5.102803826332092\n",
      "recons tensor(1.2848, device='cuda:0', grad_fn=<MseLossBackward>)\n",
      "mmd_err tensor(0.0043, device='cuda:0', grad_fn=<SubBackward0>)\n",
      "epoch_error 6.391855239868164\n"
     ]
    },
    {
     "name": "stderr",
     "output_type": "stream",
     "text": [
      "\r",
      "Finished epoch 67 of 100; error is 1.2890514135360718"
     ]
    },
    {
     "name": "stdout",
     "output_type": "stream",
     "text": [
      "recons tensor(1.2710, device='cuda:0', grad_fn=<MseLossBackward>)\n",
      "mmd_err tensor(0.0043, device='cuda:0', grad_fn=<SubBackward0>)\n",
      "epoch_error 1.2752562761306763\n",
      "recons tensor(1.2200, device='cuda:0', grad_fn=<MseLossBackward>)\n",
      "mmd_err tensor(0.0037, device='cuda:0', grad_fn=<SubBackward0>)\n",
      "epoch_error 2.498989462852478\n",
      "recons tensor(1.2804, device='cuda:0', grad_fn=<MseLossBackward>)\n",
      "mmd_err tensor(0.0043, device='cuda:0', grad_fn=<SubBackward0>)\n",
      "epoch_error 3.783642888069153\n",
      "recons tensor(1.2345, device='cuda:0', grad_fn=<MseLossBackward>)\n",
      "mmd_err tensor(0.0039, device='cuda:0', grad_fn=<SubBackward0>)\n",
      "epoch_error 5.021996855735779\n",
      "recons tensor(1.3076, device='cuda:0', grad_fn=<MseLossBackward>)\n",
      "mmd_err tensor(0.0040, device='cuda:0', grad_fn=<SubBackward0>)\n",
      "epoch_error 6.333622097969055\n"
     ]
    },
    {
     "name": "stderr",
     "output_type": "stream",
     "text": [
      "\r",
      "Finished epoch 68 of 100; error is 1.3116252422332764"
     ]
    },
    {
     "name": "stdout",
     "output_type": "stream",
     "text": [
      "recons tensor(1.2466, device='cuda:0', grad_fn=<MseLossBackward>)\n",
      "mmd_err tensor(0.0042, device='cuda:0', grad_fn=<SubBackward0>)\n",
      "epoch_error 1.2507731914520264\n",
      "recons tensor(1.3130, device='cuda:0', grad_fn=<MseLossBackward>)\n",
      "mmd_err tensor(0.0039, device='cuda:0', grad_fn=<SubBackward0>)\n",
      "epoch_error 2.5676945447921753\n",
      "recons tensor(1.2806, device='cuda:0', grad_fn=<MseLossBackward>)\n",
      "mmd_err tensor(0.0041, device='cuda:0', grad_fn=<SubBackward0>)\n",
      "epoch_error 3.8523272275924683\n",
      "recons tensor(1.2294, device='cuda:0', grad_fn=<MseLossBackward>)\n",
      "mmd_err tensor(0.0043, device='cuda:0', grad_fn=<SubBackward0>)\n",
      "epoch_error 5.086019277572632\n",
      "recons tensor(1.2275, device='cuda:0', grad_fn=<MseLossBackward>)\n",
      "mmd_err tensor(0.0035, device='cuda:0', grad_fn=<SubBackward0>)\n",
      "epoch_error 6.317017316818237\n"
     ]
    },
    {
     "name": "stderr",
     "output_type": "stream",
     "text": [
      "\r",
      "Finished epoch 69 of 100; error is 1.2309980392456055"
     ]
    },
    {
     "name": "stdout",
     "output_type": "stream",
     "text": [
      "recons tensor(1.2589, device='cuda:0', grad_fn=<MseLossBackward>)\n",
      "mmd_err tensor(0.0043, device='cuda:0', grad_fn=<SubBackward0>)\n",
      "epoch_error 1.2631559371948242\n",
      "recons tensor(1.2264, device='cuda:0', grad_fn=<MseLossBackward>)\n",
      "mmd_err tensor(0.0040, device='cuda:0', grad_fn=<SubBackward0>)\n",
      "epoch_error 2.493628978729248\n",
      "recons tensor(1.2691, device='cuda:0', grad_fn=<MseLossBackward>)\n",
      "mmd_err tensor(0.0038, device='cuda:0', grad_fn=<SubBackward0>)\n",
      "epoch_error 3.7664895057678223\n",
      "recons tensor(1.2842, device='cuda:0', grad_fn=<MseLossBackward>)\n",
      "mmd_err tensor(0.0044, device='cuda:0', grad_fn=<SubBackward0>)\n",
      "epoch_error 5.055078983306885\n",
      "recons tensor(1.2736, device='cuda:0', grad_fn=<MseLossBackward>)\n",
      "mmd_err tensor(0.0036, device='cuda:0', grad_fn=<SubBackward0>)\n",
      "epoch_error 6.332200527191162\n"
     ]
    },
    {
     "name": "stderr",
     "output_type": "stream",
     "text": [
      "\r",
      "Finished epoch 70 of 100; error is 1.2771215438842773"
     ]
    },
    {
     "name": "stdout",
     "output_type": "stream",
     "text": [
      "recons tensor(1.2477, device='cuda:0', grad_fn=<MseLossBackward>)\n",
      "mmd_err tensor(0.0038, device='cuda:0', grad_fn=<SubBackward0>)\n",
      "epoch_error 1.2515110969543457\n",
      "recons tensor(1.2573, device='cuda:0', grad_fn=<MseLossBackward>)\n",
      "mmd_err tensor(0.0043, device='cuda:0', grad_fn=<SubBackward0>)\n",
      "epoch_error 2.51307475566864\n",
      "recons tensor(1.2877, device='cuda:0', grad_fn=<MseLossBackward>)\n",
      "mmd_err tensor(0.0038, device='cuda:0', grad_fn=<SubBackward0>)\n",
      "epoch_error 3.8045623302459717\n",
      "recons tensor(1.2565, device='cuda:0', grad_fn=<MseLossBackward>)\n",
      "mmd_err tensor(0.0044, device='cuda:0', grad_fn=<SubBackward0>)\n",
      "epoch_error 5.065453410148621\n",
      "recons tensor(1.2337, device='cuda:0', grad_fn=<MseLossBackward>)\n",
      "mmd_err tensor(0.0039, device='cuda:0', grad_fn=<SubBackward0>)\n",
      "epoch_error 6.303081393241882\n"
     ]
    },
    {
     "name": "stderr",
     "output_type": "stream",
     "text": [
      "\r",
      "Finished epoch 71 of 100; error is 1.2376279830932617"
     ]
    },
    {
     "name": "stdout",
     "output_type": "stream",
     "text": [
      "recons tensor(1.2578, device='cuda:0', grad_fn=<MseLossBackward>)\n",
      "mmd_err tensor(0.0038, device='cuda:0', grad_fn=<SubBackward0>)\n",
      "epoch_error 1.2616769075393677\n",
      "recons tensor(1.2669, device='cuda:0', grad_fn=<MseLossBackward>)\n",
      "mmd_err tensor(0.0040, device='cuda:0', grad_fn=<SubBackward0>)\n",
      "epoch_error 2.5325562953948975\n",
      "recons tensor(1.2225, device='cuda:0', grad_fn=<MseLossBackward>)\n",
      "mmd_err tensor(0.0041, device='cuda:0', grad_fn=<SubBackward0>)\n",
      "epoch_error 3.759143352508545\n",
      "recons tensor(1.2764, device='cuda:0', grad_fn=<MseLossBackward>)\n",
      "mmd_err tensor(0.0036, device='cuda:0', grad_fn=<SubBackward0>)\n",
      "epoch_error 5.039158821105957\n",
      "recons tensor(1.2556, device='cuda:0', grad_fn=<MseLossBackward>)\n",
      "mmd_err tensor(0.0040, device='cuda:0', grad_fn=<SubBackward0>)\n",
      "epoch_error 6.298689126968384\n"
     ]
    },
    {
     "name": "stderr",
     "output_type": "stream",
     "text": [
      "\r",
      "Finished epoch 72 of 100; error is 1.2595303058624268"
     ]
    },
    {
     "name": "stdout",
     "output_type": "stream",
     "text": [
      "recons tensor(1.2786, device='cuda:0', grad_fn=<MseLossBackward>)\n",
      "mmd_err tensor(0.0041, device='cuda:0', grad_fn=<SubBackward0>)\n",
      "epoch_error 1.2827270030975342\n",
      "recons tensor(1.2444, device='cuda:0', grad_fn=<MseLossBackward>)\n",
      "mmd_err tensor(0.0036, device='cuda:0', grad_fn=<SubBackward0>)\n",
      "epoch_error 2.5307599306106567\n",
      "recons tensor(1.2794, device='cuda:0', grad_fn=<MseLossBackward>)\n",
      "mmd_err tensor(0.0044, device='cuda:0', grad_fn=<SubBackward0>)\n",
      "epoch_error 3.8145110607147217\n",
      "recons tensor(1.1890, device='cuda:0', grad_fn=<MseLossBackward>)\n",
      "mmd_err tensor(0.0039, device='cuda:0', grad_fn=<SubBackward0>)\n",
      "epoch_error 5.0074461698532104\n",
      "recons tensor(1.2609, device='cuda:0', grad_fn=<MseLossBackward>)\n",
      "mmd_err tensor(0.0037, device='cuda:0', grad_fn=<SubBackward0>)\n",
      "epoch_error 6.271957993507385\n"
     ]
    },
    {
     "name": "stderr",
     "output_type": "stream",
     "text": [
      "\r",
      "Finished epoch 73 of 100; error is 1.2645118236541748"
     ]
    },
    {
     "name": "stdout",
     "output_type": "stream",
     "text": [
      "recons tensor(1.2004, device='cuda:0', grad_fn=<MseLossBackward>)\n",
      "mmd_err tensor(0.0042, device='cuda:0', grad_fn=<SubBackward0>)\n",
      "epoch_error 1.2046095132827759\n",
      "recons tensor(1.2403, device='cuda:0', grad_fn=<MseLossBackward>)\n",
      "mmd_err tensor(0.0037, device='cuda:0', grad_fn=<SubBackward0>)\n",
      "epoch_error 2.4486440420150757\n",
      "recons tensor(1.2205, device='cuda:0', grad_fn=<MseLossBackward>)\n",
      "mmd_err tensor(0.0034, device='cuda:0', grad_fn=<SubBackward0>)\n",
      "epoch_error 3.672555088996887\n",
      "recons tensor(1.2427, device='cuda:0', grad_fn=<MseLossBackward>)\n",
      "mmd_err tensor(0.0043, device='cuda:0', grad_fn=<SubBackward0>)\n",
      "epoch_error 4.9195393323898315\n",
      "recons tensor(1.3021, device='cuda:0', grad_fn=<MseLossBackward>)\n",
      "mmd_err tensor(0.0040, device='cuda:0', grad_fn=<SubBackward0>)\n",
      "epoch_error 6.225700497627258\n"
     ]
    },
    {
     "name": "stderr",
     "output_type": "stream",
     "text": [
      "\r",
      "Finished epoch 74 of 100; error is 1.3061611652374268"
     ]
    },
    {
     "name": "stdout",
     "output_type": "stream",
     "text": [
      "recons tensor(1.1787, device='cuda:0', grad_fn=<MseLossBackward>)\n",
      "mmd_err tensor(0.0035, device='cuda:0', grad_fn=<SubBackward0>)\n",
      "epoch_error 1.182241439819336\n",
      "recons tensor(1.2211, device='cuda:0', grad_fn=<MseLossBackward>)\n",
      "mmd_err tensor(0.0042, device='cuda:0', grad_fn=<SubBackward0>)\n",
      "epoch_error 2.4075006246566772\n",
      "recons tensor(1.2327, device='cuda:0', grad_fn=<MseLossBackward>)\n",
      "mmd_err tensor(0.0037, device='cuda:0', grad_fn=<SubBackward0>)\n",
      "epoch_error 3.643897771835327\n",
      "recons tensor(1.2391, device='cuda:0', grad_fn=<MseLossBackward>)\n",
      "mmd_err tensor(0.0036, device='cuda:0', grad_fn=<SubBackward0>)\n",
      "epoch_error 4.886596918106079\n",
      "recons tensor(1.2953, device='cuda:0', grad_fn=<MseLossBackward>)\n",
      "mmd_err tensor(0.0043, device='cuda:0', grad_fn=<SubBackward0>)\n",
      "epoch_error 6.186202645301819\n"
     ]
    },
    {
     "name": "stderr",
     "output_type": "stream",
     "text": [
      "\r",
      "Finished epoch 75 of 100; error is 1.2996057271957397"
     ]
    },
    {
     "name": "stdout",
     "output_type": "stream",
     "text": [
      "recons tensor(1.1717, device='cuda:0', grad_fn=<MseLossBackward>)\n",
      "mmd_err tensor(0.0039, device='cuda:0', grad_fn=<SubBackward0>)\n",
      "epoch_error 1.1756161451339722\n",
      "recons tensor(1.2132, device='cuda:0', grad_fn=<MseLossBackward>)\n",
      "mmd_err tensor(0.0034, device='cuda:0', grad_fn=<SubBackward0>)\n",
      "epoch_error 2.3921741247177124\n",
      "recons tensor(1.2740, device='cuda:0', grad_fn=<MseLossBackward>)\n",
      "mmd_err tensor(0.0040, device='cuda:0', grad_fn=<SubBackward0>)\n",
      "epoch_error 3.6701650619506836\n",
      "recons tensor(1.2339, device='cuda:0', grad_fn=<MseLossBackward>)\n",
      "mmd_err tensor(0.0037, device='cuda:0', grad_fn=<SubBackward0>)\n",
      "epoch_error 4.907751441001892\n",
      "recons tensor(1.2683, device='cuda:0', grad_fn=<MseLossBackward>)\n",
      "mmd_err tensor(0.0036, device='cuda:0', grad_fn=<SubBackward0>)\n",
      "epoch_error 6.179723024368286\n"
     ]
    },
    {
     "name": "stderr",
     "output_type": "stream",
     "text": [
      "\r",
      "Finished epoch 76 of 100; error is 1.271971583366394"
     ]
    },
    {
     "name": "stdout",
     "output_type": "stream",
     "text": [
      "recons tensor(1.2141, device='cuda:0', grad_fn=<MseLossBackward>)\n",
      "mmd_err tensor(0.0041, device='cuda:0', grad_fn=<SubBackward0>)\n",
      "epoch_error 1.2181845903396606\n",
      "recons tensor(1.2325, device='cuda:0', grad_fn=<MseLossBackward>)\n",
      "mmd_err tensor(0.0040, device='cuda:0', grad_fn=<SubBackward0>)\n",
      "epoch_error 2.4546583890914917\n",
      "recons tensor(1.2495, device='cuda:0', grad_fn=<MseLossBackward>)\n",
      "mmd_err tensor(0.0035, device='cuda:0', grad_fn=<SubBackward0>)\n",
      "epoch_error 3.7076416015625\n",
      "recons tensor(1.2286, device='cuda:0', grad_fn=<MseLossBackward>)\n",
      "mmd_err tensor(0.0041, device='cuda:0', grad_fn=<SubBackward0>)\n",
      "epoch_error 4.940316081047058\n",
      "recons tensor(1.2030, device='cuda:0', grad_fn=<MseLossBackward>)\n",
      "mmd_err tensor(0.0041, device='cuda:0', grad_fn=<SubBackward0>)\n",
      "epoch_error 6.147357106208801\n"
     ]
    },
    {
     "name": "stderr",
     "output_type": "stream",
     "text": [
      "\r",
      "Finished epoch 77 of 100; error is 1.2070410251617432"
     ]
    },
    {
     "name": "stdout",
     "output_type": "stream",
     "text": [
      "recons tensor(1.2855, device='cuda:0', grad_fn=<MseLossBackward>)\n",
      "mmd_err tensor(0.0035, device='cuda:0', grad_fn=<SubBackward0>)\n",
      "epoch_error 1.2890574932098389\n",
      "recons tensor(1.2467, device='cuda:0', grad_fn=<MseLossBackward>)\n",
      "mmd_err tensor(0.0041, device='cuda:0', grad_fn=<SubBackward0>)\n",
      "epoch_error 2.5399187803268433\n",
      "recons tensor(1.1506, device='cuda:0', grad_fn=<MseLossBackward>)\n",
      "mmd_err tensor(0.0039, device='cuda:0', grad_fn=<SubBackward0>)\n",
      "epoch_error 3.6943745613098145\n",
      "recons tensor(1.1960, device='cuda:0', grad_fn=<MseLossBackward>)\n",
      "mmd_err tensor(0.0032, device='cuda:0', grad_fn=<SubBackward0>)\n",
      "epoch_error 4.893594980239868\n",
      "recons tensor(1.2555, device='cuda:0', grad_fn=<MseLossBackward>)\n",
      "mmd_err tensor(0.0041, device='cuda:0', grad_fn=<SubBackward0>)\n",
      "epoch_error 6.153162360191345\n"
     ]
    },
    {
     "name": "stderr",
     "output_type": "stream",
     "text": [
      "\r",
      "Finished epoch 78 of 100; error is 1.259567379951477"
     ]
    },
    {
     "name": "stdout",
     "output_type": "stream",
     "text": [
      "recons tensor(1.2420, device='cuda:0', grad_fn=<MseLossBackward>)\n",
      "mmd_err tensor(0.0042, device='cuda:0', grad_fn=<SubBackward0>)\n",
      "epoch_error 1.2461837530136108\n",
      "recons tensor(1.2271, device='cuda:0', grad_fn=<MseLossBackward>)\n",
      "mmd_err tensor(0.0034, device='cuda:0', grad_fn=<SubBackward0>)\n",
      "epoch_error 2.4766911268234253\n",
      "recons tensor(1.1857, device='cuda:0', grad_fn=<MseLossBackward>)\n",
      "mmd_err tensor(0.0038, device='cuda:0', grad_fn=<SubBackward0>)\n",
      "epoch_error 3.666160464286804\n",
      "recons tensor(1.2131, device='cuda:0', grad_fn=<MseLossBackward>)\n",
      "mmd_err tensor(0.0038, device='cuda:0', grad_fn=<SubBackward0>)\n",
      "epoch_error 4.883133769035339\n",
      "recons tensor(1.2146, device='cuda:0', grad_fn=<MseLossBackward>)\n",
      "mmd_err tensor(0.0036, device='cuda:0', grad_fn=<SubBackward0>)\n",
      "epoch_error 6.101376414299011\n"
     ]
    },
    {
     "name": "stderr",
     "output_type": "stream",
     "text": [
      "\r",
      "Finished epoch 79 of 100; error is 1.2182426452636719"
     ]
    },
    {
     "name": "stdout",
     "output_type": "stream",
     "text": [
      "recons tensor(1.1780, device='cuda:0', grad_fn=<MseLossBackward>)\n",
      "mmd_err tensor(0.0036, device='cuda:0', grad_fn=<SubBackward0>)\n",
      "epoch_error 1.181591272354126\n",
      "recons tensor(1.1629, device='cuda:0', grad_fn=<MseLossBackward>)\n",
      "mmd_err tensor(0.0040, device='cuda:0', grad_fn=<SubBackward0>)\n",
      "epoch_error 2.348483681678772\n",
      "recons tensor(1.2283, device='cuda:0', grad_fn=<MseLossBackward>)\n",
      "mmd_err tensor(0.0038, device='cuda:0', grad_fn=<SubBackward0>)\n",
      "epoch_error 3.58058762550354\n",
      "recons tensor(1.1526, device='cuda:0', grad_fn=<MseLossBackward>)\n",
      "mmd_err tensor(0.0036, device='cuda:0', grad_fn=<SubBackward0>)\n",
      "epoch_error 4.736831784248352\n",
      "recons tensor(1.2962, device='cuda:0', grad_fn=<MseLossBackward>)\n",
      "mmd_err tensor(0.0039, device='cuda:0', grad_fn=<SubBackward0>)\n",
      "epoch_error 6.036932587623596\n"
     ]
    },
    {
     "name": "stderr",
     "output_type": "stream",
     "text": [
      "\r",
      "Finished epoch 80 of 100; error is 1.3001008033752441"
     ]
    },
    {
     "name": "stdout",
     "output_type": "stream",
     "text": [
      "recons tensor(1.1774, device='cuda:0', grad_fn=<MseLossBackward>)\n",
      "mmd_err tensor(0.0036, device='cuda:0', grad_fn=<SubBackward0>)\n",
      "epoch_error 1.1810188293457031\n",
      "recons tensor(1.2054, device='cuda:0', grad_fn=<MseLossBackward>)\n",
      "mmd_err tensor(0.0035, device='cuda:0', grad_fn=<SubBackward0>)\n",
      "epoch_error 2.3899985551834106\n",
      "recons tensor(1.2202, device='cuda:0', grad_fn=<MseLossBackward>)\n",
      "mmd_err tensor(0.0040, device='cuda:0', grad_fn=<SubBackward0>)\n",
      "epoch_error 3.6142009496688843\n",
      "recons tensor(1.1906, device='cuda:0', grad_fn=<MseLossBackward>)\n",
      "mmd_err tensor(0.0039, device='cuda:0', grad_fn=<SubBackward0>)\n",
      "epoch_error 4.808751463890076\n",
      "recons tensor(1.1670, device='cuda:0', grad_fn=<MseLossBackward>)\n",
      "mmd_err tensor(0.0035, device='cuda:0', grad_fn=<SubBackward0>)\n",
      "epoch_error 5.979164719581604\n"
     ]
    },
    {
     "name": "stderr",
     "output_type": "stream",
     "text": [
      "\r",
      "Finished epoch 81 of 100; error is 1.1704132556915283"
     ]
    },
    {
     "name": "stdout",
     "output_type": "stream",
     "text": [
      "recons tensor(1.2027, device='cuda:0', grad_fn=<MseLossBackward>)\n",
      "mmd_err tensor(0.0039, device='cuda:0', grad_fn=<SubBackward0>)\n",
      "epoch_error 1.2065266370773315\n",
      "recons tensor(1.1355, device='cuda:0', grad_fn=<MseLossBackward>)\n",
      "mmd_err tensor(0.0037, device='cuda:0', grad_fn=<SubBackward0>)\n",
      "epoch_error 2.345787286758423\n",
      "recons tensor(1.1296, device='cuda:0', grad_fn=<MseLossBackward>)\n",
      "mmd_err tensor(0.0033, device='cuda:0', grad_fn=<SubBackward0>)\n",
      "epoch_error 3.47867214679718\n",
      "recons tensor(1.1895, device='cuda:0', grad_fn=<MseLossBackward>)\n",
      "mmd_err tensor(0.0037, device='cuda:0', grad_fn=<SubBackward0>)\n",
      "epoch_error 4.671890139579773\n",
      "recons tensor(1.2919, device='cuda:0', grad_fn=<MseLossBackward>)\n",
      "mmd_err tensor(0.0040, device='cuda:0', grad_fn=<SubBackward0>)\n",
      "epoch_error 5.967844009399414\n"
     ]
    },
    {
     "name": "stderr",
     "output_type": "stream",
     "text": [
      "\r",
      "Finished epoch 82 of 100; error is 1.2959538698196411"
     ]
    },
    {
     "name": "stdout",
     "output_type": "stream",
     "text": [
      "recons tensor(1.1874, device='cuda:0', grad_fn=<MseLossBackward>)\n",
      "mmd_err tensor(0.0036, device='cuda:0', grad_fn=<SubBackward0>)\n",
      "epoch_error 1.1910409927368164\n",
      "recons tensor(1.1877, device='cuda:0', grad_fn=<MseLossBackward>)\n",
      "mmd_err tensor(0.0039, device='cuda:0', grad_fn=<SubBackward0>)\n",
      "epoch_error 2.3826797008514404\n",
      "recons tensor(1.1223, device='cuda:0', grad_fn=<MseLossBackward>)\n",
      "mmd_err tensor(0.0038, device='cuda:0', grad_fn=<SubBackward0>)\n",
      "epoch_error 3.508720636367798\n",
      "recons tensor(1.2294, device='cuda:0', grad_fn=<MseLossBackward>)\n",
      "mmd_err tensor(0.0037, device='cuda:0', grad_fn=<SubBackward0>)\n",
      "epoch_error 4.741841197013855\n",
      "recons tensor(1.1876, device='cuda:0', grad_fn=<MseLossBackward>)\n",
      "mmd_err tensor(0.0038, device='cuda:0', grad_fn=<SubBackward0>)\n",
      "epoch_error 5.933234930038452\n"
     ]
    },
    {
     "name": "stderr",
     "output_type": "stream",
     "text": [
      "\r",
      "Finished epoch 83 of 100; error is 1.1913937330245972"
     ]
    },
    {
     "name": "stdout",
     "output_type": "stream",
     "text": [
      "recons tensor(1.2068, device='cuda:0', grad_fn=<MseLossBackward>)\n",
      "mmd_err tensor(0.0040, device='cuda:0', grad_fn=<SubBackward0>)\n",
      "epoch_error 1.2107585668563843\n",
      "recons tensor(1.1315, device='cuda:0', grad_fn=<MseLossBackward>)\n",
      "mmd_err tensor(0.0032, device='cuda:0', grad_fn=<SubBackward0>)\n",
      "epoch_error 2.345483422279358\n",
      "recons tensor(1.1744, device='cuda:0', grad_fn=<MseLossBackward>)\n",
      "mmd_err tensor(0.0035, device='cuda:0', grad_fn=<SubBackward0>)\n",
      "epoch_error 3.5234084129333496\n",
      "recons tensor(1.1706, device='cuda:0', grad_fn=<MseLossBackward>)\n",
      "mmd_err tensor(0.0035, device='cuda:0', grad_fn=<SubBackward0>)\n",
      "epoch_error 4.697602391242981\n",
      "recons tensor(1.1954, device='cuda:0', grad_fn=<MseLossBackward>)\n",
      "mmd_err tensor(0.0036, device='cuda:0', grad_fn=<SubBackward0>)\n",
      "epoch_error 5.896629571914673\n"
     ]
    },
    {
     "name": "stderr",
     "output_type": "stream",
     "text": [
      "\r",
      "Finished epoch 84 of 100; error is 1.199027180671692"
     ]
    },
    {
     "name": "stdout",
     "output_type": "stream",
     "text": [
      "recons tensor(1.1688, device='cuda:0', grad_fn=<MseLossBackward>)\n",
      "mmd_err tensor(0.0037, device='cuda:0', grad_fn=<SubBackward0>)\n",
      "epoch_error 1.1724705696105957\n",
      "recons tensor(1.1553, device='cuda:0', grad_fn=<MseLossBackward>)\n",
      "mmd_err tensor(0.0037, device='cuda:0', grad_fn=<SubBackward0>)\n",
      "epoch_error 2.331472635269165\n",
      "recons tensor(1.1341, device='cuda:0', grad_fn=<MseLossBackward>)\n",
      "mmd_err tensor(0.0036, device='cuda:0', grad_fn=<SubBackward0>)\n",
      "epoch_error 3.4691264629364014\n",
      "recons tensor(1.1699, device='cuda:0', grad_fn=<MseLossBackward>)\n",
      "mmd_err tensor(0.0036, device='cuda:0', grad_fn=<SubBackward0>)\n",
      "epoch_error 4.642625093460083\n",
      "recons tensor(1.2320, device='cuda:0', grad_fn=<MseLossBackward>)\n",
      "mmd_err tensor(0.0037, device='cuda:0', grad_fn=<SubBackward0>)\n",
      "epoch_error 5.878297448158264\n"
     ]
    },
    {
     "name": "stderr",
     "output_type": "stream",
     "text": [
      "\r",
      "Finished epoch 85 of 100; error is 1.2356723546981812"
     ]
    },
    {
     "name": "stdout",
     "output_type": "stream",
     "text": [
      "recons tensor(1.1998, device='cuda:0', grad_fn=<MseLossBackward>)\n",
      "mmd_err tensor(0.0040, device='cuda:0', grad_fn=<SubBackward0>)\n",
      "epoch_error 1.2037912607192993\n",
      "recons tensor(1.1124, device='cuda:0', grad_fn=<MseLossBackward>)\n",
      "mmd_err tensor(0.0036, device='cuda:0', grad_fn=<SubBackward0>)\n",
      "epoch_error 2.3198304176330566\n",
      "recons tensor(1.2173, device='cuda:0', grad_fn=<MseLossBackward>)\n",
      "mmd_err tensor(0.0037, device='cuda:0', grad_fn=<SubBackward0>)\n",
      "epoch_error 3.540789246559143\n",
      "recons tensor(1.1706, device='cuda:0', grad_fn=<MseLossBackward>)\n",
      "mmd_err tensor(0.0037, device='cuda:0', grad_fn=<SubBackward0>)\n",
      "epoch_error 4.715106248855591\n",
      "recons tensor(1.1500, device='cuda:0', grad_fn=<MseLossBackward>)\n",
      "mmd_err tensor(0.0033, device='cuda:0', grad_fn=<SubBackward0>)\n",
      "epoch_error 5.868414878845215\n"
     ]
    },
    {
     "name": "stderr",
     "output_type": "stream",
     "text": [
      "\r",
      "Finished epoch 86 of 100; error is 1.153308629989624"
     ]
    },
    {
     "name": "stdout",
     "output_type": "stream",
     "text": [
      "recons tensor(1.1477, device='cuda:0', grad_fn=<MseLossBackward>)\n",
      "mmd_err tensor(0.0034, device='cuda:0', grad_fn=<SubBackward0>)\n",
      "epoch_error 1.1510998010635376\n",
      "recons tensor(1.1646, device='cuda:0', grad_fn=<MseLossBackward>)\n",
      "mmd_err tensor(0.0037, device='cuda:0', grad_fn=<SubBackward0>)\n",
      "epoch_error 2.3193939924240112\n",
      "recons tensor(1.2162, device='cuda:0', grad_fn=<MseLossBackward>)\n",
      "mmd_err tensor(0.0034, device='cuda:0', grad_fn=<SubBackward0>)\n",
      "epoch_error 3.5390045642852783\n",
      "recons tensor(1.1523, device='cuda:0', grad_fn=<MseLossBackward>)\n",
      "mmd_err tensor(0.0037, device='cuda:0', grad_fn=<SubBackward0>)\n",
      "epoch_error 4.69505512714386\n",
      "recons tensor(1.1562, device='cuda:0', grad_fn=<MseLossBackward>)\n",
      "mmd_err tensor(0.0036, device='cuda:0', grad_fn=<SubBackward0>)\n",
      "epoch_error 5.854853868484497\n"
     ]
    },
    {
     "name": "stderr",
     "output_type": "stream",
     "text": [
      "\r",
      "Finished epoch 87 of 100; error is 1.1597987413406372"
     ]
    },
    {
     "name": "stdout",
     "output_type": "stream",
     "text": [
      "recons tensor(1.1567, device='cuda:0', grad_fn=<MseLossBackward>)\n",
      "mmd_err tensor(0.0031, device='cuda:0', grad_fn=<SubBackward0>)\n",
      "epoch_error 1.159856915473938\n",
      "recons tensor(1.1917, device='cuda:0', grad_fn=<MseLossBackward>)\n",
      "mmd_err tensor(0.0037, device='cuda:0', grad_fn=<SubBackward0>)\n",
      "epoch_error 2.3552966117858887\n",
      "recons tensor(1.1804, device='cuda:0', grad_fn=<MseLossBackward>)\n",
      "mmd_err tensor(0.0035, device='cuda:0', grad_fn=<SubBackward0>)\n",
      "epoch_error 3.539217948913574\n",
      "recons tensor(1.1180, device='cuda:0', grad_fn=<MseLossBackward>)\n",
      "mmd_err tensor(0.0034, device='cuda:0', grad_fn=<SubBackward0>)\n",
      "epoch_error 4.660597443580627\n",
      "recons tensor(1.2128, device='cuda:0', grad_fn=<MseLossBackward>)\n",
      "mmd_err tensor(0.0039, device='cuda:0', grad_fn=<SubBackward0>)\n",
      "epoch_error 5.8772804737091064\n"
     ]
    },
    {
     "name": "stderr",
     "output_type": "stream",
     "text": [
      "\r",
      "Finished epoch 88 of 100; error is 1.216683030128479"
     ]
    },
    {
     "name": "stdout",
     "output_type": "stream",
     "text": [
      "recons tensor(1.1628, device='cuda:0', grad_fn=<MseLossBackward>)\n",
      "mmd_err tensor(0.0032, device='cuda:0', grad_fn=<SubBackward0>)\n",
      "epoch_error 1.1660372018814087\n",
      "recons tensor(1.1543, device='cuda:0', grad_fn=<MseLossBackward>)\n",
      "mmd_err tensor(0.0036, device='cuda:0', grad_fn=<SubBackward0>)\n",
      "epoch_error 2.323917865753174\n",
      "recons tensor(1.1470, device='cuda:0', grad_fn=<MseLossBackward>)\n",
      "mmd_err tensor(0.0037, device='cuda:0', grad_fn=<SubBackward0>)\n",
      "epoch_error 3.4745850563049316\n",
      "recons tensor(1.1966, device='cuda:0', grad_fn=<MseLossBackward>)\n",
      "mmd_err tensor(0.0034, device='cuda:0', grad_fn=<SubBackward0>)\n",
      "epoch_error 4.674634695053101\n",
      "recons tensor(1.1592, device='cuda:0', grad_fn=<MseLossBackward>)\n",
      "mmd_err tensor(0.0034, device='cuda:0', grad_fn=<SubBackward0>)\n",
      "epoch_error 5.837217807769775\n"
     ]
    },
    {
     "name": "stderr",
     "output_type": "stream",
     "text": [
      "\r",
      "Finished epoch 89 of 100; error is 1.1625831127166748"
     ]
    },
    {
     "name": "stdout",
     "output_type": "stream",
     "text": [
      "recons tensor(1.1006, device='cuda:0', grad_fn=<MseLossBackward>)\n",
      "mmd_err tensor(0.0034, device='cuda:0', grad_fn=<SubBackward0>)\n",
      "epoch_error 1.1040349006652832\n",
      "recons tensor(1.2076, device='cuda:0', grad_fn=<MseLossBackward>)\n",
      "mmd_err tensor(0.0034, device='cuda:0', grad_fn=<SubBackward0>)\n",
      "epoch_error 2.315032124519348\n",
      "recons tensor(1.1533, device='cuda:0', grad_fn=<MseLossBackward>)\n",
      "mmd_err tensor(0.0036, device='cuda:0', grad_fn=<SubBackward0>)\n",
      "epoch_error 3.471902012825012\n",
      "recons tensor(1.1516, device='cuda:0', grad_fn=<MseLossBackward>)\n",
      "mmd_err tensor(0.0035, device='cuda:0', grad_fn=<SubBackward0>)\n",
      "epoch_error 4.6269237995147705\n",
      "recons tensor(1.1953, device='cuda:0', grad_fn=<MseLossBackward>)\n",
      "mmd_err tensor(0.0033, device='cuda:0', grad_fn=<SubBackward0>)\n",
      "epoch_error 5.825542449951172\n"
     ]
    },
    {
     "name": "stderr",
     "output_type": "stream",
     "text": [
      "\r",
      "Finished epoch 90 of 100; error is 1.1986186504364014"
     ]
    },
    {
     "name": "stdout",
     "output_type": "stream",
     "text": [
      "recons tensor(1.1806, device='cuda:0', grad_fn=<MseLossBackward>)\n",
      "mmd_err tensor(0.0038, device='cuda:0', grad_fn=<SubBackward0>)\n",
      "epoch_error 1.1843576431274414\n",
      "recons tensor(1.1799, device='cuda:0', grad_fn=<MseLossBackward>)\n",
      "mmd_err tensor(0.0035, device='cuda:0', grad_fn=<SubBackward0>)\n",
      "epoch_error 2.3676815032958984\n",
      "recons tensor(1.1279, device='cuda:0', grad_fn=<MseLossBackward>)\n",
      "mmd_err tensor(0.0032, device='cuda:0', grad_fn=<SubBackward0>)\n",
      "epoch_error 3.498807668685913\n",
      "recons tensor(1.1236, device='cuda:0', grad_fn=<MseLossBackward>)\n",
      "mmd_err tensor(0.0035, device='cuda:0', grad_fn=<SubBackward0>)\n",
      "epoch_error 4.625850558280945\n",
      "recons tensor(1.1663, device='cuda:0', grad_fn=<MseLossBackward>)\n",
      "mmd_err tensor(0.0037, device='cuda:0', grad_fn=<SubBackward0>)\n",
      "epoch_error 5.7958351373672485\n"
     ]
    },
    {
     "name": "stderr",
     "output_type": "stream",
     "text": [
      "\r",
      "Finished epoch 91 of 100; error is 1.1699845790863037"
     ]
    },
    {
     "name": "stdout",
     "output_type": "stream",
     "text": [
      "recons tensor(1.1067, device='cuda:0', grad_fn=<MseLossBackward>)\n",
      "mmd_err tensor(0.0031, device='cuda:0', grad_fn=<SubBackward0>)\n",
      "epoch_error 1.1098405122756958\n",
      "recons tensor(1.1795, device='cuda:0', grad_fn=<MseLossBackward>)\n",
      "mmd_err tensor(0.0038, device='cuda:0', grad_fn=<SubBackward0>)\n",
      "epoch_error 2.2931504249572754\n",
      "recons tensor(1.1736, device='cuda:0', grad_fn=<MseLossBackward>)\n",
      "mmd_err tensor(0.0036, device='cuda:0', grad_fn=<SubBackward0>)\n",
      "epoch_error 3.470335364341736\n",
      "recons tensor(1.1678, device='cuda:0', grad_fn=<MseLossBackward>)\n",
      "mmd_err tensor(0.0031, device='cuda:0', grad_fn=<SubBackward0>)\n",
      "epoch_error 4.64125382900238\n",
      "recons tensor(1.2004, device='cuda:0', grad_fn=<MseLossBackward>)\n",
      "mmd_err tensor(0.0040, device='cuda:0', grad_fn=<SubBackward0>)\n",
      "epoch_error 5.8456162214279175\n"
     ]
    },
    {
     "name": "stderr",
     "output_type": "stream",
     "text": [
      "\r",
      "Finished epoch 92 of 100; error is 1.204362392425537"
     ]
    },
    {
     "name": "stdout",
     "output_type": "stream",
     "text": [
      "recons tensor(1.1556, device='cuda:0', grad_fn=<MseLossBackward>)\n",
      "mmd_err tensor(0.0032, device='cuda:0', grad_fn=<SubBackward0>)\n",
      "epoch_error 1.1587307453155518\n",
      "recons tensor(1.1432, device='cuda:0', grad_fn=<MseLossBackward>)\n",
      "mmd_err tensor(0.0031, device='cuda:0', grad_fn=<SubBackward0>)\n",
      "epoch_error 2.3050696849823\n",
      "recons tensor(1.1342, device='cuda:0', grad_fn=<MseLossBackward>)\n",
      "mmd_err tensor(0.0039, device='cuda:0', grad_fn=<SubBackward0>)\n",
      "epoch_error 3.443130850791931\n",
      "recons tensor(1.1789, device='cuda:0', grad_fn=<MseLossBackward>)\n",
      "mmd_err tensor(0.0036, device='cuda:0', grad_fn=<SubBackward0>)\n",
      "epoch_error 4.6255494356155396\n",
      "recons tensor(1.1670, device='cuda:0', grad_fn=<MseLossBackward>)\n",
      "mmd_err tensor(0.0034, device='cuda:0', grad_fn=<SubBackward0>)\n",
      "epoch_error 5.795939326286316\n"
     ]
    },
    {
     "name": "stderr",
     "output_type": "stream",
     "text": [
      "\r",
      "Finished epoch 93 of 100; error is 1.1703898906707764"
     ]
    },
    {
     "name": "stdout",
     "output_type": "stream",
     "text": [
      "recons tensor(1.0748, device='cuda:0', grad_fn=<MseLossBackward>)\n",
      "mmd_err tensor(0.0033, device='cuda:0', grad_fn=<SubBackward0>)\n",
      "epoch_error 1.078183650970459\n",
      "recons tensor(1.1670, device='cuda:0', grad_fn=<MseLossBackward>)\n",
      "mmd_err tensor(0.0034, device='cuda:0', grad_fn=<SubBackward0>)\n",
      "epoch_error 2.2485560178756714\n",
      "recons tensor(1.2195, device='cuda:0', grad_fn=<MseLossBackward>)\n",
      "mmd_err tensor(0.0036, device='cuda:0', grad_fn=<SubBackward0>)\n",
      "epoch_error 3.471694827079773\n",
      "recons tensor(1.1385, device='cuda:0', grad_fn=<MseLossBackward>)\n",
      "mmd_err tensor(0.0036, device='cuda:0', grad_fn=<SubBackward0>)\n",
      "epoch_error 4.613859176635742\n",
      "recons tensor(1.1871, device='cuda:0', grad_fn=<MseLossBackward>)\n",
      "mmd_err tensor(0.0034, device='cuda:0', grad_fn=<SubBackward0>)\n",
      "epoch_error 5.804373860359192\n"
     ]
    },
    {
     "name": "stderr",
     "output_type": "stream",
     "text": [
      "\r",
      "Finished epoch 94 of 100; error is 1.1905146837234497"
     ]
    },
    {
     "name": "stdout",
     "output_type": "stream",
     "text": [
      "recons tensor(1.1347, device='cuda:0', grad_fn=<MseLossBackward>)\n",
      "mmd_err tensor(0.0036, device='cuda:0', grad_fn=<SubBackward0>)\n",
      "epoch_error 1.138261079788208\n",
      "recons tensor(1.1580, device='cuda:0', grad_fn=<MseLossBackward>)\n",
      "mmd_err tensor(0.0033, device='cuda:0', grad_fn=<SubBackward0>)\n",
      "epoch_error 2.299632430076599\n",
      "recons tensor(1.1274, device='cuda:0', grad_fn=<MseLossBackward>)\n",
      "mmd_err tensor(0.0032, device='cuda:0', grad_fn=<SubBackward0>)\n",
      "epoch_error 3.43026864528656\n",
      "recons tensor(1.1840, device='cuda:0', grad_fn=<MseLossBackward>)\n",
      "mmd_err tensor(0.0035, device='cuda:0', grad_fn=<SubBackward0>)\n",
      "epoch_error 4.617778301239014\n",
      "recons tensor(1.1233, device='cuda:0', grad_fn=<MseLossBackward>)\n",
      "mmd_err tensor(0.0031, device='cuda:0', grad_fn=<SubBackward0>)\n",
      "epoch_error 5.7442262172698975\n"
     ]
    },
    {
     "name": "stderr",
     "output_type": "stream",
     "text": [
      "\r",
      "Finished epoch 95 of 100; error is 1.1264479160308838"
     ]
    },
    {
     "name": "stdout",
     "output_type": "stream",
     "text": [
      "recons tensor(1.1560, device='cuda:0', grad_fn=<MseLossBackward>)\n",
      "mmd_err tensor(0.0034, device='cuda:0', grad_fn=<SubBackward0>)\n",
      "epoch_error 1.1593661308288574\n",
      "recons tensor(1.1415, device='cuda:0', grad_fn=<MseLossBackward>)\n",
      "mmd_err tensor(0.0035, device='cuda:0', grad_fn=<SubBackward0>)\n",
      "epoch_error 2.3044490814208984\n",
      "recons tensor(1.1833, device='cuda:0', grad_fn=<MseLossBackward>)\n",
      "mmd_err tensor(0.0031, device='cuda:0', grad_fn=<SubBackward0>)\n",
      "epoch_error 3.4908355474472046\n",
      "recons tensor(1.1323, device='cuda:0', grad_fn=<MseLossBackward>)\n",
      "mmd_err tensor(0.0034, device='cuda:0', grad_fn=<SubBackward0>)\n",
      "epoch_error 4.626543164253235\n",
      "recons tensor(1.1431, device='cuda:0', grad_fn=<MseLossBackward>)\n",
      "mmd_err tensor(0.0037, device='cuda:0', grad_fn=<SubBackward0>)\n",
      "epoch_error 5.77339768409729\n"
     ]
    },
    {
     "name": "stderr",
     "output_type": "stream",
     "text": [
      "\r",
      "Finished epoch 96 of 100; error is 1.1468545198440552"
     ]
    },
    {
     "name": "stdout",
     "output_type": "stream",
     "text": [
      "recons tensor(1.1283, device='cuda:0', grad_fn=<MseLossBackward>)\n",
      "mmd_err tensor(0.0031, device='cuda:0', grad_fn=<SubBackward0>)\n",
      "epoch_error 1.1313564777374268\n",
      "recons tensor(1.1454, device='cuda:0', grad_fn=<MseLossBackward>)\n",
      "mmd_err tensor(0.0034, device='cuda:0', grad_fn=<SubBackward0>)\n",
      "epoch_error 2.280124306678772\n",
      "recons tensor(1.1599, device='cuda:0', grad_fn=<MseLossBackward>)\n",
      "mmd_err tensor(0.0034, device='cuda:0', grad_fn=<SubBackward0>)\n",
      "epoch_error 3.4434434175491333\n",
      "recons tensor(1.1335, device='cuda:0', grad_fn=<MseLossBackward>)\n",
      "mmd_err tensor(0.0033, device='cuda:0', grad_fn=<SubBackward0>)\n",
      "epoch_error 4.580190658569336\n",
      "recons tensor(1.1327, device='cuda:0', grad_fn=<MseLossBackward>)\n",
      "mmd_err tensor(0.0034, device='cuda:0', grad_fn=<SubBackward0>)\n",
      "epoch_error 5.716269493103027\n"
     ]
    },
    {
     "name": "stderr",
     "output_type": "stream",
     "text": [
      "\r",
      "Finished epoch 97 of 100; error is 1.1360788345336914"
     ]
    },
    {
     "name": "stdout",
     "output_type": "stream",
     "text": [
      "recons tensor(1.1160, device='cuda:0', grad_fn=<MseLossBackward>)\n",
      "mmd_err tensor(0.0032, device='cuda:0', grad_fn=<SubBackward0>)\n",
      "epoch_error 1.119118571281433\n",
      "recons tensor(1.1131, device='cuda:0', grad_fn=<MseLossBackward>)\n",
      "mmd_err tensor(0.0034, device='cuda:0', grad_fn=<SubBackward0>)\n",
      "epoch_error 2.235668659210205\n",
      "recons tensor(1.1183, device='cuda:0', grad_fn=<MseLossBackward>)\n",
      "mmd_err tensor(0.0035, device='cuda:0', grad_fn=<SubBackward0>)\n",
      "epoch_error 3.3574358224868774\n",
      "recons tensor(1.1540, device='cuda:0', grad_fn=<MseLossBackward>)\n",
      "mmd_err tensor(0.0034, device='cuda:0', grad_fn=<SubBackward0>)\n",
      "epoch_error 4.51481568813324\n",
      "recons tensor(1.1554, device='cuda:0', grad_fn=<MseLossBackward>)\n",
      "mmd_err tensor(0.0034, device='cuda:0', grad_fn=<SubBackward0>)\n",
      "epoch_error 5.673559784889221\n"
     ]
    },
    {
     "name": "stderr",
     "output_type": "stream",
     "text": [
      "\r",
      "Finished epoch 98 of 100; error is 1.1587440967559814"
     ]
    },
    {
     "name": "stdout",
     "output_type": "stream",
     "text": [
      "recons tensor(1.1230, device='cuda:0', grad_fn=<MseLossBackward>)\n",
      "mmd_err tensor(0.0032, device='cuda:0', grad_fn=<SubBackward0>)\n",
      "epoch_error 1.12625253200531\n",
      "recons tensor(1.1217, device='cuda:0', grad_fn=<MseLossBackward>)\n",
      "mmd_err tensor(0.0032, device='cuda:0', grad_fn=<SubBackward0>)\n",
      "epoch_error 2.2511885166168213\n",
      "recons tensor(1.1907, device='cuda:0', grad_fn=<MseLossBackward>)\n",
      "mmd_err tensor(0.0031, device='cuda:0', grad_fn=<SubBackward0>)\n",
      "epoch_error 3.444967269897461\n",
      "recons tensor(1.1321, device='cuda:0', grad_fn=<MseLossBackward>)\n",
      "mmd_err tensor(0.0036, device='cuda:0', grad_fn=<SubBackward0>)\n",
      "epoch_error 4.580617547035217\n",
      "recons tensor(1.1059, device='cuda:0', grad_fn=<MseLossBackward>)\n",
      "mmd_err tensor(0.0028, device='cuda:0', grad_fn=<SubBackward0>)\n",
      "epoch_error 5.689290761947632\n"
     ]
    },
    {
     "name": "stderr",
     "output_type": "stream",
     "text": [
      "\r",
      "Finished epoch 99 of 100; error is 1.1086732149124146"
     ]
    },
    {
     "name": "stdout",
     "output_type": "stream",
     "text": [
      "recons tensor(1.0879, device='cuda:0', grad_fn=<MseLossBackward>)\n",
      "mmd_err tensor(0.0033, device='cuda:0', grad_fn=<SubBackward0>)\n",
      "epoch_error 1.0911890268325806\n",
      "recons tensor(1.1242, device='cuda:0', grad_fn=<MseLossBackward>)\n",
      "mmd_err tensor(0.0037, device='cuda:0', grad_fn=<SubBackward0>)\n",
      "epoch_error 2.2190468311309814\n",
      "recons tensor(1.1647, device='cuda:0', grad_fn=<MseLossBackward>)\n",
      "mmd_err tensor(0.0031, device='cuda:0', grad_fn=<SubBackward0>)\n",
      "epoch_error 3.38686466217041\n",
      "recons tensor(1.1413, device='cuda:0', grad_fn=<MseLossBackward>)\n",
      "mmd_err tensor(0.0032, device='cuda:0', grad_fn=<SubBackward0>)\n",
      "epoch_error 4.531291365623474\n",
      "recons tensor(1.1433, device='cuda:0', grad_fn=<MseLossBackward>)\n",
      "mmd_err tensor(0.0034, device='cuda:0', grad_fn=<SubBackward0>)\n",
      "epoch_error 5.678016543388367\n"
     ]
    },
    {
     "name": "stderr",
     "output_type": "stream",
     "text": [
      "\r",
      "Finished epoch 100 of 100; error is 1.1467251777648926"
     ]
    },
    {
     "name": "stdout",
     "output_type": "stream",
     "text": [
      "neighbours_enriched\n",
      "finance        0.000000\n",
      "investment     0.117755\n",
      "banking        0.141329\n",
      "investments    0.141360\n",
      "fund           0.185637\n",
      "dtype: float64\n"
     ]
    }
   ],
   "source": []
  },
  {
   "cell_type": "code",
   "execution_count": 53,
   "metadata": {},
   "outputs": [
    {
     "name": "stderr",
     "output_type": "stream",
     "text": [
      "Converged at iteration 8; change was 0.0044 "
     ]
    },
    {
     "name": "stdout",
     "output_type": "stream",
     "text": [
      "neighbours_retro\n",
      "finance        0.000000\n",
      "investment     0.114872\n",
      "banking        0.126206\n",
      "investments    0.139357\n",
      "interest       0.173808\n",
      "dtype: float64\n"
     ]
    }
   ],
   "source": [
    "\n"
   ]
  },
  {
   "cell_type": "code",
   "execution_count": null,
   "metadata": {},
   "outputs": [],
   "source": []
  },
  {
   "cell_type": "code",
   "execution_count": 45,
   "metadata": {},
   "outputs": [
    {
     "name": "stdout",
     "output_type": "stream",
     "text": [
      "neighbours_enriched\n",
      "finance        0.000000\n",
      "investment     0.114872\n",
      "banking        0.126206\n",
      "investments    0.139357\n",
      "monetary       0.182607\n",
      "dtype: float64\n"
     ]
    }
   ],
   "source": []
  },
  {
   "cell_type": "code",
   "execution_count": null,
   "metadata": {},
   "outputs": [],
   "source": [
    "# On an otherwise blank line in this cell, please enter\n",
    "# your \"Macro-average\" value as reported by the code above. \n",
    "# Please enter only a number between 0 and 1 inclusive.\n",
    "# Please do not remove this comment.\n",
    "if 'IS_GRADESCOPE_ENV' not in os.environ:\n",
    "    pass\n",
    "    # Please enter your score in the scope of the above conditional.\n",
    "    ##### YOUR CODE HERE\n",
    "\n",
    "\n"
   ]
  }
 ],
 "metadata": {
  "kernelspec": {
   "display_name": "nlu",
   "language": "python",
   "name": "nlu"
  },
  "language_info": {
   "codemirror_mode": {
    "name": "ipython",
    "version": 3
   },
   "file_extension": ".py",
   "mimetype": "text/x-python",
   "name": "python",
   "nbconvert_exporter": "python",
   "pygments_lexer": "ipython3",
   "version": "3.7.7"
  },
  "widgets": {
   "state": {},
   "version": "1.1.2"
  }
 },
 "nbformat": 4,
 "nbformat_minor": 2
}
