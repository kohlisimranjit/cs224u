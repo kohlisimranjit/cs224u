{
 "cells": [
  {
   "cell_type": "code",
   "execution_count": 1,
   "metadata": {},
   "outputs": [],
   "source": [
    "__author__ = \"Christopher Potts\"\n",
    "__version__ = \"CS224u, Stanford, Spring 2020\""
   ]
  },
  {
   "cell_type": "markdown",
   "metadata": {},
   "source": [
    "## Contents\n",
    "\n",
    "1. [Overview](#Overview)\n",
    "1. [Set-up](#Set-up)\n",
    "1. [All two-word examples as a dev corpus](#All-two-word-examples-as-a-dev-corpus)\n",
    "1. [Dev dataset](#Dev-dataset)\n",
    "1. [Random train–test split for development](#Random-train–test-split-for-development)\n",
    "1. [Question 1: Improve the tokenizer [1 point]](#Question-1:-Improve-the-tokenizer-[1-point])\n",
    "1. [Use the tokenizer](#Use-the-tokenizer)\n",
    "1. [Question 2: Improve the color representations [1 point]](#Question-2:-Improve-the-color-representations-[1-point])\n",
    "1. [Use the color representer](#Use-the-color-representer)\n",
    "1. [Initial model](#Initial-model)\n",
    "1. [Question 3: GloVe embeddings [1 points]](#Question-3:-GloVe-embeddings-[1-points])\n",
    "1. [Try the GloVe representations](#Try-the-GloVe-representations)\n",
    "1. [Question 4: Color context [3 points]](#Question-4:-Color-context-[3-points])\n",
    "1. [Your original system [3 points]](#Your-original-system-[3-points])\n",
    "1. [Bakeoff [1 point]](#Bakeoff-[1-point])"
   ]
  },
  {
   "cell_type": "markdown",
   "metadata": {},
   "source": [
    "## Overview\n",
    "\n",
    "This homework and associated bake-off are oriented toward building an effective system for generating color descriptions that are pragmatic in the sense that they would help a reader/listener figure out which color was being referred to in a shared context consisting of a target color (whose identity is known only to the describer/speaker) and a set of distractors.\n",
    "\n",
    "The notebook [colors_overview.ipynb](colors_overview.ipynb) should be studied before work on this homework begins. That notebook provides backgroud on the task, the dataset, and the modeling code that you will be using and adapting.\n",
    "\n",
    "The homework questions are more open-ended than previous ones have been. Rather than asking you to implement pre-defined functionality, they ask you to try to improve baseline components of the full system in ways that you find to be effective. As usual, this culiminates in a prompt asking you to develop a novel system for entry into the bake-off. In this case, though, the work you do for the homework will likely be directly incorporated into that system."
   ]
  },
  {
   "cell_type": "markdown",
   "metadata": {},
   "source": [
    "## Set-up"
   ]
  },
  {
   "cell_type": "markdown",
   "metadata": {},
   "source": [
    "See [colors_overview.ipynb](colors_overview.ipynb) for set-up in instructions and other background details."
   ]
  },
  {
   "cell_type": "code",
   "execution_count": 1,
   "metadata": {},
   "outputs": [],
   "source": [
    "from colors import ColorsCorpusReader\n",
    "import os\n",
    "from sklearn.model_selection import train_test_split\n",
    "from torch_color_describer import (\n",
    "    ContextualColorDescriber, create_example_dataset)\n",
    "import utils\n",
    "from utils import START_SYMBOL, END_SYMBOL, UNK_SYMBOL"
   ]
  },
  {
   "cell_type": "code",
   "execution_count": 2,
   "metadata": {},
   "outputs": [],
   "source": [
    "utils.fix_random_seeds()"
   ]
  },
  {
   "cell_type": "code",
   "execution_count": 3,
   "metadata": {},
   "outputs": [],
   "source": [
    "COLORS_SRC_FILENAME = os.path.join(\n",
    "    \"data\", \"colors\", \"filteredCorpus.csv\")"
   ]
  },
  {
   "cell_type": "markdown",
   "metadata": {},
   "source": [
    "## All two-word examples as a dev corpus\n",
    "\n",
    "So that you don't have to sit through excessively long training runs during development, I suggest working with the two-word-only subset of the corpus until you enter into the late stages of system testing."
   ]
  },
  {
   "cell_type": "code",
   "execution_count": 4,
   "metadata": {},
   "outputs": [],
   "source": [
    "dev_corpus = ColorsCorpusReader(\n",
    "    COLORS_SRC_FILENAME, \n",
    "    word_count=2, \n",
    "    normalize_colors=True)"
   ]
  },
  {
   "cell_type": "code",
   "execution_count": 5,
   "metadata": {},
   "outputs": [],
   "source": [
    "dev_examples = list(dev_corpus.read())"
   ]
  },
  {
   "cell_type": "markdown",
   "metadata": {},
   "source": [
    "This subset has about one-third the examples of the full corpus:"
   ]
  },
  {
   "cell_type": "code",
   "execution_count": 6,
   "metadata": {},
   "outputs": [
    {
     "data": {
      "text/plain": [
       "13890"
      ]
     },
     "execution_count": 6,
     "metadata": {},
     "output_type": "execute_result"
    }
   ],
   "source": [
    "len(dev_examples)"
   ]
  },
  {
   "cell_type": "markdown",
   "metadata": {},
   "source": [
    "We __should__ worry that it's not a fully representative sample. Most of the descriptions in the full corpus are shorter, and a large proportion are longer. So this dataset is mainly for debugging, development, and general hill-climbing. All findings should be validated on the full dataset at some point."
   ]
  },
  {
   "cell_type": "markdown",
   "metadata": {},
   "source": [
    "## Dev dataset\n",
    "\n",
    "The first step is to extract the raw color and raw texts from the corpus:"
   ]
  },
  {
   "cell_type": "code",
   "execution_count": 7,
   "metadata": {},
   "outputs": [],
   "source": [
    "dev_rawcols, dev_texts = zip(*[[ex.colors, ex.contents] for ex in dev_examples])"
   ]
  },
  {
   "cell_type": "markdown",
   "metadata": {},
   "source": [
    "The raw color representations are suitable inputs to a model, but the texts are just strings, so they can't really be processed as-is. Question 1 asks you to do some tokenizing!"
   ]
  },
  {
   "cell_type": "markdown",
   "metadata": {},
   "source": [
    "## Random train–test split for development\n",
    "\n",
    "For the sake of development runs, we create a random train–test split:"
   ]
  },
  {
   "cell_type": "code",
   "execution_count": 8,
   "metadata": {},
   "outputs": [],
   "source": [
    "dev_rawcols_train, dev_rawcols_test, dev_texts_train, dev_texts_test = \\\n",
    "    train_test_split(dev_rawcols, dev_texts)"
   ]
  },
  {
   "cell_type": "markdown",
   "metadata": {},
   "source": [
    "## Question 1: Improve the tokenizer [1 point]\n",
    "\n",
    "This is the first required question – the first required modification to the default pipeline.\n",
    "\n",
    "The function `tokenize_example` simply splits its string on whitespace and adds the required start and end symbols:"
   ]
  },
  {
   "cell_type": "code",
   "execution_count": 17,
   "metadata": {},
   "outputs": [],
   "source": [
    "def tokenize_example(s):\n",
    "    \n",
    "    # Improve me!\n",
    "    from nltk.tokenize.treebank import TreebankWordTokenizer, TreebankWordDetokenizer\n",
    "    t = TreebankWordTokenizer()\n",
    "    toks = [START_SYMBOL] + t.tokenize(s)+ [END_SYMBOL]\n",
    "    return toks\n",
    "    #return [START_SYMBOL] + s.split() + [END_SYMBOL]\n",
    "    "
   ]
  },
  {
   "cell_type": "code",
   "execution_count": 18,
   "metadata": {},
   "outputs": [
    {
     "data": {
      "text/plain": [
       "['<s>', 'aqua', ',', 'teal', '</s>']"
      ]
     },
     "execution_count": 18,
     "metadata": {},
     "output_type": "execute_result"
    }
   ],
   "source": [
    "tokenize_example(dev_texts_train[376])"
   ]
  },
  {
   "cell_type": "markdown",
   "metadata": {},
   "source": [
    "__Your task__: Modify `tokenize_example` so that it does something more sophisticated with the input text. \n",
    "\n",
    "__Notes__:\n",
    "\n",
    "* There are useful ideas for this in [Monroe et al. 2017](https://transacl.org/ojs/index.php/tacl/article/view/1142)\n",
    "* There is no requirement that you do word-level tokenization. Sub-word and multi-word are options.\n",
    "* This question can interact with the size of your vocabulary (see just below), and in turn with decisions about how to use `UNK_SYMBOL`.\n",
    "\n",
    "__Important__: don't forget to add the start and end symbols, else the resulting models will definitely be terrible!"
   ]
  },
  {
   "cell_type": "markdown",
   "metadata": {},
   "source": [
    "## Use the tokenizer"
   ]
  },
  {
   "cell_type": "markdown",
   "metadata": {},
   "source": [
    "Once the tokenizer is working, run the following cell to tokenize your inputs:"
   ]
  },
  {
   "cell_type": "code",
   "execution_count": 19,
   "metadata": {},
   "outputs": [],
   "source": [
    "dev_seqs_train = [tokenize_example(s) for s in dev_texts_train]\n",
    "\n",
    "dev_seqs_test = [tokenize_example(s) for s in dev_texts_test]"
   ]
  },
  {
   "cell_type": "markdown",
   "metadata": {},
   "source": [
    "We use only the train set to derive a vocabulary for the model:"
   ]
  },
  {
   "cell_type": "code",
   "execution_count": 20,
   "metadata": {},
   "outputs": [],
   "source": [
    "dev_vocab = sorted({w for toks in dev_seqs_train for w in toks}) + [UNK_SYMBOL]"
   ]
  },
  {
   "cell_type": "markdown",
   "metadata": {},
   "source": [
    "It's important that the `UNK_SYMBOL` is included somewhere in this list. Test examples with word not seen in training will be mapped to `UNK_SYMBOL`. If you model's vocab is the same as your train vocab, then `UNK_SYMBOL` will never be encountered during training, so it will be a random vector at test time."
   ]
  },
  {
   "cell_type": "code",
   "execution_count": 21,
   "metadata": {},
   "outputs": [
    {
     "data": {
      "text/plain": [
       "1302"
      ]
     },
     "execution_count": 21,
     "metadata": {},
     "output_type": "execute_result"
    }
   ],
   "source": [
    "len(dev_vocab)"
   ]
  },
  {
   "cell_type": "markdown",
   "metadata": {},
   "source": [
    "## Question 2: Improve the color representations [1 point]\n",
    "\n",
    "This is the second required pipeline improvement for the assignment. \n",
    "\n",
    "The following functions do nothing at all to the raw input colors we get from the corpus. "
   ]
  },
  {
   "cell_type": "code",
   "execution_count": 51,
   "metadata": {},
   "outputs": [],
   "source": [
    "def represent_color_context(colors):\n",
    "    import numpy as np\n",
    "    # Improve me!\n",
    "    # https://arxiv.org/pdf/1606.03821.pdf\n",
    "    color_fft = np.fft.fftn(colors, (2,27))\n",
    "    #return [represent_color(color) for color in colors]\n",
    "    return color_fft\n",
    "\n",
    "def represent_color(color):\n",
    "    import numpy as np\n",
    "    # Improve me!\n",
    "    color_fft = np.fft.fftn(color, axes=(1))\n",
    "    #return color\n",
    "    return color_fft"
   ]
  },
  {
   "cell_type": "code",
   "execution_count": 52,
   "metadata": {},
   "outputs": [
    {
     "data": {
      "text/plain": [
       "array([[ 2.32166667+0.j        ,  2.25429194-0.40115956j,\n",
       "         2.06221957-0.75360599j,  1.77369742-1.01701456j,\n",
       "         1.42984003-1.16615921j,  1.07697461-1.19461809j,\n",
       "         0.75823165-1.11477541j,  0.50609126-0.95419285j,\n",
       "         0.33737807-0.7491761j ,  0.25166667-0.53693575j,\n",
       "         0.23332999-0.34801654j,  0.25668917-0.20058686j,\n",
       "         0.29307093-0.09776085j,  0.31818536-0.02845888j,\n",
       "         0.31818536+0.02845888j,  0.29307093+0.09776085j,\n",
       "         0.25668917+0.20058686j,  0.23332999+0.34801654j,\n",
       "         0.25166667+0.53693575j,  0.33737807+0.7491761j ,\n",
       "         0.50609126+0.95419285j,  0.75823165+1.11477541j,\n",
       "         1.07697461+1.19461809j,  1.42984003+1.16615921j,\n",
       "         1.77369742+1.01701456j,  2.06221957+0.75360599j,\n",
       "         2.25429194+0.40115956j],\n",
       "       [-0.71277778+0.j        , -0.695759  +0.07180787j,\n",
       "        -0.64832315+0.12833971j, -0.58056149+0.15756924j,\n",
       "        -0.50688926+0.15327832j, -0.44297912+0.11637978j,\n",
       "        -0.40242696+0.05472322j, -0.39385964-0.01857487j,\n",
       "        -0.41909973-0.08792144j, -0.47277778-0.13856406j,\n",
       "        -0.54347461-0.15972931j, -0.61615054-0.14691458j,\n",
       "        -0.67534489-0.10284602j, -0.70846496-0.03689854j,\n",
       "        -0.70846496+0.03689854j, -0.67534489+0.10284602j,\n",
       "        -0.61615054+0.14691458j, -0.54347461+0.15972931j,\n",
       "        -0.47277778+0.13856406j, -0.41909973+0.08792144j,\n",
       "        -0.39385964+0.01857487j, -0.40242696-0.05472322j,\n",
       "        -0.44297912-0.11637978j, -0.50688926-0.15327832j,\n",
       "        -0.58056149-0.15756924j, -0.64832315-0.12833971j,\n",
       "        -0.695759  -0.07180787j]])"
      ]
     },
     "execution_count": 52,
     "metadata": {},
     "output_type": "execute_result"
    }
   ],
   "source": [
    "represent_color_context(dev_rawcols_train[0])"
   ]
  },
  {
   "cell_type": "code",
   "execution_count": 54,
   "metadata": {},
   "outputs": [
    {
     "data": {
      "text/plain": [
       "array([[ 1.925     +0.j        ,  1.82642855-0.47434728j,\n",
       "         1.54954319-0.86609814j,  1.14694076-1.10924001j,\n",
       "         0.69413671-1.16745321j,  0.27404657-1.04100697j,\n",
       "        -0.03993001-0.76601999j, -0.1986631 -0.40627975j,\n",
       "        -0.18679187-0.03938757j, -0.025     +0.25980762j,\n",
       "         0.23536332+0.43495971j,  0.52411991+0.4598184j ,\n",
       "         0.76798924+0.34322002j,  0.90681672+0.12644624j,\n",
       "         0.90681672-0.12644624j,  0.76798924-0.34322002j,\n",
       "         0.52411991-0.4598184j ,  0.23536332-0.43495971j,\n",
       "        -0.025     -0.25980762j, -0.18679187+0.03938757j,\n",
       "        -0.1986631 +0.40627975j, -0.03993001+0.76601999j,\n",
       "         0.27404657+1.04100697j,  0.69413671+1.16745321j,\n",
       "         1.14694076+1.10924001j,  1.54954319+0.86609814j,\n",
       "         1.82642855+0.47434728j],\n",
       "       [ 1.925     +0.j        ,  1.82642855-0.47434728j,\n",
       "         1.54954319-0.86609814j,  1.14694076-1.10924001j,\n",
       "         0.69413671-1.16745321j,  0.27404657-1.04100697j,\n",
       "        -0.03993001-0.76601999j, -0.1986631 -0.40627975j,\n",
       "        -0.18679187-0.03938757j, -0.025     +0.25980762j,\n",
       "         0.23536332+0.43495971j,  0.52411991+0.4598184j ,\n",
       "         0.76798924+0.34322002j,  0.90681672+0.12644624j,\n",
       "         0.90681672-0.12644624j,  0.76798924-0.34322002j,\n",
       "         0.52411991-0.4598184j ,  0.23536332-0.43495971j,\n",
       "        -0.025     -0.25980762j, -0.18679187+0.03938757j,\n",
       "        -0.1986631 +0.40627975j, -0.03993001+0.76601999j,\n",
       "         0.27404657+1.04100697j,  0.69413671+1.16745321j,\n",
       "         1.14694076+1.10924001j,  1.54954319+0.86609814j,\n",
       "         1.82642855+0.47434728j]])"
      ]
     },
     "execution_count": 54,
     "metadata": {},
     "output_type": "execute_result"
    }
   ],
   "source": [
    "represent_color_context([[0.625, 0.5, 0.8]])"
   ]
  },
  {
   "cell_type": "markdown",
   "metadata": {},
   "source": [
    "__Your task__: Modify `represent_color_context` and/or `represent_color` to represent colors in a new way.\n",
    "    \n",
    "__Notes__:\n",
    "\n",
    "* The Fourier-transform method of [Monroe et al. 2017](https://transacl.org/ojs/index.php/tacl/article/view/1142) is a proven choice.\n",
    "* You are not required to keep `represent_color`. This might be unnatural if you want to perform an operation on each color trio all at once.\n",
    "* For that matter, if you want to process all of the color contexts in the entire data set all at once, that is fine too, as long as you can also perform the operation at test time with an unknown number of examples being tested."
   ]
  },
  {
   "cell_type": "markdown",
   "metadata": {},
   "source": [
    "## Use the color representer"
   ]
  },
  {
   "cell_type": "markdown",
   "metadata": {},
   "source": [
    "The following cell just runs your `represent_color_context` on the train and test sets:"
   ]
  },
  {
   "cell_type": "code",
   "execution_count": 55,
   "metadata": {},
   "outputs": [],
   "source": [
    "dev_cols_train = [represent_color_context(colors) for colors in dev_rawcols_train]\n",
    "\n",
    "dev_cols_test = [represent_color_context(colors) for colors in dev_rawcols_test]"
   ]
  },
  {
   "cell_type": "markdown",
   "metadata": {},
   "source": [
    "At this point, our preprocessing steps are complete, and we can fit a first model."
   ]
  },
  {
   "cell_type": "markdown",
   "metadata": {},
   "source": [
    "## Initial model\n",
    "\n",
    "The first model is configured right now to be a small model run for just a few iterations. It should be enough to get traction, but it's unlikely to be a great model. You are free to modify this configuration if you wish; it is here just for demonstration and testing:"
   ]
  },
  {
   "cell_type": "code",
   "execution_count": 56,
   "metadata": {},
   "outputs": [],
   "source": [
    "dev_mod = ContextualColorDescriber(\n",
    "    dev_vocab, \n",
    "    embed_dim=10, \n",
    "    hidden_dim=10, \n",
    "    max_iter=5, \n",
    "    batch_size=128)"
   ]
  },
  {
   "cell_type": "code",
   "execution_count": 57,
   "metadata": {},
   "outputs": [
    {
     "name": "stderr",
     "output_type": "stream",
     "text": [
      "/Users/simranjit/Neuron/repos/cs22u_fork/torch_color_describer.py:75: ComplexWarning: Casting complex values to real discards the imaginary part\n",
      "  color_seqs = torch.FloatTensor(color_seqs)\n",
      "Epoch 5; err = 126.50223267078495"
     ]
    }
   ],
   "source": [
    "_ = dev_mod.fit(dev_cols_train, dev_seqs_train)"
   ]
  },
  {
   "cell_type": "markdown",
   "metadata": {},
   "source": [
    "As discussed in [colors_overview.ipynb](colors_overview.ipynb), our primary metric is `listener_accuracy`:"
   ]
  },
  {
   "cell_type": "code",
   "execution_count": 58,
   "metadata": {},
   "outputs": [
    {
     "data": {
      "text/plain": [
       "0.5643535847970055"
      ]
     },
     "execution_count": 58,
     "metadata": {},
     "output_type": "execute_result"
    }
   ],
   "source": [
    "dev_mod.listener_accuracy(dev_cols_test, dev_seqs_test)"
   ]
  },
  {
   "cell_type": "markdown",
   "metadata": {},
   "source": [
    "We can also see the model's predicted sequences given color context inputs:"
   ]
  },
  {
   "cell_type": "code",
   "execution_count": 59,
   "metadata": {},
   "outputs": [
    {
     "name": "stderr",
     "output_type": "stream",
     "text": [
      "/Users/simranjit/Neuron/repos/cs22u_fork/torch_color_describer.py:439: ComplexWarning: Casting complex values to real discards the imaginary part\n",
      "  color_seqs = torch.FloatTensor(color_seqs)\n"
     ]
    },
    {
     "data": {
      "text/plain": [
       "[['<s>', 'bright', 'green', '</s>']]"
      ]
     },
     "execution_count": 59,
     "metadata": {},
     "output_type": "execute_result"
    }
   ],
   "source": [
    "dev_mod.predict(dev_cols_test[:1])"
   ]
  },
  {
   "cell_type": "code",
   "execution_count": 60,
   "metadata": {},
   "outputs": [
    {
     "data": {
      "text/plain": [
       "[['<s>', 'right', 'side', '#', '#', '#', 'purple', 'pinkish', '</s>']]"
      ]
     },
     "execution_count": 60,
     "metadata": {},
     "output_type": "execute_result"
    }
   ],
   "source": [
    "dev_seqs_test[:1]"
   ]
  },
  {
   "cell_type": "markdown",
   "metadata": {},
   "source": [
    "## Question 3: GloVe embeddings [1 points]\n",
    "\n",
    "The above model uses a random initial embedding, as configured by the decoder used by `ContextualColorDescriber`. This homework question asks you to consider using GloVe inputs. \n",
    "\n",
    "__Your task__: Complete `create_glove_embedding` so that it creates a GloVe embedding based on your model vocabulary. This isn't mean to be analytically challenging, but rather just to create a basis for you to try out other kinds of rich initialization."
   ]
  },
  {
   "cell_type": "code",
   "execution_count": 61,
   "metadata": {},
   "outputs": [],
   "source": [
    "GLOVE_HOME = os.path.join('data', 'glove.6B')"
   ]
  },
  {
   "cell_type": "code",
   "execution_count": 62,
   "metadata": {},
   "outputs": [],
   "source": [
    "def create_glove_embedding(vocab, glove_base_filename='glove.6B.50d.txt'):\n",
    "    \n",
    "    # Use `utils.glove2dict` to read in the GloVe file:    \n",
    "    ##### YOUR CODE HERE\n",
    "\n",
    "    glove_src = os.path.join(GLOVE_HOME, glove_base_filename)\n",
    "    GLOVE = utils.glove2dict(glove_src)\n",
    "    \n",
    "    # Use `utils.create_pretrained_embedding` to create the embedding.\n",
    "    # This function will, by default, ensure that START_TOKEN, \n",
    "    # END_TOKEN, and UNK_TOKEN are included in the embedding.\n",
    "    ##### YOUR CODE HERE\n",
    "    \"\"\"\n",
    "    Parameters\n",
    "    ----------\n",
    "    lookup : dict\n",
    "        Must map words to their vector representations.\n",
    "    vocab : list of str\n",
    "        Words to create embeddings for.\n",
    "    required_tokens : tuple of str\n",
    "        Tokens that must have embeddings. If they are not available\n",
    "        in the look-up, they will be given random representations.\n",
    "        \n",
    "     Returns\n",
    "    -------\n",
    "    np.array, list\n",
    "        The np.array is an embedding for `vocab` and the `list` is\n",
    "        the potentially expanded version of `vocab` that came in.\n",
    "\n",
    "    \"\"\"\n",
    "    embedding, expanded_vocab = utils.create_pretrained_embedding(GLOVE, vocab)\n",
    "\n",
    "    \n",
    "    # Be sure to return the embedding you create as well as the\n",
    "    # vocabulary returned by `utils.create_pretrained_embedding`,\n",
    "    # which is likely to have been modified from the input `vocab`.\n",
    "    \n",
    "    ##### YOUR CODE HERE\n",
    "    return embedding, expanded_vocab\n",
    "\n"
   ]
  },
  {
   "cell_type": "markdown",
   "metadata": {},
   "source": [
    "## Try the GloVe representations"
   ]
  },
  {
   "cell_type": "markdown",
   "metadata": {},
   "source": [
    "Let's see if GloVe helped for our development data:"
   ]
  },
  {
   "cell_type": "code",
   "execution_count": 63,
   "metadata": {},
   "outputs": [],
   "source": [
    "dev_glove_embedding, dev_glove_vocab = create_glove_embedding(dev_vocab)"
   ]
  },
  {
   "cell_type": "markdown",
   "metadata": {},
   "source": [
    "The above might dramatically change your vocabulary, depending on how many items from your vocab are in the Glove space:"
   ]
  },
  {
   "cell_type": "code",
   "execution_count": 64,
   "metadata": {},
   "outputs": [
    {
     "data": {
      "text/plain": [
       "1302"
      ]
     },
     "execution_count": 64,
     "metadata": {},
     "output_type": "execute_result"
    }
   ],
   "source": [
    "len(dev_vocab)"
   ]
  },
  {
   "cell_type": "code",
   "execution_count": 65,
   "metadata": {},
   "outputs": [
    {
     "data": {
      "text/plain": [
       "1302"
      ]
     },
     "execution_count": 65,
     "metadata": {},
     "output_type": "execute_result"
    }
   ],
   "source": [
    "len(dev_glove_vocab)"
   ]
  },
  {
   "cell_type": "code",
   "execution_count": 66,
   "metadata": {},
   "outputs": [],
   "source": [
    "dev_mod_glove = ContextualColorDescriber(\n",
    "    dev_glove_vocab, \n",
    "    embedding=dev_glove_embedding,\n",
    "    hidden_dim=10, \n",
    "    max_iter=5, \n",
    "    batch_size=128)"
   ]
  },
  {
   "cell_type": "code",
   "execution_count": 67,
   "metadata": {},
   "outputs": [
    {
     "name": "stderr",
     "output_type": "stream",
     "text": [
      "Epoch 5; err = 143.95896708965302"
     ]
    }
   ],
   "source": [
    "_ = dev_mod_glove.fit(dev_cols_train, dev_seqs_train)"
   ]
  },
  {
   "cell_type": "code",
   "execution_count": 68,
   "metadata": {},
   "outputs": [
    {
     "data": {
      "text/plain": [
       "0.4938093866973798"
      ]
     },
     "execution_count": 68,
     "metadata": {},
     "output_type": "execute_result"
    }
   ],
   "source": [
    "dev_mod_glove.listener_accuracy(dev_cols_test, dev_seqs_test)"
   ]
  },
  {
   "cell_type": "code",
   "execution_count": 69,
   "metadata": {},
   "outputs": [
    {
     "name": "stdout",
     "output_type": "stream",
     "text": [
      "(1302, 50)\n"
     ]
    }
   ],
   "source": [
    "print(dev_glove_embedding.shape)"
   ]
  },
  {
   "cell_type": "markdown",
   "metadata": {},
   "source": [
    "You probably saw a small boost, assuming your tokeization scheme leads to good overlap with the GloVe vocabulary. The input representations are larger than in our previous model (at least as I configured things), so we would need to do more runs with higher `max_iter` values to see whether this is worthwhile overall."
   ]
  },
  {
   "cell_type": "markdown",
   "metadata": {},
   "source": [
    "## Question 4: Color context [3 points]\n",
    "\n",
    "The final required homework question is the most challenging, but it should set you up to think in much more flexible ways about the underlying model we're using.\n",
    "\n",
    "The question asks you to modify various model components in `torch_color_describer.py`. The section called [Modifying the core model](colors_overview.ipynb#Modifying-the-core-model) from the core unit notebook provides a number of examples illustrating the basic techniques, so you might review that material if you get stuck here.\n",
    "\n",
    "__Your task__: [Monroe et al. 2017](https://transacl.org/ojs/index.php/tacl/article/view/1142) append the target color (the final one in the context) to each input token that gets processed by the decoder. The question asks you to subclass the `Decoder` and `EncoderDecoder` from `torch_color_describer.py` so that you can build models that do this."
   ]
  },
  {
   "cell_type": "markdown",
   "metadata": {},
   "source": [
    "__Step 1__: Modify the `Decoder` so that the input vector to the model at each timestep is not just a token representaton `x` but the concatenation of `x` with the representation of the target color.\n",
    "\n",
    "__Notes__:\n",
    "\n",
    "* You might notice at this point that the original `Decoder.forward` method has an optional keyword argument `target_colors` that is passed to `Decoder.get_embeddings`. Because this is already in place, all you have to do is modify the `get_embeddings` method to use this argument.\n",
    "\n",
    "* The change affects the configuration of `self.rnn`, so you need to subclass the `__init__` method as well, so that its `input_size` argument accomodates the embedding as well as the color representations.\n",
    "\n",
    "* You can do the relevant operations efficiently in pure PyTorch using `repeat_interleave` and `cat`, but the important thing is to get a working implementation – you can always optimize the code later if the ideas prove useful to you. \n",
    "\n",
    "Here's skeleton code for you to flesh out:"
   ]
  },
  {
   "cell_type": "code",
   "execution_count": 105,
   "metadata": {},
   "outputs": [],
   "source": [
    "import torch\n",
    "import torch.nn as nn\n",
    "from torch_color_describer import Decoder\n",
    "\n",
    "class ColorContextDecoder(Decoder):    \n",
    "    def __init__(self, color_dim, *args, **kwargs):\n",
    "        self.color_dim = color_dim\n",
    "        super().__init__(*args, **kwargs)\n",
    "        # print(\"ColorContextDecoder color_dim\", color_dim )\n",
    "        \n",
    "        # Fix the `self.rnn` attribute:\n",
    "        ##### YOUR CODE HERE\n",
    "        \n",
    "        # decoder params  vocab_size, embed_dim, hidden_dim, embedding=None\n",
    "        \n",
    "        \"\"\"\n",
    "        You might notice at this point that the original Decoder.forward method has an optional\n",
    "        keyword argument target_colors that is passed to Decoder.get_embeddings. \n",
    "        Because this is already in place, all you have to do is modify the get_embeddings method to use this argument.\n",
    "        The change affects the configuration of self.rnn, so you need to subclass the __init__ method as well,\n",
    "        so that its input_size argument accomodates the embedding as well as the color representations.\n",
    "        \"\"\"\n",
    "        \n",
    "        \n",
    "        self.legacy = False\n",
    "        delta = self.color_dim\n",
    "        #if self.legacy:\n",
    "            #delta = 0\n",
    "        #print(\"self.embed_dim+delta\", (self.embed_dim+delta))\n",
    "        self.rnn = nn.GRU(\n",
    "            input_size=self.embed_dim+delta,\n",
    "            hidden_size=self.hidden_dim,\n",
    "            batch_first=True)\n",
    "\n",
    "    def get_embeddings(self, word_seqs, target_colors=None):  \n",
    "        \"\"\"You can assume that `target_colors` is a tensor of shape \n",
    "        (m, n), where m is the length of the batch (same as \n",
    "        `word_seqs.shape[0]`) and n is the dimensionality of the \n",
    "        color representations the model is using. The goal is\n",
    "        to attached each color vector i to each of the tokens in\n",
    "        the ith sequence of (the embedded version of) `word_seqs`.\n",
    "        \n",
    "        \"\"\"        \n",
    "        ##### YOUR CODE HERE\n",
    "        \"\"\" \n",
    "        Expected embeddings: You should get the word embeddings for each word and\n",
    "        concatenate each of these with your color embedding. \n",
    "        Definitely don't do this with the incoming word indices, and make sure that the concatenation \n",
    "        is true concatenation -- it shouldn't change the order (in the sense of 1d, 2d, etc.) of the tensors.\n",
    "        \"\"\" \n",
    "        \"\"\"\n",
    "        m = word_seqs.shape[0] = batch_size\n",
    "        n = color emebedding\n",
    "        \"\"\"\n",
    "        # Your task: Monroe et al. 2017 append the target color\n",
    "        # (the final one in the context) to each input token that gets processed by the decoder. \n",
    "        embeddings = self.embedding(word_seqs)\n",
    "        #dev_glove_embedding\n",
    "        \"\"\"print(\"word_seqs.shape\", word_seqs.shape)\n",
    "        print(\"embeddings.shape\", embeddings.shape)\n",
    "        print(\"target_colors.shape\", target_colors.shape)\n",
    "        word_seqs.shape torch.Size([112, 6])\n",
    "        embeddings.shape torch.Size([112, 6, 10])\n",
    "        target_colors.shape torch.Size([112, 5])\n",
    "        \"\"\"\n",
    "        embeddings_shape = embeddings.shape\n",
    "        #print(\"target_colors.shape\", target_colors.type())\n",
    "        targs = torch.repeat_interleave(target_colors.float(), embeddings_shape[1], dim=1)\n",
    "        targs = targs.reshape(embeddings_shape[0], embeddings_shape[1], target_colors.shape[-1])\n",
    "        #print(\"embeddings.shape\", embeddings.type())\n",
    "        #print(\"targs.shape\", targs.type())\n",
    "        \n",
    "        concat_op = torch.cat((embeddings,targs ), -1)\n",
    "        #if self.legacy:\n",
    "        #    concat_op = embeddings\n",
    "        #print(\"concat_op.shape\", concat_op.shape)\n",
    "        return concat_op"
   ]
  },
  {
   "cell_type": "markdown",
   "metadata": {},
   "source": [
    "__Step 2__: Modify the `EncoderDecoder`. For this, you just need to make a small change to the `forward` method: extract the target colors from `color_seqs` and feed them to the decoder."
   ]
  },
  {
   "cell_type": "code",
   "execution_count": 106,
   "metadata": {},
   "outputs": [],
   "source": [
    "from torch_color_describer import EncoderDecoder\n",
    "\n",
    "class ColorizedEncoderDecoder(EncoderDecoder):\n",
    "    \n",
    "    def forward(self, \n",
    "            color_seqs, \n",
    "            word_seqs, \n",
    "            seq_lengths=None, \n",
    "            hidden=None, \n",
    "            targets=None):\n",
    "        if hidden is None:\n",
    "            hidden = self.encoder(color_seqs)\n",
    "            \n",
    "        # Extract the target colors from `color_seqs` and \n",
    "        # feed them to the decoder, which already has a\n",
    "        # `target_colors` keyword.        \n",
    "        ##### YOUR CODE HERE\n",
    "        # forward(self, word_seqs, seq_lengths=None, hidden=None, target_colors=None):\n",
    "        color_seqs_shape = color_seqs.shape\n",
    "        #print(\"color_seqs.shape\", color_seqs_shape)\n",
    "        # color_seqs.shape torch.Size([112, 3, 2])\n",
    "        # https://us.edstem.org/courses/326/discussion/59721\n",
    "        \n",
    "        #print(\"color_seqs_shape.shape\", color_seqs_shape)\n",
    "        mid_index = color_seqs_shape[1]-1\n",
    "        extracted_targets = color_seqs[:,2]\n",
    "        #print(\"extracted_targets.shape\", extracted_targets.shape)\n",
    "        #print(\"hidden_ColorizedEncoderDecoder \", hidden)\n",
    "        #print(type(word_seqs), type(hidden), type(extracted_targets))\n",
    "        output, hidden = self.decoder(word_seqs, hidden=hidden,seq_lengths=seq_lengths, target_colors=extracted_targets)\n",
    "        \n",
    "        return output, hidden, targets"
   ]
  },
  {
   "cell_type": "markdown",
   "metadata": {},
   "source": [
    "__Step 3__: Finally, as in the examples in [Modifying the core model](colors_overview.ipynb#Modifying-the-core-model), you need to modify the `build_graph` method of `ContextualColorDescriber` so that it uses your new `ColorContextDecoder` and `ColorizedEncoderDecoder`. Here's starter code:"
   ]
  },
  {
   "cell_type": "code",
   "execution_count": 107,
   "metadata": {},
   "outputs": [],
   "source": [
    "from torch_color_describer import Encoder\n",
    "\n",
    "class ColorizedInputDescriber(ContextualColorDescriber):\n",
    "        \n",
    "    def build_graph(self):\n",
    "        \n",
    "        # We didn't modify the encoder, so this is\n",
    "        # just copied over from the original:\n",
    "        encoder = Encoder(\n",
    "            color_dim=self.color_dim,\n",
    "            hidden_dim=self.hidden_dim)\n",
    "\n",
    "        # Use your `ColorContextDecoder`, making sure\n",
    "        # to pass in all the keyword arguments coming\n",
    "        # from `ColorizedInputDescriber`:\n",
    "        \n",
    "        ##### YOUR CODE HERE\n",
    "        \n",
    "        \"\"\" hidden dims\"\"\"\n",
    "        # color_dim,  vocab_size, embed_dim, hidden_dim, embedding=None\n",
    "         # ColorContextDecoder-> Decoder->\n",
    "        \"\"\"\n",
    "        vocab_size : int\n",
    "        embed_dim : int\n",
    "        hidden_dim : int\n",
    "        embedding : np.array or None\n",
    "        If `None`, a random embedding is created. If `np.array`, this\n",
    "        value becomes the embedding.\n",
    "        \n",
    "        \"\"\"\n",
    "        decoder = ColorContextDecoder(self.color_dim, self.vocab_size, self.embed_dim, self.hidden_dim,self.embedding)\n",
    "               \n",
    "        # Return a `ColorizedEncoderDecoder` that uses\n",
    "        # your encoder and decoder:\n",
    "        \n",
    "        ##### YOUR CODE HERE\n",
    "        colorized_encoder_decoder = ColorizedEncoderDecoder(encoder, decoder)\n",
    "        return colorized_encoder_decoder\n",
    "    \n"
   ]
  },
  {
   "cell_type": "markdown",
   "metadata": {},
   "source": [
    "That's it! Since these modifications are pretty intricate, you might want to use [a toy dataset](colors_overview.ipynb#Toy-problems-for-development-work) to debug it:"
   ]
  },
  {
   "cell_type": "code",
   "execution_count": 108,
   "metadata": {},
   "outputs": [],
   "source": [
    "toy_color_seqs, toy_word_seqs, toy_vocab = create_example_dataset(\n",
    "    group_size=50, vec_dim=2)"
   ]
  },
  {
   "cell_type": "code",
   "execution_count": 109,
   "metadata": {},
   "outputs": [],
   "source": [
    "toy_color_seqs_train, toy_color_seqs_test, toy_word_seqs_train, toy_word_seqs_test = \\\n",
    "    train_test_split(toy_color_seqs, toy_word_seqs)"
   ]
  },
  {
   "cell_type": "code",
   "execution_count": 110,
   "metadata": {},
   "outputs": [],
   "source": [
    "toy_mod = ColorizedInputDescriber(\n",
    "    toy_vocab, \n",
    "    embed_dim=10, \n",
    "    hidden_dim=10, \n",
    "    max_iter=100, \n",
    "    batch_size=128)"
   ]
  },
  {
   "cell_type": "code",
   "execution_count": 111,
   "metadata": {},
   "outputs": [
    {
     "name": "stderr",
     "output_type": "stream",
     "text": [
      "Epoch 100; err = 0.11660385131835938"
     ]
    }
   ],
   "source": [
    "_ = toy_mod.fit(toy_color_seqs_train, toy_word_seqs_train)"
   ]
  },
  {
   "cell_type": "code",
   "execution_count": 112,
   "metadata": {},
   "outputs": [
    {
     "data": {
      "text/plain": [
       "1.0"
      ]
     },
     "execution_count": 112,
     "metadata": {},
     "output_type": "execute_result"
    }
   ],
   "source": [
    "toy_mod.listener_accuracy(toy_color_seqs_test, toy_word_seqs_test)"
   ]
  },
  {
   "cell_type": "markdown",
   "metadata": {},
   "source": [
    "If that worked, then you can now try this model on SCC problems!"
   ]
  },
  {
   "cell_type": "markdown",
   "metadata": {},
   "source": [
    "## Your original system [3 points]"
   ]
  },
  {
   "cell_type": "markdown",
   "metadata": {},
   "source": [
    "There are many options for your original system, which consists of the full pipeline – all preprocessing and modeling steps. You are free to use any model you like, as long as you subclass `ContextualColorDescriber` in a way that allows its `listener_accuracy` method to behave in the expected way.\n",
    "\n",
    "So that we can evaluate models in a uniform way for the bake-off, we ask that you modify the function `my_original_system` below so that it accepts a trained instance of your model and does any preprocessing steps required by your model.\n",
    "\n",
    "If we seek to reproduce your results, we will rerun this entire notebook. Thus, it is fine if your `my_original_system` makes use of functions you wrote or modified above this cell."
   ]
  },
  {
   "cell_type": "code",
   "execution_count": 117,
   "metadata": {},
   "outputs": [],
   "source": [
    "def my_original_system(trained_model, color_seqs_test, texts_test): \n",
    "    \"\"\"Feel free to modify this code to accommodate the needs of\n",
    "    your system. Just keep in mind that it will get raw corpus\n",
    "    examples as inputs for the bake-off.\n",
    "    \n",
    "    \"\"\"    \n",
    "    # `word_seqs_test` is a list of strings, so tokenize each of\n",
    "    # its elements:    \n",
    "    tok_seqs = [tokenize_example(s) for s in texts_test]\n",
    "    \n",
    "    col_seqs = [represent_color_context(colors) \n",
    "                for colors in color_seqs_test]\n",
    "\n",
    "    # Return the `listener_accuracy` for your model:\n",
    "    return trained_model.listener_accuracy(col_seqs, tok_seqs)"
   ]
  },
  {
   "cell_type": "code",
   "execution_count": 124,
   "metadata": {},
   "outputs": [
    {
     "name": "stderr",
     "output_type": "stream",
     "text": [
      "Epoch 3; err = 230.64733958244324"
     ]
    },
    {
     "data": {
      "text/plain": [
       "MYColorizedInputDescriber(\n",
       "\thidden_dim=10,\n",
       "\tbatch_size=128,\n",
       "\tmax_iter=3,\n",
       "\teta=0.01,\n",
       "\toptimizer=<class 'torch.optim.adam.Adam'>,\n",
       "\tl2_strength=0.0,\n",
       "\tembed_dim=10,\n",
       "\tembedding=None)"
      ]
     },
     "execution_count": 124,
     "metadata": {},
     "output_type": "execute_result"
    }
   ],
   "source": [
    "class MYColorizedInputDescriber(ContextualColorDescriber):\n",
    "        \n",
    "    def build_graph(self):\n",
    "        \n",
    "        # We didn't modify the encoder, so this is\n",
    "        # just copied over from the original:\n",
    "        encoder = Encoder(\n",
    "            color_dim=self.color_dim,\n",
    "            hidden_dim=self.hidden_dim)\n",
    "\n",
    "        # Use your `ColorContextDecoder`, making sure\n",
    "        # to pass in all the keyword arguments coming\n",
    "        # from `ColorizedInputDescriber`:\n",
    "        \n",
    "        ##### YOUR CODE HERE\n",
    "        \n",
    "        \"\"\" hidden dims\"\"\"\n",
    "        # color_dim,  vocab_size, embed_dim, hidden_dim, embedding=None\n",
    "         # ColorContextDecoder-> Decoder->\n",
    "        \"\"\"\n",
    "        vocab_size : int\n",
    "        embed_dim : int\n",
    "        hidden_dim : int\n",
    "        embedding : np.array or None\n",
    "        If `None`, a random embedding is created. If `np.array`, this\n",
    "        value becomes the embedding.\n",
    "        \n",
    "        \"\"\"\n",
    "        decoder = ColorContextDecoder(self.color_dim, self.vocab_size, self.embed_dim, self.hidden_dim,self.embedding)\n",
    "               \n",
    "        # Return a `ColorizedEncoderDecoder` that uses\n",
    "        # your encoder and decoder:\n",
    "        \n",
    "        ##### YOUR CODE HERE\n",
    "        colorized_encoder_decoder = ColorizedEncoderDecoder(encoder, decoder)\n",
    "        return colorized_encoder_decoder\n",
    "    \n",
    "#bake_off_model =     \n",
    "\"\"\"bake_off_model = MYColorizedInputDescriber(\n",
    "    dev_vocab, \n",
    "    embed_dim=10, \n",
    "    hidden_dim=10, \n",
    "    max_iter=100, \n",
    "    batch_size=128)\n",
    " \"\"\"\n",
    "bake_off_model = MYColorizedInputDescriber(\n",
    "                    dev_vocab, \n",
    "                    embedding=None,  # Option to supply a pretrained matrix as an `np.array`.\n",
    "                    embed_dim=10, \n",
    "                    hidden_dim=10, \n",
    "                    max_iter=3, \n",
    "                    eta=0.01,\n",
    "                    optimizer=torch.optim.Adam,\n",
    "                    batch_size=128,\n",
    "                    l2_strength=0.0,\n",
    "                    warm_start=False,\n",
    "                    device=None)\n",
    "#toy_mod.fit(toy_color_seqs_train, toy_word_seqs_train)\n",
    "bake_off_model.fit(dev_rawcols_train, dev_texts_train)"
   ]
  },
  {
   "cell_type": "markdown",
   "metadata": {},
   "source": [
    "If `my_original_system` works on test sets you create from the corpus distribution, then it will works for the bake-off, so consider checking that. For example, this would check that `dev_mod` above passes muster:"
   ]
  },
  {
   "cell_type": "code",
   "execution_count": 125,
   "metadata": {},
   "outputs": [
    {
     "data": {
      "text/plain": [
       "0.5643535847970055"
      ]
     },
     "execution_count": 125,
     "metadata": {},
     "output_type": "execute_result"
    }
   ],
   "source": [
    "my_original_system(dev_mod, dev_rawcols_test, dev_texts_test)"
   ]
  },
  {
   "cell_type": "markdown",
   "metadata": {},
   "source": [
    "In the cell below, please provide a brief technical description of your original system, so that the teaching team can gain an understanding of what it does. This will help us to understand your code and analyze all the submissions to identify patterns and strategies."
   ]
  },
  {
   "cell_type": "code",
   "execution_count": null,
   "metadata": {},
   "outputs": [],
   "source": [
    "# Enter your system description in this cell.\n",
    "# Please do not remove this comment.\n",
    "\n"
   ]
  },
  {
   "cell_type": "markdown",
   "metadata": {},
   "source": [
    "## Bakeoff [1 point]"
   ]
  },
  {
   "cell_type": "markdown",
   "metadata": {},
   "source": [
    "For the bake-off, we will release a test set. The announcement will go out on the discussion forum. You will evaluate your custom model from the previous question on these new datasets using your `my_original_system` function. Rules:\n",
    "\n",
    "1. Only one evaluation is permitted.\n",
    "1. No additional system tuning is permitted once the bake-off has started.\n",
    "\n",
    "The cells below this one constitute your bake-off entry.\n",
    "\n",
    "People who enter will receive the additional homework point, and people whose systems achieve the top score will receive an additional 0.5 points. We will test the top-performing systems ourselves, and only systems for which we can reproduce the reported results will win the extra 0.5 points.\n",
    "\n",
    "Late entries will be accepted, but they cannot earn the extra 0.5 points. Similarly, you cannot win the bake-off unless your homework is submitted on time.\n",
    "\n",
    "The announcement will include the details on where to submit your entry."
   ]
  },
  {
   "cell_type": "code",
   "execution_count": null,
   "metadata": {},
   "outputs": [],
   "source": [
    "# Enter your bake-off assessment code in this cell. \n",
    "# Please do not remove this comment.\n"
   ]
  },
  {
   "cell_type": "code",
   "execution_count": null,
   "metadata": {},
   "outputs": [],
   "source": [
    "# On an otherwise blank line in this cell, please enter\n",
    "# your listener_accuracy score as reported by the code\n",
    "# above. Please enter only a number between 0 and 1 inclusive. \n",
    "# Please do not remove this comment.\n"
   ]
  }
 ],
 "metadata": {
  "kernelspec": {
   "display_name": "nlu",
   "language": "python",
   "name": "nlu"
  },
  "language_info": {
   "codemirror_mode": {
    "name": "ipython",
    "version": 3
   },
   "file_extension": ".py",
   "mimetype": "text/x-python",
   "name": "python",
   "nbconvert_exporter": "python",
   "pygments_lexer": "ipython3",
   "version": "3.7.7"
  }
 },
 "nbformat": 4,
 "nbformat_minor": 2
}
